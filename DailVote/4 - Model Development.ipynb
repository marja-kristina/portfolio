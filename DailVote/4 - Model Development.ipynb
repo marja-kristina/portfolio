{
 "cells": [
  {
   "cell_type": "markdown",
   "id": "dried-medication",
   "metadata": {},
   "source": [
    "# Model Development"
   ]
  },
  {
   "cell_type": "markdown",
   "id": "adjusted-delta",
   "metadata": {},
   "source": [
    "## 1. Tools & Infrastructure Selection"
   ]
  },
  {
   "cell_type": "markdown",
   "id": "sought-prophet",
   "metadata": {},
   "source": [
    "The tools used are scikit-learn, matplotlib, scipy, TensorFlow/Keras, and seaborn. These were chosen because they implement the analysis techniques, models, and visualizations that I require.\n",
    "\n",
    "As my personal computer has the NVIDIA GeForce GTX 1050 graphics card I trained all models locally on the machine."
   ]
  },
  {
   "cell_type": "markdown",
   "id": "intellectual-enzyme",
   "metadata": {},
   "source": [
    "## 2. Algorithm Selection"
   ]
  },
  {
   "cell_type": "markdown",
   "id": "solar-drain",
   "metadata": {},
   "source": [
    "As a starting point for my model, I will run some initial experiments based on the models that worked best in previous investigations, which were Support Vector Machines (SVM) and TensorFlow.\n",
    "\n",
    "Abercrombie and Batista-Navarro (2020) achieved their best result with SVM using a model with a linear kernel, L2 regularization, and a squared hinge loss function. Budwhar (2018) also had good results with SVM using an RBF kernel.\n",
    "\n",
    "Budwhar accomplished his best result with TensorFlow, using a model with three hidden layers, binary crossentropy loss, Adam optimizer, and relu and sigmoid as activation functions. Abercrombie and Batista-Navarro also used an ANN (MLP) with one hidden layer of 100 nodes, batch normalisation, relu activation function, 0.5 dropout regularization, and sigmoid activation on the output layer.\n",
    "\n",
    "My data set has similarities to both of these previous studies, and I plan to initially experiment with training on 3 different feature subsets:\n",
    "\n",
    "<ol>\n",
    "    <li>the preprocessed speech transformed to a bag-of-words representation using scikit_learn CountVectorizer (similar to Abercrombie and Batista-Navarro)</li>\n",
    "<li>the sentiment scores and word and utterance count generated from the preprocessed speech (similar to Budwhar)</li>\n",
    "<li>non-speech features: party, constituency, and bill type - the earlier studies ran experiments including and excluding contextual features like these</li>\n",
    "    </ol>\n",
    "\n",
    "After running these initial experiments, I hope to be able to identify where further refinements need to be made and also which features and models are most promising and should be explored further."
   ]
  },
  {
   "cell_type": "markdown",
   "id": "pressing-recognition",
   "metadata": {},
   "source": [
    "## 2.1. Additional Pre-Processing and Visualization"
   ]
  },
  {
   "cell_type": "markdown",
   "id": "later-spelling",
   "metadata": {},
   "source": [
    "### 2.1.1. Removing/Adding Features"
   ]
  },
  {
   "cell_type": "markdown",
   "id": "thirty-cooking",
   "metadata": {},
   "source": [
    "Some additional pre-processing was performed, including not importing redundant columns and adding two additional features: word count and whether the TD is in government or not."
   ]
  },
  {
   "cell_type": "code",
   "execution_count": 1,
   "id": "resident-static",
   "metadata": {},
   "outputs": [],
   "source": [
    "import pandas as pd\n",
    "import numpy as np"
   ]
  },
  {
   "cell_type": "code",
   "execution_count": 9,
   "id": "preliminary-engine",
   "metadata": {},
   "outputs": [],
   "source": [
    "# this imports only the required data\n",
    "col_names = ['Vote', 'Full_Name', 'Constituency', 'Party', 'Bill_Short_Name', 'Bill_Type', 'Utterance_Count', 'Stemmed_Utterance', 'Sentiment_Polarity','Sentiment_Subjectivity']\n",
    "data = pd.read_csv('dail_vote.csv', usecols=col_names, index_col=False, warn_bad_lines=True, error_bad_lines=False)\n",
    "# This starts the dataframe index at 1\n",
    "data.index = data.index + 1"
   ]
  },
  {
   "cell_type": "code",
   "execution_count": 3,
   "id": "musical-plumbing",
   "metadata": {},
   "outputs": [
    {
     "data": {
      "text/plain": [
       "(437, 10)"
      ]
     },
     "execution_count": 3,
     "metadata": {},
     "output_type": "execute_result"
    }
   ],
   "source": [
    "# this shows the number of rows and columns in the data set\n",
    "data.shape"
   ]
  },
  {
   "cell_type": "code",
   "execution_count": 10,
   "id": "chronic-opposition",
   "metadata": {},
   "outputs": [
    {
     "data": {
      "text/html": [
       "<div>\n",
       "<style scoped>\n",
       "    .dataframe tbody tr th:only-of-type {\n",
       "        vertical-align: middle;\n",
       "    }\n",
       "\n",
       "    .dataframe tbody tr th {\n",
       "        vertical-align: top;\n",
       "    }\n",
       "\n",
       "    .dataframe thead th {\n",
       "        text-align: right;\n",
       "    }\n",
       "</style>\n",
       "<table border=\"1\" class=\"dataframe\">\n",
       "  <thead>\n",
       "    <tr style=\"text-align: right;\">\n",
       "      <th></th>\n",
       "      <th>Vote</th>\n",
       "      <th>Full_Name</th>\n",
       "      <th>Constituency</th>\n",
       "      <th>Party</th>\n",
       "      <th>Bill_Short_Name</th>\n",
       "      <th>Bill_Type</th>\n",
       "      <th>Utterance_Count</th>\n",
       "      <th>Stemmed_Utterance</th>\n",
       "      <th>Sentiment_Polarity</th>\n",
       "      <th>Sentiment_Subjectivity</th>\n",
       "    </tr>\n",
       "  </thead>\n",
       "  <tbody>\n",
       "    <tr>\n",
       "      <th>1</th>\n",
       "      <td>1</td>\n",
       "      <td>Declan Breathnach</td>\n",
       "      <td>Louth</td>\n",
       "      <td>Fianna_Fáil</td>\n",
       "      <td>Rent Freeze (Fair Rent) Bill 2019</td>\n",
       "      <td>Private Member</td>\n",
       "      <td>3</td>\n",
       "      <td>must deal postpon divis relat second stage ren...</td>\n",
       "      <td>0.175000</td>\n",
       "      <td>0.225000</td>\n",
       "    </tr>\n",
       "    <tr>\n",
       "      <th>2</th>\n",
       "      <td>1</td>\n",
       "      <td>Eoin Ó Broin</td>\n",
       "      <td>Dublin-Mid-West</td>\n",
       "      <td>Sinn_Féin</td>\n",
       "      <td>Rent Freeze (Fair Rent) Bill 2019</td>\n",
       "      <td>Private Member</td>\n",
       "      <td>27</td>\n",
       "      <td>move bill read second time everybodi chamber k...</td>\n",
       "      <td>0.104221</td>\n",
       "      <td>0.366668</td>\n",
       "    </tr>\n",
       "    <tr>\n",
       "      <th>3</th>\n",
       "      <td>1</td>\n",
       "      <td>Denise Mitchell</td>\n",
       "      <td>Dublin-Bay-North</td>\n",
       "      <td>Sinn_Féin</td>\n",
       "      <td>Rent Freeze (Fair Rent) Bill 2019</td>\n",
       "      <td>Private Member</td>\n",
       "      <td>2</td>\n",
       "      <td>rent state high continu rise time freez rent p...</td>\n",
       "      <td>0.093730</td>\n",
       "      <td>0.362619</td>\n",
       "    </tr>\n",
       "    <tr>\n",
       "      <th>4</th>\n",
       "      <td>1</td>\n",
       "      <td>Donnchadh Ó Laoghaire</td>\n",
       "      <td>Cork-South-Central</td>\n",
       "      <td>Sinn_Féin</td>\n",
       "      <td>Rent Freeze (Fair Rent) Bill 2019</td>\n",
       "      <td>Private Member</td>\n",
       "      <td>4</td>\n",
       "      <td>rent economi societi extrem hard even one dece...</td>\n",
       "      <td>0.015449</td>\n",
       "      <td>0.485192</td>\n",
       "    </tr>\n",
       "    <tr>\n",
       "      <th>5</th>\n",
       "      <td>1</td>\n",
       "      <td>David Cullinane</td>\n",
       "      <td>Waterford</td>\n",
       "      <td>Sinn_Féin</td>\n",
       "      <td>Rent Freeze (Fair Rent) Bill 2019</td>\n",
       "      <td>Private Member</td>\n",
       "      <td>4</td>\n",
       "      <td>said last week peopl outsid hous sick tire pol...</td>\n",
       "      <td>-0.008743</td>\n",
       "      <td>0.361981</td>\n",
       "    </tr>\n",
       "  </tbody>\n",
       "</table>\n",
       "</div>"
      ],
      "text/plain": [
       "   Vote              Full_Name        Constituency        Party  \\\n",
       "1     1      Declan Breathnach               Louth  Fianna_Fáil   \n",
       "2     1           Eoin Ó Broin     Dublin-Mid-West    Sinn_Féin   \n",
       "3     1        Denise Mitchell    Dublin-Bay-North    Sinn_Féin   \n",
       "4     1  Donnchadh Ó Laoghaire  Cork-South-Central    Sinn_Féin   \n",
       "5     1        David Cullinane           Waterford    Sinn_Féin   \n",
       "\n",
       "                     Bill_Short_Name       Bill_Type  Utterance_Count  \\\n",
       "1  Rent Freeze (Fair Rent) Bill 2019  Private Member                3   \n",
       "2  Rent Freeze (Fair Rent) Bill 2019  Private Member               27   \n",
       "3  Rent Freeze (Fair Rent) Bill 2019  Private Member                2   \n",
       "4  Rent Freeze (Fair Rent) Bill 2019  Private Member                4   \n",
       "5  Rent Freeze (Fair Rent) Bill 2019  Private Member                4   \n",
       "\n",
       "                                   Stemmed_Utterance  Sentiment_Polarity  \\\n",
       "1  must deal postpon divis relat second stage ren...            0.175000   \n",
       "2  move bill read second time everybodi chamber k...            0.104221   \n",
       "3  rent state high continu rise time freez rent p...            0.093730   \n",
       "4  rent economi societi extrem hard even one dece...            0.015449   \n",
       "5  said last week peopl outsid hous sick tire pol...           -0.008743   \n",
       "\n",
       "   Sentiment_Subjectivity  \n",
       "1                0.225000  \n",
       "2                0.366668  \n",
       "3                0.362619  \n",
       "4                0.485192  \n",
       "5                0.361981  "
      ]
     },
     "execution_count": 10,
     "metadata": {},
     "output_type": "execute_result"
    }
   ],
   "source": [
    "# this displays the first few rows of the dataframe to check if it is rendering correctly\n",
    "data.head(5)"
   ]
  },
  {
   "cell_type": "code",
   "execution_count": 50,
   "id": "intelligent-ensemble",
   "metadata": {},
   "outputs": [],
   "source": [
    "# adding word count column to the data frame\n",
    "wordcount = data['Stemmed_Utterance'].str.count(' ')\n",
    "data['Word_Count'] = wordcount"
   ]
  },
  {
   "cell_type": "code",
   "execution_count": 6,
   "id": "scheduled-french",
   "metadata": {},
   "outputs": [
    {
     "data": {
      "text/html": [
       "<div>\n",
       "<style scoped>\n",
       "    .dataframe tbody tr th:only-of-type {\n",
       "        vertical-align: middle;\n",
       "    }\n",
       "\n",
       "    .dataframe tbody tr th {\n",
       "        vertical-align: top;\n",
       "    }\n",
       "\n",
       "    .dataframe thead th {\n",
       "        text-align: right;\n",
       "    }\n",
       "</style>\n",
       "<table border=\"1\" class=\"dataframe\">\n",
       "  <thead>\n",
       "    <tr style=\"text-align: right;\">\n",
       "      <th></th>\n",
       "      <th>Vote</th>\n",
       "      <th>Full_Name</th>\n",
       "      <th>Constituency</th>\n",
       "      <th>Party</th>\n",
       "      <th>Bill_Short_Name</th>\n",
       "      <th>Bill_Type</th>\n",
       "      <th>Utterance_Count</th>\n",
       "      <th>Stemmed_Utterance</th>\n",
       "      <th>Sentiment_Polarity</th>\n",
       "      <th>Sentiment_Subjectivity</th>\n",
       "      <th>Word_Count</th>\n",
       "    </tr>\n",
       "  </thead>\n",
       "  <tbody>\n",
       "    <tr>\n",
       "      <th>1</th>\n",
       "      <td>1</td>\n",
       "      <td>Declan Breathnach</td>\n",
       "      <td>Louth</td>\n",
       "      <td>Fianna_Fáil</td>\n",
       "      <td>Rent Freeze (Fair Rent) Bill 2019</td>\n",
       "      <td>Private Member</td>\n",
       "      <td>3</td>\n",
       "      <td>must deal postpon divis relat second stage ren...</td>\n",
       "      <td>0.175000</td>\n",
       "      <td>0.225000</td>\n",
       "      <td>57</td>\n",
       "    </tr>\n",
       "    <tr>\n",
       "      <th>2</th>\n",
       "      <td>1</td>\n",
       "      <td>Eoin Ó Broin</td>\n",
       "      <td>Dublin-Mid-West</td>\n",
       "      <td>Sinn_Féin</td>\n",
       "      <td>Rent Freeze (Fair Rent) Bill 2019</td>\n",
       "      <td>Private Member</td>\n",
       "      <td>27</td>\n",
       "      <td>move bill read second time everybodi chamber k...</td>\n",
       "      <td>0.104221</td>\n",
       "      <td>0.366668</td>\n",
       "      <td>1127</td>\n",
       "    </tr>\n",
       "    <tr>\n",
       "      <th>3</th>\n",
       "      <td>1</td>\n",
       "      <td>Denise Mitchell</td>\n",
       "      <td>Dublin-Bay-North</td>\n",
       "      <td>Sinn_Féin</td>\n",
       "      <td>Rent Freeze (Fair Rent) Bill 2019</td>\n",
       "      <td>Private Member</td>\n",
       "      <td>2</td>\n",
       "      <td>rent state high continu rise time freez rent p...</td>\n",
       "      <td>0.093730</td>\n",
       "      <td>0.362619</td>\n",
       "      <td>122</td>\n",
       "    </tr>\n",
       "    <tr>\n",
       "      <th>4</th>\n",
       "      <td>1</td>\n",
       "      <td>Donnchadh Ó Laoghaire</td>\n",
       "      <td>Cork-South-Central</td>\n",
       "      <td>Sinn_Féin</td>\n",
       "      <td>Rent Freeze (Fair Rent) Bill 2019</td>\n",
       "      <td>Private Member</td>\n",
       "      <td>4</td>\n",
       "      <td>rent economi societi extrem hard even one dece...</td>\n",
       "      <td>0.015449</td>\n",
       "      <td>0.485192</td>\n",
       "      <td>222</td>\n",
       "    </tr>\n",
       "    <tr>\n",
       "      <th>5</th>\n",
       "      <td>1</td>\n",
       "      <td>David Cullinane</td>\n",
       "      <td>Waterford</td>\n",
       "      <td>Sinn_Féin</td>\n",
       "      <td>Rent Freeze (Fair Rent) Bill 2019</td>\n",
       "      <td>Private Member</td>\n",
       "      <td>4</td>\n",
       "      <td>said last week peopl outsid hous sick tire pol...</td>\n",
       "      <td>-0.008743</td>\n",
       "      <td>0.361981</td>\n",
       "      <td>227</td>\n",
       "    </tr>\n",
       "  </tbody>\n",
       "</table>\n",
       "</div>"
      ],
      "text/plain": [
       "   Vote              Full_Name        Constituency        Party  \\\n",
       "1     1      Declan Breathnach               Louth  Fianna_Fáil   \n",
       "2     1           Eoin Ó Broin     Dublin-Mid-West    Sinn_Féin   \n",
       "3     1        Denise Mitchell    Dublin-Bay-North    Sinn_Féin   \n",
       "4     1  Donnchadh Ó Laoghaire  Cork-South-Central    Sinn_Féin   \n",
       "5     1        David Cullinane           Waterford    Sinn_Féin   \n",
       "\n",
       "                     Bill_Short_Name       Bill_Type  Utterance_Count  \\\n",
       "1  Rent Freeze (Fair Rent) Bill 2019  Private Member                3   \n",
       "2  Rent Freeze (Fair Rent) Bill 2019  Private Member               27   \n",
       "3  Rent Freeze (Fair Rent) Bill 2019  Private Member                2   \n",
       "4  Rent Freeze (Fair Rent) Bill 2019  Private Member                4   \n",
       "5  Rent Freeze (Fair Rent) Bill 2019  Private Member                4   \n",
       "\n",
       "                                   Stemmed_Utterance  Sentiment_Polarity  \\\n",
       "1  must deal postpon divis relat second stage ren...            0.175000   \n",
       "2  move bill read second time everybodi chamber k...            0.104221   \n",
       "3  rent state high continu rise time freez rent p...            0.093730   \n",
       "4  rent economi societi extrem hard even one dece...            0.015449   \n",
       "5  said last week peopl outsid hous sick tire pol...           -0.008743   \n",
       "\n",
       "   Sentiment_Subjectivity  Word_Count  \n",
       "1                0.225000          57  \n",
       "2                0.366668        1127  \n",
       "3                0.362619         122  \n",
       "4                0.485192         222  \n",
       "5                0.361981         227  "
      ]
     },
     "execution_count": 6,
     "metadata": {},
     "output_type": "execute_result"
    }
   ],
   "source": [
    "# this displays the first few rows of the dataframe to check if it is rendering correctly\n",
    "data.head(5)"
   ]
  },
  {
   "cell_type": "markdown",
   "id": "dangerous-lesbian",
   "metadata": {},
   "source": [
    "I also have added a column that shows if the TD who spoke was in Government or not (Government members in the 32nd Dáil include all TDs in the Fine Gael party and several independents)."
   ]
  },
  {
   "cell_type": "code",
   "execution_count": 11,
   "id": "coordinated-clinic",
   "metadata": {},
   "outputs": [],
   "source": [
    "data['Is_Government'] = np.where(data['Party']== 'Fine_Gael', 1.0, 0.0)\n",
    "data['Is_Government'] = np.where(data['Full_Name'] == 'Katherine Zappone', 1.0, data['Is_Government']) \n",
    "data['Is_Government'] = np.where(data['Full_Name'] == 'Seán Canney', 1.0, data['Is_Government'])\n",
    "data['Is_Government'] = np.where(data['Full_Name'] == 'Finian McGrath', 1.0, data['Is_Government'])                                 \n",
    "data['Is_Government'] = np.where(data['Full_Name'] == 'Denis Naughten', 1.0, data['Is_Government'])                                 \n",
    "data['Is_Government'] = np.where(data['Full_Name'] == 'Shane Ross', 1.0, data['Is_Government'])                                 "
   ]
  },
  {
   "cell_type": "code",
   "execution_count": 12,
   "id": "patent-lending",
   "metadata": {},
   "outputs": [
    {
     "data": {
      "text/html": [
       "<div>\n",
       "<style scoped>\n",
       "    .dataframe tbody tr th:only-of-type {\n",
       "        vertical-align: middle;\n",
       "    }\n",
       "\n",
       "    .dataframe tbody tr th {\n",
       "        vertical-align: top;\n",
       "    }\n",
       "\n",
       "    .dataframe thead th {\n",
       "        text-align: right;\n",
       "    }\n",
       "</style>\n",
       "<table border=\"1\" class=\"dataframe\">\n",
       "  <thead>\n",
       "    <tr style=\"text-align: right;\">\n",
       "      <th></th>\n",
       "      <th>Vote</th>\n",
       "      <th>Full_Name</th>\n",
       "      <th>Constituency</th>\n",
       "      <th>Party</th>\n",
       "      <th>Bill_Short_Name</th>\n",
       "      <th>Bill_Type</th>\n",
       "      <th>Utterance_Count</th>\n",
       "      <th>Stemmed_Utterance</th>\n",
       "      <th>Sentiment_Polarity</th>\n",
       "      <th>Sentiment_Subjectivity</th>\n",
       "      <th>Is_Government</th>\n",
       "    </tr>\n",
       "  </thead>\n",
       "  <tbody>\n",
       "    <tr>\n",
       "      <th>1</th>\n",
       "      <td>1</td>\n",
       "      <td>Declan Breathnach</td>\n",
       "      <td>Louth</td>\n",
       "      <td>Fianna_Fáil</td>\n",
       "      <td>Rent Freeze (Fair Rent) Bill 2019</td>\n",
       "      <td>Private Member</td>\n",
       "      <td>3</td>\n",
       "      <td>must deal postpon divis relat second stage ren...</td>\n",
       "      <td>0.175000</td>\n",
       "      <td>0.225000</td>\n",
       "      <td>0.0</td>\n",
       "    </tr>\n",
       "    <tr>\n",
       "      <th>2</th>\n",
       "      <td>1</td>\n",
       "      <td>Eoin Ó Broin</td>\n",
       "      <td>Dublin-Mid-West</td>\n",
       "      <td>Sinn_Féin</td>\n",
       "      <td>Rent Freeze (Fair Rent) Bill 2019</td>\n",
       "      <td>Private Member</td>\n",
       "      <td>27</td>\n",
       "      <td>move bill read second time everybodi chamber k...</td>\n",
       "      <td>0.104221</td>\n",
       "      <td>0.366668</td>\n",
       "      <td>0.0</td>\n",
       "    </tr>\n",
       "    <tr>\n",
       "      <th>3</th>\n",
       "      <td>1</td>\n",
       "      <td>Denise Mitchell</td>\n",
       "      <td>Dublin-Bay-North</td>\n",
       "      <td>Sinn_Féin</td>\n",
       "      <td>Rent Freeze (Fair Rent) Bill 2019</td>\n",
       "      <td>Private Member</td>\n",
       "      <td>2</td>\n",
       "      <td>rent state high continu rise time freez rent p...</td>\n",
       "      <td>0.093730</td>\n",
       "      <td>0.362619</td>\n",
       "      <td>0.0</td>\n",
       "    </tr>\n",
       "    <tr>\n",
       "      <th>4</th>\n",
       "      <td>1</td>\n",
       "      <td>Donnchadh Ó Laoghaire</td>\n",
       "      <td>Cork-South-Central</td>\n",
       "      <td>Sinn_Féin</td>\n",
       "      <td>Rent Freeze (Fair Rent) Bill 2019</td>\n",
       "      <td>Private Member</td>\n",
       "      <td>4</td>\n",
       "      <td>rent economi societi extrem hard even one dece...</td>\n",
       "      <td>0.015449</td>\n",
       "      <td>0.485192</td>\n",
       "      <td>0.0</td>\n",
       "    </tr>\n",
       "    <tr>\n",
       "      <th>5</th>\n",
       "      <td>1</td>\n",
       "      <td>David Cullinane</td>\n",
       "      <td>Waterford</td>\n",
       "      <td>Sinn_Féin</td>\n",
       "      <td>Rent Freeze (Fair Rent) Bill 2019</td>\n",
       "      <td>Private Member</td>\n",
       "      <td>4</td>\n",
       "      <td>said last week peopl outsid hous sick tire pol...</td>\n",
       "      <td>-0.008743</td>\n",
       "      <td>0.361981</td>\n",
       "      <td>0.0</td>\n",
       "    </tr>\n",
       "  </tbody>\n",
       "</table>\n",
       "</div>"
      ],
      "text/plain": [
       "   Vote              Full_Name        Constituency        Party  \\\n",
       "1     1      Declan Breathnach               Louth  Fianna_Fáil   \n",
       "2     1           Eoin Ó Broin     Dublin-Mid-West    Sinn_Féin   \n",
       "3     1        Denise Mitchell    Dublin-Bay-North    Sinn_Féin   \n",
       "4     1  Donnchadh Ó Laoghaire  Cork-South-Central    Sinn_Féin   \n",
       "5     1        David Cullinane           Waterford    Sinn_Féin   \n",
       "\n",
       "                     Bill_Short_Name       Bill_Type  Utterance_Count  \\\n",
       "1  Rent Freeze (Fair Rent) Bill 2019  Private Member                3   \n",
       "2  Rent Freeze (Fair Rent) Bill 2019  Private Member               27   \n",
       "3  Rent Freeze (Fair Rent) Bill 2019  Private Member                2   \n",
       "4  Rent Freeze (Fair Rent) Bill 2019  Private Member                4   \n",
       "5  Rent Freeze (Fair Rent) Bill 2019  Private Member                4   \n",
       "\n",
       "                                   Stemmed_Utterance  Sentiment_Polarity  \\\n",
       "1  must deal postpon divis relat second stage ren...            0.175000   \n",
       "2  move bill read second time everybodi chamber k...            0.104221   \n",
       "3  rent state high continu rise time freez rent p...            0.093730   \n",
       "4  rent economi societi extrem hard even one dece...            0.015449   \n",
       "5  said last week peopl outsid hous sick tire pol...           -0.008743   \n",
       "\n",
       "   Sentiment_Subjectivity  Is_Government  \n",
       "1                0.225000            0.0  \n",
       "2                0.366668            0.0  \n",
       "3                0.362619            0.0  \n",
       "4                0.485192            0.0  \n",
       "5                0.361981            0.0  "
      ]
     },
     "execution_count": 12,
     "metadata": {},
     "output_type": "execute_result"
    }
   ],
   "source": [
    "# this displays the first few rows of the dataframe to check if it is rendering correctly\n",
    "data.head(5)"
   ]
  },
  {
   "cell_type": "markdown",
   "id": "guilty-insider",
   "metadata": {},
   "source": [
    "### 2.1.2. Class Counts"
   ]
  },
  {
   "cell_type": "markdown",
   "id": "experimental-updating",
   "metadata": {},
   "source": [
    "I also wanted to explore information on class counts to better understand the final data set."
   ]
  },
  {
   "cell_type": "code",
   "execution_count": 15,
   "id": "gentle-height",
   "metadata": {},
   "outputs": [],
   "source": [
    "import seaborn as sns\n",
    "import matplotlib.pyplot as plt\n",
    "from matplotlib import rcParams\n",
    "%matplotlib inline"
   ]
  },
  {
   "cell_type": "markdown",
   "id": "maritime-cooper",
   "metadata": {},
   "source": [
    "The votes are about three quarters \"Tá/Yes\" and one quarter \"Níl/No\". While the classes are unbalanced, this is a more even split than found in the literature where the previous studies had over 80% yes votes."
   ]
  },
  {
   "cell_type": "code",
   "execution_count": 17,
   "id": "amended-jewelry",
   "metadata": {},
   "outputs": [
    {
     "data": {
      "image/png": "[encoded data removed]",
      "text/plain": [
       "<Figure size 432x288 with 1 Axes>"
      ]
     },
     "metadata": {},
     "output_type": "display_data"
    }
   ],
   "source": [
    "# chart showing class count for votes\n",
    "sns.set(style=\"whitegrid\")\n",
    "ax = sns.countplot(x='Vote',  data=data, palette=\"Set2\")\n",
    "ax.set(xlabel='Vote', ylabel='Count')\n",
    "plt.show()\n"
   ]
  },
  {
   "cell_type": "code",
   "execution_count": 18,
   "id": "expanded-there",
   "metadata": {},
   "outputs": [
    {
     "data": {
      "image/png": "[encoded data removed]",
      "text/plain": [
       "<Figure size 432x288 with 1 Axes>"
      ]
     },
     "metadata": {},
     "output_type": "display_data"
    }
   ],
   "source": [
    "# chart showing class count for bill types\n",
    "sns.set(style=\"whitegrid\")\n",
    "ax = sns.countplot(x='Bill_Type',  data=data, palette=\"Set1\")\n",
    "ax.set(xlabel='Bill Type', ylabel='Count')\n",
    "plt.show()\n",
    "\n"
   ]
  },
  {
   "cell_type": "code",
   "execution_count": 19,
   "id": "numeric-tuesday",
   "metadata": {},
   "outputs": [
    {
     "data": {
      "image/png": "[encoded data removed]",
      "text/plain": [
       "<Figure size 432x288 with 1 Axes>"
      ]
     },
     "metadata": {},
     "output_type": "display_data"
    }
   ],
   "source": [
    "# chart showing class count for government/opposition\n",
    "sns.set(style=\"whitegrid\")\n",
    "ax = sns.countplot(x='Is_Government',  data=data, palette=\"Set3\")\n",
    "ax.set(xlabel='Is in Government', ylabel='Count')\n",
    "plt.show()"
   ]
  },
  {
   "cell_type": "code",
   "execution_count": 22,
   "id": "outdoor-stanford",
   "metadata": {},
   "outputs": [
    {
     "data": {
      "image/png": "[encoded data removed]",
      "text/plain": [
       "<Figure size 864x648 with 1 Axes>"
      ]
     },
     "metadata": {},
     "output_type": "display_data"
    }
   ],
   "source": [
    "# chart showing class count for constituency\n",
    "sns.set(style=\"whitegrid\")\n",
    "# figure size in inches\n",
    "rcParams['figure.figsize'] = 12,9\n",
    "constituency = sns.color_palette(\"husl\", 50)\n",
    "\n",
    "sns.countplot(data=data, y = 'Utterance_Count', palette=constituency, order = data['Utterance_Count'].value_counts().index)\n",
    "plt.show()"
   ]
  },
  {
   "cell_type": "code",
   "execution_count": 23,
   "id": "given-parking",
   "metadata": {},
   "outputs": [
    {
     "data": {
      "image/png": "[encoded data removed]",
      "text/plain": [
       "<Figure size 864x648 with 1 Axes>"
      ]
     },
     "metadata": {},
     "output_type": "display_data"
    }
   ],
   "source": [
    "# custom palette using Irish party colors from https://en.wikipedia.org/wiki/Category:Ireland_political_party_colour_templates\n",
    "\n",
    "party = [\"#326760\", \"#66BB66\", \"#DDDDDD\", \"#009FF3\", \"#E5E500\", \"#FFC0CB\", \"#CC0000\", \"#752F8B\", \"#99CC33\"]\n",
    "sns.set_palette(party)\n",
    "\n",
    "sns.set(style=\"whitegrid\")\n",
    "ax = sns.countplot(data=data, y = 'Party', palette=party, order = data['Party'].value_counts().index)\n",
    "plt.show()"
   ]
  },
  {
   "cell_type": "markdown",
   "id": "married-adobe",
   "metadata": {},
   "source": [
    "## 2.2. Creating Bag-of-Words"
   ]
  },
  {
   "cell_type": "markdown",
   "id": "massive-pakistan",
   "metadata": {},
   "source": [
    "This step transforms the stemmed debate transcripts into a bag-of-words representation similar to what was done in the literature. It creates one column for each word that appears in the entire corpus and each row contains the number of times each word appears in that particular speech.\n",
    "\n",
    "For this dataset, there are 9,654 unique word stems so the single \"Stemmed_Utterance\" column in my dataset transforms into 9,654 columns in this representation."
   ]
  },
  {
   "cell_type": "code",
   "execution_count": 41,
   "id": "reverse-amplifier",
   "metadata": {},
   "outputs": [],
   "source": [
    "from sklearn.feature_extraction.text import CountVectorizer"
   ]
  },
  {
   "cell_type": "code",
   "execution_count": 42,
   "id": "beautiful-wesley",
   "metadata": {},
   "outputs": [
    {
     "name": "stdout",
     "output_type": "stream",
     "text": [
      "{'must': 5596, 'deal': 2155, 'postpon': 6517, 'divis': 2516, 'relat': 7057, 'second': 7538, 'stage': 8077, 'rent': 7107, 'freez': 3430, 'fair': 3088, 'bill': 857, 'taken': 8418, 'tuesday': 8849, 'decemb': 2177, 'question': 6805, 'read': 6900, 'time': 8646, 'claim': 1506, 'accord': 58, 'stand': 8093, 'order': 6007, 'call': 1201, 'next': 5707, 'group': 3725, 'speaker': 8002, 'ask': 523, 'deputi': 2285, 'respect': 7172, 'rule': 7361, 'debat': 2166, 'allow': 254, 'member': 5284, 'contribut': 1838, 'without': 9538, 'interrupt': 4460, 'rachaimid': 6823, 'ar': 456, 'aghaidh': 176, 'go': 3618, 'dti': 2628, 'solidaritypeopl': 7944, 'profit': 6673, 'barri': 716, 'share': 7669, 'paul': 6236, 'murphi': 5590, 'gino': 3592, 'kenni': 4648, 'move': 5538, 'everybodi': 2957, 'chamber': 1385, 'know': 4699, 'complet': 1699, 'control': 1842, 'quick': 6807, 'look': 5007, 'dafti': 2103, 'today': 8672, 'confirm': 1753, 'cork': 1877, 'citi': 1494, 'cost': 1903, 'standard': 8095, 'twobedroom': 8892, 'home': 4033, 'per': 6283, 'year': 9619, 'lucan': 5055, 'constitu': 1800, 'astonish': 543, 'across': 77, 'elector': 2747, 'boundari': 996, 'castleknock': 1297, 'taoiseach': 8443, 'averag': 606, 'famili': 3102, 'two': 8891, 'bedroom': 756, 'part': 6200, 'minist': 5389, 'hous': 4084, 'plan': 6407, 'local': 4972, 'govern': 3647, 'eoghan': 2877, 'high': 3969, 'annual': 345, 'absolut': 33, 'insan': 4387, 'work': 9560, 'person': 6310, 'coupl': 1938, 'modest': 5462, 'incom': 4271, 'meant': 5250, 'afford': 150, 'dublin': 2633, 'month': 5494, 'state': 8112, 'mani': 5140, 'case': 1283, 'one': 5947, 'would': 9584, 'need': 5663, 'household': 4088, 'abl': 17, 'kind': 4674, 'price': 6618, 'impact': 4208, 'astronom': 545, 'seen': 7556, 'everywher': 2961, 'renter': 7110, 'live': 4957, 'huge': 4098, 'financi': 3214, 'pressur': 6602, 'firsttim': 3242, 'buyer': 1163, 'forc': 3337, 'back': 628, 'parent': 6188, 'save': 7456, 'deposit': 2280, 'economi': 2701, 'starv': 8109, 'spend': 8021, 'worker': 9562, 'pay': 6241, 'dispos': 2470, 'small': 7871, 'mediums': 5272, 'employ': 2798, 'struggl': 8218, 'rise': 7275, 'wage': 9343, 'main': 5097, 'driven': 2614, 'crisi': 1989, 'rental': 7108, 'sector': 7547, 'hurt': 4121, 'peopl': 6282, 'damag': 2111, 'way': 9398, 'commun': 1669, 'tanaist': 8433, 'coveney': 1948, 'launch': 4775, 'strategi': 8190, 'privat': 6637, 'promis': 6691, 'moder': 5458, 'rate': 6879, 'increas': 4285, 'three': 8600, 'new': 5693, 'suppli': 8320, 'come': 1641, 'stream': 8194, 'eas': 2685, 'successor': 8269, 'fail': 3081, 'fine': 3218, 'gael': 3497, 'left': 4829, 'deliv': 2241, 'singl': 7782, 'reli': 7067, 'meet': 5275, 'social': 7920, 'demand': 2246, 'crucial': 2024, 'zone': 9649, 'said': 7412, 'limit': 4922, 'sinc': 7777, 'januari': 4551, 'doubl': 2568, 'doubt': 2570, 'final': 3211, 'evid': 2963, 'inflat': 4346, 'happen': 3818, 'even': 2948, 'true': 8833, 'clear': 1526, 'yet': 9628, 'far': 3114, 'late': 4760, 'polici': 6465, 'futur': 3490, 'hardpress': 3835, 'unaccept': 8933, 'give': 3595, 'break': 1028, 'us': 9185, 'cosponsor': 1901, 'colleagu': 1616, 'mark': 5171, 'ward': 9365, 'seek': 7552, 'put': 6783, 'everi': 2954, 'pocket': 6448, 'refund': 7012, 'tax': 8456, 'credit': 1978, 'stop': 8167, 'given': 3596, 'els': 2764, 'system': 8395, 'got': 3643, 'help': 3937, 'buy': 1162, 'scheme': 7486, 'landlord': 4737, 'mortgag': 5516, 'interest': 4438, 'relief': 7072, 'vultur': 9340, 'fund': 3472, 'get': 3581, 'gener': 3554, 'deserv': 2294, 'support': 8324, 'outlin': 6050, 'exchequ': 2984, 'million': 5372, 'view': 9283, 'money': 5480, 'well': 9428, 'spent': 8023, 'meanwhil': 5252, 'frozen': 3452, 'current': 2073, 'level': 4871, 'exist': 3001, 'tenant': 8504, 'residenti': 7161, 'tenanc': 8503, 'board': 933, 'rtb': 7354, 'index': 4302, 'size': 7808, 'locat': 4975, 'properti': 6705, 'emerg': 2780, 'measur': 5254, 'intend': 4429, 'address': 95, 'issu': 4531, 'accommod': 55, 'especi': 2912, 'larg': 4752, 'done': 2547, 'public': 6754, 'land': 4735, 'invest': 4488, 'rebuild': 6931, 'ireland': 4509, 'made': 5085, 'commit': 1660, 'first': 3239, 'pilot': 6374, 'went': 9444, 'site': 7798, 'unit': 9072, 'throughout': 8615, 'cours': 1941, 'altern': 272, 'budget': 1102, 'sinn': 7788, 'fein': 3161, 'propos': 6709, 'major': 5106, 'council': 1917, 'addit': 94, 'purchas': 6769, 'period': 6296, 'scale': 7463, 'ambit': 286, 'requir': 7149, 'anyth': 409, 'less': 4861, 'condemn': 1738, 'decad': 2173, 'unafford': 8939, 'actual': 84, 'bad': 646, 'deter': 2317, 'choke': 1454, 'nonsens': 5787, 'institut': 4413, 'investor': 4490, 'combin': 1639, 'record': 6962, 'yield': 9629, 'pretti': 6611, 'sure': 8331, 'bet': 828, 'place': 6397, 'cover': 1949, 'alway': 276, 'big': 853, 'let': 4866, 'men': 5291, 'women': 9549, 'fend': 3172, 'understand': 9006, 'opposit': 5991, 'parti': 6202, 'concern': 1729, 'construct': 1807, 'everyon': 2959, 'involv': 4496, 'iron': 4515, 'potenti': 6524, 'difficulti': 2370, 'improv': 4241, 'necessari': 5658, 'right': 7256, 'approach': 449, 'reason': 6921, 'legisl': 4836, 'could': 1916, 'pass': 6213, 'end': 2813, 'roll': 7313, 'sleev': 7843, 'togeth': 8674, 'earli': 2675, 'christma': 1463, 'present': 6597, 'rightli': 7260, 'name': 5617, 'real': 6908, 'latter': 4769, 'ensur': 2850, 'access': 52, 'secur': 7549, 'desper': 2300, 'mislead': 5422, 'oppos': 5990, 'cathaoirleach': 1315, 'thank': 8543, 'noonan': 5794, 'delay': 2232, 'block': 918, 'amend': 291, 'bother': 989, 'row': 7350, 'publish': 6758, 'apart': 419, 'advic': 132, 'attorney': 566, 'best': 824, 'listen': 4943, 'care': 1255, 'watch': 9387, 'much': 5548, 'longer': 4995, 'want': 9362, 'wait': 9345, 'rememb': 7086, 'simon': 7766, 'introduc': 4474, 'area': 482, 'constrain': 1804, 'start': 8105, 'reduc': 6988, 'black': 886, 'white': 9473, 'depart': 2271, 'websit': 9415, 'twice': 8883, 'leav': 4821, 'devic': 2333, 'adequ': 97, 'provid': 6730, 'never': 5690, 'howev': 4091, 'bear': 742, 'temporari': 8498, 'alongsid': 265, 'greater': 3693, 'solv': 7950, 'clearli': 1530, 'deliber': 2236, 'misrepres': 5429, 'posit': 6505, 'sat': 7444, 'say': 7460, 'someth': 7960, 'darragh': 2133, 'obrien': 5864, 'gave': 3533, 'misrepresent': 5430, 'week': 9420, 'argu': 486, 'governmentl': 3648, 'long': 4994, 'point': 6453, 'despit': 2303, 'fact': 3069, 'told': 8682, 'fianna': 3191, 'ye': 9618, 'take': 8416, 'teas': 8473, 'variou': 9232, 'precis': 6556, 'jig': 4568, 'reel': 6993, 'politick': 6472, 'face': 3061, 'anoth': 353, 'unsustain': 9138, 'data': 2135, 'show': 7725, 'declin': 2187, 'may': 5212, 'still': 8151, 'includ': 4268, 'hap': 3815, 'treat': 8777, 'like': 4915, 'ra': 6820, 'topup': 8703, 'set': 7630, 'leas': 4815, 'author': 589, 'make': 5107, 'miscellan': 5405, 'provis': 6734, 'lowincom': 5043, 'separ': 7611, 'proposit': 6710, 'happi': 3819, 'committe': 1661, 'constitution': 1802, 'accept': 51, 'exampl': 2977, 'unconstitut': 8970, 'challeng': 1384, 'proceed': 6656, 'brought': 1087, 'court': 1942, 'develop': 2328, 'act': 78, 'principl': 6626, 'justic': 4618, 'common': 1665, 'good': 3634, 'met': 5312, 'specif': 8008, 'nonleg': 5773, 'appli': 438, 'context': 1822, 'quit': 6814, 'test': 8532, 'comment': 1653, 'midwest': 5347, 'refer': 6997, 'kilcarberri': 4662, 'campaign': 1213, 'enorm': 2842, 'resid': 7160, 'often': 5920, 'signific': 7752, 'resist': 7165, 'sale': 7416, 'decis': 2183, 'similarli': 7764, 'transfer': 8752, 'key': 4656, 'strateg': 8189, 'odevaney': 5896, 'garden': 3521, 'councillor': 1918, 'south': 7986, 'counti': 1933, 'motion': 5521, 'guarante': 3737, 'clonburri': 1553, 'led': 4825, 'defeat': 2209, 'democrat': 2252, 'labour': 4714, 'spirit': 8030, 'action': 79, 'believ': 789, 'substanti': 8261, 'build': 1104, 'continu': 1827, 'eight': 2724, 'tackl': 8407, 'simpli': 7770, 'children': 1444, 'homeless': 4037, 'onto': 5974, 'assist': 536, 'payment': 6247, 'soar': 7916, 'almost': 262, 'beyond': 836, 'shambl': 7660, 'halt': 3794, 'discuss': 2432, 'cycl': 2096, 'recordbreak': 6963, 'quarter': 6797, 'solut': 7949, 'crise': 1988, 'statewid': 8120, 'equival': 2891, 'choic': 1452, 'tri': 8789, 'roof': 7324, 'head': 3874, 'choos': 1456, 'exploit': 3026, 'societi': 7924, 'extrem': 3052, 'hard': 3825, 'decent': 2179, 'job': 4575, 'mean': 5246, 'third': 8572, 'halfdec': 3786, 'perhap': 6293, 'forev': 3356, 'possibl': 6508, 'ever': 2951, 'own': 6127, 'perman': 6300, 'remov': 7095, 'qualifi': 6789, 'situat': 7802, 'difficult': 2369, 'practic': 6536, 'imposs': 4234, 'lower': 5037, 'suffer': 8278, 'slightest': 7850, 'misfortun': 5418, 'side': 7743, 'regularli': 7033, 'clinic': 1546, 'hardest': 3829, 'receiv': 6936, 'evict': 2962, 'notic': 5811, 'list': 4942, 'figur': 3203, 'option': 5999, 'ring': 7269, 'around': 498, 'everyth': 2960, 'noth': 5810, 'within': 9537, 'abil': 15, 'realist': 6910, 'dealt': 2157, 'woman': 9547, 'last': 4758, 'constantli': 1799, 'fall': 3094, 'arrear': 502, 'electr': 2748, 'ga': 3492, 'knew': 4691, 'ultim': 8920, 'ago': 180, 'gone': 3632, 'unpaid': 9093, 'mount': 5533, 'theori': 8556, 'found': 3385, 'other': 6028, 'manag': 5132, 'seriou': 7622, 'sacrific': 7398, 'countri': 1935, 'utterli': 9203, 'highest': 3975, 'vote': 9331, 'effort': 2716, 'welcom': 9426, 'mystifi': 5604, 'convers': 1848, 'nation': 5628, 'threshold': 8608, 'reach': 6895, 'becom': 750, 'expens': 3013, 'number': 5842, 'better': 831, 'gotten': 3644, 'expect': 3008, 'outsid': 6062, 'sick': 7741, 'tire': 8664, 'politician': 6470, 'forward': 3378, 'product': 6666, 'young': 9636, 'depriv': 2283, 'opportun': 5988, 'rob': 7296, 'dream': 2601, 'hand': 3801, 'wors': 9576, 'unless': 9079, 'direct': 2391, 'refus': 7014, 'market': 5174, 'sort': 7977, 'problem': 6652, 'creat': 1970, 'perfect': 6290, 'storm': 8176, 'room': 7327, 'four': 3388, 'five': 3251, 'bed': 751, 'close': 1558, 'eye': 3055, 'reject': 7055, 'laoghair': 4747, 'note': 5808, 'previous': 6617, 'ridicul': 7252, 'past': 6219, 'regard': 7017, 'chang': 1390, 'spot': 8044, 'byelect': 1168, 'result': 7185, 'closer': 1561, 'elect': 2746, 'realiti': 6911, 'although': 274, 'think': 8570, 'talk': 8425, 'confid': 1748, 'keep': 4639, 'day': 2145, 'length': 4851, 'breadth': 1027, 'fore': 3340, 'fallout': 3096, 'rais': 6847, 'pin': 6376, 'collar': 1613, 'extortion': 3044, 'individu': 4316, 'serv': 7625, 'tabl': 8400, 'someon': 7958, 'see': 7551, 'straight': 8177, 'away': 620, 'blind': 915, 'panic': 6166, 'stem': 8140, 'fear': 3145, 'nowher': 5826, 'certainli': 1369, 'also': 270, 'substandard': 8259, 'complain': 1694, 'damp': 2117, 'cough': 1915, 'asthma': 542, 'heat': 3903, 'depth': 2284, 'winter': 9520, 'turn': 8865, 'oh': 5923, 'sell': 7584, 'anyway': 410, 'heard': 3891, 'numer': 5843, 'god': 3623, 'shut': 7736, 'regular': 7031, 'basi': 724, 'monthli': 5496, 'louth': 5032, 'meath': 5256, 'lowest': 5040, 'indic': 4305, 'miseri': 5416, 'endur': 2824, 'respons': 7175, 'allevi': 245, 'polit': 6469, 'ideolog': 4163, 'certain': 1368, 'truli': 8834, 'life': 4895, 'uncertainti': 8957, 'tell': 8490, 'vulner': 9339, 'speak': 8001, 'condit': 1740, 'tonight': 8692, 'send': 7599, 'messag': 5309, 'sole': 7938, 'recognis': 6952, 'foot': 3328, 'neck': 5661, 'commend': 1651, 'teachta': 8468, 'broin': 1077, 'bring': 1061, 'design': 2295, 'unsuit': 9135, 'simpl': 7767, 'ahead': 193, 'moment': 5473, 'busi': 1149, 'prolandlord': 6685, 'june': 4612, 'proten': 6719, 'forget': 3359, 'hypocrisi': 4136, 'okay': 5929, 'antilandlord': 384, 'import': 4230, 'find': 3216, 'balanc': 660, 'protect': 6718, 'oper': 5983, 'crash': 1964, 'recent': 6938, 'becam': 748, 'accident': 54, 'rubbish': 7357, 'caus': 1323, 'harm': 3843, 'loss': 5020, 'popul': 6488, 'reform': 7006, 'six': 7803, 'old': 5931, 'spoke': 8035, 'immedi': 4200, 'thing': 8569, 'quot': 6818, 'permiss': 6302, 'snodaigh': 7908, 'sit': 7797, 'behind': 778, 'hundr': 4110, 'enough': 2843, 'seem': 7554, 'tail': 8411, 'wag': 9342, 'dog': 2530, 'reckless': 6947, 'favour': 3141, 'stack': 8072, 'idea': 4156, 'specul': 8014, 'skyrocket': 7825, 'coincid': 1604, 'hear': 3890, 'heckl': 3913, 'appreci': 444, 'courtesi': 1944, 'parliament': 6195, 'open': 5978, 'wonder': 9550, 'whether': 9466, 'anyon': 408, 'bizarr': 885, 'nobodi': 5737, 'constitut': 1801, 'proport': 6707, 'treatment': 8779, 'wherebi': 9463, 'servic': 7627, 'credibl': 1977, 'hollow': 4030, 'base': 721, 'risk': 7277, 'ten': 8502, 'previou': 6616, 'lack': 4716, 'proper': 6703, 'taxat': 8458, 'fiscal': 3243, 'knee': 4689, 'sound': 7981, 'movement': 5539, 'york': 9631, 'upkeep': 9165, 'neg': 5667, 'word': 9558, 'berlin': 817, 'expert': 3017, 'warn': 9375, 'offer': 5909, 'modernis': 5460, 'climat': 1542, 'retrofit': 7199, 'reduct': 6989, 'septemb': 7613, 'billion': 860, 'feder': 3151, 'germani': 3576, 'compliant': 1703, 'lose': 5018, 'drive': 2612, 'underground': 8991, 'circumst': 1489, 'unfairli': 9041, 'hit': 4008, 'charg': 1401, 'unwork': 9157, 'whole': 9477, 'premis': 6583, 'rest': 7176, 'regist': 7023, 'earlier': 2676, 'full': 3461, 'lacuna': 4718, 'legaci': 4832, 'econom': 2700, 'contrari': 1834, 'purpos': 6774, 'prevent': 6615, 'undermin': 8995, 'roughli': 7343, 'built': 1111, 'compar': 1680, 'disrupt': 2480, 'extra': 3045, 'traffic': 8736, 'footfal': 3330, 'object': 5858, 'adopt': 117, 'deliveri': 2243, 'degre': 2226, 'independ': 4300, 'summer': 8295, 'reflect': 7003, 'dampen': 2118, 'latest': 4766, 'report': 7132, 'run': 7364, 'sustain': 8357, 'push': 6780, 'socal': 7918, 'cuckoo': 2047, 'discrep': 2427, 'power': 6531, 'inspector': 4402, 'alreadi': 269, 'criteria': 1991, 'extend': 3035, 'project': 6683, 'pathfind': 6225, 'account': 60, 'least': 4817, 'achiev': 69, 'overnight': 6098, 'financ': 3213, 'repeat': 7123, 'incent': 4258, 'helptobuy': 3941, 'loan': 4969, 'trap': 8766, 'affect': 145, 'fundament': 3473, 'morn': 5512, 'afternoon': 160, 'newspap': 5705, 'biggest': 855, 'hypocrit': 4137, 'explain': 3021, 'accus': 66, 'bluebel': 928, 'inappropri': 4253, 'applic': 440, 'appropri': 450, 'regardless': 7018, 'height': 3923, 'densiti': 2266, 'forth': 3371, 'encourag': 2811, 'builder': 1105, 'distract': 2497, 'elsewher': 2765, 'pathet': 6224, 'offic': 5910, 'vast': 9234, 'worst': 9579, 'distress': 2499, 'hovel': 4090, 'thousand': 8592, 'depend': 2274, 'entir': 2857, 'lock': 4976, 'sever': 7642, 'unpreced': 9097, 'ordinari': 6009, 'compet': 1689, 'directli': 2392, 'mention': 5295, 'snap': 7899, 'avail': 603, 'ensnar': 2848, 'caught': 1321, 'ripoff': 7273, 'shift': 7696, 'outcom': 6037, 'toward': 8717, 'continent': 1825, 'model': 5456, 'chanc': 1388, 'ownership': 6130, 'mire': 5399, 'survey': 8347, 'shown': 7728, 'free': 3423, 'consid': 1791, 'longterm': 5004, 'consequ': 1786, 'entail': 2851, 'obsess': 5869, 'disastr': 2409, 'likewis': 4916, 'wish': 9528, 'fixat': 3257, 'dire': 2390, 'repercuss': 7127, 'contrast': 1835, 'stuck': 8223, 'suffoc': 8280, 'soak': 7914, 'asset': 534, 'wealth': 9406, 'cheaper': 1414, 'store': 8173, 'valu': 9218, 'proven': 6729, 'foresav': 3349, 'mechan': 5258, 'particularli': 6206, 'repay': 7121, 'replac': 7128, 'equiti': 2890, 'essenti': 2916, 'use': 9190, 'return': 7202, 'consist': 1793, 'owner': 6128, 'benefit': 807, 'emphasi': 2795, 'ignor': 4174, 'tick': 8626, 'bomb': 957, 'goe': 3624, 'age': 167, 'wit': 9530, 'earn': 2680, 'enter': 2853, 'retir': 7194, 'reliant': 7070, 'heavi': 3908, 'subsidi': 8254, 'competit': 1690, 'pit': 6389, 'younger': 9637, 'promot': 6693, 'stake': 8084, 'sens': 7602, 'stabilis': 8070, 'particip': 6204, 'wellb': 9430, 'captur': 1246, 'academ': 44, 'research': 7154, 'instabl': 4404, 'substitut': 8262, 'form': 3364, 'tenur': 8515, 'factor': 3074, 'broader': 1072, 'histor': 4006, 'overwhelmingli': 6122, 'aspir': 527, 'prelegisl': 6578, 'scrutini': 7518, 'ramif': 6853, 'disput': 2475, 'examin': 2975, 'furthermor': 3485, 'detail': 2312, 'strike': 8205, 'restrain': 7182, 'penalis': 6273, 'hike': 3988, 'focu': 3310, 'briefli': 1053, 'either': 2736, 'enjoy': 2839, 'preferenti': 6571, 'estat': 2918, 'trust': 8838, 'reit': 7053, 'cultiv': 2057, 'focus': 3311, 'attract': 567, 'irish': 4511, 'iref': 4508, 'norm': 5795, 'begun': 772, 'rapidli': 6871, 'expand': 3005, 'fill': 3207, 'gap': 3516, 'tradit': 8735, 'heavili': 3910, 'concentr': 1727, 'cohort': 1599, 'haemorrhag': 3776, 'pressuris': 6603, 'low': 5035, 'abysm': 43, 'acceler': 48, 'embattl': 2773, 'instead': 4409, 'press': 6601, 'thumb': 8622, 'remain': 7081, 'unfinish': 9044, 'burden': 1130, 'spur': 8054, 'badli': 649, 'alon': 263, 'multipl': 5575, 'facet': 3065, 'deeper': 2203, 'qualiti': 6790, 'certif': 1371, 'miss': 5431, 'deadlin': 2153, 'step': 8141, 'brick': 1047, 'mortar': 5515, 'ground': 3722, 'boost': 971, 'vital': 9313, 'realis': 6909, 'vision': 9308, 'total': 8709, 'equal': 2883, 'afraid': 155, 'activ': 81, 'isol': 4527, 'recognit': 6953, 'strain': 8181, 'shoulder': 7722, 'refin': 7002, 'play': 6418, 'field': 3199, 'suit': 8287, 'smash': 7878, 'jaw': 4555, 'arrest': 503, 'rather': 6882, 'failur': 3087, 'alltim': 258, 'rackrent': 6828, 'thu': 8619, 'wider': 9493, 'commut': 1676, 'belt': 799, 'wicklow': 9489, 'drag': 2592, 'kick': 4657, 'scream': 7510, 'reluctantli': 7080, 'confus': 1759, 'exclud': 2987, 'coher': 1597, 'deep': 2201, 'overcrowd': 6076, 'statutori': 8127, 'definit': 2220, 'outdat': 6039, 'penalti': 6274, 'aim': 200, 'clariti': 1514, 'impos': 4232, 'unsaf': 9118, 'basic': 725, 'minimum': 5385, 'prefer': 6570, 'strengthen': 8199, 'framework': 3407, 'reinforc': 7047, 'resourc': 7171, 'comprehens': 1710, 'inspect': 4401, 'shortterm': 7720, 'tourist': 8716, 'hotel': 4079, 'glendalough': 3609, 'km': 4687, 'centr': 1359, 'expans': 3006, 'platform': 6416, 'excus': 2990, 'grow': 3728, 'experienc': 3015, 'constraint': 1805, 'moral': 5505, 'ethic': 2924, 'imper': 4215, 'spreadsheet': 8051, 'margin': 5163, 'enshrin': 2847, 'subject': 8242, 'mandat': 5134, 'radic': 6830, 'citizen': 1495, 'will': 9506, 'workabl': 9561, 'sacr': 7396, 'cow': 1952, 'determin': 2320, 'phenomenon': 6344, 'th': 8539, 'centuri': 1363, 'worsen': 9577, 'follow': 3319, 'world': 9569, 'war': 9364, 'spiral': 8029, 'produc': 6665, 'bit': 881, 'footbal': 3329, 'game': 3511, 'core': 1876, 'overcompl': 6074, 'success': 8268, 'familiar': 3103, 'theme': 8554, 'depress': 2282, 'approv': 451, 'dearth': 2162, 'lucki': 5058, 'check': 1417, 'agent': 171, 'navan': 5640, 'town': 8719, 'fourbedroom': 3389, 'semiattach': 7590, 'reiter': 7054, 'statist': 8123, 'initi': 4366, 'bodi': 939, 'agenc': 169, 'effect': 2713, 'sought': 7978, 'differ': 2367, 'experi': 3014, 'fresh': 3436, 'air': 202, 'brutal': 1092, 'wake': 9350, 'among': 302, 'staunch': 8128, 'backbench': 629, 'grappl': 3679, 'importantli': 4231, 'piec': 6366, 'thrash': 8594, 'auspic': 582, 'merchant': 5298, 'doom': 2558, 'belatedli': 783, 'acknowledg': 70, 'march': 5160, 'ad': 87, 'along': 264, 'limerick': 4921, 'obviou': 5878, 'manifestli': 5142, 'hope': 4058, 'revers': 7213, 'trend': 8785, 'desir': 2296, 'pump': 6762, 'decreas': 2190, 'process': 6657, 'implement': 4224, 'twoway': 8895, 'street': 8197, 'came': 1207, 'manner': 5147, 'dismiss': 2459, 'aggress': 174, 'willing': 9509, 'parliamentarian': 6197, 'narrow': 5623, 'prism': 6633, 'agreement': 184, 'realli': 6912, 'rethink': 7192, 'progress': 6680, 'agricultur': 186, 'secondari': 7539, 'school': 7488, 'farm': 3118, 'durat': 2660, 'plu': 6437, 'half': 3782, 'incentivis': 4260, 'intern': 4450, 'compani': 1678, 'fewer': 3188, 'threat': 8598, 'complex': 1700, 'unintend': 9065, 'food': 3324, 'marin': 5168, 'replic': 7131, 'particular': 6205, 'later': 4765, 'express': 3033, 'dail': 2104, 'might': 5351, 'honestli': 4047, 'oireachta': 5928, 'fairli': 3090, 'mayb': 5214, 'muscl': 5592, 'quickli': 6809, 'seanad': 7532, 'raft': 6837, 'excess': 2981, 'mad': 5083, 'concert': 1730, 'lifetim': 4907, 'worthi': 9581, 'donoth': 2555, 'night': 5719, 'complic': 1704, 'formula': 3369, 'wrong': 9601, 'midnight': 5344, 'link': 4931, 'telephon': 8488, 'protest': 6720, 'daft': 2102, 'repres': 7136, 'yesterday': 9627, 'elderli': 2745, 'villag': 9292, 'disagre': 2400, 'littl': 4956, 'intent': 4431, 'identifi': 4162, 'suitabl': 8288, 'speedi': 8017, 'fashion': 3125, 'vacant': 9208, 'levi': 4873, 'great': 3692, 'forthcom': 3372, 'increasingli': 4286, 'occas': 5883, 'submit': 8244, 'ceann': 1337, 'comhairl': 1644, 'discourag': 2423, 'hoard': 4011, 'amount': 304, 'near': 5648, 'significantli': 7753, 'anticip': 372, 'concept': 1728, 'otherwis': 6029, 'pile': 6370, 'suggest': 8283, 'enact': 2806, 'probabl': 6649, 'class': 1515, 'warfar': 9367, 'capit': 1242, 'wellpaid': 9438, 'mediumpaid': 5271, 'rack': 6826, 'nurs': 5846, 'teacher': 8467, 'search': 7533, 'stay': 8130, 'mam': 5128, 'dad': 2100, 'lowpaid': 5045, 'richer': 7241, 'poorer': 6483, 'facebook': 3062, 'page': 6146, 'thursday': 8624, 'sent': 7605, 'select': 7564, 'languish': 4745, 'demonstr': 2258, 'raw': 6893, 'anger': 331, 'collect': 1617, 'jaccus': 4542, 'marcher': 5161, 'correct': 1884, 'faith': 3092, 'thirtysecond': 8580, 'establish': 2917, 'water': 9389, 'english': 2837, 'agre': 182, 'peak': 6258, 'comparison': 1681, 'trough': 8827, 'clondalkin': 1554, 'incred': 4287, 'threebedroom': 8601, 'onebedroom': 5949, 'extraordinari': 3048, 'math': 5200, 'industri': 4319, 'forgo': 3360, 'recommend': 6957, 'anywher': 411, 'discrimin': 2431, 'corros': 1891, 'etc': 2921, 'overreli': 6100, 'super': 8307, 'distort': 2496, 'nine': 5725, 'door': 2559, 'micheal': 5329, 'martin': 5183, 'weekend': 9421, 'divers': 2508, 'forgot': 3361, 'represent': 7137, 'absent': 31, 'necessarili': 5659, 'inconclus': 4278, 'answer': 356, 'organis': 6014, 'resolv': 7167, 'massiv': 5193, 'nationalis': 5629, 'corpor': 1882, 'loudli': 5028, 'connolli': 1774, 'fourth': 3397, 'cap': 1236, 'stronger': 8213, 'advoc': 136, 'threeyear': 8607, 'stagger': 8079, 'higher': 3973, 'risen': 7276, 'term': 8518, 'chariti': 1403, 'termin': 8519, 'aris': 490, 'wrongdo': 9602, 'sold': 7936, 'bogu': 947, 'invalid': 4480, 'except': 2980, 'rapaci': 6867, 'mass': 5189, 'due': 2635, 'entri': 2865, 'phone': 6351, 'rose': 7333, 'repeatedli': 7124, 'stateown': 8119, 'european': 2935, 'bank': 692, 'programm': 6679, 'spin': 8026, 'disguis': 2441, 'tomorrow': 8688, 'joint': 4586, 'merci': 5299, 'law': 4780, 'submiss': 8243, 'octob': 5892, 'offici': 5912, 'duti': 2662, 'privileg': 6641, 'salari': 7415, 'highlight': 3980, 'attent': 563, 'galway': 3507, 'lot': 5022, 'declar': 2185, 'somebodi': 7955, 'draw': 2597, 'empti': 2802, 'repair': 7120, 'onstream': 5971, 'reus': 7206, 'notabl': 5807, 'urgenc': 9183, 'rural': 7371, 'none': 5760, 'costbenefit': 1905, 'analysi': 312, 'glad': 3598, 'nod': 5739, 'developerl': 2329, 'absenc': 30, 'overal': 6070, 'pictur': 6363, 'lie': 4893, 'commod': 1662, 'trade': 8731, 'warmth': 9374, 'enabl': 2805, 'democraci': 2251, 'senior': 7601, 'insult': 4419, 'triniti': 8805, 'colleg': 1619, 'univers': 9074, 'written': 9600, 'speech': 8015, 'pillar': 6373, 'misl': 5421, 'misinterpret': 5420, 'integr': 4424, 'studi': 8226, 'utilis': 9199, 'utter': 9202, 'plead': 6424, 'known': 4702, 'april': 453, 'ear': 2674, 'glib': 3610, 'touch': 8711, 'element': 2752, 'forgotten': 3362, 'space': 7993, 'media': 5259, 'assert': 532, 'presuppos': 6606, 'insur': 4420, 'beef': 759, 'architect': 470, 'dysfunct': 2669, 'red': 6977, 'carpet': 1270, 'front': 3446, 'sheet': 7682, 'lighttouch': 4913, 'regul': 7030, 'un': 8930, 'multin': 5574, 'swath': 8363, 'skyhigh': 7822, 'cashrich': 1288, 'lead': 4798, 'grate': 3683, 'adult': 122, 'bantri': 700, 'baltimor': 682, 'skibbereen': 7815, 'clonakilti': 1552, 'roscarberri': 7331, 'bandon': 689, 'kinsal': 4681, 'unabl': 8932, 'ladder': 4720, 'resort': 7169, 'feel': 3158, 'mental': 5294, 'health': 3883, 'spoken': 8036, 'bid': 851, 'climb': 1545, 'procedur': 6655, 'clearer': 1528, 'environ': 2871, 'appeal': 430, 'horror': 4068, 'stori': 8175, 'paid': 6147, 'stood': 8164, 'commerci': 1656, 'refurbish': 7013, 'muchneed': 5550, 'dwell': 2665, 'west': 9445, 'aboveshop': 27, 'grant': 3675, 'though': 8588, 'renew': 7103, 'momentum': 5475, 'narr': 5622, 'critic': 1993, 'awar': 617, 'avenu': 605, 'predominantli': 6565, 'minor': 5393, 'remind': 7088, 'sum': 8290, 'estim': 2920, 'nd': 5644, 'celtic': 1347, 'tiger': 8636, 'era': 2892, 'argument': 488, 'catastroph': 1306, 'selfaccommod': 7567, 'sleep': 7839, 'couch': 1914, 'section': 7546, 'convinc': 1853, 'incentivebas': 4259, 'disadvantag': 2399, 'conclud': 1733, 'problemat': 6653, 'chaotic': 1395, 'administr': 108, 'matter': 5204, 'similar': 7763, 'sponsor': 8039, 'roadtodamascu': 7291, 'contain': 1814, 'prohibit': 6682, 'buytolet': 1165, 'insecur': 4390, 'poor': 6482, 'possess': 6507, 'whatsoev': 9455, 'whose': 9487, 'sand': 7431, 'equat': 2885, 'approxim': 452, 'stool': 8166, 'tipperari': 8661, 'maximum': 5211, 'mind': 5377, 'top': 8700, 'childcar': 1440, 'educ': 2711, 'normal': 5796, 'everyday': 2958, 'surviv': 8349, 'edg': 2706, 'permit': 6303, 'dread': 2600, 'therefor': 8561, 'elig': 2756, 'short': 7710, 'crippl': 1987, 'poverti': 6530, 'worri': 9575, 'hold': 4022, 'breath': 1035, 'prospect': 6715, 'spokesperson': 8038, 'deterior': 2319, 'sporad': 8042, 'hoc': 4013, 'unachiev': 8936, 'lender': 4850, 'attempt': 561, 'imposit': 4233, 'soon': 7967, 'fast': 3126, 'laoi': 4749, 'offali': 5904, 'saw': 7459, 'whop': 9486, 'scrape': 7507, 'cloth': 1564, 'rein': 7046, 'enforc': 2832, 'rebat': 6928, 'output': 6057, 'escap': 2909, 'chao': 1393, 'leascheann': 4816, 'void': 9320, 'quinlivan': 6812, 'sometim': 7961, 'annoy': 344, 'slow': 7863, 'afterward': 161, 'alloc': 252, 'urban': 9180, 'presum': 6604, 'inform': 4353, 'eventu': 2950, 'suspect': 8352, 'round': 7345, 'fix': 3256, 'instanc': 4407, 'outset': 6061, 'pose': 6503, 'evidencebas': 2965, 'deriv': 2288, 'evalu': 2944, 'medium': 5270, 'crude': 2026, 'intervent': 4465, 'held': 3931, 'genuin': 3566, 'thoughtout': 8590, 'pure': 6770, 'danger': 2120, 'flipflop': 3291, 'jan': 4549, 'osullivan': 6026, 'con': 1723, 'interview': 4466, 'populist': 6490, 'stanc': 8092, 'cool': 1857, 'slim': 7853, 'minut': 5397, 'apologis': 425, 'hour': 4083, 'admit': 111, 'begin': 770, 'hone': 4044, 'homeownership': 4039, 'highli': 3979, 'unfair': 9040, 'anybodi': 406, 'worth': 9580, 'stick': 8147, 'heighten': 3924, 'sorri': 7975, 'casey': 1284, 'fallen': 3095, 'drop': 2619, 'occur': 5887, 'unlucki': 9083, 'rewrit': 7228, 'rewritten': 7229, 'factual': 3076, 'mantra': 5153, 'deni': 2259, 'boom': 968, 'acquir': 73, 'analys': 311, 'urg': 9182, 'vice': 9273, 'versa': 9259, 'stress': 8200, 'rough': 7342, 'taxpay': 8462, 'ngo': 5709, 'pull': 6760, 'weight': 9425, 'add': 91, 'woe': 9541, 'restrict': 7183, 'disproportion': 2473, 'wouldb': 9585, 'entrant': 2862, 'rpz': 7352, 'enhanc': 2838, 'team': 8471, 'strong': 8212, 'steadi': 8132, 'interven': 4464, 'mistak': 5435, 'sentiment': 7607, 'opt': 5993, 'unpredict': 9098, 'abroad': 29, 'union': 9067, 'certainti': 1370, 'predict': 6563, 'promarket': 6689, 'interfer': 4443, 'creation': 1971, 'overstep': 6112, 'excit': 2986, 'metropolitan': 5321, 'doneg': 2549, 'leitrim': 4844, 'sligo': 7852, 'roscommon': 7332, 'region': 7022, 'transport': 8762, 'mouth': 5537, 'logic': 4985, 'conclus': 1734, 'invit': 4493, 'firm': 3237, 'runaway': 7365, 'dissolv': 2488, 'lisbon': 4941, 'treati': 8778, 'defenc': 2211, 'worthwhil': 9583, 'articl': 509, 'civilian': 1503, 'militari': 5362, 'capabl': 1237, 'shall': 7658, 'undertak': 9010, 'eurozon': 2939, 'temper': 8493, 'advanc': 123, 'militarist': 5365, 'eu': 2928, 'overrid': 6101, 'neutral': 5689, 'undoubtedli': 9023, 'relentless': 7062, 'pesco': 6322, 'fulli': 3463, 'drone': 2618, 'leap': 4811, 'expenditur': 3012, 'tune': 8855, 'hospit': 4072, 'trolley': 8819, 'aghast': 177, 'wast': 9383, 'expansionist': 3007, 'erod': 2897, 'inextric': 4332, 'nato': 5633, 'surpris': 8341, 'mitchel': 5443, 'mep': 5297, 'document': 2525, 'titl': 8668, 'role': 7312, 'tacit': 8405, 'allianc': 247, 'adventur': 126, 'entangl': 2852, 'ceart': 1339, 'leor': 4858, 'unfortun': 9049, 'trace': 8725, 'sign': 7747, 'partnership': 6210, 'peac': 6252, 'deploy': 2278, 'troop': 8822, 'natol': 5634, 'mission': 5433, 'green': 3700, 'shannon': 7665, 'airport': 208, 'post': 6509, 'illeg': 4182, 'middl': 5337, 'east': 2690, 'abandon': 4, 'shame': 7661, 'relationship': 7058, 'decid': 2181, 'foreign': 3345, 'cornerston': 1879, 'angela': 330, 'merkel': 5305, 'emmanuel': 2788, 'macron': 5080, 'openli': 5981, 'armi': 495, 'largest': 4755, 'iraq': 4505, 'afghanistan': 152, 'libya': 4887, 'syria': 8393, 'engag': 2833, 'illthought': 4185, 'conflict': 1757, 'heart': 3893, 'shot': 7721, 'heroic': 3957, 'refuge': 7011, 'mediterranean': 5269, 'unend': 9031, 'task': 8451, 'flew': 3284, 'french': 3433, 'british': 1066, 'plane': 6408, 'invas': 4483, 'repress': 7138, 'align': 235, 'dole': 2535, 'horrif': 4066, 'unthink': 9141, 'proud': 6726, 'histori': 4007, 'mediat': 5264, 'peacekeep': 6255, 'honest': 4045, 'broker': 1080, 'belief': 788, 'partner': 6209, 'headlong': 3877, 'rush': 7374, 'affair': 144, 'boy': 1000, 'backbon': 630, 'warmong': 9373, 'imperialist': 4219, 'hark': 3841, 'europ': 2934, 'structur': 8217, 'cooper': 1863, 'describ': 2292, 'beauti': 747, 'presid': 6599, 'commiss': 1658, 'jeanclaud': 4559, 'juncker': 4609, 'lay': 4790, 'truth': 8841, 'unlik': 9080, 'predecessor': 6561, 'circumv': 1490, 'train': 8741, 'mali': 5119, 'tripl': 8810, 'faill': 3084, 'persuad': 6315, 'longstand': 5003, 'honour': 4052, 'reput': 7147, 'soldier': 7937, 'gain': 3504, 'faction': 3072, 'jeopardis': 4562, 'equip': 2888, 'plethora': 6431, 'profil': 6672, 'leader': 4799, 'blatantli': 906, 'minc': 5376, 'pretenc': 6608, 'hide': 3966, 'agenda': 170, 'extent': 3037, 'flout': 3301, 'meek': 5274, 'headquart': 3879, 'wholeheartedli': 9479, 'insinu': 4397, 'redher': 6984, 'crawler': 1966, 'blinker': 916, 'write': 9595, 'wall': 9356, 'serious': 7623, 'airplan': 207, 'indispens': 4314, 'preserv': 6598, 'exactli': 2972, 'dictat': 2358, 'statu': 8124, 'ranger': 6861, 'wing': 9518, 'suppos': 8325, 'poll': 6473, 'date': 2139, 'defend': 2212, 'laugh': 4773, 'poodl': 6479, 'tickl': 8629, 'capitul': 1245, 'flaunt': 3274, 'unambigu': 8940, 'restat': 7178, 'perspect': 6314, 'introduct': 4475, 'text': 8537, 'elabor': 2739, 'dimens': 2383, 'conscript': 1782, 'violent': 9300, 'adequaci': 98, 'maintain': 5102, 'redefin': 6981, 'convent': 1847, 'arm': 493, 'tom': 8686, 'johnson': 4582, 'promin': 6690, 'pacifist': 6136, 'recal': 6933, 'primari': 6622, 'western': 9446, 'mobilis': 5453, 'death': 2163, 'associ': 537, 'constitutionalist': 1803, 'guid': 3746, 'antitreati': 396, 'civil': 1502, 'began': 768, 'mutini': 5598, 'relev': 7065, 'root': 7329, 'antipathi': 385, 'violenc': 9299, 'fledgl': 3277, 'reintegr': 7049, 'enemi': 2825, 'albeit': 220, 'bitter': 882, 'rival': 7281, 'rang': 6860, 'arrang': 500, 'protocol': 6722, 'format': 3366, 'solidar': 7942, 'prejudic': 6577, 'natur': 5635, 'aid': 197, 'terrorist': 8529, 'attack': 559, 'victim': 9277, 'territori': 8526, 'gdp': 3543, 'franc': 3408, 'uk': 8916, 'personnel': 6313, 'shockingli': 7704, 'uniqu': 9071, 'worldclass': 9570, 'expertis': 3018, 'counter': 1923, 'improvis': 4242, 'explos': 3028, 'destruct': 2311, 'mine': 5380, 'chemic': 1426, 'ammunit': 298, 'balkan': 663, 'ukrain': 8918, 'unmand': 9085, 'substant': 8260, 'switzerland': 8379, 'underpin': 8998, 'mandatori': 5135, 'capac': 1238, 'repel': 7125, 'type': 8898, 'weapon': 9410, 'terror': 8527, 'cyberattack': 2092, 'technolog': 8479, 'intellig': 4426, 'tie': 8634, 'invad': 4479, 'antiterrorist': 393, 'modifi': 5465, 'sympathis': 8385, 'appear': 431, 'isolationist': 4528, 'uncoop': 8973, 'affirm': 147, 'militarili': 5363, 'nonaggress': 5748, 'spell': 8020, 'interpret': 4457, 'nonmembership': 5776, 'membership': 5285, 'pfp': 6334, 'mutual': 5599, 'optout': 6000, 'unquestion': 9106, 'longest': 4997, 'clearest': 1529, 'nonviol': 5792, 'necess': 5657, 'publicli': 6756, 'echo': 2697, 'rapid': 6870, 'pace': 6134, 'mr': 5546, 'letter': 4869, 'migrat': 5355, 'border': 974, 'prototyp': 6723, 'race': 6822, 'justifi': 4621, 'scope': 7497, 'pleas': 6426, 'join': 4583, 'assur': 541, 'contradict': 1832, 'goal': 3620, 'strongli': 8215, 'sovereignti': 7991, 'evolv': 2968, 'falter': 3100, 'manufactur': 5155, 'referendum': 7000, 'flight': 3288, 'nice': 5715, 'voter': 9332, 'geopolit': 3570, 'event': 2949, 'brazenli': 1023, 'pronounc': 6697, 'virtu': 9303, 'katarina': 4629, 'barley': 710, 'readi': 6902, 'arriv': 504, 'premier': 6582, 'pact': 6141, 'francogerman': 3412, 'cultur': 2058, 'boast': 935, 'complement': 1696, 'greec': 3696, 'portug': 6502, 'bullyboy': 1120, 'tactic': 8408, 'dare': 2128, 'neoliber': 5678, 'antidemocrat': 376, 'dishonest': 2445, 'frankli': 3415, 'surreal': 8343, 'machin': 5078, 'ongo': 5965, 'disappoint': 2402, 'slightli': 7851, 'dilut': 2381, 'version': 9260, 'blow': 925, 'hole': 4024, 'onset': 5967, 'usl': 9195, 'slaughter': 7835, 'facilit': 3068, 'conduct': 1744, 'defianc': 2216, 'meaning': 5247, 'legalist': 4835, 'dissect': 2482, 'deflect': 2221, 'solitari': 7946, 'foundat': 3386, 'februari': 3149, 'roger': 7308, 'cole': 1608, 'galleri': 3506, 'brendan': 1040, 'butler': 1158, 'gearoid': 3547, 'kilgallen': 4664, 'global': 3612, 'britain': 1065, 'alli': 246, 'assault': 529, 'human': 4101, 'bigger': 854, 'beg': 767, 'onslaught': 5970, 'opinion': 5985, 'casualti': 1301, 'wrote': 9604, 'die': 2362, 'kill': 4666, 'iraqi': 4506, 'displac': 2468, 'islam': 4525, 'isi': 4524, 'preced': 6553, 'occup': 5885, 'humanitarian': 4102, 'disast': 2408, 'respond': 7174, 'atroc': 556, 'carri': 1271, 'saudi': 7451, 'arabia': 459, 'overtook': 6116, 'russia': 7375, 'spender': 8022, 'china': 1447, 'friend': 3440, 'trillion': 8802, 'india': 4303, 'japan': 4552, 'peacemak': 6256, 'imperi': 4218, 'subimperi': 8241, 'bloodi': 922, 'crush': 2035, 'coloni': 1630, 'grab': 3654, 'fight': 3202, 'savag': 7454, 'orwellian': 6023, 'beli': 787, 'destroy': 2310, 'firststrik': 3241, 'nuclear': 5835, 'fire': 3234, 'shoot': 7707, 'interoper': 4454, 'vindic': 9295, 'flow': 3302, 'born': 978, 'empir': 2797, 'topic': 8702, 'collin': 1621, 'pursu': 6777, 'disengag': 2438, 'observ': 5867, 'compromis': 1713, 'interim': 4446, 'lebanon': 4823, 'jurisdict': 4616, 'oversight': 6109, 'suprem': 8329, 'bar': 701, 'clarifi': 1513, 'renown': 7106, 'restor': 7181, 'poorest': 6484, 'underdevelop': 8984, 'technic': 8475, 'litter': 4955, 'sleepwalk': 7842, 'fullyfledg': 3467, 'reemphasis': 6994, 'scaremong': 7478, 'underscor': 9003, 'authoris': 590, 'sacrosanct': 7399, 'friendli': 3441, 'referenda': 6999, 'uniti': 9073, 'her': 3950, 'surfac': 8333, 'ratifi': 6885, 'moreov': 5508, 'euwid': 2941, 'brexit': 1043, 'wildli': 9504, 'unsubstanti': 9133, 'consent': 1785, 'oversea': 6106, 'prepar': 6586, 'deepen': 2202, 'recoil': 6955, 'euroscept': 2937, 'properli': 6704, 'apparatu': 429, 'luck': 5057, 'evergrow': 2953, 'bolster': 955, 'cybersecur': 2094, 'gather': 3531, 'st': 8067, 'consider': 1792, 'function': 3471, 'junctur': 4611, 'lesson': 4864, 'island': 4526, 'africa': 156, 'bridg': 1050, 'behalf': 773, 'categor': 1311, 'emphasis': 2796, 'robust': 7299, 'legal': 4833, 'uphold': 9164, 'ideal': 4158, 'pacif': 6135, 'settlement': 7633, 'bind': 866, 'negoti': 5671, 'resolut': 7166, 'execut': 2991, 'urgent': 9184, 'oblig': 5860, 'entrust': 2866, 'extern': 3039, 'jeopardi': 4561, 'fulfil': 3460, 'attain': 560, 'bhutan': 846, 'namibia': 5619, 'togo': 8677, 'learn': 4812, 'invalu': 4481, 'skill': 7816, 'curb': 2065, 'undertaken': 9011, 'reassur': 6924, 'safeti': 7409, 'precursor': 6559, 'upskil': 9174, 'vehicl': 9240, 'disarma': 2405, 'postconflict': 6511, 'recoveri': 6970, 'serbia': 7618, 'albania': 219, 'jordan': 4591, 'injuri': 4371, 'remnant': 7093, 'defus': 2224, 'antipersonnel': 387, 'landmin': 4739, 'unanim': 8942, 'csdp': 2041, 'charter': 1409, 'eucsdp': 2929, 'chad': 1376, 'congo': 1762, 'bosnia': 982, 'herzegovina': 3959, 'capacitybuild': 1239, 'somalia': 7954, 'sofia': 7931, 'eireann': 2734, 'incompat': 4273, 'aircraft': 204, 'irrespect': 4520, 'compat': 1685, 'unarm': 8945, 'intelligencegath': 4427, 'exercis': 2994, 'strictli': 8204, 'neither': 5675, 'thirtyfirst': 8579, 'assent': 531, 'weak': 9402, 'quo': 6816, 'militaris': 5364, 'longheld': 5001, 'bunreacht': 1128, 'na': 5608, 'heireann': 3927, 'teachtai': 8469, 'dala': 2107, 'breach': 1025, 'hagu': 3777, 'wear': 9412, 'virtual': 9304, 'insert': 4392, 'blur': 932, 'riddl': 7249, 'doublespeak': 2569, 'donald': 2545, 'trump': 8835, 'militaryindustri': 5366, 'asid': 522, 'hungri': 4114, 'hardearn': 3827, 'wherea': 9462, 'cheer': 1421, 'brussel': 1091, 'garda': 3519, 'investig': 4489, 'guard': 3738, 'cursori': 2075, 'craft': 1961, 'shannonwatch': 7667, 'strang': 8185, 'knowledg': 4701, 'accid': 53, 'malnutrit': 5123, 'euro': 2932, 'safer': 7407, 'worldwid': 9572, 'redoubl': 6985, 'target': 8449, 'planet': 6409, 'brave': 1021, 'blue': 927, 'helmet': 3936, 'warm': 9369, 'pana': 6160, 'ta': 8397, 'failt': 3085, 'rompu': 7321, 'percentag': 6286, 'grown': 3729, 'distinct': 2494, 'noughti': 5820, 'unforgiv': 9048, 'yemen': 9626, 'crossroad': 2018, 'player': 6419, 'matt': 5203, 'carthi': 1280, 'midlandsnorthwest': 5341, 'lynn': 5072, 'boylan': 1005, 'liadh': 4878, 'ni': 5711, 'riada': 7235, 'martina': 5184, 'anderson': 322, 'solidli': 7945, 'squar': 8060, 'preciou': 6555, 'peril': 6294, 'gabhaim': 3494, 'buiocha': 1113, 'lei': 4840, 'antabhachtach': 358, 'seo': 7609, 'agu': 192, 'ba': 625, 'choir': 1453, 'rialta': 7236, 'tacu': 8409, 'airgead': 205, 'gur': 3758, 'infheistiu': 4342, 'seirbhisi': 7559, 'poibli': 6452, 'no': 5733, 'talmhaiocht': 8430, 'slaint': 7828, 'oideacha': 5924, 'ag': 162, 'dul': 2641, 'ngleic': 5708, 'athru': 553, 'aeraid': 140, 'disgrac': 2439, 'palestin': 6154, 'anticoloni': 373, 'instinct': 4412, 'reaffirm': 6906, 'wholeheart': 9478, 'adher': 99, 'curtail': 2076, 'articul': 510, 'statement': 8118, 'tenyear': 8517, 'paper': 6169, 'juli': 4605, 'misconcept': 5409, 'request': 7148, 'alter': 271, 'facil': 3067, 'languag': 4744, 'robert': 7298, 'schuman': 7490, 'famou': 3105, 'dear': 2159, 'monger': 5485, 'counterbal': 1925, 'incept': 4261, 'peacebuild': 6253, 'reconcili': 6959, 'northern': 5801, 'prosper': 6716, 'tool': 8695, 'effici': 2715, 'jointli': 4587, 'crisismanag': 1990, 'diminish': 2384, 'inde': 4293, 'eumand': 2931, 'inaccur': 4247, 'disservic': 2485, 'peacesupport': 6257, 'globe': 3613, 'safeguard': 7405, 'cast': 1292, 'sphere': 8024, 'peaceenforc': 6254, 'chapter': 1396, 'vii': 9289, 'satisfi': 7449, 'suffici': 8279, 'consecut': 1783, 'visit': 9309, 'inact': 4249, 'oneself': 5959, 'proactiv': 6648, 'paint': 6149, 'somehow': 7957, 'drift': 2605, 'shape': 7668, 'wellqualifi': 9439, 'aliv': 237, 'disarm': 2404, 'stabil': 8069, 'imagin': 4193, 'sad': 7400, 'fake': 3093, 'news': 5701, 'patent': 6222, 'shock': 7703, 'twilight': 8885, 'ironi': 4516, 'thereaft': 8559, 'score': 7498, 'cheap': 1413, 'sin': 7776, 'crime': 1984, 'whatev': 9453, 'wallac': 9357, 'nearli': 5653, 'diametr': 2349, 'whim': 9469, 'tribut': 8795, 'veteran': 9265, 'nobl': 5736, 'patrick': 6231, 'took': 8694, 'tarak': 8448, 'kauff': 4633, 'ken': 4646, 'mayer': 5215, 'bail': 657, 'enni': 2841, 'district': 2502, 'imprison': 4239, 'dignifi': 2374, 'signal': 7748, 'lad': 4719, 'gun': 3756, 'testimoni': 8535, 'weaponri': 9411, 'ship': 7698, 'cater': 1314, 'travel': 8770, 'destin': 2307, 'appal': 426, 'underneath': 8996, 'perpetu': 6305, 'pretend': 6609, 'camp': 1212, 'lemonni': 4847, 'djibouti': 2520, 'complicit': 1705, 'battl': 733, 'sophia': 7970, 'obvious': 5879, 'preeuropean': 6568, 'modern': 5459, 'libyan': 4888, 'arab': 458, 'airlin': 206, 'student': 8224, 'wealthiest': 9409, 'capita': 1243, 'basket': 727, 'regim': 7020, 'track': 8728, 'misinform': 5419, 'stupid': 8232, 'plough': 6435, 'furrow': 3483, 'daughter': 2140, 'antiaircraft': 365, 'missil': 5432, 'mathemat': 5201, 'connect': 1770, 'guess': 3742, 'murder': 5587, 'wreck': 9592, 'pursuit': 6779, 'beacon': 740, 'abus': 42, 'somewhat': 7962, 'dishearten': 2444, 'concret': 1736, 'advantag': 124, 'crimin': 1985, 'mockeri': 5454, 'notion': 5816, 'berti': 820, 'ahern': 194, 'substanc': 8258, 'customari': 2084, 'forbidden': 3336, 'belliger': 795, 'convoy': 1855, 'munit': 5585, 'unreal': 9108, 'clare': 1511, 'dali': 2108, 'impress': 4238, 'overflight': 6081, 'holiday': 4026, 'incurs': 4292, 'gamechang': 3512, 'enda': 2814, 'amaz': 282, 'sadli': 7403, 'terribl': 8524, 'defens': 2213, 'jihadist': 4570, 'israel': 4530, 'silenc': 7756, 'saudiua': 7452, 'coalit': 1577, 'daylight': 2146, 'crowd': 2022, 'girl': 3593, 'sunday': 8302, 'sana': 7429, 'book': 966, 'disassoci': 2407, 'honesti': 4046, 'american': 293, 'lost': 5021, 'russian': 7376, 'chines': 1448, 'admir': 109, 'obama': 5855, 'threw': 8609, 'saleh': 7417, 'hadi': 3774, 'sanction': 7430, 'soandso': 7915, 'margaretta': 5162, 'darci': 2127, 'combat': 1638, 'usa': 9186, 'battlefield': 734, 'prison': 6634, 'sabin': 7389, 'higgin': 3968, 'wife': 9500, 'salli': 7421, 'oneil': 5954, 'dungannon': 2649, 'car': 1247, 'guatemala': 3740, 'injustic': 4372, 'proxi': 6739, 'junta': 4614, 'el': 2738, 'salvador': 7425, 'america': 292, 'dead': 2152, 'destabilis': 2306, 'critiqu': 1995, 'complianc': 1702, 'cdsp': 1334, 'violat': 9298, 'tremend': 8783, 'light': 4910, 'compliment': 1706, 'ocallaghan': 5880, 'nail': 5611, 'jail': 4546, 'offend': 5907, 'lawabid': 4781, 'punish': 6765, 'fit': 3247, 'cso': 2043, 'releas': 7061, 'homicid': 4041, 'attend': 562, 'polic': 6461, 'forum': 3377, 'categori': 1312, 'theft': 8552, 'cameron': 1210, 'reilli': 7044, 'dunleer': 2652, 'yosuk': 9634, 'sasaki': 7442, 'dundalk': 2648, 'detect': 2315, 'adrian': 120, 'donoho': 2553, 'toni': 8691, 'golden': 3627, 'perpetr': 6304, 'lethal': 4867, 'knive': 4693, 'brute': 1093, 'ineffect': 4321, 'reoffend': 7114, 'deterr': 2321, 'match': 5196, 'tough': 8712, 'walk': 9353, 'taxi': 8461, 'driver': 2615, 'mulligan': 5561, 'iren': 4510, 'shane': 7663, 'ofarrel': 5903, 'relax': 7059, 'offenc': 5906, 'burglari': 1136, 'siochana': 7793, 'incid': 4263, 'specialis': 8005, 'apprehend': 445, 'file': 3205, 'director': 2393, 'prosecut': 6712, 'dpp': 2587, 'meantim': 5251, 'remand': 7083, 'zero': 9647, 'toler': 8683, 'crackdown': 1959, 'owe': 6125, 'incumb': 4290, 'gardai': 3520, 'cloverhil': 1567, 'buri': 1137, 'reexamin': 6996, 'smalltim': 7874, 'petti': 6332, 'sentenc': 7606, 'error': 2901, 'electron': 2751, 'monitor': 5487, 'safe': 7404, 'ruralproof': 7372, 'prolong': 6688, 'closur': 1563, 'station': 8122, 'coastal': 1579, 'goleen': 3630, 'adrigol': 121, 'ballinspittl': 668, 'reopen': 7115, 'stepasid': 8142, 'monday': 5478, 'allay': 238, 'thought': 8589, 'recur': 6975, 'scenario': 7481, 'easili': 2689, 'cri': 1983, 'man': 5131, 'farmyard': 3121, 'termonbarri': 8521, 'rout': 7347, 'river': 7282, 'weekli': 9422, 'redress': 6987, 'domest': 2539, 'prolif': 6686, 'presumpt': 6605, 'innoc': 4379, 'therein': 8563, 'aspect': 525, 'penal': 6272, 'implic': 4226, 'insuffici': 4417, 'convict': 1852, 'ludicr': 5062, 'corollari': 1880, 'seven': 7636, 'physic': 6358, 'presenc': 6596, 'repli': 7130, 'visibl': 9307, 'preoccupi': 6585, 'civilianis': 1504, 'roadmap': 7287, 'scrambler': 7505, 'park': 6193, 'antisoci': 391, 'behaviour': 776, 'gall': 3505, 'appar': 428, 'passag': 6214, 'reserv': 7156, 'content': 1819, 'tag': 8410, 'clarif': 1512, 'statut': 8125, 'efficaci': 2714, 'consolid': 1794, 'commenc': 1650, 'revis': 7217, 'item': 4534, 'explor': 3027, 'misdirect': 5413, 'iprt': 4503, 'talli': 8429, 'fetter': 3185, 'discret': 2428, 'judiciari': 4603, 'perceiv': 6284, 'sixteenth': 7805, 'recidiv': 6942, 'hue': 4096, 'stomach': 8161, 'judici': 4602, 'appoint': 441, 'commentari': 1654, 'offsid': 5918, 'societ': 7923, 'subsequ': 8251, 'overturn': 6117, 'flaw': 3275, 'notwithstand': 5819, 'embarrass': 2772, 'joke': 4588, 'farc': 3115, 'entitl': 2860, 'cautiou': 1326, 'litani': 4946, 'hast': 3859, 'repent': 7126, 'explanatori': 3023, 'memorandum': 5289, 'jim': 4571, 'interrog': 4459, 'metric': 5320, 'qualm': 6791, 'roost': 7328, 'inquiri': 4385, 'tragic': 8739, 'gentleman': 3562, 'curv': 2079, 'laxiti': 4789, 'phenomen': 6343, 'widespread': 9495, 'incomprehens': 4276, 'chequ': 1430, 'frequenc': 3434, 'parliamentari': 6196, 'reveal': 7210, 'interlink': 4447, 'persist': 6309, 'review': 7216, 'fun': 3469, 'nobrain': 5738, 'fitzgerald': 3248, 'former': 3367, 'flanagan': 3267, 'plate': 6415, 'assess': 533, 'valuabl': 9219, 'advis': 133, 'inconsist': 4280, 'liberti': 4885, 'minster': 5394, 'thor': 8584, 'overtim': 6115, 'announc': 343, 'phase': 6341, 'michael': 5328, 'healyra': 3887, 'eugen': 2930, 'curran': 2071, 'partli': 6208, 'gang': 3514, 'rove': 7349, 'custodi': 2081, 'simplest': 7769, 'kudo': 4708, 'felt': 3165, 'complaint': 1695, 'flag': 3261, 'neighbour': 5672, 'addict': 92, 'unemploy': 9029, 'staf': 8074, 'manipul': 5144, 'easier': 2687, 'trial': 8791, 'kneejerk': 4690, 'defect': 2210, 'heinou': 3925, 'traumat': 8768, 'upset': 9172, 'rummag': 7362, 'belong': 797, 'opportunist': 5989, 'cash': 1285, 'jewelleri': 4566, 'gold': 3626, 'heirloom': 3928, 'commission': 1659, 'john': 4580, 'odriscol': 5901, 'autumn': 599, 'drawn': 2599, 'sheer': 7681, 'burglar': 1135, 'bedrock': 755, 'alert': 228, 'collabor': 1611, 'fed': 3150, 'mirror': 5400, 'overhaul': 6087, 'outsmart': 6063, 'outdo': 6040, 'radio': 6832, 'veronica': 9257, 'guerin': 3741, 'speed': 8016, 'spectrum': 8013, 'boherbu': 949, 'newmarket': 5700, 'serial': 7621, 'feed': 3154, 'flat': 3271, 'frustrat': 3455, 'instil': 4411, 'bicycl': 850, 'stolen': 8160, 'shed': 7679, 'camera': 1209, 'ceas': 1340, 'kanturk': 4626, 'central': 1360, 'barrack': 712, 'mallow': 5122, 'duhallow': 2639, 'sprawl': 8049, 'prone': 6696, 'robberi': 7297, 'sellon': 7588, 'lawless': 4782, 'moynihan': 5543, 'breathnach': 1037, 'fraud': 3418, 'decept': 2180, 'extort': 3043, 'classifi': 1517, 'annualis': 346, 'sexual': 7650, 'rape': 6868, 'abstract': 37, 'steadili': 8133, 'await': 614, 'aggrav': 172, 'discretionari': 2429, 'cut': 2086, 'multifacet': 5568, 'primarili': 6623, 'rel': 7056, 'byrn': 1173, 'blunt': 930, 'ill': 4180, 'disabl': 2398, 'judg': 4599, 'lawmak': 4784, 'sherlock': 7691, 'baldli': 662, 'sourc': 7985, 'string': 8207, 'burgl': 1134, 'steal': 8134, 'pilfer': 6371, 'terroris': 8528, 'alarm': 218, 'confer': 1746, 'inadequ': 4250, 'shrug': 7733, 'origin': 6017, 'upper': 9169, 'echelon': 2696, 'guidelin': 3748, 'misus': 5442, 'drug': 2624, 'getoutofjail': 3583, 'claus': 1520, 'avoid': 612, 'constru': 1806, 'cite': 1493, 'judgment': 4601, 'omalley': 5940, 'bull': 1116, 'horn': 4063, 'tougher': 8713, 'criterion': 1992, 'yardstick': 9616, 'breakdown': 1030, 'kildar': 4663, 'north': 5799, 'wicklownorth': 9490, 'ballymor': 676, 'eustac': 2940, 'hollywood': 4031, 'dunlavin': 2651, 'expos': 3031, 'rhythm': 7234, 'awri': 623, 'broadford': 1074, 'northwest': 5804, 'tale': 8423, 'machineri': 5079, 'leixlip': 4845, 'enfield': 2831, 'edenderri': 2705, 'split': 8033, 'spokesman': 8037, 'recov': 6968, 'knock': 4694, 'window': 9516, 'squint': 8063, 'circul': 1486, 'licenc': 4889, 'imperfect': 4216, 'kept': 4651, 'sincer': 7778, 'aftermath': 159, 'remot': 7094, 'massag': 5191, 'drew': 2603, 'harri': 3847, 'grip': 3716, 'ashbourn': 520, 'dunboyn': 2647, 'laytown': 4794, 'kell': 4643, 'quiet': 6810, 'nobber': 5734, 'wishywashi': 9529, 'stanton': 8101, 'guidanc': 3747, 'fantast': 3112, 'mainli': 5099, 'plunder': 6442, 'maim': 5096, 'environment': 2872, 'victori': 9279, 'rossport': 7337, 'shell': 7686, 'line': 4923, 'fossil': 3379, 'fuel': 3458, 'burn': 1140, 'therebi': 8560, 'carbon': 1248, 'dioxid': 2388, 'emiss': 2785, 'atmospher': 555, 'decarbonis': 2174, 'scientist': 7493, 'timefram': 8647, 'academi': 45, 'engin': 2835, 'laid': 4728, 'energi': 2827, 'necessit': 5660, 'wealthi': 9407, 'prioritis': 6631, 'contributor': 1839, 'greenhous': 3702, 'agribusi': 185, 'fastest': 3128, 'journey': 4595, 'underinvest': 8992, 'bu': 1095, 'iarnrod': 4143, 'cutback': 2087, 'fare': 3117, 'buse': 1147, 'tram': 8744, 'pack': 6137, 'leftw': 4830, 'london': 4989, 'sharpli': 7674, 'revolutionis': 7225, 'halv': 3795, 'cie': 1481, 'lua': 5054, 'subvent': 8266, 'slash': 7833, 'environmentalist': 2873, 'unionist': 9070, 'reorganis': 7117, 'visitor': 9310, 'congratul': 1763, 'comrad': 1722, 'brid': 1049, 'smith': 7887, 'marker': 5173, 'detriment': 2323, 'wildlif': 9505, 'vein': 9243, 'slowli': 7865, 'eleph': 2753, 'denial': 2260, 'earth': 2684, 'tyndal': 8897, 'manchest': 5133, 'kevin': 4655, 'celsiu': 1346, 'pari': 6190, 'consumpt': 1810, 'richest': 7242, 'consum': 1809, 'pollut': 6476, 'reorder': 7116, 'prioriti': 6630, 'transform': 8753, 'threaten': 8599, 'fiddl': 3196, 'lipservic': 4937, 'hurtl': 4122, 'unanswer': 8944, 'temperatur': 8494, 'melt': 5282, 'ice': 4147, 'arctic': 472, 'occurr': 5888, 'weather': 9414, 'drought': 2621, 'flood': 3296, 'dim': 2382, 'distant': 2491, 'sixteen': 7804, 'warmest': 9371, 'immens': 4201, 'brilliantli': 1060, 'karl': 4628, 'marx': 5186, 'unnecessari': 9088, 'inevit': 4328, 'bee': 758, 'fli': 3287, 'insect': 4389, 'disappear': 2401, 'biodivers': 868, 'devast': 2327, 'barrier': 717, 'reef': 6992, 'bleach': 908, 'irrevers': 4522, 'canari': 1220, 'coal': 1575, 'purs': 6776, 'malaria': 5112, 'diarrhoea': 2353, 'famin': 3104, 'hurrican': 4119, 'ophelia': 5984, 'rain': 6845, 'indisput': 4315, 'activist': 82, 'perform': 6292, 'volum': 9324, 'eighth': 2725, 'oil': 5926, 'peat': 6260, 'trajectori': 8743, 'agrifood': 188, 'lag': 4724, 'assembl': 530, 'leadership': 4800, 'adapt': 90, 'leo': 4856, 'varadkar': 9228, 'laggard': 4726, 'anthropocen': 362, 'revolut': 7223, 'externalis': 3040, 'disconnect': 2418, 'cumul': 2060, 'friedrich': 3439, 'engel': 2834, 'mere': 5301, 'amelior': 289, 'outliv': 6051, 'starvat': 8110, 'transit': 8755, 'passiv': 6217, 'concis': 1732, 'petroleum': 6331, 'miner': 5381, 'scientif': 7492, 'mchugh': 5236, 'licens': 4890, 'usag': 9188, 'compon': 1707, 'mix': 5445, 'load': 4967, 'switch': 8378, 'relianc': 7069, 'specifi': 8009, 'pain': 6148, 'ramp': 6854, 'grave': 3687, 'tone': 8689, 'enunci': 2868, 'horizon': 4062, 'somewher': 7963, 'chair': 1380, 'consult': 1808, 'verg': 9253, 'offshor': 5917, 'wind': 9515, 'arklow': 492, 'road': 7285, 'fell': 3162, 'diesel': 2364, 'fume': 3468, 'alternativelyfuel': 273, 'farmer': 3119, 'cattl': 1319, 'feedin': 3157, 'tariff': 8450, 'solar': 7935, 'pointless': 6454, 'immor': 4205, 'rehears': 7040, 'intermitt': 4449, 'bioga': 869, 'copi': 1868, 'microgener': 5334, 'rooftop': 7326, 'panel': 6165, 'wide': 9491, 'varieti': 9231, 'hydro': 4128, 'wave': 9396, 'tidal': 8631, 'eamon': 2672, 'ryan': 7383, 'mixtur': 5447, 'interconnect': 4435, 'backup': 643, 'sun': 8300, 'abort': 22, 'export': 3030, 'selfsuffici': 7582, 'net': 5685, 'vagu': 9212, 'mitig': 5444, 'esb': 2906, 'trocair': 8814, 'solid': 7941, 'exceed': 2978, 'portfolio': 6497, 'network': 5688, 'infrastructur': 4354, 'limbo': 4920, 'intrins': 4473, 'petrochem': 6329, 'plastic': 6414, 'sake': 7414, 'onward': 5976, 'harder': 3828, 'voic': 9319, 'child': 1437, 'love': 5033, 'slant': 7831, 'preindustri': 6575, 'annum': 349, 'subsaharan': 8247, 'subsist': 8257, 'tigray': 8641, 'ethiopia': 2925, 'causal': 1324, 'laudabl': 4772, 'excel': 2979, 'brief': 1051, 'analyst': 313, 'strand': 8184, 'worthless': 9582, 'governor': 3650, 'england': 2836, 'carney': 1267, 'scholar': 7487, 'fiduciari': 3198, 'liabl': 4877, 'litig': 4951, 'zeitgeist': 9646, 'divest': 2512, 'instrument': 4416, 'enclav': 2807, 'inher': 4361, 'nonpartisan': 5779, 'obfusc': 5857, 'throw': 8616, 'mud': 5554, 'bust': 1155, 'jame': 4548, 'attitud': 565, 'grandchildren': 3664, 'unimagin': 9061, 'liter': 4947, 'hypothet': 4138, 'sea': 7525, 'mm': 5450, 'crack': 1958, 'larsen': 4756, 'shelf': 7685, 'lip': 4936, 'special': 8004, 'communityl': 1674, 'forest': 3354, 'electrifi': 2750, 'fleet': 3280, 'mick': 5331, 'tangibl': 8437, 'stuff': 8229, 'ban': 685, 'frack': 3401, 'clock': 1550, 'ardnacrusha': 478, 'hydroelectr': 4130, 'capitalist': 1244, 'backdrop': 632, 'bottom': 991, 'lunaci': 5066, 'frontier': 3448, 'plc': 6422, 'drill': 2606, 'coast': 1578, 'onshor': 5968, 'naiveti': 5614, 'blast': 904, 'daili': 2106, 'dolphin': 2537, 'whale': 9452, 'porpois': 6493, 'zooplankton': 9651, 'ecosystem': 2703, 'spill': 8025, 'forerunn': 3348, 'draft': 2590, 'methodolog': 5317, 'herd': 3952, 'energyintens': 2829, 'embrac': 2776, 'biomass': 871, 'diversifi': 2509, 'tourism': 8715, 'sport': 8043, 'guzzl': 3765, 'rail': 6842, 'spread': 8050, 'handl': 3805, 'intergovernment': 4445, 'ipcc': 4501, 'scottish': 7501, 'co': 1574, 'scienc': 7491, 'comfort': 1643, 'televis': 8489, 'handi': 3803, 'distanc': 2490, 'advisori': 135, 'professor': 6670, 'stimul': 8153, 'takeup': 8421, 'conor': 1776, 'skehan': 7811, 'denier': 2261, 'phil': 6346, 'hogan': 4019, 'illinform': 4184, 'diagram': 2346, 'disprov': 2474, 'climatologist': 1543, 'polar': 6458, 'fault': 3138, 'tribe': 8793, 'dross': 2620, 'catch': 1307, 'sharp': 7673, 'romant': 7319, 'log': 4982, 'uninhabit': 9064, 'dramat': 2595, 'dispens': 2467, 'sixth': 7806, 'extinct': 3041, 'anim': 337, 'biolog': 870, 'annihil': 341, 'voluntarili': 9327, 'carbonbas': 1249, 'prove': 6728, 'impetu': 4221, 'porcupin': 6492, 'basin': 726, 'shore': 7709, 'leadup': 4802, 'sweeney': 8368, 'rhetor': 7232, 'startl': 8107, 'elit': 2758, 'odd': 5893, 'emit': 2786, 'larger': 4753, 'manmad': 5145, 'kyoto': 4710, 'settl': 7632, 'unwant': 9151, 'harvey': 3855, 'irma': 4514, 'maria': 5166, 'southeast': 7987, 'undergo': 8988, 'heatwav': 3906, 'lucif': 5056, 'wildfir': 9503, 'rage': 6838, 'california': 1200, 'summit': 8297, 'shortag': 7711, 'illus': 4188, 'grew': 3707, 'profoundli': 6677, 'passion': 6216, 'costa': 1904, 'rica': 7238, 'beliz': 791, 'bellami': 793, 'foster': 3381, 'vest': 9263, 'fossilfuel': 3380, 'obtain': 5876, 'greed': 3697, 'courag': 1939, 'kyne': 4709, 'unrealist': 9110, 'postur': 6520, 'gestur': 3579, 'bare': 707, 'accumul': 63, 'gesturepolit': 3580, 'magic': 5091, 'bonn': 961, 'tent': 8512, 'plant': 6412, 'tree': 8781, 'clean': 1523, 'offset': 5916, 'breakthrough': 1034, 'backsid': 640, 'fool': 3325, 'justin': 4622, 'trudeau': 8832, 'moderntyp': 5461, 'dooley': 2557, 'tweet': 8875, 'snowfal': 7913, 'automat': 595, 'dam': 2110, 'withstand': 9539, 'oneinyear': 5955, 'cross': 2005, 'liffey': 4908, 'poulaphouca': 6526, 'reoccur': 7113, 'adjac': 100, 'advers': 127, 'brian': 1044, 'bold': 953, 'elon': 2762, 'musk': 5595, 'creativ': 1972, 'endeavour': 2818, 'nonelectr': 5763, 'leadin': 4801, 'spain': 7995, 'chairman': 1381, 'hildegard': 3991, 'naughton': 5638, 'crossparti': 2017, 'incur': 4291, 'flippant': 3292, 'hook': 4054, 'esteem': 2919, 'attach': 558, 'ineffici': 4322, 'extract': 3046, 'unsuccess': 9134, 'seri': 7620, 'revenu': 7212, 'corrib': 1888, 'loyalti': 5051, 'calcul': 1199, 'nonrenew': 5786, 'understood': 9008, 'reactor': 6899, 'interconnector': 4436, 'caveat': 1331, 'tend': 8505, 'finit': 3228, 'grid': 3709, 'surmount': 8338, 'backlash': 636, 'endear': 2817, 'consciou': 1780, 'gaa': 3493, 'hall': 3790, 'plug': 6439, 'discount': 2422, 'mile': 5360, 'atlant': 554, 'ocean': 5889, 'tap': 8444, 'scene': 7482, 'holist': 4027, 'coordin': 1865, 'multilater': 5571, 'wholeofgovern': 9480, 'finalis': 3212, 'dccae': 2149, 'tonn': 8693, 'toll': 8685, 'ultralow': 8923, 'rigor': 7267, 'float': 3294, 'mid': 5336, 'ulster': 8919, 'provinc': 6732, 'queen': 6803, 'letterkenni': 4870, 'lyit': 5071, 'interreg': 4458, 'scotland': 7500, 'nevertheless': 5691, 'mayo': 5217, 'bay': 736, 'lir': 4939, 'aggreg': 173, 'envisag': 2875, 'flexibl': 3286, 'freight': 3432, 'petrol': 6330, 'aviat': 610, 'focuss': 3312, 'mode': 5455, 'afield': 153, 'par': 6172, 'stark': 8103, 'wakeup': 9351, 'storag': 8172, 'rollout': 7316, 'coldli': 1607, 'setasid': 7631, 'sean': 7531, 'chairperson': 1383, 'broad': 1068, 'pro': 6646, 'allparti': 255, 'cleaner': 1524, 'greener': 3701, 'unfold': 9046, 'hottest': 4081, 'warmer': 9370, 'boston': 984, 'cape': 1241, 'inhabit': 4360, 'outbreak': 6036, 'lifethreaten': 4906, 'season': 7535, 'usual': 9196, 'greatest': 3694, 'neglig': 5670, 'pattern': 6235, 'characteris': 1399, 'combust': 1640, 'drastic': 2596, 'upon': 9168, 'turbin': 8859, 'foresight': 3353, 'supplysid': 8323, 'carbonneutr': 1250, 'tar': 8447, 'alberta': 221, 'canada': 1217, 'factori': 3075, 'dirtier': 2397, 'anxiou': 405, 'shi': 7693, 'smaller': 7872, 'overcom': 6073, 'suddenli': 8275, 'lowcarbon': 5036, 'heed': 3920, 'forg': 3358, 'dirti': 2396, 'unspoil': 9131, 'countrysid': 1936, 'hub': 4094, 'coastlin': 1580, 'wellsuit': 9443, 'workforc': 9563, 'tricki': 8797, 'seai': 7526, 'maximis': 5210, 'exchang': 2983, 'defin': 2219, 'cuirim': 2050, 'roimh': 7310, 'diospoireacht': 2387, 'thabhachtach': 8540, 'energyrel': 2830, 'energyeffici': 2828, 'norway': 5805, 'netherland': 5687, 'denmark': 2263, 'ambiti': 287, 'postcorrib': 6512, 'indigen': 4308, 'department': 2272, 'senat': 7598, 'clerk': 1534, 'agreeabl': 183, 'nucleargener': 5836, 'moratorium': 5507, 'stanley': 8100, 'henc': 3944, 'rational': 6888, 'preempt': 6567, 'copping': 1873, 'multimillion': 5573, 'conglomer': 1761, 'pontoon': 6478, 'friday': 3438, 'belmullet': 796, 'barrel': 713, 'medicin': 5268, 'bitumen': 884, 'parachut': 6173, 'glass': 3603, 'golf': 3631, 'ball': 664, 'fish': 3244, 'rod': 7305, 'deterg': 2318, 'candl': 1224, 'card': 1254, 'sunglass': 8304, 'guitar': 3754, 'shoe': 7705, 'polish': 6468, 'contact': 1811, 'lens': 4855, 'toothpast': 8699, 'antifreez': 381, 'array': 501, 'hydrocarbon': 4129, 'discov': 2425, 'taker': 8420, 'grace': 3655, 'jet': 4565, 'hydrogen': 4131, 'endors': 2823, 'thoma': 8583, 'custodian': 2082, 'birdwatch': 877, 'taisc': 8415, 'hedg': 3916, 'enthusiast': 2856, 'tidi': 8633, 'vehicular': 9241, 'width': 9498, 'growth': 3731, 'upsurg': 9176, 'vexati': 9267, 'trim': 8803, 'roadsid': 7289, 'moistur': 5469, 'hedgerow': 3918, 'obstruct': 5875, 'onu': 5975, 'liabil': 4876, 'denud': 2270, 'roadway': 7292, 'landown': 4740, 'heritag': 3954, 'frontag': 3447, 'jog': 4579, 'truck': 8831, 'protrud': 6725, 'fatal': 3132, 'gla': 3597, 'planner': 6411, 'rep': 7118, 'junction': 4610, 'hedgecut': 3917, 'method': 5316, 'legalis': 4834, 'interf': 4440, 'bird': 875, 'propag': 6700, 'bestlaid': 826, 'mice': 5327, 'subscrib': 8248, 'catherin': 1316, 'cognis': 1595, 'lobbi': 4970, 'waterway': 9395, 'canal': 1219, 'moor': 5500, 'barrow': 719, 'navig': 5641, 'grand': 3662, 'royal': 7351, 'vacanc': 9207, 'unserv': 9123, 'soft': 7932, 'reappli': 6918, 'barg': 708, 'dock': 2521, 'boat': 936, 'bylaw': 1170, 'pension': 6280, 'contributori': 1840, 'followup': 3322, 'warrant': 9377, 'upland': 9166, 'upgrad': 9162, 'veget': 9238, 'uncultiv': 8976, 'ditch': 2505, 'august': 579, 'inclus': 4269, 'exempt': 2993, 'pursuant': 6778, 'signatur': 7750, 'formal': 3365, 'speci': 8003, 'baselin': 722, 'laps': 4750, 'underresourc': 9002, 'occupi': 5886, 'nest': 5684, 'egg': 2717, 'breed': 1038, 'graze': 3690, 'scrub': 7517, 'habitat': 3771, 'stock': 8158, 'shelter': 7687, 'inelig': 4323, 'imping': 4222, 'conveni': 1846, 'compel': 1687, 'compli': 1701, 'nullifi': 5841, 'yearround': 9622, 'selfdefinit': 7573, 'ministeri': 5390, 'unenforc': 9032, 'gaeltacht': 3501, 'npw': 5828, 'selfdefin': 7572, 'princip': 6625, 'hill': 3992, 'conserv': 1788, 'grous': 3727, 'nightjar': 5720, 'twite': 8889, 'ouzel': 6069, 'eagl': 2671, 'leed': 4827, 'soil': 7934, 'degrad': 2225, 'freedom': 3425, 'iwt': 4540, 'crosscompli': 2009, 'extens': 3036, 'conscious': 1781, 'therefrom': 8562, 'landscap': 4741, 'recreat': 6972, 'amen': 290, 'reward': 7227, 'livelihood': 4958, 'peatland': 6261, 'endang': 2815, 'downstream': 2582, 'complementari': 1698, 'tailor': 8412, 'neil': 5674, 'foulk': 3384, 'antibiodivers': 368, 'reintroduc': 7050, 'jane': 4550, 'seller': 7586, 'loretta': 5015, 'neari': 5652, 'beekeep': 762, 'honey': 4048, 'pollin': 6475, 'flower': 3303, 'pollen': 6474, 'nectar': 5662, 'grub': 3732, 'vergeditch': 9254, 'blackberri': 888, 'rosebay': 7334, 'ivi': 4538, 'meadowsweet': 5243, 'gors': 3642, 'willow': 9510, 'hazel': 3873, 'alder': 225, 'revalu': 7208, 'ifa': 4169, 'scratch': 7509, 'fitzmauric': 3249, 'regret': 7028, 'versu': 9261, 'divid': 2513, 'conquer': 1777, 'chosen': 1460, 'imag': 4191, 'wild': 9502, 'fortun': 3376, 'twoyear': 8896, 'elaps': 2742, 'staff': 8075, 'tempt': 8500, 'nearest': 5650, 'ha': 3769, 'bogland': 946, 'forestri': 3355, 'pardon': 6187, 'lightli': 4911, 'coillt': 1602, 'apport': 443, 'blame': 898, 'crazi': 1967, 'intertwin': 4462, 'arguabl': 487, 'pretext': 6610, 'besid': 822, 'van': 9225, 'shunt': 7735, 'sevenseat': 7638, 'ft': 3456, 'injur': 4370, 'paramount': 6182, 'overgrown': 6083, 'deem': 2200, 'hazard': 3872, 'cosign': 1899, 'vigil': 9287, 'joe': 4578, 'heather': 3904, 'humphrey': 4108, 'ross': 7336, 'motiv': 5522, 'glare': 3601, 'art': 508, 'input': 4383, 'exagger': 2973, 'malta': 5127, 'nativ': 5632, 'woodland': 9555, 'wale': 9352, 'delic': 2237, 'allireland': 251, 'frequent': 3435, 'berri': 818, 'uncut': 8977, 'sequest': 7617, 'eros': 2898, 'corridor': 1889, 'retrograd': 7200, 'pseudoscientif': 6744, 'egglay': 2718, 'nationwid': 5631, 'railroad': 6843, 'impli': 4225, 'reciproc': 6945, 'surprisingli': 8342, 'laughabl': 4774, 'lumber': 5063, 'wholesal': 9482, 'ungovern': 9051, 'derog': 2289, 'purport': 6772, 'guardian': 3739, 'servant': 7626, 'lobbyist': 4971, 'ms': 5547, 'shirley': 7700, 'clerkin': 1535, 'monaghan': 5477, 'bud': 1101, 'burst': 1143, 'habit': 3770, 'brood': 1082, 'blanket': 902, 'remit': 7092, 'alien': 233, 'petit': 6326, 'scrap': 7506, 'intens': 4430, 'ecolog': 2699, 'fabric': 3058, 'map': 5156, 'older': 5933, 'shrub': 7732, 'hawthorn': 3869, 'elder': 2744, 'blackthorn': 892, 'commonli': 1666, 'privet': 6640, 'holli': 4029, 'wych': 9611, 'elm': 2761, 'fisheri': 3245, 'firmli': 3238, 'valid': 9215, 'hugescal': 4099, 'outofcontrol': 6054, 'chief': 1436, 'fergal': 3175, 'leami': 4809, 'largescal': 4754, 'blaze': 907, 'cloosh': 1557, 'correctli': 1885, 'techniqu': 8476, 'benefici': 805, 'irrespons': 4521, 'feet': 3159, 'nonfarm': 5768, 'thug': 8620, 'unhelp': 9056, 'practis': 6538, 'sevenday': 7637, 'irrelev': 4519, 'miser': 5415, 'uncontrol': 8972, 'char': 1397, 'lifeless': 4899, 'burnt': 1141, 'sheep': 7680, 'lamb': 4733, 'bog': 943, 'veneer': 9245, 'undid': 9019, 'interparti': 4455, 'fauna': 3140, 'flora': 3299, 'broadli': 1075, 'blank': 901, 'endlessli': 2822, 'collat': 1614, 'underli': 8993, 'underresearch': 9001, 'piecem': 6367, 'hell': 3933, 'southwest': 7989, 'disarray': 2406, 'overgrowth': 6084, 'cabl': 1182, 'pole': 6460, 'insid': 4393, 'gust': 3760, 'kmh': 4688, 'clue': 1569, 'prais': 6542, 'fabul': 3059, 'maker': 5108, 'jump': 4607, 'lowertown': 5039, 'toormor': 8696, 'rathoora': 6883, 'cloghankilleen': 1551, 'mizen': 5448, 'crookhaven': 2003, 'caher': 1190, 'arduslough': 481, 'novemb': 5824, 'torn': 8705, 'asund': 546, 'farcic': 3116, 'strict': 8203, 'drinkdriv': 2611, 'portlaois': 6499, 'inferno': 4341, 'retrospect': 7201, 'wet': 9450, 'icsa': 4151, 'rid': 7246, 'muintir': 5558, 'diarmuid': 2352, 'cronin': 2001, 'stakehold': 8085, 'unbeknownst': 8952, 'mess': 5308, 'thrill': 8611, 'briar': 1045, 'bush': 1148, 'embed': 2774, 'commonsens': 1668, 'refut': 7015, 'caucu': 1320, 'leinster': 4841, 'cavanmonaghan': 1329, 'cavan': 1328, 'danni': 2123, 'obstacl': 5871, 'careless': 1259, 'oncom': 5946, 'proportion': 6708, 'geograph': 3568, 'dig': 2371, 'factbas': 3070, 'overdo': 6077, 'remiss': 7091, 'parochi': 6199, 'flagship': 3263, 'odowd': 5900, 'nurtur': 5847, 'ann': 338, 'mari': 5165, 'delight': 2238, 'confin': 1752, 'remark': 7084, 'expir': 3019, 'climact': 1541, 'slurri': 7869, 'runoff': 7368, 'husbandri': 4124, 'club': 1568, 'ardfinnan': 477, 'ballybacon': 670, 'grang': 3672, 'newcastl': 5695, 'restock': 7180, 'dri': 2604, 'turf': 8861, 'prevail': 6612, 'nanni': 5620, 'rsa': 7353, 'soloheadbeg': 7948, 'celebr': 1344, 'incorrectli': 4284, 'tii': 8642, 'baloney': 680, 'audienc': 573, 'pope': 6487, 'faster': 3127, 'plenti': 6430, 'tractor': 8730, 'accompani': 56, 'kid': 4658, 'symptom': 8386, 'hardli': 3833, 'bike': 856, 'foolish': 3327, 'briefcas': 1052, 'icmsa': 4150, 'contractor': 1830, 'naa': 5609, 'sham': 7659, 'withdrew': 9533, 'amok': 301, 'leithrea': 4843, 'volunt': 9325, 'ladi': 4721, 'contempt': 1817, 'reawaken': 6925, 'signpost': 7754, 'lorri': 5016, 'nose': 5806, 'quango': 6792, 'salut': 7424, 'furz': 3487, 'snipe': 7905, 'swan': 8361, 'beehiv': 760, 'fenc': 3171, 'idl': 4166, 'semblanc': 7589, 'minion': 5388, 'cromwel': 2000, 'kowtow': 4705, 'tip': 8659, 'hat': 3862, 'homegrown': 4035, 'flash': 3269, 'badg': 647, 'futil': 3489, 'mountain': 5534, 'fortnight': 3374, 'rear': 6920, 'lunat': 5067, 'asylum': 547, 'mother': 5520, 'father': 3135, 'son': 7964, 'collaps': 1612, 'oblivion': 5863, 'fat': 3131, 'cat': 1302, 'anarchi': 316, 'disquiet': 2477, 'outrag': 6058, 'reconsid': 6961, 'unprofession': 9100, 'knockon': 4698, 'birdbreed': 876, 'weaken': 9403, 'yellowhamm': 9625, 'chick': 1435, 'barn': 711, 'owl': 6126, 'curlew': 2070, 'pair': 6150, 'overst': 6110, 'butterfli': 1160, 'shortsight': 7719, 'selfdef': 7571, 'outcri': 6038, 'crop': 2004, 'oilse': 5927, 'appl': 435, 'pea': 6251, 'bean': 741, 'strawberri': 8192, 'raspberri': 6878, 'clover': 1566, 'saturday': 7450, 'alan': 217, 'matthew': 5205, 'meatintens': 5257, 'diet': 2366, 'healthi': 3885, 'winwin': 9521, 'barren': 714, 'diseas': 2434, 'poison': 6455, 'agrochem': 191, 'vet': 9264, 'architectur': 471, 'monk': 5488, 'beehiveshap': 761, 'earliest': 2677, 'bumblebe': 1124, 'pool': 6480, 'conjunct': 1767, 'botan': 986, 'exhibit': 2997, 'literatur': 4949, 'regress': 7027, 'selfregul': 7579, 'selfinterpret': 7578, 'joinedup': 4584, 'alicemari': 232, 'portion': 6498, 'mainten': 5103, 'agrienviron': 187, 'box': 999, 'further': 3484, 'privatis': 6639, 'dweller': 2666, 'lifestyl': 4905, 'tellingli': 8492, 'satisfactori': 7448, 'user': 9192, 'updat': 9160, 'houseboat': 4086, 'whenev': 9461, 'daytoday': 2147, 'draconian': 2589, 'onthespot': 5973, 'domain': 2538, 'akin': 214, 'harsh': 3850, 'unwarr': 9152, 'punit': 6766, 'explan': 3022, 'regrett': 7029, 'spring': 8052, 'toibin': 8678, 'nowaday': 5825, 'motorway': 5530, 'cuiv': 2051, 'compris': 1712, 'inexcus': 4329, 'piti': 6392, 'protract': 6724, 'grass': 3681, 'tantrum': 8441, 'rigmarol': 7266, 'hen': 3943, 'harrier': 3848, 'dogood': 2532, 'mink': 5392, 'uneduc': 9027, 'coop': 1862, 'dedesign': 2194, 'tier': 8635, 'setup': 7634, 'accur': 64, 'wherev': 9464, 'bore': 975, 'badger': 648, 'wood': 9552, 'swipe': 8377, 'ash': 518, 'dieback': 2363, 'proof': 6698, 'wire': 9523, 'whitethorn': 9475, 'overhang': 6086, 'bluntli': 931, 'myth': 5605, 'troubl': 8826, 'branch': 1015, 'bullyrag': 1121, 'connemara': 1772, 'willynilli': 9512, 'regener': 7019, 'townland': 8720, 'malici': 5120, 'disingenu': 2452, 'pupil': 6767, 'classroom': 1518, 'ram': 6850, 'throat': 8613, 'in': 4245, 'out': 6033, 'baton': 730, 'applaud': 436, 'adam': 88, 'domin': 2541, 'pleasur': 6428, 'laneway': 4743, 'pathway': 6226, 'railway': 6844, 'path': 6223, 'salte': 7423, 'photograph': 6354, 'glen': 3606, 'antrim': 403, 'beara': 743, 'walkway': 9355, 'camino': 1211, 'reproduct': 7141, 'reproduc': 7140, 'chain': 1379, 'plover': 6436, 'redbreast': 6978, 'goos': 3640, 'meadow': 5242, 'pipit': 6385, 'creatur': 1974, 'vigor': 9288, 'disregard': 2478, 'countenanc': 1922, 'merit': 5304, 'bunch': 1125, 'spate': 7999, 'minuscul': 5396, 'lax': 4788, 'handsoff': 3810, 'hound': 4082, 'burren': 1142, 'buyin': 1164, 'lowland': 5044, 'admhaim': 106, 'bhfuil': 840, 'ei': 2722, 'eisteacht': 2735, 'le': 4797, 'horaid': 4061, 'bhrea': 845, 'gcomhaonta': 3540, 'ach': 67, 'doigh': 2534, 'liom': 4934, 'nuair': 5832, 'deireann': 2230, 'si': 7738, 'loit': 4988, 'hoidhreachta': 4021, 'breatha': 1036, 'ata': 548, 'againn': 164, 'sa': 7387, 'tir': 8663, 'aontaim': 416, 'bunphrionsab': 1127, 'nith': 5732, 'scriosadh': 7514, 'mormhor': 5511, 'thaobh': 8545, 'de': 2151, 'weaker': 9404, 'dynam': 2668, 'dilapid': 2376, 'inventori': 4485, 'psychiatr': 6747, 'redbrick': 6979, 'overlook': 6097, 'lee': 4826, 'exact': 2971, 'interact': 4432, 'broadest': 1073, 'geographi': 3569, 'industrialis': 4320, 'civilis': 1505, 'creep': 1980, 'retain': 7189, 'rich': 7239, 'opw': 6001, 'betterfund': 832, 'heartfelt': 3899, 'demolish': 2255, 'archaeolog': 468, 'drogheda': 2617, 'grammar': 3661, 'rebuilt': 6932, 'handmad': 3806, 'footprint': 3333, 'vari': 9229, 'belittl': 790, 'ipad': 4500, 'mediaev': 5260, 'festiv': 3184, 'pertain': 6317, 'authent': 588, 'enrich': 2844, 'immers': 4202, 'sceneri': 7483, 'bless': 912, 'sightseer': 7746, 'seeker': 7553, 'affluent': 149, 'mainland': 5098, 'fought': 3382, 'conservationist': 1790, 'sapper': 7440, 'phoenix': 6350, 'threedimension': 8602, 'digit': 2373, 'museum': 5593, 'video': 9281, 'internet': 4452, 'uncommon': 8964, 'annagassan': 339, 'vike': 9290, 'disturb': 2503, 'featur': 3148, 'linn': 4933, 'duachail': 2629, 'devis': 2334, 'enumer': 2867, 'guillotin': 3750, 'disrespect': 2479, 'guis': 3753, 'mischief': 5406, 'fraudul': 3419, 'steer': 8139, 'liberalis': 4884, 'arbit': 460, 'selfregulatori': 7580, 'horrifi': 4067, 'lesser': 4863, 'easi': 2686, 'eastern': 2691, 'sympathi': 8384, 'highprofil': 3983, 'angst': 335, 'inconveni': 4281, 'interestingli': 4439, 'claptrap': 1510, 'nugget': 5838, 'thrown': 8617, 'notifi': 5814, 'hassl': 3858, 'dot': 2567, 'distil': 2493, 'remaind': 7082, 'bron': 1081, 'orm': 6018, 'nach': 5610, 'raibh': 6839, 'anseo': 355, 'inn': 4375, 'heisteacht': 3930, 'gcead': 3537, 'chuid': 1468, 'doraid': 2562, 'mar': 5157, 'tharla': 8547, 'bhi': 842, 'cupla': 2062, 'la': 4711, 'bheith': 839, 'lathair': 4767, 'delet': 2234, 'smarter': 7877, 'flail': 3264, 'boreen': 976, 'tertiari': 8530, 'print': 6628, 'hurri': 4118, 'destock': 2309, 'woodi': 9554, 'aros': 497, 'valley': 9216, 'timber': 8645, 'loscadh': 5017, 'sleibh': 7844, 'anton': 402, 'raifteiri': 6841, 'poem': 6450, 'anach': 307, 'cuan': 2046, 'tragedi': 8738, 'befel': 764, 'annaghdown': 340, 'scalladh': 7464, 'cleibh': 1531, 'pristin': 6635, 'corner': 1878, 'unusu': 9148, 'overlegisl': 6094, 'misunderstand': 5440, 'antiheritag': 382, 'assign': 535, 'heap': 3889, 'background': 635, 'vehement': 9239, 'aback': 2, 'woken': 9544, 'graviti': 3689, 'alight': 234, 'lake': 4732, 'gouganbarra': 3646, 'glow': 3616, 'roar': 7295, 'flame': 3266, 'rathdown': 6881, 'ticknock': 8630, 'vandal': 9226, 'disincent': 2450, 'arsonist': 507, 'rigour': 7268, 'fuell': 3459, 'tirelessli': 8665, 'wanton': 9363, 'heel': 3921, 'prehistor': 6574, 'obliter': 5861, 'sink': 7786, 'reap': 6917, 'havoc': 3868, 'alex': 229, 'copland': 1869, 'straw': 8191, 'erad': 2893, 'decim': 2182, 'sadden': 7401, 'scant': 7471, 'nonparti': 5778, 'lazi': 4795, 'pander': 6163, 'farreach': 3122, 'sabotag': 7391, 'bent': 812, 'linear': 4924, 'mammal': 5129, 'bumbl': 1123, 'gerri': 3577, 'blossom': 923, 'slip': 7855, 'insidi': 4394, 'convolut': 1854, 'stipul': 8155, 'freeforal': 3426, 'breaker': 1031, 'ruin': 7360, 'withdraw': 9531, 'plea': 6423, 'obstin': 5874, 'deaf': 2154, 'impervi': 4220, 'immun': 4207, 'wreak': 9591, 'proheritag': 6681, 'quash': 6799, 'seiz': 7561, 'shackl': 7651, 'bin': 864, 'aflam': 154, 'mo': 5451, 'nair': 5612, 'eman': 2768, 'niamh': 5713, 'smyth': 7895, 'belturbet': 800, 'castl': 1294, 'saunderson': 7453, 'apac': 418, 'harmonis': 3845, 'diverg': 2507, 'unjustifi': 9076, 'heavier': 3909, 'hedgetrim': 3919, 'compulsori': 1716, 'byroad': 1174, 'motorist': 5528, 'manpow': 5151, 'warmli': 9372, 'indiffer': 4307, 'indiscrimin': 4313, 'unreason': 9111, 'rotat': 7339, 'liais': 4879, 'essenc': 2915, 'arisen': 491, 'ran': 6856, 'westport': 9449, 'youghal': 9635, 'listowel': 4945, 'maith': 5105, 'agaibh': 163, 'keenli': 4638, 'pragmat': 6541, 'elimin': 2757, 'refocu': 7004, 'nonremuner': 5785, 'composit': 1708, 'quorum': 6817, 'refocus': 7005, 'discharg': 2412, 'schedul': 7485, 'gender': 3551, 'femal': 3166, 'male': 5116, 'inland': 4373, 'britishirish': 1067, 'northsouth': 5803, 'ern': 2896, 'bann': 697, 'shannonern': 7666, 'berth': 819, 'buoy': 1129, 'fee': 3152, 'regulationmak': 7034, 'annul': 348, 'fixedpay': 3259, 'unchang': 8959, 'fixedcharg': 3258, 'contravent': 1837, 'summarili': 8292, 'underlin': 8994, 'sunset': 8306, 'relevantli': 7066, 'agat': 166, 'cullinan': 2054, 'resum': 7186, 'seat': 7536, 'sui': 8284, 'sio': 7791, 'niall': 5712, 'favourit': 3142, 'eightminut': 2726, 'slot': 7861, 'matti': 5206, 'mcgrath': 5233, 'straightforward': 8180, 'induc': 4318, 'intimid': 4468, 'unscrupul': 9121, 'antiunion': 397, 'perfectli': 6291, 'unannounc': 8943, 'prearrang': 6547, 'beret': 816, 'humve': 4109, 'fathom': 3136, 'rectifi': 6974, 'procur': 6664, 'recours': 6967, 'frighten': 3443, 'occasion': 5884, 'fifth': 3201, 'anniversari': 342, 'vita': 9312, 'cortex': 1893, 'sitin': 7800, 'bench': 802, 'redund': 6990, 'gaellabour': 3500, 'famous': 3106, 'republ': 7143, 'tenet': 8509, 'workplac': 9567, 'bargain': 709, 'voluntari': 9326, 'bulli': 1119, 'harass': 3823, 'infam': 4334, 'ryanair': 7384, 'geoghegan': 3567, 'nonunionis': 5791, 'employe': 2799, 'grossli': 3720, 'secretari': 7545, 'dougla': 2573, 'routin': 7348, 'shop': 7708, 'floor': 3298, 'australian': 586, 'zealand': 9644, 'harmoni': 3844, 'cart': 1277, 'intoler': 4469, 'precari': 6551, 'ifandwhen': 4170, 'contract': 1829, 'retail': 7188, 'dunn': 2654, 'disciplinari': 2414, 'tesco': 8531, 'unilater': 9060, 'pre': 6545, 'thin': 8568, 'wedg': 9416, 'fals': 3097, 'picket': 6362, 'withdrawn': 9532, 'vindict': 9296, 'lowhour': 5041, 'zerohour': 9648, 'cloak': 1549, 'synonym': 8391, 'panacea': 6161, 'pierc': 6368, 'veil': 9242, 'insolv': 4400, 'cosset': 1902, 'condition': 1741, 'congress': 1764, 'despic': 2301, 'bia': 847, 'oconnor': 5891, 'canney': 1227, 'victimis': 9278, 'barrist': 718, 'outdon': 6041, 'cleri': 1532, 'lagan': 4725, 'talktalk': 8426, 'waterford': 9391, 'crystal': 2038, 'ambigu': 285, 'babi': 626, 'bath': 729, 'brass': 1017, 'feign': 3160, 'secret': 7544, 'australia': 585, 'dialogu': 2347, 'ictu': 4153, 'differenti': 2368, 'unionis': 9069, 'behav': 775, 'overlap': 6092, 'muddi': 5555, 'manifest': 5141, 'trampl': 8745, 'spare': 7997, 'swing': 8376, 'newli': 5699, 'parttim': 6211, 'minimumhour': 5386, 'nonunion': 5790, 'outlet': 6048, 'photoopportun': 6356, 'abstain': 36, 'antiwork': 401, 'revolutionari': 7224, 'kelli': 4645, 'charm': 1407, 'coalfac': 1576, 'kitchen': 4685, 'pub': 6753, 'terrifi': 8525, 'boss': 983, 'helper': 3938, 'asham': 519, 'petrifi': 6328, 'marvel': 5185, 'lackey': 4717, 'multibillion': 5565, 'dollar': 2536, 'walmart': 9359, 'coor': 1864, 'cocacola': 1582, 'unionbust': 9068, 'william': 9508, 'brand': 1016, 'conjur': 1768, 'wriggl': 9593, 'canteen': 1230, 'rip': 7272, 'nightli': 5721, 'ballot': 669, 'giant': 3587, 'eversh': 2956, 'sutherland': 8358, 'lawyer': 4787, 'rocket': 7303, 'foothold': 3331, 'buster': 1156, 'flourish': 3300, 'reagan': 6907, 'fdi': 3144, 'donnelli': 2551, 'republican': 7144, 'outlaw': 6047, 'checkoff': 1418, 'payslip': 6249, 'teeu': 8484, 'oecd': 5902, 'silc': 7755, 'rampant': 6855, 'underemploy': 8985, 'organ': 6013, 'selfemploy': 7574, 'restaur': 7179, 'remedi': 7085, 'ikea': 4178, 'ifsc': 4171, 'cowen': 1955, 'tullamor': 8851, 'staffroom': 8076, 'litmu': 4953, 'greatli': 3695, 'amazingli': 283, 'strive': 8209, 'stymi': 8234, 'popular': 6489, 'supplementari': 8319, 'welfar': 9427, 'subsidis': 8256, 'recess': 6941, 'legitim': 4838, 'sleepless': 7841, 'enterpris': 2854, 'deduct': 2197, 'costli': 1909, 'tape': 8445, 'overzeal': 6123, 'arduou': 480, 'feasibl': 3146, 'smooth': 7892, 'parallel': 6179, 'registrar': 7025, 'profess': 6667, 'king': 4678, 'advertis': 130, 'frivol': 3444, 'invok': 4494, 'nera': 5681, 'antagonist': 360, 'countless': 1934, 'signifi': 7751, 'entrepreneur': 2864, 'lectur': 4824, 'oneway': 5963, 'thankless': 8544, 'henhous': 3946, 'sweet': 8370, 'eager': 2670, 'scrambl': 7504, 'convert': 1849, 'thatcherit': 8549, 'hamstrung': 3800, 'indict': 4306, 'blacklist': 890, 'autom': 594, 'waysid': 9400, 'everincreas': 2955, 'sharehold': 7670, 'pervas': 6320, 'percept': 6287, 'fellow': 3164, 'decri': 2192, 'unskil': 9125, 'semiskil': 7595, 'whirlwind': 9472, 'discont': 2419, 'sown': 7992, 'steward': 8145, 'casualis': 1300, 'breen': 1039, 'laryng': 4757, 'tort': 8706, 'explicit': 3024, 'remuner': 7096, 'transplant': 8761, 'hemispher': 3942, 'advent': 125, 'email': 2767, 'unlimit': 9081, 'fulltim': 3466, 'strewn': 8202, 'drafter': 2591, 'timelin': 8650, 'certifi': 1372, 'specialist': 8006, 'empow': 2800, 'rightsrel': 7262, 'dissimilar': 2486, 'expend': 3011, 'makeup': 5109, 'hallmark': 3793, 'innov': 4380, 'ibec': 4145, 'outstand': 6065, 'tear': 8472, 'fairer': 3089, 'jack': 4543, 'mhaith': 5324, 'os': 6024, 'gcomhair': 3539, 'um': 8926, 'thrathnona': 8595, 'mholadh': 5325, 'theachta': 8550, 'david': 2143, 'ucht': 8910, 'chur': 1471, 'faoi': 3113, 'bhraid': 844, 'iarraim': 4144, 'tacaiocht': 8403, 'achan': 68, 'bhill': 843, 'hairith': 3780, 'fhianna': 3190, 'increment': 4288, 'longestserv': 4998, 'twotier': 8894, 'mint': 5395, 'brother': 1085, 'style': 8233, 'satisfact': 7447, 'alik': 236, 'twentyeighth': 8879, 'feroci': 3178, 'siptu': 7795, 'ialpa': 4141, 'unrest': 9116, 'revok': 7221, 'rippl': 7274, 'fanci': 3109, 'wash': 9380, 'bubbl': 1097, 'failer': 3082, 'gaeler': 3498, 'beer': 763, 'diamond': 2350, 'cheek': 1420, 'shirt': 7701, 'colour': 1631, 'guy': 3764, 'chameleon': 1386, 'noon': 5793, 'win': 9514, 'treasur': 8776, 'diddlysquat': 2360, 'damn': 2114, 'soul': 7980, 'lowtax': 5047, 'striker': 8206, 'unwav': 9153, 'wellintent': 9434, 'generalis': 3555, 'instig': 4410, 'cackhand': 1184, 'champion': 1387, 'meltdown': 5283, 'crow': 2021, 'retali': 7190, 'stall': 8089, 'ged': 3549, 'nash': 5626, 'paragraph': 6178, 'award': 618, 'cent': 1356, 'uncertain': 8956, 'stabl': 8071, 'nonstandard': 5789, 'mobil': 5452, 'patricia': 6230, 'jlc': 4572, 'landmark': 4738, 'sandwich': 7432, 'ballymun': 678, 'rea': 6894, 'tupe': 8857, 'freelanc': 3427, 'songwrit': 7966, 'singer': 7781, 'cheann': 1412, 'dei': 2227, 'chun': 1469, 'labhairt': 4713, 'mbill': 5221, 'anocht': 350, 'wax': 9397, 'lyric': 5074, 'brunt': 1090, 'sweat': 8366, 'code': 1585, 'culmin': 2055, 'indepth': 4301, 'oner': 5958, 'valera': 9213, 'lowhourtyp': 5042, 'regulatori': 7035, 'struck': 8216, 'antivictimis': 398, 'voluntarist': 9328, 'curiou': 2069, 'feedback': 3155, 'correspond': 1886, 'prematur': 6581, 'circuit': 1485, 'duplic': 2657, 'layer': 4792, 'noncompli': 5754, 'disclos': 2415, 'rigid': 7265, 'nondisclosur': 5758, 'antijob': 383, 'antibusi': 370, 'scare': 7476, 'prsi': 6740, 'counterproduct': 1932, 'translat': 8756, 'indirectli': 4311, 'ida': 4155, 'salient': 7420, 'economist': 2702, 'sore': 7973, 'indirect': 4310, 'takehom': 8417, 'ting': 8655, 'incorrect': 4283, 'strangl': 8187, 'semiprofession': 7593, 'disorderli': 2462, 'exit': 3002, 'overtaken': 6113, 'tatter': 8454, 'wheelchair': 9457, 'consensu': 1784, 'overr': 6099, 'thirtyfifth': 8578, 'belgium': 786, 'finland': 3229, 'sweden': 8367, 'silver': 7762, 'bullet': 1118, 'script': 7515, 'wrath': 9589, 'revisit': 7218, 'grassroot': 3682, 'finish': 3227, 'undergon': 8989, 'advisor': 134, 'profession': 6668, 'ombudsman': 5941, 'wise': 9526, 'undergradu': 8990, 'essay': 2914, 'standalon': 8094, 'comic': 1647, 'canvass': 1232, 'candid': 1223, 'unpopular': 9096, 'shorten': 7714, 'deepli': 2204, 'scandal': 7467, 'apt': 454, 'anecdot': 326, 'thrice': 8610, 'dillon': 2380, 'noticetoquit': 5812, 'broken': 1079, 'renov': 7104, 'leesid': 4828, 'inspir': 4403, 'antievict': 380, 'carol': 1268, 'brogan': 1076, 'pm': 6446, 'worship': 9578, 'stuf': 8228, 'gill': 3591, 'hammer': 3798, 'delimit': 2239, 'medic': 5265, 'minim': 5383, 'rapporteur': 6873, 'solvabl': 7951, 'shout': 7723, 'cope': 1867, 'pledg': 6429, 'unab': 8931, 'imped': 4212, 'criticis': 1994, 'tour': 8714, 'normalis': 5797, 'repuls': 7145, 'breakfast': 1032, 'selffin': 7576, 'intim': 4467, 'dockland': 2522, 'ceannt': 1338, 'master': 5195, 'despair': 2299, 'marketis': 5176, 'twist': 8888, 'disempow': 2436, 'sleeper': 7840, 'psycholog': 6750, 'midland': 5340, 'rightw': 7263, 'holder': 4023, 'snail': 7896, 'buildup': 1110, 'constant': 1798, 'restart': 7177, 'peddl': 6263, 'marit': 5169, 'orient': 6016, 'religion': 7075, 'dishonestli': 2447, 'fouryear': 3398, 'sixyear': 7807, 'graduat': 3659, 'warp': 9376, 'ghost': 3585, 'contraven': 1836, 'improp': 4240, 'registr': 7024, 'prior': 6629, 'illustr': 4190, 'biannual': 848, 'relet': 7064, 'outright': 6060, 'consequenti': 1787, 'referr': 7001, 'unclear': 8962, 'hinder': 3996, 'ringfenc': 7270, 'delud': 2244, 'novel': 5821, 'midst': 5345, 'abhorr': 12, 'quantifi': 6794, 'permeat': 6301, 'middleincom': 5339, 'luxuri': 5070, 'childhood': 1441, 'outwork': 6068, 'predica': 6562, 'formul': 3368, 'mammi': 5130, 'daddi': 2101, 'preposter': 6589, 'crux': 2036, 'incorpor': 4282, 'biloc': 863, 'shortli': 7718, 'openmind': 5982, 'facto': 3073, 'healthcar': 3884, 'linguist': 4930, 'via': 9268, 'scarc': 7474, 'ensu': 2849, 'unelect': 9028, 'nonmarket': 5774, 'overarch': 6071, 'spatial': 8000, 'builtup': 1112, 'lda': 4796, 'publiclyown': 6757, 'compact': 1677, 'ssf': 8066, 'macroprudenti': 5081, 'marriag': 5182, 'repeal': 7122, 'grandpar': 3669, 'shake': 7656, 'tack': 8406, 'retreat': 7197, 'guff': 3745, 'bought': 993, 'sentinel': 7608, 'sandyford': 7433, 'storey': 8174, 'worklif': 9565, 'pod': 6449, 'bedsit': 757, 'worksometh': 9568, 'halfbuilt': 3784, 'skeleton': 7812, 'tower': 8718, 'richard': 7240, 'barrett': 715, 'bartra': 720, 'dun': 2646, 'coshar': 1897, 'descript': 2293, 'sq': 8057, 'foldout': 3318, 'tenement': 8508, 'bypass': 1171, 'trickl': 8798, 'cosh': 1896, 'bailout': 658, 'dishonesti': 2446, 'wolv': 9546, 'finneran': 3230, 'snatch': 7900, 'penni': 6278, 'cgt': 1375, 'imho': 4197, 'bonnet': 962, 'randomli': 6859, 'crocodil': 1998, 'adjourn': 103, 'wrongli': 9603, 'hostel': 4076, 'count': 1920, 'symbol': 8382, 'fragil': 3404, 'mismanag': 5423, 'situ': 7801, 'contriv': 1841, 'foul': 3383, 'disorganis': 2463, 'insist': 4398, 'boomtim': 970, 'cede': 1341, 'costello': 1908, 'heaney': 3888, 'ration': 6887, 'impair': 4209, 'monthonmonth': 5497, 'beneath': 804, 'conspir': 1796, 'knowingli': 4700, 'unintent': 9066, 'assum': 539, 'supplement': 8318, 'lengthi': 4852, 'eileen': 2731, 'gleeson': 3605, 'eoin': 2878, 'airwav': 210, 'categoris': 1313, 'overwhelm': 6121, 'overli': 6095, 'bureaucrat': 1133, 'tender': 8507, 'abject': 16, 'indefinit': 4298, 'simplic': 7771, 'simplist': 7774, 'sensibl': 7603, 'immin': 4204, 'anaem': 308, 'apolog': 423, 'tide': 8632, 'conspiraci': 1797, 'iveagh': 4536, 'quicker': 6808, 'thoroughli': 8587, 'transact': 8748, 'extrapol': 3050, 'evil': 2967, 'demon': 2256, 'indebt': 4294, 'unjust': 9075, 'subgroup': 8239, 'debt': 2169, 'devalu': 2326, 'trick': 8796, 'finder': 3217, 'evad': 2943, 'cabinet': 1181, 'turnkey': 8869, 'vilifi': 9291, 'broughan': 1086, 'misquot': 5428, 'auster': 583, 'tyrrelstown': 8902, 'bankruptci': 696, 'refug': 7010, 'plight': 6432, 'mike': 5356, 'allen': 242, 'involuntari': 4495, 'coverag': 1950, 'robustli': 7300, 'simplifi': 7773, 'outofd': 6055, 'abolish': 19, 'turnov': 8871, 'swept': 8372, 'unamend': 8941, 'exodu': 3003, 'prompt': 6694, 'infring': 4356, 'revamp': 7209, 'fourstep': 3395, 'hoop': 4055, 'fasttrack': 3130, 'bulk': 1114, 'relentlessli': 7063, 'intransig': 4472, 'affidavit': 146, 'broadcast': 1070, 'lo': 4966, 'behold': 779, 'compens': 1688, 'catchcri': 1309, 'corrupt': 1892, 'overestim': 6080, 'consortia': 1795, 'ire': 4507, 'thrive': 8612, 'react': 6896, 'escal': 2908, 'unbeliev': 8953, 'plaintiv': 6406, 'wound': 9586, 'mildest': 5358, 'self': 7565, 'casino': 1290, 'gambl': 3510, 'apathi': 422, 'pedestrian': 6264, 'reinvent': 7052, 'wheel': 9456, 'career': 1257, 'screenwrit': 7512, 'novelist': 5822, 'goug': 3645, 'administ': 107, 'mileston': 5361, 'fr': 3400, 'peter': 6325, 'mcverri': 5240, 'surf': 8332, 'snaillik': 7897, 'misalign': 5401, 'fingal': 3219, 'shorter': 7715, 'boyd': 1003, 'admiss': 110, 'gate': 3529, 'ninth': 5731, 'ruthless': 7379, 'frontlin': 3449, 'guest': 3744, 'embark': 2771, 'statel': 8117, 'rehous': 7041, 'lyon': 5073, 'deplor': 2277, 'lockedoutofthemarket': 4978, 'receipt': 6935, 'packag': 6138, 'impend': 4214, 'bond': 959, 'goodqual': 3637, 'aw': 613, 'unten': 9140, 'fantasi': 3111, 'hopeless': 4060, 'emin': 2783, 'poorli': 6485, 'concur': 1737, 'professionalis': 6669, 'probat': 6650, 'abolit': 20, 'tighten': 8639, 'recus': 6976, 'elain': 2740, 'attest': 564, 'matur': 5207, 'undersuppli': 9009, 'inherit': 4362, 'demonis': 2257, 'weigh': 9424, 'nama': 5616, 'vincent': 9294, 'fuss': 3488, 'transpar': 8759, 'receivership': 6937, 'belowmarket': 798, 'purposebuilt': 6775, 'overdu': 6079, 'vacat': 9209, 'unfit': 9045, 'fate': 3133, 'dilig': 2379, 'materialis': 5198, 'evas': 2946, 'latenight': 4762, 'chase': 1410, 'tight': 8638, 'aboveaverag': 26, 'runner': 7367, 'circular': 1487, 'seventh': 7639, 'weed': 9419, 'privatelyown': 6638, 'rank': 6862, 'awak': 615, 'iota': 4499, 'moscow': 5518, 'nake': 5615, 'ii': 4177, 'upward': 9178, 'banker': 693, 'supposedli': 8326, 'ride': 7250, 'roughshod': 7344, 'tallaght': 8428, 'tuath': 8846, 'yellow': 9624, 'revolt': 7222, 'oppress': 5992, 'concess': 1731, 'crumb': 2033, 'campus': 1216, 'plain': 6402, 'lunchtim': 5068, 'halfday': 3785, 'oneday': 5951, 'pud': 6759, 'fahey': 3079, 'ucd': 8909, 'leagu': 4804, 'fixiti': 3260, 'randal': 6857, 'mover': 5540, 'grey': 3708, 'heali': 3882, 'buildtoord': 1108, 'philosophi': 6348, 'calm': 1204, 'demograph': 2254, 'inward': 4497, 'viabl': 9270, 'envi': 2870, 'reluct': 7079, 'exorbit': 3004, 'flip': 3290, 'durabl': 2659, 'interplay': 4456, 'frame': 3406, 'studentspecif': 8225, 'auxiliari': 600, 'carrickonshannon': 1273, 'flyer': 3307, 'googl': 3639, 'ed': 2704, 'honohan': 4051, 'mcguin': 5234, 'norri': 5798, 'righthom': 7259, 'endless': 2821, 'angl': 332, 'inertia': 4327, 'modular': 5467, 'regurgit': 7036, 'sod': 7929, 'glenconnor': 3608, 'clonmel': 1556, 'militia': 5367, 'tsb': 8842, 'murmur': 5589, 'compuls': 1715, 'pick': 6361, 'carcass': 1253, 'sheriff': 7689, 'homeown': 4038, 'runup': 7369, 'thuggeri': 8621, 'idli': 4167, 'balbriggan': 661, 'unheard': 9055, 'erstwhil': 2902, 'altogeth': 275, 'disgust': 2442, 'downright': 2578, 'blackguard': 889, 'treacheri': 8774, 'abomin': 21, 'beat': 744, 'banagh': 686, 'neart': 5654, 'cheil': 1423, 'trope': 8823, 'socialist': 7922, 'mainstream': 5101, 'extremist': 3053, 'strongest': 8214, 'desk': 2297, 'overhold': 6089, 'confront': 1758, 'summon': 8298, 'dilemma': 2378, 'teeth': 8483, 'leg': 4831, 'elainetyp': 2741, 'plung': 6443, 'invent': 4484, 'unravel': 9107, 'justif': 4620, 'solidaritypbp': 7943, 'chri': 1461, 'german': 3575, 'deviat': 2332, 'evidenc': 2964, 'censu': 1353, 'nut': 5848, 'en': 2804, 'bloc': 917, 'obsolesc': 5870, 'divin': 2515, 'mel': 5278, 'reynold': 7230, 'cherrywood': 1434, 'rake': 6848, 'pamphlet': 6158, 'csi': 2042, 'travellerspecif': 8771, 'livingtyp': 4961, 'stoppag': 8171, 'readvertis': 6904, 'renovict': 7105, 'nub': 5834, 'hidden': 3965, 'caul': 1322, 'mynamei': 5601, 'hashtagtwitt': 3857, 'infuri': 4357, 'prop': 6699, 'incompet': 4274, 'curtain': 2077, 'scum': 7521, 'abet': 10, 'peg': 6269, 'toy': 8722, 'entertain': 2855, 'selina': 7583, 'ballyfermot': 672, 'teenag': 8482, 'darren': 2134, 'cuff': 2048, 'diabet': 2342, 'dialysi': 2348, 'overstay': 6111, 'amina': 296, 'catchal': 1308, 'spectr': 8012, 'film': 3208, 'longford': 5000, 'exacerb': 2970, 'subservi': 8252, 'hostil': 4077, 'quarterli': 6798, 'unforeseen': 9047, 'heaven': 3907, 'imbal': 4194, 'vastli': 9235, 'penultim': 6281, 'begrudg': 771, 'earner': 2681, 'conscienc': 1778, 'minimis': 5384, 'indec': 4296, 'prick': 6619, 'modicum': 5463, 'decenc': 2178, 'hog': 4018, 'tini': 8656, 'postrebuild': 6518, 'amarach': 281, 'esri': 2913, 'lihaf': 4914, 'nevin': 5692, 'offlin': 5913, 'shackleton': 7652, 'poolbeg': 6481, 'infil': 4343, 'marginalis': 5164, 'lowerincom': 5038, 'alleg': 239, 'recoup': 6966, 'supposit': 8327, 'sdz': 7523, 'quantum': 6796, 'sherri': 7692, 'ey': 3054, 'advocaci': 137, 'pop': 6486, 'jigsaw': 4569, 'bodyown': 941, 'outlier': 6049, 'thrust': 8618, 'costrent': 1912, 'cualann': 2045, 'cohous': 1600, 'condescend': 1739, 'irrit': 4523, 'piss': 6388, 'personalis': 6311, 'renam': 7098, 'marketl': 5177, 'housingrel': 4089, 'nineti': 5729, 'taxpayersourc': 8463, 'leverag': 4872, 'exclus': 2988, 'naiv': 5613, 'cheapli': 1415, 'program': 6678, 'hardwir': 3837, 'lieu': 4894, 'uplift': 9167, 'dividend': 2514, 'recommenc': 6956, 'tranch': 8747, 'renttobuy': 7112, 'semidetach': 7591, 'studio': 8227, 'coliv': 1610, 'airbnb': 203, 'contradictori': 1833, 'multistream': 5579, 'outsourc': 6064, 'contest': 1821, 'singlesourc': 7783, 'longerterm': 4996, 'onestag': 5962, 'caution': 1325, 'backward': 644, 'tandem': 8434, 'highdemand': 3971, 'viewpoint': 9285, 'autonomi': 597, 'reliev': 7073, 'custom': 2083, 'streamlin': 8195, 'fourstag': 3394, 'nonpolit': 5782, 'entireti': 2858, 'quantiti': 6795, 'surveyor': 8348, 'bricklay': 1048, 'carpent': 1269, 'electrician': 2749, 'plumber': 6440, 'controversi': 1843, 'shrink': 7731, 'inabl': 4246, 'clone': 1555, 'hapra': 3822, 'dozen': 2586, 'honeypark': 4050, 'cosgrav': 1895, 'laoghairerathdown': 4748, 'hine': 3998, 'cairn': 1195, 'heist': 3929, 'viciou': 9275, 'circl': 1484, 'titfortat': 8666, 'upfront': 9161, 'chunk': 1470, 'entranc': 2861, 'dichotomi': 2356, 'lastli': 4759, 'elli': 2759, 'everdeepen': 2952, 'circumscrib': 1488, 'contractu': 1831, 'downward': 2585, 'encount': 2810, 'beset': 821, 'surrend': 8344, 'autopilot': 598, 'lenient': 4854, 'screw': 7513, 'spite': 8032, 'dataset': 2138, 'hurdl': 4117, 'rebal': 6926, 'rebalanc': 6927, 'threemonth': 8604, 'cluster': 1573, 'churn': 1474, 'subsid': 8253, 'tokenist': 8681, 'omahoni': 5939, 'ceremoni': 1367, 'stephen': 8143, 'magnific': 5092, 'fai': 3080, 'cup': 2061, 'mildli': 5359, 'twopag': 8893, 'hilt': 3994, 'realworld': 6916, 'grandstand': 3671, 'ala': 216, 'arbitrarili': 463, 'sophist': 7971, 'defi': 2215, 'smack': 7870, 'strut': 8219, 'campu': 1215, 'theatr': 8551, 'nonpay': 5780, 'gross': 3719, 'misconduct': 5410, 'madcap': 5084, 'athboy': 551, 'oldcastl': 5932, 'scaffold': 7462, 'soundbit': 7982, 'nearful': 5651, 'phrase': 6357, 'happili': 3821, 'clap': 1509, 'enlighten': 2840, 'hinterland': 3999, 'grandson': 3670, 'whomev': 9485, 'raini': 6846, 'useless': 9191, 'borrow': 980, 'queue': 6806, 'twelv': 8877, 'artifici': 511, 'surfer': 8334, 'lockedout': 4977, 'dissatisfi': 2481, 'patient': 6228, 'hesit': 3960, 'patienc': 6227, 'worn': 9574, 'collater': 1615, 'marketdriven': 5175, 'pour': 6529, 'twentyseven': 8881, 'flagrant': 3262, 'ivori': 4539, 'doctor': 2523, 'lar': 4751, 'aonaigh': 415, 'fempi': 3169, 'incident': 4264, 'bureaucraci': 1132, 'austria': 587, 'pend': 6276, 'multiprong': 5577, 'heartbreak': 3896, 'cramp': 1962, 'repossess': 7134, 'prayer': 6544, 'anxieti': 404, 'understat': 9007, 'shortfal': 7716, 'typic': 8899, 'invari': 4482, 'mansion': 5152, 'util': 9198, 'handwring': 3813, 'likewithlik': 4917, 'slowdown': 7864, 'sight': 7745, 'nutshel': 5849, 'lest': 4865, 'dice': 2354, 'accordingli': 59, 'reconcil': 6958, 'exig': 2999, 'expiri': 3020, 'payabl': 6242, 'supersed': 8315, 'seminar': 7592, 'hors': 4069, 'propaganda': 6701, 'dismal': 2456, 'mega': 5276, 'upheld': 9163, 'introductori': 4476, 'governmentsponsor': 3649, 'trebl': 8780, 'statefund': 8115, 'superrich': 8314, 'handson': 3812, 'reminisc': 7090, 'taim': 8413, 'tabhairt': 8399, 'tacaiochta': 8404, 'silim': 7758, 'se': 7524, 'thar': 8546, 'gearrcheim': 3548, 'tithiochta': 8667, 'ghlaoch': 3584, 'undeclar': 8979, 'mindset': 5379, 'compil': 1692, 'tenth': 8514, 'outstrip': 6066, 'fiveyear': 3255, 'thread': 8596, 'channel': 1392, 'acquisit': 74, 'toilet': 8679, 'safest': 7408, 'distraught': 2498, 'unwil': 9155, 'stopgap': 8170, 'fruition': 3454, 'reportedli': 7133, 'underwhelm': 9015, 'ak': 213, 'measli': 5253, 'inept': 4324, 'hock': 4014, 'blockag': 919, 'hang': 3814, 'followon': 3320, 'jonathan': 4589, 'corri': 1887, 'yard': 9615, 'indefens': 4297, 'loophol': 5011, 'placefind': 6398, 'helplessli': 3939, 'monkstown': 5489, 'emot': 2791, 'telecom': 8486, 'hairdress': 3779, 'owneroccupi': 6129, 'withheld': 9535, 'allencompass': 243, 'capacitydemand': 1240, 'mismatch': 5424, 'yearonyear': 9621, 'monthbymonth': 5495, 'derelict': 2287, 'ransack': 6864, 'surround': 8345, 'vibrant': 9272, 'unrestrict': 9117, 'quad': 6786, 'cctv': 1333, 'cuthbert': 2088, 'scourg': 7503, 'doorstep': 2560, 'pitch': 6390, 'darndal': 2132, 'footpath': 3332, 'nuisanc': 5839, 'copon': 1870, 'anomali': 351, 'underag': 8982, 'allterrain': 257, 'atv': 569, 'recklessli': 6948, 'confisc': 1755, 'detain': 2313, 'youth': 9641, 'instruct': 4415, 'rare': 6875, 'grasp': 3680, 'impound': 4235, 'loud': 5026, 'sunbath': 8301, 'husband': 4123, 'brain': 1012, 'lifechang': 4897, 'intox': 4470, 'patchwork': 6221, 'corp': 1881, 'enclos': 2808, 'implor': 4229, 'cowardli': 1954, 'hamper': 3799, 'sword': 8380, 'wheeli': 9458, 'playground': 6420, 'hse': 4093, 'malachi': 5110, 'quinn': 6813, 'complac': 1693, 'motocross': 5523, 'adrenalin': 119, 'roam': 7294, 'mulhuddart': 5559, 'acr': 75, 'oldest': 5934, 'motor': 5524, 'motorcycl': 5526, 'mope': 5503, 'nuanc': 5833, 'preval': 6613, 'powerless': 6532, 'ilabek': 4179, 'avetian': 609, 'anzhela': 412, 'pelvi': 6270, 'upsid': 9173, 'nightmar': 5722, 'multipli': 5576, 'readili': 6903, 'casual': 1299, 'donedeali': 2548, 'mini': 5382, 'propel': 6702, 'gift': 3590, 'imelda': 4195, 'munster': 5586, 'counsel': 1919, 'roller': 7315, 'nct': 5643, 'troy': 8829, 'suspend': 8353, 'copout': 1871, 'mcauliff': 5223, 'rock': 7302, 'beach': 739, 'patrol': 6232, 'lifeguard': 4898, 'offroad': 5915, 'emptier': 2803, 'bravado': 1020, 'ego': 2719, 'trip': 8808, 'forthright': 3373, 'rider': 7251, 'precaut': 6552, 'alfi': 230, 'elliss': 2760, 'rickshaw': 7245, 'acut': 86, 'kiss': 4683, 'vandalis': 9227, 'sing': 7780, 'hymn': 4133, 'nogo': 5742, 'highlevel': 3978, 'oblivi': 5862, 'interag': 4433, 'conven': 1845, 'intelligencel': 4428, 'dessi': 2305, 'armenian': 494, 'hospitalis': 4073, 'lithuania': 4950, 'warren': 9378, 'cherri': 1433, 'orchard': 6004, 'ident': 4160, 'leroy': 4859, 'coyl': 1957, 'unlaw': 9078, 'errat': 2899, 'rash': 6877, 'donab': 2544, 'portmarnock': 6500, 'loop': 5010, 'adjoin': 102, 'prix': 6642, 'criminalis': 1986, 'carelessli': 1260, 'rev': 7207, 'neighbourhood': 5673, 'collid': 1620, 'inexperienc': 4330, 'eat': 2692, 'meal': 5244, 'broaden': 1071, 'incalcul': 4254, 'awarenessrais': 619, 'hay': 3870, 'multiag': 5563, 'workingclass': 9564, 'pram': 6543, 'tortur': 8708, 'vroom': 9335, 'dark': 2129, 'nois': 5744, 'diversionari': 2510, 'kotsinian': 4704, 'roofer': 7325, 'highamen': 3970, 'streamvil': 8196, 'riversid': 7284, 'bestow': 827, 'seizur': 7562, 'roadworthi': 7293, 'whine': 9470, 'charleton': 1405, 'extraordinarili': 3049, 'uniform': 9059, 'rome': 7320, 'athen': 552, 'intersect': 4461, 'plaza': 6421, 'crossag': 2006, 'subsect': 8250, 'nonexist': 5767, 'youngster': 9639, 'hot': 4078, 'garner': 3522, 'motorbik': 5525, 'logbook': 4983, 'traceabl': 8726, 'snob': 7906, 'disciplin': 2413, 'neglect': 5669, 'absorb': 35, 'healthier': 3886, 'epidem': 2879, 'commonplac': 1667, 'birthday': 879, 'communion': 1672, 'preclud': 6557, 'brassil': 1018, 'menac': 5292, 'keen': 4637, 'latecom': 4761, 'render': 7100, 'undo': 9021, 'detent': 2316, 'outdoor': 6042, 'trespass': 8787, 'needlessli': 5665, 'simplif': 7772, 'hardiman': 3832, 'tangentiallyrel': 8436, 'adjud': 104, 'staunton': 8129, 'drunken': 2627, 'needless': 5664, 'backlog': 637, 'dara': 2126, 'calleari': 1202, 'seasid': 7534, 'kerri': 4653, 'persuas': 6316, 'sister': 7796, 'trauma': 8767, 'foetal': 3313, 'abnorm': 18, 'incest': 4262, 'survivor': 8350, 'mcdonald': 5229, 'compassion': 1684, 'pregnant': 6573, 'childbear': 1438, 'heartrend': 3901, 'diagnosi': 2344, 'recount': 6965, 'heartach': 3894, 'longfing': 4999, 'louis': 5030, 'oreilli': 6012, 'pill': 6372, 'pregnanc': 6572, 'inordin': 4381, 'gestat': 3578, 'ardfhei': 475, 'suil': 8286, 'agam': 165, 'rud': 7358, 'stairiuil': 8082, 'bheidh': 838, 'gcuirfimid': 3542, 'deireadh': 2229, 'gcuid': 3541, 'dar': 2125, 'stair': 8081, 'ndeanfar': 5646, 'tochtu': 8671, 'leasu': 4818, 'aisghairm': 211, 'episod': 2882, 'blight': 914, 'anguish': 336, 'fundrais': 3476, 'valv': 9223, 'tablet': 8401, 'supervis': 8316, 'slack': 7827, 'ought': 6030, 'birth': 878, 'barbar': 705, 'donnchadh': 2550, 'thirtysixth': 8581, 'referenc': 6998, 'teller': 8491, 'matern': 5199, 'impedi': 4213, 'dr': 2588, 'rhona': 7233, 'mahoni': 5094, 'holl': 4028, 'chill': 1446, 'fora': 3334, 'postabort': 6510, 'aftercar': 158, 'genesi': 3558, 'sexist': 7649, 'conservat': 1789, 'sexism': 7648, 'church': 1472, 'ultraconserv': 8921, 'compass': 1683, 'freeli': 3428, 'acquaint': 71, 'antiabort': 364, 'iceland': 4148, 'danish': 2122, 'antichoic': 371, 'hire': 4003, 'cambridg': 1206, 'analytica': 314, 'harvest': 3854, 'suspicion': 8356, 'influenc': 4350, 'presidenti': 6600, 'edit': 2707, 'borwick': 981, 'kanto': 4625, 'dissemin': 2483, 'porter': 6496, 'falsifi': 3099, 'qualif': 6788, 'oppon': 5987, 'patriarchi': 6229, 'lovett': 5034, 'sheila': 7683, 'hodger': 4016, 'joann': 4574, 'horrend': 4064, 'granddaught': 3665, 'unifi': 9058, 'alphabet': 267, 'soup': 7984, 'misde': 5411, 'savita': 7458, 'halappanavar': 3781, 'ardfheiseanna': 476, 'ard': 473, 'reassert': 6923, 'onlin': 5966, 'practitionerl': 6540, 'floodgat': 3297, 'cleric': 1533, 'moralis': 5506, 'contracept': 1828, 'ralli': 6849, 'unmanag': 9084, 'jumper': 4608, 'inscrib': 4388, 'wednesday': 9418, 'unborn': 8954, 'pave': 6238, 'samesex': 7427, 'appetit': 434, 'hysteria': 4139, 'humanright': 4104, 'secondclass': 7540, 'cathol': 1318, 'sway': 8364, 'incarcer': 4256, 'magdalen': 5089, 'laundri': 4778, 'religi': 7074, 'persecut': 6307, 'lone': 4992, 'mostli': 5519, 'underestim': 8986, 'absolv': 34, 'eras': 2894, 'rapist': 6872, 'provok': 6736, 'suicid': 8285, 'stigmatis': 8150, 'botch': 987, 'migrant': 5354, 'unawar': 8949, 'attribut': 568, 'amanda': 280, 'mellet': 5280, 'temporarili': 8499, 'cartoon': 1281, 'misnom': 5425, 'barb': 704, 'arulkumaran': 513, 'obstetrician': 5873, 'sepsi': 7612, 'prejud': 6576, 'practition': 6539, 'gynaecologist': 3768, 'kingdom': 4679, 'perinat': 6295, 'psychiatri': 6748, 'prescript': 6595, 'kelleh': 4644, 'maev': 5087, 'eogan': 2876, 'rotunda': 7341, 'surgic': 8337, 'adduc': 96, 'gp': 3651, 'ancillari': 321, 'sex': 7646, 'romania': 7318, 'wraparound': 9588, 'dutch': 2661, 'cutoff': 2089, 'noelin': 5741, 'blackwel': 893, 'aeroplan': 141, 'boot': 972, 'fundamentalist': 3474, 'misogynist': 5427, 'toxic': 8721, 'haunt': 3866, 'overrul': 6102, 'verdict': 9252, 'liverpool': 4960, 'secreci': 7543, 'pride': 6620, 'horribl': 4065, 'bishop': 880, 'tuam': 8845, 'inclin': 4267, 'selfi': 7577, 'accent': 49, 'didnt': 2361, 'wasnt': 9382, 'your': 9640, 'stigma': 8149, 'dont': 2556, 'abigail': 14, 'aiken': 199, 'austin': 584, 'texa': 8536, 'stereotyp': 8144, 'sabaratnam': 7388, 'physician': 6359, 'divorc': 2518, 'clamour': 1507, 'bodili': 940, 'decriminalis': 2193, 'nerv': 5682, 'hideou': 3967, 'wipe': 9522, 'billboard': 858, 'slogan': 7858, 'foetus': 3315, 'betray': 830, 'reactionari': 6898, 'vessel': 9262, 'cancer': 1222, 'caesarean': 1187, 'odiou': 5897, 'prochoic': 6660, 'homosexu': 4043, 'turnout': 8870, 'parad': 6174, 'ubiquit': 8908, 'hometovot': 4040, 'coolock': 1861, 'moyross': 5544, 'jobstown': 4577, 'silent': 7757, 'groundswel': 3724, 'bag': 652, 'feminist': 3168, 'glimps': 3611, 'noel': 5740, 'surgeon': 8335, 'mcgurk': 5235, 'shelv': 7688, 'twitter': 8890, 'journalist': 4593, 'fitzpatrick': 3250, 'lifesav': 4903, 'handmaid': 3807, 'okeeff': 5930, 'hate': 3863, 'summaris': 8293, 'transcript': 8750, 'rotten': 7340, 'tummi': 8854, 'antibiot': 369, 'mood': 5499, 'bulwark': 1122, 'secularis': 7548, 'spectacular': 8011, 'dwarf': 2664, 'diagnos': 2343, 'physiotherapi': 6360, 'surgeri': 8336, 'nh': 5710, 'gpbuddyi': 3652, 'energet': 2826, 'wellfund': 9432, 'traumatis': 8769, 'compunct': 1718, 'liber': 4883, 'down': 2574, 'syndrom': 8389, 'taught': 8455, 'curriculum': 2074, 'slaintecar': 7829, 'excori': 2989, 'mccarthi': 5225, 'beggar': 769, 'inaccuraci': 4248, 'spuc': 8053, 'injunct': 4369, 'galwegian': 3508, 'systemat': 8396, 'appendic': 433, 'miscarriag': 5404, 'trimest': 8804, 'ruptur': 7370, 'membran': 5286, 'turascail': 8858, 'comhchoist': 1646, 'digest': 2372, 'lourd': 5031, 'xray': 9613, 'inhuman': 4364, 'cold': 1606, 'garrett': 3525, 'fertilis': 3181, 'unprotect': 9102, 'brainstem': 1013, 'noteworthi': 5809, 'digniti': 2375, 'grotesqu': 3721, 'tentacl': 8513, 'stretch': 8201, 'foreseen': 3351, 'foetu': 3314, 'untold': 9142, 'twin': 8886, 'exhaust': 2996, 'lord': 5014, 'whelan': 9459, 'marri': 5181, 'polaris': 6459, 'conscienti': 1779, 'lifelimit': 4900, 'feminis': 3167, 'lift': 4909, 'regina': 7021, 'doherti': 2533, 'slap': 7832, 'allud': 259, 'conceiv': 1726, 'anymor': 407, 'scan': 7466, 'thirdtrimest': 8574, 'taboo': 8402, 'eyebal': 3056, 'inject': 4367, 'gemma': 3550, 'odoherti': 5898, 'default': 2208, 'chromosom': 1465, 'invis': 4492, 'genderselect': 3552, 'nobel': 5735, 'prizewin': 6644, 'infanticid': 4337, 'mortal': 5514, 'ninetynin': 5730, 'peerreview': 6268, 'prorep': 6711, 'proabort': 6647, 'yorkbas': 9632, 'center': 1358, 'bpa': 1007, 'imparti': 4211, 'abortioni': 24, 'womb': 9548, 'scandinavian': 7469, 'sicken': 7742, 'tank': 8438, 'guttmach': 3763, 'unplan': 9094, 'medicaid': 5266, 'costsav': 1913, 'parenthood': 6189, 'winner': 9519, 'stope': 8169, 'bonus': 965, 'nameless': 5618, 'faceless': 3063, 'oldfashion': 5935, 'cure': 2066, 'centenari': 1357, 'proclam': 6662, 'cherish': 1432, 'sulli': 8289, 'memori': 5290, 'ounc': 6031, 'parish': 6191, 'undu': 9024, 'writ': 9594, 'idem': 4159, 'unequivoc': 9035, 'dicey': 2355, 'sibl': 7740, 'kin': 4673, 'sequenc': 7616, 'shade': 7653, 'bound': 995, 'incub': 4289, 'decompos': 2189, 'wellregul': 9440, 'forefront': 3342, 'nonreligiousbas': 5784, 'teach': 8466, 'sensit': 7604, 'embryo': 2778, 'ava': 602, 'shadi': 7654, 'spotlight': 8045, 'thorni': 8585, 'incap': 4255, 'chose': 1459, 'devoutli': 2337, 'prochemotherapi': 6659, 'predomin': 6564, 'unregul': 9114, 'backstreet': 641, 'audiovisu': 574, 'nephew': 5680, 'grandniec': 3668, 'autism': 592, 'joy': 4596, 'rabbitt': 6821, 'ferri': 3179, 'tanya': 8442, 'funni': 3479, 'oconnel': 5890, 'heartbeat': 3895, 'presbyterian': 6592, 'uncar': 8955, 'undeni': 8981, 'undeserv': 9017, 'dress': 2602, 'friendship': 3442, 'resound': 7170, 'inequ': 4325, 'flee': 3278, 'label': 4712, 'wisdom': 9525, 'whip': 9471, 'obstetr': 5872, 'socioeconom': 7926, 'hospic': 4071, 'undertook': 9012, 'momentarili': 5474, 'westminsterstyl': 9448, 'unfett': 9043, 'cogent': 1594, 'impregn': 4237, 'paradox': 6176, 'ebb': 2694, 'precondit': 6558, 'muchwant': 5552, 'concomit': 1735, 'feotal': 3173, 'thorough': 8586, 'dispar': 2464, 'funnili': 3480, 'unknown': 9077, 'countercharg': 1926, 'ponder': 6477, 'peculiar': 6262, 'blot': 924, 'trek': 8782, 'lean': 4810, 'arena': 483, 'fingertip': 3223, 'dual': 2630, 'aloof': 266, 'guilti': 3752, 'misbehaviour': 5402, 'trustworthi': 8840, 'suffragett': 8281, 'stewardship': 8146, 'gavan': 3532, 'ampli': 305, 'doctrin': 2524, 'dogma': 2531, 'wrought': 9605, 'wedlock': 9417, 'slave': 7836, 'shadow': 7655, 'sinner': 7789, 'amongst': 303, 'riddanc': 7247, 'harrow': 3849, 'tribun': 8794, 'cruelti': 2030, 'miscarri': 5403, 'cruel': 2027, 'skew': 7813, 'blanch': 899, 'untrustworthi': 9145, 'obscur': 5866, 'departur': 2273, 'despis': 2302, 'offens': 5908, 'flippantli': 3293, 'indiscret': 4312, 'debas': 2165, 'mistrust': 5438, 'hastili': 3861, 'coerc': 1589, 'exil': 3000, 'strip': 8208, 'hillari': 3993, 'clinton': 1548, 'arbitrari': 462, 'roe': 7307, 'wade': 9341, 'mor': 5504, 'trua': 8830, 'tair': 8414, 'imith': 4198, 'deliver': 2242, 'bedlam': 754, 'absurd': 38, 'hippocrat': 4001, 'oath': 5854, 'foist': 3317, 'deich': 2228, 'noimead': 5743, 'vista': 9311, 'gut': 3762, 'flatli': 3272, 'murki': 5588, 'moneydriven': 5482, 'liz': 4963, 'mcdermott': 5228, 'venu': 9248, 'analog': 310, 'sinker': 7787, 'isteach': 4532, 'beidh': 780, 'anairgead': 309, 'brostaigi': 1084, 'cen': 1350, 'fath': 3134, 'freagair': 3421, 'cheist': 1424, 'abalta': 3, 'smirk': 7886, 'giddi': 3589, 'moneycentr': 5481, 'salesmen': 7418, 'hoover': 4057, 'tantamount': 8440, 'fanat': 3108, 'agnost': 179, 'nonbeliev': 5750, 'misdiagnosi': 5412, 'pounc': 6527, 'gach': 3496, 'aon': 414, 'ait': 212, 'sceal': 7480, 'uafasach': 8906, 'fad': 3077, 'marian': 5167, 'finucan': 3232, 'dfhreagar': 2338, 'ceist': 1343, 'rte': 7355, 'replay': 7129, 'freagar': 3422, 'eil': 2730, 'conflat': 1756, 'wallop': 9358, 'optimum': 5998, 'laethanta': 4722, 'saoir': 7439, 'propon': 6706, 'nap': 5621, 'perus': 6319, 'untruth': 9146, 'funer': 3477, 'flu': 3304, 'hunkydori': 4115, 'laighean': 4729, 'carryon': 1276, 'orthodont': 6021, 'buss': 1154, 'belfast': 784, 'cataract': 1305, 'impun': 4244, 'malfunct': 5118, 'stitchup': 8157, 'stitch': 8156, 'brist': 1063, 'geansai': 3545, 'guna': 3757, 'bru': 1089, 'twentysix': 8882, 'laffoy': 4723, 'cad': 1185, 'codolog': 1588, 'theolog': 8555, 'siad': 7739, 'fanacht': 3107, 'refrain': 7007, 'indign': 4309, 'spit': 8031, 'banner': 698, 'grievou': 3712, 'cook': 1856, 'cabal': 1178, 'closedmind': 1559, 'applaus': 437, 'parapet': 6184, 'hero': 3956, 'pitfal': 6391, 'philosoph': 6347, 'duck': 2634, 'hardship': 3836, 'inexplic': 4331, 'unspeak': 9129, 'whoever': 9476, 'joan': 4573, 'catchup': 1310, 'canva': 1231, 'discours': 2424, 'suppress': 8328, 'undecid': 8978, 'mistruth': 5439, 'tighter': 8640, 'pseudosci': 6743, 'credenti': 1976, 'factcheck': 3071, 'imageri': 4192, 'portray': 6501, 'disinform': 2451, 'sipo': 7794, 'togethery': 8675, 'scrutinis': 7519, 'linger': 4928, 'lk': 4964, 'utopian': 9201, 'widerang': 9494, 'unconscion': 8968, 'ciara': 1478, 'heartbroken': 3897, 'evacu': 2942, 'compound': 1709, 'vividli': 9315, 'ordeal': 6006, 'tenhour': 8510, 'coffin': 1593, 'port': 6494, 'kathleen': 4630, 'funchion': 3470, 'dissent': 2484, 'gpled': 3653, 'weekold': 9423, 'shutter': 7737, 'bias': 849, 'etho': 2927, 'youngest': 9638, 'cell': 1345, 'fingerprint': 3222, 'fingernail': 3221, 'iona': 4498, 'proudli': 6727, 'hair': 3778, 'keepsak': 4640, 'ninemonth': 5726, 'cousin': 1946, 'amsterdam': 306, 'tubef': 8847, 'fervent': 3182, 'anti': 363, 'relay': 7060, 'expediti': 3010, 'apologet': 424, 'peer': 6267, 'compatriot': 1686, 'gratitud': 3685, 'awaken': 616, 'helm': 3935, 'mould': 5531, 'reliabl': 7068, 'malawi': 5113, 'lilongw': 4918, 'shortcom': 7713, 'backtrack': 642, 'illtreat': 4187, 'wherewith': 9465, 'childless': 1442, 'nightmarish': 5723, 'forcibl': 3338, 'nondirect': 5757, 'nonjudgment': 5772, 'retraumatis': 7196, 'revictimis': 7215, 'nausea': 5639, 'vomit': 9330, 'contamin': 1815, 'vagin': 9211, 'penetr': 6277, 'skin': 7818, 'bleed': 910, 'infect': 4338, 'punch': 6764, 'childbirth': 1439, 'trivialis': 8813, 'dinner': 2386, 'coolingoff': 1859, 'patronis': 6234, 'demean': 2248, 'devot': 2336, 'sop': 7969, 'placat': 6396, 'congenit': 1760, 'cordial': 1875, 'vicious': 9276, 'agonis': 181, 'grandchild': 3663, 'daughterinlaw': 2141, 'persever': 6308, 'seoidin': 7610, 'broke': 1078, 'cruellest': 2028, 'compart': 1682, 'checkpoint': 1419, 'decisionmak': 2184, 'burial': 1138, 'busara': 1146, 'reson': 7168, 'earlymorn': 2678, 'soughtaft': 7979, 'coup': 1937, 'behest': 777, 'zealot': 9645, 'andrew': 325, 'rynn': 7386, 'guild': 3749, 'pharmacist': 6340, 'christian': 1462, 'ovul': 6124, 'zygot': 9653, 'fourmonth': 3391, 'yearold': 9620, 'quotat': 6819, 'subordin': 8245, 'archaic': 469, 'bow': 998, 'prostrat': 6717, 'thirtyf': 8577, 'allegedli': 240, 'sheldon': 7684, 'kent': 4649, 'wwwwomenonweborg': 9610, 'wwwwomenhelporg': 9609, 'exhort': 2998, 'utmost': 9200, 'cankick': 1225, 'garret': 3523, 'charl': 1404, 'haughey': 3864, 'supin': 8317, 'reread': 7151, 'prescient': 6593, 'straitjacket': 8183, 'quagmir': 6787, 'envelop': 2869, 'hodgerss': 4017, 'anencephal': 327, 'michel': 5330, 'hart': 3852, 'deleg': 2233, 'malon': 5124, 'academia': 46, 'tfmr': 8538, 'strength': 8198, 'learnt': 4814, 'counterpart': 1930, 'incis': 4265, 'clinician': 1547, 'wholetim': 9483, 'budgetari': 1103, 'maureen': 5208, 'slovenia': 7862, 'tenweek': 8516, 'eightweek': 2728, 'kinder': 4675, 'caringli': 1263, 'preach': 6546, 'shankil': 7664, 'confess': 1747, 'priest': 6621, 'firefight': 3235, 'angri': 334, 'darker': 2130, 'upbeat': 9158, 'sellbi': 7585, 'augur': 578, 'crap': 1963, 'metoo': 5318, 'coverup': 1951, 'mcareavey': 5222, 'resign': 7163, 'baggag': 653, 'stink': 8154, 'filibust': 3206, 'worm': 9573, 'someday': 7956, 'ruth': 7378, 'mistaken': 5436, 'noncathol': 5753, 'nonetho': 5765, 'coil': 1601, 'wellround': 9442, 'wellinform': 9433, 'morningaft': 5513, 'whosoev': 9488, 'hardhit': 3831, 'fertil': 3180, 'misogyni': 5426, 'midwiv': 5350, 'librari': 4886, 'intrud': 4477, 'riski': 7279, 'writer': 9598, 'edna': 2710, 'pagan': 6145, 'unhappi': 9052, 'authoritarian': 591, 'holi': 4025, 'sympathet': 8383, 'outnumb': 6053, 'fatwa': 3137, 'revel': 7211, 'childrear': 1443, 'dilat': 2377, 'curettag': 2067, 'chemist': 1427, 'forecast': 3341, 'sky': 7821, 'poster': 6514, 'hello': 3934, 'bye': 1167, 'spontan': 8041, 'sine': 7779, 'qua': 6785, 'non': 5747, 'wholeoflif': 9481, 'culdesac': 2052, 'niec': 5717, 'ocarrol': 5881, 'kirwan': 4682, 'stoneybatt': 8163, 'fingla': 3224, 'northsid': 5802, 'illegitimaci': 4183, 'nonelect': 5762, 'empathis': 2794, 'retent': 7191, 'reliv': 7078, 'debunk': 2172, 'millennia': 5371, 'medicalis': 5267, 'unsupervis': 9136, 'embryolog': 2779, 'development': 2330, 'insul': 4418, 'lightn': 4912, 'revolv': 7226, 'myriad': 5602, 'implant': 4223, 'loos': 5012, 'notif': 5813, 'anonym': 352, 'practicel': 6537, 'diagnost': 2345, 'indemn': 4299, 'ultrasound': 8924, 'confirmatori': 1754, 'underfund': 8987, 'harney': 3846, 'communitybas': 1673, 'crumbl': 2034, 'summari': 8291, 'contenti': 1820, 'appris': 448, 'transient': 8754, 'overdos': 6078, 'antagonis': 359, 'fullterm': 3465, 'abid': 13, 'byzantin': 1176, 'recruit': 6973, 'gynaecolog': 3767, 'hr': 4092, 'credenc': 1975, 'lifeanddeath': 4896, 'sovereign': 7990, 'ultraliber': 8922, 'preparatori': 6587, 'spuriou': 8055, 'rig': 7254, 'potshot': 6525, 'palat': 6152, 'shudder': 7734, 'selfadminist': 7568, 'unsur': 9137, 'unaddress': 8938, 'disappointingli': 2403, 'panadol': 6162, 'untru': 9144, 'exponenti': 3029, 'unfound': 9050, 'avalanch': 604, 'skirt': 7819, 'thirteenth': 8575, 'expressli': 3034, 'fourteenth': 3396, 'display': 2469, 'notinmybackyard': 5815, 'selfadministr': 7569, 'slipperi': 7856, 'slope': 7859, 'medial': 5262, 'hearten': 3898, 'census': 1355, 'eloqu': 2763, 'heartwrench': 3902, 'inflex': 4347, 'richli': 7244, 'disillusion': 2448, 'contextualis': 1823, 'croke': 1999, 'sempl': 7597, 'stadium': 8073, 'pairc': 6151, 'ui': 8913, 'chaoimh': 1394, 'coin': 1603, 'regularis': 7032, 'inadequaci': 4251, 'mudsling': 5556, 'tall': 8427, 'fiction': 3194, 'detract': 2322, 'prolifer': 6687, 'popup': 6491, 'comput': 1719, 'leaflet': 4803, 'verifi': 9256, 'filter': 3209, 'superior': 8312, 'adorn': 118, 'reign': 7043, 'tangent': 8435, 'counten': 1921, 'donor': 2554, 'login': 4986, 'wwwchecktheregisteri': 9608, 'rfa': 7231, 'download': 2577, 'stamp': 8091, 'franchis': 3409, 'buckley': 1100, 'nolan': 5745, 'outgo': 6045, 'unpleas': 9095, 'communic': 1670, 'massgoer': 5192, 'dalkey': 2109, 'curat': 2064, 'churchgoer': 1473, 'relinquish': 7076, 'midwiferi': 5349, 'infant': 4336, 'equit': 2889, 'antenat': 361, 'screen': 7511, 'bereav': 815, 'grandfath': 3666, 'uncl': 8961, 'policemen': 6463, 'abortionfre': 23, 'nonetheless': 5764, 'belat': 782, 'forese': 3350, 'dick': 2357, 'empathi': 2793, 'showcas': 7726, 'nenagh': 5677, 'typifi': 8900, 'nasti': 5627, 'virgin': 9302, 'halfway': 3789, 'disintermedi': 2453, 'insensit': 4391, 'mellett': 5281, 'explicitli': 3025, 'secondli': 7542, 'carer': 1261, 'domiciliari': 2540, 'respit': 7173, 'swap': 8362, 'cv': 2091, 'chorion': 1457, 'villu': 9293, 'sampl': 7428, 'placenta': 6400, 'highqual': 3984, 'chairmanship': 1382, 'clearcut': 1527, 'optim': 5995, 'wolf': 9545, 'gregori': 3706, 'be': 738, 'closest': 1562, 'saveabl': 7457, 'walkin': 9354, 'ie': 4168, 'specialti': 8007, 'psychiatrist': 6749, 'comhaonta': 1645, 'sasta': 7443, 'thabhairt': 8541, 'uncompromis': 8965, 'legislatur': 4837, 'endanger': 2816, 'unwilling': 9156, 'appallingli': 427, 'etern': 2922, 'unavoid': 8948, 'defer': 2214, 'czech': 2099, 'upcom': 9159, 'frank': 3414, 'steadfast': 8131, 'prevar': 6614, 'journal': 4592, 'nonnegoti': 5777, 'whichev': 9467, 'vacuum': 9210, 'paralys': 6180, 'gladli': 3599, 'frown': 3451, 'fierc': 3200, 'daileanna': 2105, 'cahil': 1192, 'ford': 3339, 'perish': 6299, 'suck': 8271, 'mysteri': 5603, 'buswel': 1157, 'grandmoth': 3667, 'nottoodist': 5818, 'solemn': 7939, 'bogey': 944, 'transcend': 8749, 'insight': 4395, 'overjoy': 6091, 'vulgar': 9338, 'fleme': 3282, 'pluck': 6438, 'retract': 7195, 'conced': 1725, 'brown': 1088, 'leather': 4820, 'quietli': 6811, 'businessman': 1152, 'businesswoman': 1153, 'honeymoon': 4049, 'girlfriend': 3594, 'siobhan': 7792, 'paus': 6237, 'muchlov': 5549, 'courier': 1940, 'wive': 9540, 'proce': 6654, 'oust': 6032, 'henceforth': 3945, 'citat': 1492, 'hiqa': 4002, 'reimburs': 7045, 'multidisciplinari': 5567, 'neonat': 5679, 'negat': 5668, 'crossgroup': 2015, 'unnecessarili': 9089, 'unencumb': 9030, 'stateintroduc': 8116, 'antithet': 395, 'privaci': 6636, 'judgement': 4600, 'wellarticul': 9429, 'goodby': 3635, 'passport': 6218, 'emma': 2787, 'snow': 7912, 'cancel': 1221, 'reschedul': 7152, 'fret': 3437, 'postman': 6516, 'aoif': 413, 'mytholog': 5607, 'shriek': 7730, 'sorrow': 7976, 'banshe': 699, 'padraig': 6144, 'pears': 6259, 'mise': 5414, 'eir': 2733, 'homeland': 4036, 'cradl': 1960, 'personifi': 6312, 'immortalis': 4206, 'command': 1649, 'falsehood': 3098, 'bamboozl': 684, 'computergener': 1720, 'selfabort': 7566, 'binari': 865, 'shook': 7706, 'dispel': 2466, 'georg': 3571, 'toot': 8697, 'itali': 4533, 'turkey': 8862, 'leah': 4805, 'hoctor': 4015, 'billi': 859, 'grievous': 3713, 'ether': 2923, 'succeed': 8267, 'headstart': 3881, 'apartheid': 420, 'rattl': 6892, 'dearli': 2161, 'linen': 4926, 'resent': 7155, 'stain': 8080, 'launder': 4776, 'luckili': 5059, 'castig': 1293, 'glanbia': 3600, 'fbd': 3143, 'iphon': 4502, 'steamrol': 8136, 'newborn': 5694, 'cull': 2053, 'sabina': 7390, 'traci': 8727, 'harkin': 3842, 'trisomi': 8811, 'angel': 329, 'graveyard': 3688, 'cyberbulli': 2093, 'acquiesc': 72, 'lifelong': 4902, 'braveri': 1022, 'generos': 3557, 'slept': 7845, 'dormitori': 2564, 'kindli': 4677, 'rocki': 7304, 'rope': 7330, 'boyfriend': 1004, 'condom': 1743, 'stealth': 8135, 'mum': 5583, 'conundrum': 1844, 'messi': 5311, 'adolesc': 114, 'unwel': 9154, 'unexpect': 9038, 'stranger': 8186, 'hoteli': 4080, 'emigr': 2782, 'unexpectedli': 9039, 'panick': 6167, 'boil': 950, 'clump': 1571, 'tongu': 8690, 'lid': 4892, 'session': 7629, 'nineteenth': 5728, 'griswold': 3717, 'connecticut': 1771, 'ivana': 4535, 'bacik': 627, 'catalyst': 1304, 'mcgee': 5232, 'unenumer': 9033, 'influenti': 4351, 'glean': 3604, 'reneg': 7102, 'twelfth': 8876, 'twentyfifth': 8880, 'tr': 8724, 'vitro': 9314, 'ivf': 4537, 'narrowli': 5624, 'mairead': 5104, 'enright': 2845, 'fiona': 3233, 'londra': 4991, 'unvarnish': 9149, 'sober': 7917, 'crystallis': 2040, 'inviol': 4491, 'hunger': 4113, 'hydrat': 4127, 'caesarian': 1188, 'refresh': 7009, 'saga': 7410, 'troika': 8816, 'meter': 5315, 'chronic': 1466, 'offbal': 5905, 'unconsid': 8969, 'commodif': 1663, 'financialis': 3215, 'unspoken': 9132, 'newera': 5697, 'boycot': 1001, 'stun': 8230, 'rightwat': 7264, 'uturn': 9204, 'manifesto': 5143, 'sanit': 7435, 'discomfit': 2417, 'acrimoni': 76, 'speedread': 8019, 'aspers': 526, 'hardwork': 3839, 'ciri': 1491, 'wiser': 9527, 'transpir': 8760, 'instal': 4406, 'standardis': 8096, 'fourperson': 3393, 'pervers': 6321, 'oneperson': 5957, 'reprofil': 7142, 'unspent': 9130, 'recip': 6943, 'leak': 4807, 'pipe': 6382, 'hibern': 3962, 'commodifi': 1664, 'revert': 7214, 'cooler': 1858, 'drink': 2609, 'variat': 9230, 'overseen': 6107, 'arcan': 467, 'devolv': 2335, 'cashstrap': 1289, 'temptat': 8501, 'adjust': 105, 'to': 8669, 'fro': 3445, 'aboutturn': 25, 'wastag': 9384, 'latitud': 4768, 'leakag': 4808, 'creak': 1968, 'excessrel': 2982, 'litr': 4954, 'extinguish': 3042, 'delib': 2235, 'civic': 1500, 'dedic': 2195, 'defici': 2217, 'wastewat': 9386, 'sewag': 7644, 'thm': 8582, 'byproduct': 1172, 'chlorin': 1450, 'pipelin': 6383, 'rehabilit': 7038, 'customerfocus': 2085, 'firstfix': 3240, 'aquat': 455, 'ordinarili': 6010, 'cru': 2023, 'furnish': 3482, 'suspens': 8354, 'dissolut': 2487, 'ab': 1, 'ca': 1177, 'valuat': 9220, 'rateabl': 6880, 'subhead': 8240, 'wil': 9501, 'divert': 2511, 'wooden': 9553, 'swell': 8371, 'asbesto': 515, 'depot': 2281, 'residu': 7162, 'newslett': 5703, 'infrequ': 4355, 'sewerag': 7645, 'antiqu': 389, 'vartri': 9233, 'tunnel': 8856, 'awoken': 622, 'debacl': 2164, 'fudg': 3457, 'copperfasten': 1872, 'multiannu': 5564, 'unduli': 9025, 'bandi': 688, 'straighten': 8179, 'timet': 8651, 'flog': 3295, 'trojan': 8817, 'ronseal': 7323, 'tin': 8654, 'waster': 9385, 'saddl': 7402, 'backdoor': 631, 'bang': 690, 'boycott': 1002, 'widen': 9492, 'stone': 8162, 'teen': 8481, 'midtol': 5346, 'visavi': 9306, 'grit': 3718, 'beaten': 745, 'mealymouth': 5245, 'cod': 1584, 'stopcock': 8168, 'superprofit': 8313, 'psych': 6746, 'camel': 1208, 'contagi': 1812, 'contagion': 1813, 'antiwat': 400, 'politicis': 6471, 'radicalis': 6831, 'sene': 7600, 'facesav': 3064, 'arrogantli': 506, 'backroom': 639, 'suspici': 8355, 'payer': 6245, 'smear': 7881, 'postelect': 6513, 'dodgi': 2529, 'beforehand': 766, 'reintroduct': 7051, 'wont': 9551, 'derail': 2286, 'confidenceandsuppli': 1749, 'overusag': 6119, 'entiti': 2859, 'sla': 7826, 'wellknown': 9435, 'subcontract': 8237, 'ancient': 320, 'ceo': 1364, 'servicelevel': 7628, 'discontinu': 2420, 'fiasco': 3192, 'deficit': 2218, 'longpromis': 5002, 'editor': 2708, 'magazin': 5088, 'taxfre': 8459, 'outlaid': 6046, 'arrog': 505, 'fraught': 3420, 'tension': 8511, 'getgo': 3582, 'lifespan': 4904, 'pr': 6535, 'memo': 5287, 'costrecoveri': 1910, 'telemetri': 8487, 'selfevid': 7575, 'prudent': 6741, 'victorian': 9280, 'communitytyp': 1675, 'helplin': 3940, 'assuag': 538, 'comptrol': 1714, 'auditor': 576, 'earmark': 2679, 'sizeabl': 7809, 'audit': 575, 'semist': 7596, 'omiss': 5942, 'millionair': 5373, 'recipi': 6944, 'glove': 3615, 'orourk': 6020, 'receptionist': 6940, 'client': 1540, 'gaell': 3499, 'cave': 1330, 'supplyandconfid': 8322, 'rollback': 7314, 'cynic': 2098, 'hardlin': 3834, 'unrefurbish': 9112, 'tradeabl': 8732, 'chargeabl': 1402, 'antiprivatis': 388, 'supplier': 8321, 'unmet': 9086, 'bhfuilimid': 841, 'gcoinn': 3538, 'debilit': 2167, 'atroci': 557, 'bedevil': 752, 'drinkabl': 2610, 'accomplish': 57, 'recalcul': 6934, 'mischiev': 5407, 'duplicit': 2658, 'deduc': 2196, 'detroit': 2324, 'waiver': 9349, 'hygien': 4132, 'gear': 3546, 'bidder': 852, 'crosscounti': 2010, 'scandalis': 7468, 'profitmak': 6674, 'oxygen': 6133, 'outer': 6043, 'abund': 40, 'killybeg': 4669, 'scarciti': 7475, 'ruralurban': 7373, 'manorhamilton': 5150, 'kilometr': 4671, 'pipework': 6384, 'sluic': 7866, 'microcosm': 5333, 'allinclus': 249, 'limb': 4919, 'corraleehan': 1883, 'ballinamor': 666, 'overh': 6085, 'reset': 7158, 'mend': 5293, 'pivot': 6394, 'broadband': 1069, 'masonit': 5187, 'hoot': 4056, 'spade': 7994, 'jargon': 4554, 'trotskyism': 8825, 'swim': 8375, 'collinss': 1622, 'borehol': 977, 'dissuas': 2489, 'harbour': 3824, 'drainag': 2594, 'inner': 4376, 'stillorgan': 8152, 'reservoir': 7157, 'threeweek': 8606, 'waterintens': 9392, 'saner': 7434, 'tame': 8432, 'unmitig': 9087, 'swear': 8365, 'bucket': 1099, 'denigr': 2262, 'pioneer': 6380, 'sundri': 8303, 'mighti': 5352, 'cosi': 1898, 'cartel': 1278, 'manna': 5146, 'spat': 7998, 'burton': 1144, 'deanfaidh': 2158, 'dhicheal': 2341, 'tab': 8398, 'starkli': 8104, 'uisc': 8915, 'ainm': 201, 'overload': 6096, 'glaringli': 3602, 'cer': 1365, 'brigad': 1055, 'costeffici': 1907, 'joiner': 4585, 'faulti': 3139, 'lurch': 5069, 'fergu': 3176, 'caretak': 1262, 'goodwil': 3638, 'mistreat': 5437, 'suchandsuch': 8270, 'pusher': 6782, 'septic': 7614, 'fiver': 3254, 'fleetingli': 3281, 'carlow': 1264, 'kilkenni': 4665, 'phelan': 6342, 'jest': 4564, 'sank': 7436, 'jcb': 4557, 'drain': 2593, 'conjob': 1766, 'pittanc': 6393, 'prune': 6742, 'upright': 9170, 'civicmind': 1501, 'anarchist': 317, 'trench': 8784, 'african': 157, 'indian': 4304, 'cult': 2056, 'manger': 5138, 'driveway': 2616, 'laybi': 4791, 'liquid': 4938, 'kindergarten': 4676, 'repaid': 7119, 'santa': 7437, 'clau': 1519, 'schoolchildren': 7489, 'zoo': 9650, 'disdain': 2433, 'defunct': 2223, 'drivebi': 2613, 'readymad': 6905, 'scrapyard': 7508, 'steel': 8137, 'batteri': 732, 'frost': 3450, 'payasyougo': 6243, 'forbear': 3335, 'gush': 3759, 'drown': 2623, 'relish': 7077, 'gusto': 3761, 'gracious': 3656, 'penanc': 6275, 'paragon': 6177, 'earnest': 2682, 'auction': 571, 'shamelessli': 7662, 'classic': 1516, 'disimprov': 2449, 'lockout': 4979, 'prime': 6624, 'unfaith': 9042, 'simmer': 7765, 'palpabl': 6156, 'tea': 8465, 'ignit': 4173, 'sprang': 8048, 'placard': 6395, 'warrior': 9379, 'jersey': 4563, 'slur': 7868, 'feral': 3174, 'almighti': 260, 'pound': 6528, 'drove': 2622, 'endgam': 2820, 'sail': 7413, 'soundli': 7983, 'grubbi': 3733, 'usher': 9194, 'decrepit': 2191, 'flush': 3306, 'mythic': 5606, 'axe': 624, 'lh': 4875, 'seamu': 7530, 'bribe': 1046, 'prebudget': 6549, 'pot': 6521, 'rightchangerightwat': 7258, 'catalonia': 1303, 'barcelona': 706, 'franco': 3411, 'massacr': 5190, 'batter': 731, 'tuition': 8850, 'perplex': 6306, 'muchquot': 5551, 'hyde': 4126, 'bengal': 811, 'terrac': 8522, 'woke': 9543, 'downstair': 2581, 'brilliant': 1059, 'star': 8102, 'underspend': 9004, 'duffi': 2637, 'climax': 1544, 'boister': 952, 'eurostat': 2938, 'bonu': 964, 'potabl': 6522, 'lane': 4742, 'craw': 1965, 'rebel': 6930, 'withhold': 9536, 'antiwar': 399, 'preelect': 6566, 'emblazon': 2775, 'tombston': 8687, 'arous': 499, 'latepay': 4764, 'vent': 9246, 'inflict': 4348, 'shower': 7727, 'unaccount': 8935, 'newer': 5696, 'sledgehamm': 7838, 'nomin': 5746, 'brake': 1014, 'shove': 7724, 'ervia': 2905, 'midleinst': 5342, 'knife': 4692, 'backer': 633, 'valiant': 9214, 'renationalis': 7099, 'excis': 2985, 'rightchang': 7257, 'transmit': 8757, 'lough': 5029, 'talt': 8431, 'trihalomethan': 8801, 'scour': 7502, 'understaf': 9005, 'molecul': 5471, 'threemonthli': 8605, 'paperwork': 6171, 'bord': 973, 'gai': 3503, 'sidelin': 7744, 'subcontractor': 8238, 'slice': 7846, 'loaf': 4968, 'goahead': 3619, 'ballyhard': 674, 'glenamaddi': 3607, 'rigamarol': 7255, 'gander': 3513, 'clay': 1522, 'wayleav': 9399, 'downth': 2583, 'outag': 6034, 'straightaway': 8178, 'milk': 5368, 'creameri': 1969, 'seep': 7557, 'ultraviolet': 8925, 'cryptosporidium': 2037, 'mgl': 5323, 'cu': 2044, 'logger': 4984, 'ratio': 6886, 'uv': 9206, 'genius': 3560, 'reaction': 6897, 'blasphemi': 903, 'manhandl': 5139, 'drimnagh': 2607, 'donnycarney': 2552, 'togher': 8676, 'ballyphehan': 679, 'roadbyroad': 7286, 'bolivia': 954, 'marcela': 5159, 'olivera': 5937, 'bechtel': 749, 'suez': 8277, 'gobbl': 3621, 'impoverish': 4236, 'riot': 7271, 'hamburg': 3796, 'munich': 5584, 'remunicipalis': 7097, 'bobbi': 938, 'mexico': 5322, 'smelli': 7883, 'invert': 4487, 'snobberi': 7907, 'microscop': 5335, 'chemistri': 1428, 'skylight': 7823, 'selloff': 7587, 'rot': 7338, 'wither': 9534, 'counterpos': 1931, 'boilwat': 951, 'hilari': 3990, 'siteserv': 7799, 'pun': 6763, 'recit': 6946, 'literari': 4948, 'prize': 6643, 'destini': 2308, 'rambl': 6851, 'disparag': 2465, 'bewild': 834, 'prelud': 6580, 'yorkshir': 9633, 'maggi': 5090, 'thatcher': 8548, 'cholera': 1455, 'brazil': 1024, 'veolia': 9249, 'overus': 6118, 'crook': 2002, 'junior': 4613, 'thick': 8567, 'cigarett': 1482, 'charad': 1400, 'cosmet': 1900, 'fictiti': 3195, 'su': 8235, 'greedi': 3698, 'lenienc': 4853, 'staleen': 8087, 'thoughtthrough': 8591, 'metr': 5319, 'uncov': 8974, 'hubri': 4095, 'moot': 5502, 'cant': 1229, 'sack': 7395, 'ant': 357, 'dee': 2198, 'glyde': 3617, 'fishermen': 3246, 'riverb': 7283, 'swallow': 8359, 'asleep': 524, 'invers': 4486, 'damien': 2113, 'dualiti': 2631, 'testament': 8533, 'hardfought': 3830, 'stubborn': 8221, 'technocraci': 8477, 'chronicl': 1467, 'dizzi': 2519, 'bestcas': 825, 'japanes': 4553, 'equalis': 2884, 'expedit': 3009, 'unsavouri': 9120, 'fiveperson': 3253, 'flank': 3268, 'encompass': 2809, 'ratoath': 6891, 'kilbrid': 4660, 'skryne': 7820, 'duleek': 2642, 'demarc': 2247, 'ardcath': 474, 'garretstown': 3524, 'discoveri': 2426, 'cop': 1866, 'onsit': 5969, 'haul': 3865, 'dunshaughlin': 2655, 'reconnect': 6960, 'cafe': 1189, 'tanker': 8439, 'launderett': 4777, 'undemocrat': 8980, 'agit': 178, 'fraction': 3402, 'carlowkilkenni': 1265, 'infanc': 4335, 'tumbl': 8853, 'guesstim': 3743, 'overlay': 6093, 'onceoff': 5944, 'goldplat': 3629, 'fiveman': 3252, 'poss': 6506, 'sooner': 7968, 'uncomfort': 8963, 'lpt': 5052, 'sceptic': 7484, 'tinker': 8657, 'trodden': 8815, 'breakag': 1029, 'hurriedli': 4120, 'amidst': 294, 'rude': 7359, 'shorthour': 7717, 'bradi': 1010, 'nervou': 5683, 'discord': 2421, 'deja': 2231, 'vu': 9337, 'nighttim': 5724, 'griffin': 3714, 'recept': 6939, 'cead': 1336, 'tripadvisor': 8809, 'menu': 5296, 'distribut': 2500, 'brag': 1011, 'contend': 1818, 'unsoci': 9126, 'shred': 7729, 'antitheft': 394, 'slaveri': 7837, 'precar': 6550, 'betteroff': 833, 'prerog': 6591, 'headhunt': 3875, 'tronc': 8820, 'fortnightli': 3375, 'londonbas': 4990, 'waiter': 9346, 'waitress': 9347, 'stoog': 8165, 'undocu': 9022, 'speedili': 8018, 'dip': 2389, 'offpeak': 5914, 'vat': 9236, 'sweep': 8369, 'flesh': 3283, 'founder': 3387, 'amalgam': 279, 'longtim': 5005, 'forsa': 3370, 'lowwag': 5049, 'minimumwag': 5387, 'halligan': 3792, 'finian': 3226, 'leisur': 4842, 'gratuiti': 3686, 'debit': 2168, 'courteou': 1943, 'disgruntl': 2440, 'odea': 5894, 'chef': 1422, 'onegalway': 5953, 'onecork': 5950, 'till': 8643, 'cummin': 2059, 'patron': 6233, 'usc': 9189, 'newfound': 5698, 'band': 687, 'wrc': 9590, 'reclassif': 6950, 'onesizefitsal': 5961, 'ontario': 5972, 'canadian': 1218, 'provinci': 6733, 'paperbas': 6170, 'troncmast': 8821, 'noncash': 5752, 'recordkeep': 6964, 'distinguish': 2495, 'paramet': 6181, 'meanstest': 5249, 'vintner': 9297, 'downsid': 2579, 'unashamedli': 8946, 'prowork': 6738, 'antiemploy': 379, 'taxabl': 8457, 'lament': 4734, 'cashless': 1287, 'reckon': 6949, 'conceal': 1724, 'threadbar': 8597, 'loom': 5008, 'damocl': 2116, 'halfbak': 3783, 'humbl': 4105, 'internalis': 4451, 'headon': 3878, 'precept': 6554, 'accru': 61, 'technocrat': 8478, 'insurmount': 4421, 'kernel': 4652, 'paradigm': 6175, 'duli': 2643, 'mow': 5542, 'unimplement': 9062, 'dislik': 2454, 'takeov': 8419, 'goodman': 3636, 'paddi': 6142, 'fheil': 3189, 'tast': 8452, 'derogatori': 2290, 'smile': 7885, 'blah': 894, 'bread': 1026, 'butter': 1159, 'ironman': 4517, 'upstair': 9175, 'travesti': 8773, 'antipenalis': 386, 'solvent': 7953, 'bh': 837, 'tata': 8453, 'truste': 8839, 'riskier': 7280, 'crosssubsidis': 2020, 'weakest': 9405, 'downturn': 2584, 'creditor': 1979, 'riskfre': 7278, 'gradual': 3658, 'annuiti': 347, 'restructur': 7184, 'windup': 9517, 'solvenc': 7952, 'viabil': 9269, 'imprud': 4243, 'superannu': 8308, 'aer': 139, 'lingu': 4929, 'willi': 9507, 'inferior': 4340, 'trouser': 8828, 'spout': 8047, 'monopoli': 5490, 'racket': 6827, 'incongru': 4279, 'jackass': 4544, 'eaten': 2693, 'smart': 7875, 'clever': 1536, 'unsatisfactori': 9119, 'deed': 2199, 'recover': 6969, 'aleck': 227, 'trigger': 8800, 'neatli': 5656, 'snooker': 7909, 'roundabout': 7346, 'nuj': 5840, 'impart': 4210, 'scanlon': 7470, 'actuari': 85, 'oloughlin': 5938, 'beneficiari': 806, 'db': 2148, 'highprior': 3982, 'nonpension': 5781, 'abundantli': 41, 'wrap': 9587, 'lick': 4891, 'turmoil': 8864, 'raid': 6840, 'postretir': 6519, 'inm': 4374, 'penros': 6279, 'accentu': 50, 'prise': 6632, 'deplet': 2276, 'closedown': 1560, 'admittedli': 112, 'crystalis': 2039, 'goingconcern': 3625, 'brink': 1062, 'blatant': 905, 'fester': 3183, 'roisin': 7311, 'shortal': 7712, 'aaapbp': 0, 'trot': 8824, 'preponder': 6588, 'tori': 8704, 'meaningless': 5248, 'oscar': 6025, 'timehonour': 8648, 'payback': 6244, 'rogu': 7309, 'watertight': 9394, 'dungarvan': 2650, 'worldrenown': 9571, 'cobbl': 1581, 'smartars': 7876, 'solicitor': 7940, 'spous': 8046, 'sme': 7880, 'griev': 3711, 'bolt': 956, 'horsebox': 4070, 'brightest': 1058, 'potato': 6523, 'jackdaw': 4545, 'scarecrow': 7477, 'slimi': 7854, 'batch': 728, 'dive': 2506, 'conniv': 1773, 'distast': 2492, 'highpow': 3981, 'overground': 6082, 'handicap': 3804, 'alec': 226, 'jobseek': 4576, 'coffer': 1592, 'xerox': 9612, 'walt': 9360, 'disney': 2460, 'motorola': 5529, 'journalregist': 4594, 'remington': 7089, 'hewlett': 3961, 'packard': 6139, 'boe': 942, 'graph': 3677, 'domino': 2543, 'aviva': 611, 'pfizer': 6333, 'grafton': 3660, 'arnott': 496, 'shirk': 7699, 'cleverli': 1537, 'noncontributori': 5756, 'handsom': 3811, 'mainstay': 5100, 'helen': 3932, 'mcente': 5231, 'arcadia': 466, 'fleec': 3279, 'salt': 7422, 'transposit': 8764, 'ec': 2695, 'transpos': 8763, 'foremost': 3347, 'pharmaci': 6339, 'vocal': 9316, 'bankrupt': 695, 'adversari': 128, 'pharmaceut': 6338, 'corbal': 1874, 'kathryn': 4631, 'psi': 6745, 'queri': 6804, 'dentist': 2269, 'dental': 2268, 'centralis': 1361, 'traine': 8742, 'internship': 4453, 'noneu': 5766, 'postgradu': 6515, 'profici': 6671, 'requisit': 7150, 'underqualifi': 8999, 'wholli': 9484, 'nonconsult': 5755, 'admonish': 113, 'censur': 1354, 'preliminari': 6579, 'prescrib': 6594, 'cannabi': 1226, 'cervicalcheck': 1374, 'gabriel': 3495, 'scalli': 7465, 'disclosur': 2416, 'empath': 2792, 'cervic': 1373, 'nonmeanstest': 5775, 'headlin': 3876, 'overrun': 6103, 'ambul': 288, 'cahersiveen': 1191, 'aggriev': 175, 'hasten': 3860, 'bona': 958, 'fide': 3197, 'malpractic': 5125, 'monstros': 5492, 'radiograph': 6833, 'radiographi': 6834, 'matron': 5202, 'chart': 1408, 'cashel': 1286, 'deceas': 2175, 'prerequisit': 6590, 'iaem': 4140, 'squirm': 8064, 'therapist': 8558, 'button': 1161, 'dumb': 2644, 'conveyanc': 1851, 'eea': 2712, 'oral': 6003, 'noneea': 5761, 'undischarg': 9020, 'midwif': 5348, 'overview': 6120, 'caolain': 1235, 'pleasant': 6427, 'outreach': 6059, 'lotteri': 5024, 'raffl': 6836, 'drum': 2625, 'sarah': 7441, 'ekada': 2737, 'mullin': 5562, 'triona': 8807, 'immigr': 4203, 'coercion': 1590, 'dementia': 2249, 'corrobor': 1890, 'verbal': 9251, 'unsettl': 9124, 'flex': 3285, 'boggl': 945, 'nsc': 5829, 'inroad': 4386, 'gape': 3517, 'keho': 4641, 'buck': 1098, 'evelyn': 2947, 'wilson': 9513, 'threefold': 8603, 'greet': 3705, 'eurobaromet': 2933, 'alzheim': 277, 'scari': 7479, 'disord': 2461, 'greenleaf': 3703, 'tweak': 8874, 'duirt': 2640, 'nduirt': 5647, 'danc': 2119, 'ballymacarbri': 675, 'cathi': 1317, 'kati': 4632, 'kitti': 4686, 'rambleshaggletaggl': 6852, 'mbeidh': 5220, 'bua': 1096, 'gaff': 3502, 'harti': 3853, 'hunt': 4116, 'bacon': 645, 'cabbag': 1179, 'turnip': 8868, 'untasti': 9139, 'redraft': 6986, 'shatter': 7676, 'mightier': 5353, 'metal': 5313, 'ornament': 6019, 'mast': 5194, 'infal': 4333, 'subtl': 8264, 'tigh': 8637, 'ndaoin': 5645, 'gcaislean': 3536, 'nua': 5831, 'confidenti': 1750, 'loneli': 4993, 'cur': 2063, 'banish': 691, 'reappoint': 6919, 'wexford': 9451, 'fog': 3316, 'ascertain': 516, 'underreport': 9000, 'nso': 5830, 'onefifth': 5952, 'caregiv': 1258, 'paranoid': 6183, 'delusion': 2245, 'counterfeit': 1928, 'cognit': 1596, 'intergener': 4444, 'unauthoris': 8947, 'andor': 324, 'materi': 5197, 'monetari': 5479, 'sage': 7411, 'suscept': 8351, 'ageist': 168, 'summat': 8294, 'genocid': 3561, 'encroach': 2812, 'crossbord': 2007, 'traffick': 8737, 'icc': 4146, 'transnat': 8758, 'piraci': 6386, 'codifi': 1587, 'geneva': 3559, 'adolf': 115, 'eichmann': 2723, 'holocaust': 4032, 'midlevel': 5343, 'henri': 3947, 'kissing': 4684, 'woodwork': 9557, 'extradit': 3047, 'augusto': 580, 'pinochet': 6378, 'shield': 7695, 'despot': 2304, 'rwanda': 7381, 'nelson': 5676, 'mandela': 5137, 'prosecutor': 6713, 'rendit': 7101, 'elev': 2754, 'lodg': 4980, 'belgian': 785, 'isra': 4529, 'ariel': 489, 'sharon': 7672, 'idf': 4164, 'amo': 300, 'yaron': 9617, 'lebanes': 4822, 'sabra': 7392, 'shatila': 7675, 'beirut': 781, 'phalangist': 6335, 'mutil': 5597, 'kahan': 4623, 'nazi': 5642, 'proclaim': 6661, 'scupper': 7522, 'tzipi': 8903, 'livni': 4962, 'gaza': 3534, 'spanish': 7996, 'diari': 2351, 'rumsfeld': 7363, 'abduct': 8, 'experiment': 3016, 'humankind': 4103, 'uneven': 9037, 'unpunish': 9103, 'haven': 3867, 'overshadow': 6108, 'veto': 9266, 'extraterritori': 3051, 'paraphras': 6185, 'halliday': 3791, 'middleeast': 5338, 'abu': 39, 'ghraib': 3586, 'cia': 1477, 'guantanamo': 3736, 'legitimaci': 4839, 'awkward': 621, 'handshak': 3809, 'topdown': 8701, 'malaysia': 5114, 'kuala': 4707, 'lumpur': 5065, 'bagram': 654, 'satar': 7445, 'jabar': 4541, 'photo': 6353, 'hood': 4053, 'cheney': 1429, 'alberto': 222, 'gonzal': 3633, 'addington': 93, 'hayn': 3871, 'jay': 4556, 'bybe': 1166, 'yoo': 9630, 'absentia': 32, 'mahathir': 5093, 'salespeopl': 7419, 'emir': 2784, 'uae': 8905, 'collus': 1627, 'nongovernment': 5769, 'chadian': 1377, 'hissn': 4005, 'habr': 3772, 'prosecutori': 6714, 'petition': 6327, 'argentin': 484, 'adolfo': 116, 'scilingo': 7494, 'manuel': 5154, 'cavallo': 1327, 'rwandan': 7382, 'palestinian': 6155, 'timothi': 8653, 'workman': 9566, 'doron': 2565, 'almog': 261, 'heathrow': 3905, 'disembark': 2435, 'cowardic': 1953, 'obscen': 5865, 'lawn': 4785, 'detaine': 2314, 'verac': 9250, 'trundl': 8837, 'infinit': 4344, 'phosphoru': 6352, 'savageri': 7455, 'airstrik': 209, 'syrian': 8394, 'aibab': 196, 'turkish': 8863, 'charli': 1406, 'hebdo': 3911, 'mourn': 5536, 'seuma': 7635, 'miln': 5374, 'serri': 7624, 'autocrat': 593, 'binyamin': 867, 'netanyahu': 5686, 'abdullah': 9, 'egypt': 2721, 'tv': 8873, 'elus': 2766, 'nick': 5716, 'jewish': 4567, 'regain': 7016, 'barack': 703, 'assad': 528, 'komenski': 4703, 'comeniu': 1642, 'embroil': 2777, 'thirti': 8576, 'desol': 2298, 'yugoslavia': 9642, 'ratif': 6884, 'radovan': 6835, 'karadz': 4627, 'slobodan': 7857, 'milosev': 5375, 'ratko': 6890, 'mladic': 5449, 'franjo': 3413, 'tudjman': 8848, 'croatia': 1997, 'ethnic': 2926, 'cleans': 1525, 'summons': 8299, 'baltasar': 681, 'garzon': 3527, 'chile': 1445, 'overthrew': 6114, 'allend': 244, 'extermin': 3038, 'woodrow': 9556, 'nuremburg': 5845, 'watersh': 9393, 'tibetan': 8625, 'uighur': 8914, 'vietnam': 9282, 'lao': 4746, 'cambodia': 1205, 'pol': 6456, 'indonesian': 4317, 'uganda': 8911, 'igboland': 4172, 'nigeria': 5718, 'sudan': 8273, 'dictatorship': 2359, 'argentina': 485, 'carnag': 1266, 'mayhem': 5216, 'hersch': 3958, 'lauterpacht': 4779, 'nuremberg': 5844, 'raphael': 6869, 'lemkin': 4846, 'reich': 7042, 'slight': 7849, 'objection': 5859, 'allegi': 241, 'coven': 1947, 'oasi': 5852, 'nonintervent': 5770, 'subparagraph': 8246, 'charact': 1398, 'generallyrecognis': 3556, 'exert': 2995, 'kampala': 4624, 'contin': 1824, 'empower': 2801, 'malign': 5121, 'wari': 9368, 'ambassador': 284, 'nicaragua': 5714, 'fiji': 3204, 'ara': 457, 'uachtarain': 8904, 'merg': 5302, 'timelimit': 8649, 'ot': 6027, 'gambit': 3509, 'taper': 8446, 'granular': 3676, 'flatrat': 3273, 'stroke': 8210, 'pen': 6271, 'lahart': 4727, 'userfriendli': 9193, 'eii': 2729, 'vers': 9258, 'policymak': 6466, 'burdensom': 1131, 'configur': 1751, 'kdb': 4635, 'intellectu': 4425, 'uptak': 9177, 'tech': 8474, 'underpay': 8997, 'profound': 6676, 'simpler': 7768, 'chancellor': 1389, 'peripheri': 6298, 'cheat': 1416, 'volit': 9322, 'modif': 5464, 'businessfriendli': 1151, 'bankpwc': 694, 'sacrif': 7397, 'policyneutr': 6467, 'loser': 5019, 'liaison': 4880, 'realtim': 6915, 'accuraci': 65, 'bono': 963, 'pertin': 6318, 'thalidomid': 8542, 'grunenth': 3735, 'halfheart': 3787, 'insincer': 4396, 'undesir': 9018, 'pharma': 6337, 'dodg': 2528, 'epilim': 2881, 'sodium': 7930, 'valproat': 9217, 'epilepsi': 2880, 'bell': 792, 'ingest': 4359, 'feroc': 3177, 'plaintiff': 6405, 'misunderstood': 5441, 'chemi': 1425, 'miserli': 5417, 'guilt': 3751, 'inadvert': 4252, 'singularli': 7784, 'codefend': 1586, 'accrual': 62, 'utero': 9197, 'heinrich': 3926, 'muckter': 5553, 'poland': 6457, 'hermann': 3955, 'wirtz': 9524, 'aryanis': 514, 'blockbust': 920, 'laissezfair': 4731, 'hamfist': 3797, 'whelehan': 9460, 'distributor': 2501, 'documentari': 2526, 'ballinaslo': 667, 'retriev': 7198, 'followthrough': 3321, 'quantif': 6793, 'lump': 5064, 'stoicism': 8159, 'unacknowledg': 8937, 'entrench': 2863, 'hepat': 3949, 'hiv': 4009, 'bounc': 994, 'louder': 5027, 'dubiou': 2632, 'caoimhghin': 1234, 'vouch': 9333, 'sed': 7550, 'hypnot': 4135, 'tp': 8723, 'ex': 2969, 'gratia': 3684, 'whitehal': 9474, 'nonprovis': 5783, 'applianc': 439, 'procrastin': 6663, 'reprehens': 7135, 'shiver': 7702, 'spine': 8028, 'deform': 2222, 'antid': 375, 'haemophiliac': 3775, 'blood': 921, 'transvagin': 8765, 'mesh': 5307, 'standstil': 8098, 'uncondit': 8966, 'bipolar': 874, 'europeanwid': 2936, 'preassess': 6548, 'anticonvuls': 374, 'fac': 3060, 'mild': 5357, 'sinist': 7785, 'cruelli': 2029, 'brook': 1083, 'cluid': 1570, 'unverifi': 9150, 'supercharg': 8310, 'homogen': 4042, 'secondhand': 7541, 'downsiz': 2580, 'bracket': 1009, 'typolog': 8901, 'multistrand': 5578, 'drawdown': 2598, 'boherboy': 948, 'offsit': 5919, 'costreduc': 1911, 'adamstown': 89, 'evidenti': 2966, 'cassel': 1291, 'condol': 1742, 'dhei': 2340, 'anam': 315, 'uasal': 8907, 'plummet': 6441, 'exemplifi': 2992, 'commercialis': 1657, 'institutionalis': 4414, 'gaslight': 3528, 'boutiquestyl': 997, 'premium': 6584, 'depict': 2275, 'pushedback': 6781, 'hardwon': 3838, 'squeez': 8061, 'buildtor': 1109, 'trite': 8812, 'trevelyanesqu': 8788, 'oracl': 6002, 'ribbon': 7237, 'emergencylevel': 2781, 'scar': 7473, 'toddler': 8673, 'stunt': 8231, 'bulkbuy': 1115, 'manoeuvr': 5148, 'ideabas': 4157, 'elicit': 2755, 'snigger': 7904, 'pantomim': 6168, 'plinth': 6433, 'marketplac': 5178, 'socialis': 7921, 'feather': 3147, 'daunt': 2142, 'evapor': 2945, 'rentpressur': 7111, 'wt': 9606, 'throe': 8614, 'grumbl': 3734, 'slum': 7867, 'montenott': 5493, 'cadg': 1186, 'plot': 6434, 'mixedus': 5446, 'higherdens': 3974, 'vauban': 9237, 'rieselfeld': 7253, 'freiburg': 3431, 'decommodifi': 2188, 'remembr': 7087, 'actor': 83, 'carcas': 1252, 'kilbrittain': 4661, 'ballinade': 665, 'dunmanway': 2653, 'baffl': 651, 'hopefil': 4059, 'hikedup': 3989, 'unoccupi': 9092, 'glori': 3614, 'urbanbas': 9181, 'resettl': 7159, 'influx': 4352, 'surpass': 8339, 'picturesqu': 6364, 'sherkin': 7690, 'turnaround': 8866, 'bere': 814, 'whiddi': 9468, 'inund': 4478, 'drimoleagu': 2608, 'innishannon': 4378, 'castletownber': 1298, 'dwindl': 2667, 'terminolog': 8520, 'refram': 7008, 'cutpric': 2090, 'hare': 3840, 'appeas': 432, 'voltefac': 9323, 'stalwart': 8090, 'tulli': 8852, 'liam': 4881, 'kavanagh': 4634, 'emmet': 2789, 'stagg': 8078, 'mcmanu': 5239, 'shill': 7697, 'foolhardi': 3326, 'mirag': 5398, 'brien': 1054, 'anathema': 318, 'pig': 6369, 'snout': 7911, 'processor': 6658, 'westmeath': 9447, 'oneyear': 5964, 'taxfreehaven': 8460, 'contempl': 1816, 'phantom': 6336, 'mindboggl': 5378, 'outbid': 6035, 'lott': 5023, 'ugli': 8912, 'swamp': 8360, 'unequ': 9034, 'pessimist': 6323, 'sji': 7810, 'naughten': 5637, 'strokestown': 8211, 'seventytwo': 7641, 'loosen': 5013, 'headroom': 3880, 'maya': 5213, 'crept': 1982, 'oneb': 5948, 'poet': 6451, 'padraic': 6143, 'colum': 1632, 'hearth': 3900, 'housea': 4085, 'madigan': 5086, 'smallscal': 7873, 'buildtobuy': 1106, 'inequit': 4326, 'plank': 6410, 'assumpt': 540, 'badlywork': 650, 'underutilis': 9013, 'ballymot': 677, 'castlecom': 1295, 'compulsorili': 1717, 'lain': 4730, 'shd': 7678, 'colm': 1628, 'suburb': 8265, 'knocklyon': 4697, 'citywest': 1499, 'buildtolet': 1107, 'monument': 5498, 'pleanala': 6425, 'ancestr': 319, 'highdens': 3972, 'highris': 3985, 'ballyhais': 673, 'mullagh': 5560, 'avers': 607, 'plagu': 6401, 'fourpag': 3392, 'cahir': 1193, 'unus': 9147, 'partak': 6201, 'christmas': 1464, 'incens': 4257, 'collud': 1626, 'furiou': 3481, 'id': 4154, 'gazett': 3535, 'tolka': 8684, 'santi': 7438, 'vendor': 9244, 'ski': 7814, 'undercut': 8983, 'novelti': 5823, 'hefti': 3922, 'alcohol': 223, 'templ': 8495, 'coma': 1636, 'travers': 8772, 'intercept': 4434, 'ridden': 7248, 'curtilag': 2078, 'hobbyist': 4012, 'databas': 2136, 'pat': 6220, 'leahi': 4806, 'subcommitte': 8236, 'bystand': 1175, 'kingswood': 4680, 'killinarden': 4667, 'kiltipp': 4672, 'bawn': 735, 'fettercairn': 3186, 'dodder': 2527, 'motorcyclist': 5527, 'jeep': 4560, 'squad': 8058, 'marlay': 5179, 'leopardstown': 4857, 'unchalleng': 8958, 'wordi': 9559, 'superintend': 8311, 'rankandfil': 6863, 'kilnamanagh': 4670, 'shawshank': 7677, 'redempt': 6982, 'andi': 323, 'dufresn': 2638, 'warden': 9366, 'obtus': 5877, 'interdepartment': 4437, 'zappon': 9643, 'cabra': 1183, 'crossdepartment': 2013, 'multifactori': 5569, 'quasifunct': 6801, 'terrain': 8523, 'crosssector': 2019, 'counteract': 1924, 'jpc': 4598, 'parkland': 6194, 'identif': 4161, 'mpv': 5545, 'learner': 4813, 'collis': 1623, 'killjoy': 4668, 'traction': 8729, 'inclement': 4266, 'provision': 6735, 'rehab': 7037, 'smell': 7882, 'fond': 3323, 'reeduc': 6991, 'reevalu': 6995, 'simul': 7775, 'roadshow': 7288, 'pint': 6379, 'disband': 2410, 'oder': 5895, 'juri': 4615, 'unbalanc': 8950, 'disqualif': 2476, 'nonspecifi': 5788, 'nvdf': 5850, 'implicitli': 4228, 'implicit': 4227, 'dirt': 2395, 'geraldin': 3573, 'afc': 143, 'garryowen': 3526, 'nugent': 5837, 'ventur': 9247, 'unregist': 9113, 'powertoweight': 6533, 'disc': 2411, 'clamp': 1508, 'pavement': 6239, 'fractur': 3403, 'highimpact': 3977, 'spinal': 8027, 'soccer': 7919, 'trampolin': 8746, 'orthopaed': 6022, 'keith': 4642, 'synnott': 8390, 'twenti': 8878, 'finglasballymun': 3225, 'registri': 7026, 'greenway': 3704, 'ashtown': 521, 'cycleway': 2097, 'benevol': 810, 'oxfam': 6131, 'flak': 3265, 'deport': 2279, 'sudden': 8274, 'calam': 1198, 'tsunami': 8843, 'unif': 9057, 'reunit': 7205, 'unaccompani': 8934, 'idiot': 4165, 'linebylin': 4925, 'usabl': 9187, 'neat': 5655, 'host': 4074, 'reunif': 7203, 'nasc': 5625, 'ihap': 4175, 'unhcrrecognis': 9054, 'crossdeb': 2012, 'convey': 1850, 'bespok': 823, 'openend': 5980, 'unquantifi': 9105, 'naturalis': 5636, 'ini': 4365, 'waiv': 9348, 'volatil': 9321, 'irpp': 4518, 'subsidiari': 8255, 'myanmar': 5600, 'eritrea': 2895, 'burundi': 1145, 'triag': 8790, 'discretionbas': 2430, 'incomplet': 4275, 'calai': 1197, 'tusla': 8872, 'unhcr': 9053, 'grief': 3710, 'rescu': 7153, 'reinstat': 7048, 'strap': 8188, 'aunt': 581, 'ihrec': 4176, 'echr': 2698, 'jurisprud': 4617, 'grownup': 3730, 'disloc': 2455, 'hind': 3995, 'frantic': 3416, 'squalid': 8059, 'lesbo': 4860, 'moria': 5509, 'mouldi': 5532, 'bbc': 737, 'stab': 8068, 'fled': 3276, 'dump': 2645, 'pp': 6534, 'crosscar': 2008, 'racist': 6825, 'visa': 9305, 'hyne': 4134, 'granni': 3674, 'starter': 8106, 'shia': 7694, 'bahrain': 655, 'pimp': 6375, 'watchdog': 9388, 'puppet': 6768, 'observatori': 5868, 'brit': 1064, 'opendoor': 5979, 'gorey': 3641, 'fourfold': 3390, 'dens': 2265, 'fascist': 3124, 'marrakesh': 5180, 'soro': 7974, 'hump': 4107, 'belli': 794, 'escrow': 2911, 'nonbind': 5751, 'longwind': 5006, 'gobbledygook': 3622, 'fastestgrow': 3129, 'ticket': 8628, 'filth': 3210, 'mcmahon': 5238, 'skype': 7824, 'reunifi': 7204, 'colett': 1609, 'pringl': 6627, 'segment': 7558, 'lofti': 4981, 'fragment': 3405, 'rightsbas': 7261, 'doorway': 2561, 'dispossess': 2472, 'timid': 8652, 'roma': 7317, 'mdt': 5241, 'therapi': 8557, 'duel': 2636, 'psychotherapi': 6752, 'abdic': 7, 'willpow': 9511, 'denomin': 2264, 'multicultur': 5566, 'av': 601, 'socio': 7925, 'signatori': 7749, 'augment': 577, 'acced': 47, 'unnumer': 9090, 'lgbti': 4874, 'recoverybas': 6971, 'underw': 9014, 'aegi': 138, 'irishmen': 4512, 'irishwomen': 4513, 'reprioritis': 7139, 'breviti': 1041, 'sophistri': 7972, 'greek': 3699, 'deceiv': 2176, 'erudit': 2903, 'mcelligott': 5230, 'piou': 6381, 'dit': 2504, 'cao': 1233, 'franci': 3410, 'esc': 2907, 'uneas': 9026, 'grim': 3715, 'protestor': 6721, 'antidot': 377, 'countermeasur': 1929, 'watereddown': 9390, 'latvia': 4770, 'kenya': 4650, 'colombia': 1629, 'complementar': 1697, 'justici': 4619, 'unqualifi': 9104, 'peripher': 6297, 'trickledown': 8799, 'dismantl': 2457, 'citizenship': 1498, 'latvian': 4771, 'aiden': 198, 'lloyd': 4965, 'inou': 4382, 'finger': 3220, 'fork': 3363, 'sr': 8065, 'stanislau': 8099, 'kennedi': 4647, 'currenc': 2072, 'chip': 1449, 'wand': 9361, 'retilt': 7193, 'astound': 544, 'sociopath': 7927, 'callous': 1203, 'bleak': 909, 'ruairi': 7356, 'psychologist': 6751, 'cho': 1451, 'selfrespect': 7581, 'outward': 6067, 'disposit': 2471, 'icescr': 4149, 'stiglitz': 8148, 'allout': 253, 'bundl': 1126, 'commerc': 1655, 'infirm': 4345, 'vocat': 9317, 'hearn': 3892, 'declaratori': 2186, 'unobjection': 9091, 'boomerang': 969, 'gerard': 3574, 'predat': 6560, 'recogn': 6951, 'antiauster': 366, 'alliancepeopl': 248, 'democratsgreen': 2253, 'centrestag': 1362, 'cohes': 1598, 'umpir': 8928, 'jealous': 4558, 'sinnott': 7790, 'td': 8464, 'ascrib': 517, 'maladministr': 5111, 'nondiscretionari': 5759, 'photojourn': 6355, 'modul': 5466, 'darkroom': 2131, 'exam': 2974, 'macsharri': 5082, 'automobil': 596, 'sequel': 7615, 'bot': 985, 'trumplik': 8836, 'looney': 5009, 'garbag': 3518, 'mediafriendli': 5261, 'appointe': 442, 'censorship': 1352, 'censor': 1351, 'cruis': 2031, 'cruiser': 2032, 'masquerad': 5188, 'moni': 5486, 'ministri': 5391, 'totalitarian': 8710, 'localis': 4973, 'overboard': 6072, 'dup': 2656, 'bewilder': 835, 'stray': 8193, 'messeng': 5310, 'linkedin': 4932, 'instagram': 4405, 'whatsapp': 9454, 'campaignforleo': 1214, 'officehold': 5911, 'tu': 8844, 'leath': 4819, 'hoibr': 4020, 'sneaki': 7902, 'amnesti': 299, 'ogorman': 5922, 'obey': 5856, 'affront': 151, 'swiftli': 8374, 'sneakili': 7903, 'hashtag': 3856, 'hip': 4000, 'widow': 9497, 'wb': 9401, 'yeat': 9623, 'advert': 129, 'newsfe': 5702, 'zuckerberg': 9652, 'theyr': 8566, 'algorithm': 231, 'lend': 4849, 'dent': 2267, 'splurg': 8034, 'cocoon': 1583, 'silo': 7760, 'sock': 7928, 'scapegoat': 7472, 'billionair': 861, 'realm': 6914, 'publicis': 6755, 'billionairecontrol': 862, 'scab': 7461, 'ransom': 6865, 'placement': 6399, 'marc': 5158, 'congression': 1765, 'mueller': 5557, 'probe': 6651, 'malevol': 5117, 'relic': 7071, 'bygon': 1169, 'ticker': 8627, 'click': 1539, 'portal': 6495, 'ukip': 8917, 'hibernian': 3963, 'fullpag': 3464, 'beta': 829, 'hungari': 4112, 'immateri': 4199, 'lowtech': 5048, 'graphic': 3678, 'ingenu': 4358, 'pet': 6324, 'apprehens': 446, 'slick': 7847, 'welloil': 9437, 'pullout': 6761, 'merrionstreeti': 5306, 'fraser': 3417, 'mckenna': 5237, 'mccrystal': 5227, 'misspent': 5434, 'softwar': 7933, 'symptomat': 8387, 'burk': 1139, 'gumption': 3755, 'hung': 4111, 'purportedli': 6773, 'lawlesss': 4783, 'heck': 3912, 'nefari': 5666, 'secessionist': 7537, 'foreigninfluenc': 3346, 'pie': 6365, 'elbow': 2743, 'paschal': 6212, 'viewer': 9284, 'scu': 7520, 'uneth': 9036, 'donat': 2546, 'furtiv': 3486, 'metaphor': 5314, 'subterfug': 8263, 'orchestr': 6005, 'incoher': 4270, 'cyberspac': 2095, 'conduit': 1745, 'citizenfocus': 1497, 'costeffect': 1906, 'thirdparti': 8573, 'rationalis': 6889, 'realloc': 6913, 'delin': 2240, 'logist': 4987, 'gentrifi': 3565, 'gentrif': 3564, 'aesthet': 142, 'pan': 6159, 'kieran': 4659, 'mulvey': 5581, 'actionl': 80, 'brighter': 1057, 'steep': 8138, 'joyc': 4597, 'ocasey': 5882, 'behan': 774, 'exposur': 3032, 'gangland': 3515, 'fanfar': 3110, 'macdermott': 5077, 'overse': 6105, 'envis': 2874, 'redevelop': 6983, 'northeast': 5800, 'dawn': 2144, 'mediumterm': 5273, 'artist': 512, 'thereto': 8565, 'erupt': 2904, 'dorset': 2566, 'phibsborough': 6345, 'ballybough': 671, 'drumcondra': 2626, 'sevil': 7643, 'henrietta': 3948, 'allinnerc': 250, 'arbour': 464, 'cemeteri': 1349, 'smithfield': 7889, 'fruit': 3453, 'georgian': 3572, 'mountjoy': 5535, 'parnel': 6198, 'abbey': 6, 'affluenc': 148, 'blend': 911, 'multigener': 5570, 'seventyseven': 7640, 'percent': 6285, 'dominick': 2542, 'talbot': 8422, 'amien': 295, 'unlov': 9082, 'tortuous': 8707, 'colaist': 1605, 'mhuir': 5326, 'stateback': 8114, 'grangegorman': 3673, 'nonirish': 5771, 'mulveylik': 5582, 'ddda': 2150, 'rundown': 7366, 'clumsi': 1572, 'omit': 5943, 'partial': 6203, 'division': 2517, 'revitalis': 7219, 'oneoff': 5956, 'lion': 4935, 'au': 570, 'fait': 3091, 'daoin': 2124, 'oga': 5921, 'mol': 5470, 'oig': 5925, 'tiocfaidh': 8658, 'feud': 3187, 'song': 7965, 'percol': 6289, 'lucr': 5060, 'tipp': 8660, 'lisa': 4940, 'carrickonsuir': 1274, 'pobal': 6447, 'antidublin': 378, 'innerc': 4377, 'moorehaven': 5501, 'canon': 1228, 'knockancrawley': 4695, 'knockanrawley': 4696, 'cosda': 1894, 'smatter': 7879, 'smithereen': 7888, 'bottomup': 992, 'deer': 2205, 'cabhru': 1180, 'damascu': 2112, 'castleforb': 1296, 'bottl': 990, 'apprenticeship': 447, 'colloqui': 1625, 'ardoyn': 479, 'loyalist': 5050, 'pane': 6164, 'fling': 3289, 'posh': 6504, 'groundhog': 3723, 'hectar': 3914, 'johnni': 4581, 'ronan': 7322, 'developmentl': 2331, 'onesid': 5960, 'creator': 1973, 'brassplat': 1019, 'apartotel': 421, 'uproot': 9171, 'vibranc': 9271, 'oxmantown': 6132, 'manor': 5149, 'quay': 6802, 'aldborough': 224, 'standout': 8097, 'templat': 8496, 'southsid': 7988, 'rebecca': 6929, 'belveder': 801, 'ce': 1335, 'twinkl': 8887, 'spectacl': 8010, 'mayor': 5218, 'policeman': 6462, 'policewoman': 6464, 'lou': 5025, 'thinker': 8571, 'easiest': 2688, 'summerhil': 8296, 'rutland': 7380, 'oriel': 6015, 'peel': 6266, 'bipartisan': 873, 'optimist': 5997, 'resili': 7164, 'semirecov': 7594, 'plural': 6444, 'plainest': 6403, 'merger': 5303, 'opinionform': 5986, 'partisan': 6207, 'flashpoint': 3270, 'bruton': 1094, 'superb': 8309, 'murtagh': 5591, 'melia': 5279, 'herald': 3951, 'sam': 7426, 'mail': 5095, 'column': 1634, 'fm': 3309, 'moriarti': 5510, 'editori': 2709, 'ryanaira': 7385, 'paymast': 6246, 'funder': 3475, 'groupthink': 3726, 'rehash': 7039, 'scriptur': 7516, 'hostag': 4075, 'widget': 9496, 'cinema': 1483, 'kean': 4636, 'listenership': 4944, 'readership': 6901, 'multimedia': 5572, 'silobas': 7761, 'defam': 2206, 'libel': 4882, 'opaqu': 5977, 'platitud': 6417, 'monopolis': 5491, 'krw': 4706, 'doughti': 2572, 'wellfunct': 9431, 'roderick': 7306, 'flynn': 3308, 'forego': 3343, 'unconstitution': 8971, 'upwardonli': 9179, 'notso': 5817, 'uncheck': 8960, 'gene': 3553, 'kerrigan': 4654, 'antisinn': 390, 'rant': 6866, 'viewspap': 9286, 'mogul': 5468, 'crossdisciplinari': 2014, 'pirat': 6387, 'tipperarytimesi': 8662, 'templemor': 8497, 'agrilandi': 190, 'bash': 723, 'inconceiv': 4277, 'seldom': 7563, 'toothless': 8698, 'fella': 3163, 'syllabl': 8381, 'uninform': 9063, 'parcel': 6186, 'coolmor': 1860, 'equin': 2887, 'prowess': 6737, 'sexi': 7647, 'sponsorship': 8040, 'nationalist': 5630, 'eamonn': 2673, 'lacey': 4715, 'allsop': 256, 'roadston': 7290, 'pyrit': 6784, 'cement': 1348, 'letharg': 4868, 'rapproch': 6874, 'blair': 895, 'triangul': 8792, 'blairit': 896, 'millenni': 5370, 'eschew': 2910, 'yahoo': 9614, 'thejournali': 8553, 'breakingnewsi': 1033, 'huffington': 4097, 'mediapart': 5263, 'subscript': 8249, 'hardcopi': 3826, 'choru': 1458, 'bitterli': 883, 'demis': 2250, 'utv': 9205, 'writeup': 9599, 'communicorp': 1671, 'litigi': 4952, 'profligaci': 6675, 'tendenc': 8506, 'sue': 8276, 'lawsuit': 4786, 'welloff': 9436, 'newstalk': 5706, 'columnist': 1635, 'lowri': 5046, 'pluralist': 6445, 'overconcentr': 6075, 'bai': 656, 'ccpc': 1332, 'skillset': 7817, 'emap': 2769, 'crossmedia': 2016, 'repurpos': 7146, 'viral': 9301, 'advertori': 131, 'unsound': 9128, 'befit': 765, 'newsocraci': 5704, 'futureproof': 3491, 'static': 8121, 'disenfranchis': 2437, 'mab': 5075, 'lifelin': 4901, 'halfhour': 3788, 'downgrad': 2575, 'cib': 1479, 'moneylend': 5483, 'blanchardstown': 900, 'doubtless': 2571, 'talent': 8424, 'busier': 1150, 'bulldoz': 1117, 'ama': 278, 'al': 215, 'meat': 5255, 'bone': 960, 'wasi': 9381, 'interv': 4463, 'reasoningevid': 6922, 'hid': 3964, 'failgreen': 3083, 'wellrespect': 9441, 'indebted': 4295, 'bpfi': 1008, 'intermediari': 4448, 'abhail': 11, 'gateway': 3530, 'voucher': 9334, 'ci': 1476, 'eightregion': 2727, 'cibfund': 1480, 'optimis': 5996, 'diminut': 2385, 'freed': 3424, 'citizencentr': 1496, 'overhead': 6088, 'payrol': 6248, 'illconceiv': 4181, 'ict': 4152, 'interfac': 4441, 'nineteen': 5727, 'mabss': 5076, 'insofar': 4399, 'roch': 7301, 'ir': 4504, 'changeov': 1391, 'volunteerl': 9329, 'boardl': 934, 'overindebted': 6090, 'handhold': 3802, 'lessen': 4862, 'unsecur': 9122, 'writedown': 9596, 'writeoff': 9597, 'radar': 6829, 'umbrella': 8927, 'hindsight': 3997, 'bedfellow': 753, 'locallybas': 4974, 'oversaw': 6104, 'comahirl': 1637, 'illtim': 4186, 'emb': 2770, 'backoffic': 638, 'vogu': 9318, 'surveil': 8346, 'creepi': 1981, 'onceonli': 5945, 'gdpr': 3544, 'odonovan': 5899, 'infer': 4339, 'unconsci': 8967, 'verif': 9255, 'token': 8680, 'biometr': 872, 'facial': 3066, 'jumbl': 4606, 'troll': 8818, 'curios': 2068, 'solo': 7947, 'rarefi': 6876, 'peek': 6265, 'prizewinn': 6645, 'datahold': 2137, 'bright': 1056, 'snoop': 7910, 'columbia': 1633, 'sergeant': 7619, 'mauric': 5209, 'mccabe': 5224, 'interfamili': 4442, 'descend': 2291, 'hushhush': 4125, 'silli': 7759, 'bara': 702, 'quixot': 6815, 'plainli': 6404, 'dealer': 2156, 'coerciv': 1591, 'misconceiv': 5408, 'umpteen': 8929, 'caredata': 1256, 'enrol': 2846, 'malcolm': 5115, 'turnbul': 8867, 'luddit': 5061, 'sloppi': 7860, 'bluff': 929, 'egovern': 2720, 'failtim': 3086, 'dearbhaim': 2160, 'caithfimid': 1196, 'diriu': 2394, 'chursai': 1475, 'cuidiu': 2049, 'meid': 5277, 'anphrainneach': 354, 'phle': 6349, 'mandatorili': 5136, 'unsolicit': 9127, 'jone': 4590, 'femur': 3170, 'inquir': 4384, 'anew': 328, 'alphanumer': 268, 'faec': 3078, 'memoranda': 5288, 'seamlessli': 7529, 'abridg': 28, 'boyn': 1006, 'baltray': 683, 'beaumont': 746, 'ian': 4142, 'carter': 1279, 'blown': 926, 'handov': 3808, 'highhand': 3976, 'safekeep': 7406, 'technologydriven': 8480, 'livelin': 4959, 'racial': 6824, 'hack': 3773, 'erron': 2900, 'wagon': 9344, 'tradeoff': 8733, 'scof': 7495, 'housebuild': 4087, 'downhil': 2576, 'benchmark': 803, 'rut': 7377, 'turbul': 8860, 'equilibrium': 2886, 'wto': 9607, 'vicin': 9274, 'shark': 7671, 'competitor': 1691, 'heretofor': 3953, 'underwrit': 9016, 'providenti': 6731, 'avert': 608, 'injudici': 4368, 'imf': 4196, 'freeofcharg': 3429, 'benefitsinkind': 809, 'rentaroom': 7109, 'microbreweri': 5332, 'breweri': 1042, 'hectolitr': 3915, 'hl': 4010, 'atad': 549, 'bep': 813, 'unrealis': 9109, 'sugarsweeten': 8282, 'smoker': 7891, 'smoke': 7890, 'packet': 6140, 'smuggl': 7894, 'dutyfre': 2663, 'bookmak': 967, 'tobacco': 8670, 'comma': 1648, 'highstreet': 3986, 'ceil': 1342, 'fluctuat': 3305, 'intact': 4422, 'adject': 101, 'cushi': 2080, 'endem': 2819, 'seismic': 7560, 'dish': 2443, 'greas': 3691, 'paw': 6240, 'juggl': 4604, 'aosta': 417, 'inhibit': 4363, 'music': 5594, 'happiest': 3820, 'eilish': 2732, 'oregan': 6011, 'homecar': 4034, 'sunk': 8305, 'feebl': 3153, 'teflon': 8485, 'optic': 5994, 'fibr': 3193, 'audac': 572, 'dhea': 2339, 'caillt': 1194, 'someplac': 7959, 'cox': 1956, 'richi': 7243, 'molloy': 5472, 'stait': 8083, 'syphon': 8392, 'pale': 6153, 'dismay': 2458, 'oliv': 5936, 'connacht': 1769, 'bothar': 988, 'dorcha': 2563, 'mbail': 5219, 'atha': 550, 'cliath': 1538, 'rosi': 7335, 'thurl': 8623, 'borrisokan': 979, 'fame': 3101, 'trio': 8806, 'slicker': 7848, 'strait': 8182, 'farmland': 3120, 'revoc': 7220, 'connor': 1775, 'finnerti': 3231, 'agriland': 189, 'teagasc': 8470, 'stateaid': 8113, 'bliain': 913, 'sneachta': 7901, 'incomeaverag': 4272, 'perch': 6288, 'chequebook': 1431, 'chaff': 1378, 'oat': 5853, 'scotfre': 7499, 'hijack': 3987, 'landhold': 4736, 'syndic': 8388, 'croaki': 1996, 'smother': 7893, 'lemsip': 4848, 'abat': 5, 'scoliosi': 7496, 'wealthier': 9408, 'outpac': 6056, 'pretax': 6607, 'antitax': 392, 'intang': 4423, 'foregon': 3344, 'intragroup': 4471, 'gym': 3766, 'wearandtear': 9413, 'hireemandfireem': 4004, 'projecttoproject': 6684, 'gibson': 3588, 'grade': 3657, 'chat': 1411, 'movi': 5541, 'illusori': 4189, 'thrall': 8593, 'mccreevi': 5226, 'benefitinkind': 808, 'dieselfuel': 2365, 'woefulli': 9542, 'emolu': 2790, 'vrt': 9336, 'surcharg': 8330, 'passeng': 6215, 'carbonrel': 1251, 'valuead': 9221, 'untroubl': 9143, 'startup': 8108, 'antiavoid': 367, 'clawback': 1521, 'selfcertifi': 7570, 'preexist': 6569, 'malt': 5126, 'unctad': 8975, 'inflow': 4349, 'pbo': 6250, 'orderli': 6008, 'countercycl': 1927, 'outlook': 6052, 'conting': 1826, 'theresa': 8564, 'fuller': 3462, 'pariti': 6192, 'nearer': 5649, 'eyebrow': 3057, 'shaki': 7657, 'mona': 5476, 'layoff': 4793, 'suckler': 8272, 'mill': 5369, 'promontoria': 6692, 'carrot': 1275, 'dangl': 2121, 'plaster': 6413, 'redden': 6980, 'crucifi': 2025, 'damnabl': 2115, 'collooney': 1624, 'transeuropean': 8751, 'arc': 465, 'carriageway': 1272, 'foyn': 3399, 'liner': 4927, 'farther': 3123, 'trepid': 8786, 'twiddl': 8884, 'trader': 8734, 'unbear': 8951, 'promptli': 6695, 'gentlemanli': 3563, 'earnestli': 2683, 'goldman': 3628, 'sach': 7393, 'vampir': 9224, 'squid': 8062, 'jam': 4547, 'funnel': 3478, 'smelt': 7884, 'feeder': 3156, 'wield': 9499, 'debtor': 2170, 'pincer': 6377, 'sachsown': 7394, 'spv': 8056, 'anglo': 333, 'unprosecut': 9101, 'paltri': 6157, 'imperfectli': 4217, 'multitud': 5580, 'satellit': 7446, 'statutebar': 8126, 'debtrel': 2171, 'stub': 8220, 'stale': 8086, 'unreli': 9115, 'seemingli': 7555, 'cloud': 1565, 'outfit': 6044, 'moneylendertyp': 5484, 'stalk': 8088, 'testifi': 8534, 'nowin': 5827, 'hapless': 3817, 'treaci': 8775, 'stubbsgazett': 8222, 'swift': 8373, 'valueformoney': 9222, 'instant': 4408, 'computeris': 1721, 'snailspac': 7898, 'unproduct': 9099, 'modem': 5457, 'slate': 7834, 'resurrect': 7187, 'latent': 4763, 'lrc': 5053, 'blackston': 891, 'oaktre': 5851, 'starwood': 8111, 'carval': 1282, 'deutsch': 2325, 'cerberu': 1366, 'firesal': 3236, 'merciless': 5300, 'baker': 659, 'tilli': 8644, 'hugh': 4100, 'blake': 897, 'examinership': 2976, 'bob': 937, 'aib': 195, 'blackandwhit': 887, 'purgatori': 6771, 'humili': 4106, 'crosscut': 2011, 'defamatori': 2207, 'maritim': 5170, 'quasicontract': 6800, 'recogniz': 6954, 'seamen': 7528, 'seal': 7527, 'arbitr': 461, 'companyrel': 1679, 'forfeitur': 3357, 'slander': 7830, 'commensur': 1652, 'harshest': 3851, 'backfir': 634, 'foreshorten': 3352, 'collector': 1618, 'markedli': 5172, 'surplu': 8340, 'amiss': 297, 'compress': 1711, 'courtsupervis': 1945, 'nonbank': 5749, 'random': 6858, 'haphazard': 3816, 'mortgagetor': 5517, 'trail': 8740}\n",
      "(437, 9654)\n",
      "<class 'scipy.sparse.csr.csr_matrix'>\n",
      "[[0 0 0 ... 0 0 0]\n",
      " [0 0 0 ... 0 0 0]\n",
      " [0 0 0 ... 0 0 0]\n",
      " ...\n",
      " [0 0 0 ... 0 0 0]\n",
      " [0 0 0 ... 0 0 0]\n",
      " [0 0 0 ... 0 0 0]]\n"
     ]
    }
   ],
   "source": [
    "# this transforms the words in the Stemmed_Utterance column into binary vectors\n",
    "utterance = data['Stemmed_Utterance']\n",
    "\n",
    "vectorizer = CountVectorizer()\n",
    "# tokenize and build vocab\n",
    "vectorizer.fit(utterance)\n",
    "# summarize\n",
    "print(vectorizer.vocabulary_)\n",
    "# encode document\n",
    "vector = vectorizer.transform(utterance)\n",
    "# summarize encoded vector\n",
    "print(vector.shape)\n",
    "print(type(vector))\n",
    "print(vector.toarray())"
   ]
  },
  {
   "cell_type": "code",
   "execution_count": 43,
   "id": "bizarre-marathon",
   "metadata": {},
   "outputs": [
    {
     "name": "stdout",
     "output_type": "stream",
     "text": [
      "  (0, 58)\t1\n",
      "  (0, 176)\t1\n",
      "  (0, 254)\t1\n",
      "  (0, 456)\t1\n",
      "  (0, 523)\t1\n",
      "  (0, 716)\t1\n",
      "  (0, 857)\t2\n",
      "  (0, 1201)\t1\n",
      "  (0, 1506)\t1\n",
      "  (0, 1838)\t1\n",
      "  (0, 2155)\t1\n",
      "  (0, 2166)\t1\n",
      "  (0, 2177)\t1\n",
      "  (0, 2285)\t3\n",
      "  (0, 2516)\t3\n",
      "  (0, 2628)\t1\n",
      "  (0, 3088)\t1\n",
      "  (0, 3430)\t1\n",
      "  (0, 3592)\t1\n",
      "  (0, 3618)\t1\n",
      "  (0, 3725)\t1\n",
      "  (0, 4460)\t1\n",
      "  (0, 4648)\t1\n",
      "  (0, 5284)\t1\n",
      "  (0, 5590)\t1\n",
      "  :\t:\n",
      "  (436, 8995)\t1\n",
      "  (436, 9023)\t2\n",
      "  (436, 9032)\t1\n",
      "  (436, 9060)\t1\n",
      "  (436, 9065)\t1\n",
      "  (436, 9097)\t1\n",
      "  (436, 9229)\t1\n",
      "  (436, 9232)\t3\n",
      "  (436, 9266)\t1\n",
      "  (436, 9283)\t1\n",
      "  (436, 9303)\t1\n",
      "  (436, 9334)\t1\n",
      "  (436, 9343)\t1\n",
      "  (436, 9352)\t1\n",
      "  (436, 9357)\t7\n",
      "  (436, 9398)\t3\n",
      "  (436, 9428)\t5\n",
      "  (436, 9487)\t1\n",
      "  (436, 9509)\t1\n",
      "  (436, 9528)\t1\n",
      "  (436, 9537)\t2\n",
      "  (436, 9538)\t1\n",
      "  (436, 9560)\t2\n",
      "  (436, 9584)\t20\n",
      "  (436, 9619)\t22\n"
     ]
    }
   ],
   "source": [
    "print(vector)"
   ]
  },
  {
   "cell_type": "markdown",
   "id": "caring-helping",
   "metadata": {},
   "source": [
    "## 2.3. Feature Exploration and Selection"
   ]
  },
  {
   "cell_type": "markdown",
   "id": "middle-hollywood",
   "metadata": {},
   "source": [
    "### 2.3.1. Exploratory Questions"
   ]
  },
  {
   "cell_type": "markdown",
   "id": "imperial-duplicate",
   "metadata": {},
   "source": [
    "I have posed some exploratory questions to get to know the data better."
   ]
  },
  {
   "cell_type": "code",
   "execution_count": 27,
   "id": "wooden-command",
   "metadata": {},
   "outputs": [],
   "source": [
    "import scipy.stats as sps"
   ]
  },
  {
   "cell_type": "markdown",
   "id": "everyday-bosnia",
   "metadata": {},
   "source": [
    "#### 2.3.1.1. Other Speech Features"
   ]
  },
  {
   "cell_type": "markdown",
   "id": "circular-lounge",
   "metadata": {},
   "source": [
    "<b>1. Are sentiment polarity and vote related?</b> (One-Way Anova)"
   ]
  },
  {
   "cell_type": "code",
   "execution_count": 33,
   "id": "imported-bookmark",
   "metadata": {},
   "outputs": [
    {
     "name": "stdout",
     "output_type": "stream",
     "text": [
      "0.333333    0.037615\n",
      "0.666667    0.087182\n",
      "Name: Sentiment_Polarity, dtype: float64\n"
     ]
    }
   ],
   "source": [
    "# this prints the quantile values \n",
    "print(data['Sentiment_Polarity'].quantile([1./3, 2./3]))"
   ]
  },
  {
   "cell_type": "code",
   "execution_count": 34,
   "id": "derived-excitement",
   "metadata": {},
   "outputs": [
    {
     "name": "stdout",
     "output_type": "stream",
     "text": [
      "1        High\n",
      "2        High\n",
      "3        High\n",
      "4         Low\n",
      "5         Low\n",
      "        ...  \n",
      "433      High\n",
      "434       Low\n",
      "435      High\n",
      "436      High\n",
      "437    Medium\n",
      "Name: Sentiment_Polarity_Category, Length: 437, dtype: category\n",
      "Categories (3, object): ['Low' < 'Medium' < 'High']\n"
     ]
    }
   ],
   "source": [
    "# this splits the groups into categories aligned with the quantile values\n",
    "data['Sentiment_Polarity_Category'] = pd.qcut(data['Sentiment_Polarity'], q=3, labels=['Low', 'Medium', 'High'])\n",
    "print(data['Sentiment_Polarity_Category'])"
   ]
  },
  {
   "cell_type": "code",
   "execution_count": 35,
   "id": "equivalent-malta",
   "metadata": {},
   "outputs": [
    {
     "data": {
      "text/html": [
       "<div>\n",
       "<style scoped>\n",
       "    .dataframe tbody tr th:only-of-type {\n",
       "        vertical-align: middle;\n",
       "    }\n",
       "\n",
       "    .dataframe tbody tr th {\n",
       "        vertical-align: top;\n",
       "    }\n",
       "\n",
       "    .dataframe thead th {\n",
       "        text-align: right;\n",
       "    }\n",
       "</style>\n",
       "<table border=\"1\" class=\"dataframe\">\n",
       "  <thead>\n",
       "    <tr style=\"text-align: right;\">\n",
       "      <th>Vote</th>\n",
       "      <th>0</th>\n",
       "      <th>1</th>\n",
       "    </tr>\n",
       "    <tr>\n",
       "      <th>Sentiment_Polarity_Category</th>\n",
       "      <th></th>\n",
       "      <th></th>\n",
       "    </tr>\n",
       "  </thead>\n",
       "  <tbody>\n",
       "    <tr>\n",
       "      <th>Low</th>\n",
       "      <td>34</td>\n",
       "      <td>112</td>\n",
       "    </tr>\n",
       "    <tr>\n",
       "      <th>Medium</th>\n",
       "      <td>42</td>\n",
       "      <td>103</td>\n",
       "    </tr>\n",
       "    <tr>\n",
       "      <th>High</th>\n",
       "      <td>39</td>\n",
       "      <td>107</td>\n",
       "    </tr>\n",
       "  </tbody>\n",
       "</table>\n",
       "</div>"
      ],
      "text/plain": [
       "Vote                          0    1\n",
       "Sentiment_Polarity_Category         \n",
       "Low                          34  112\n",
       "Medium                       42  103\n",
       "High                         39  107"
      ]
     },
     "execution_count": 35,
     "metadata": {},
     "output_type": "execute_result"
    }
   ],
   "source": [
    "# contingency table for ANOVA (using levels of sentiment polarity only for visualization purposes)\n",
    "polarity_vote_tab = pd.crosstab(index=data['Sentiment_Polarity_Category'], columns=data['Vote'])\n",
    "polarity_vote_tab"
   ]
  },
  {
   "cell_type": "code",
   "execution_count": 36,
   "id": "packed-equity",
   "metadata": {},
   "outputs": [
    {
     "data": {
      "text/plain": [
       "F_onewayResult(statistic=1.0184009970991732, pvalue=0.31345959835573145)"
      ]
     },
     "execution_count": 36,
     "metadata": {},
     "output_type": "execute_result"
    }
   ],
   "source": [
    "# this runs the one-way ANOVA test\n",
    "sps.f_oneway(*(data['Sentiment_Polarity'][data['Vote'] == Vote] for Vote in data['Vote'].unique()))\n"
   ]
  },
  {
   "cell_type": "markdown",
   "id": "dominican-crawford",
   "metadata": {},
   "source": [
    "The high p-value means that sentiment polarity and vote are likely not related."
   ]
  },
  {
   "cell_type": "markdown",
   "id": "heard-initial",
   "metadata": {},
   "source": [
    "<b>2. Are sentiment subjectivity and vote related?</b> (One-Way Anova)"
   ]
  },
  {
   "cell_type": "code",
   "execution_count": 44,
   "id": "romance-civilization",
   "metadata": {},
   "outputs": [
    {
     "name": "stdout",
     "output_type": "stream",
     "text": [
      "0.333333    0.340561\n",
      "0.666667    0.398036\n",
      "Name: Sentiment_Subjectivity, dtype: float64\n"
     ]
    }
   ],
   "source": [
    "# this prints the quantile values \n",
    "print(data['Sentiment_Subjectivity'].quantile([1./3, 2./3]))"
   ]
  },
  {
   "cell_type": "code",
   "execution_count": 45,
   "id": "increased-positive",
   "metadata": {},
   "outputs": [
    {
     "name": "stdout",
     "output_type": "stream",
     "text": [
      "1         Low\n",
      "2      Medium\n",
      "3      Medium\n",
      "4        High\n",
      "5      Medium\n",
      "        ...  \n",
      "433      High\n",
      "434    Medium\n",
      "435      High\n",
      "436       Low\n",
      "437      High\n",
      "Name: Sentiment_Subjectivity_Category, Length: 437, dtype: category\n",
      "Categories (3, object): ['Low' < 'Medium' < 'High']\n"
     ]
    }
   ],
   "source": [
    "# this splits the groups into categories aligned with the quantile values\n",
    "data['Sentiment_Subjectivity_Category'] = pd.qcut(data['Sentiment_Subjectivity'], q=3, labels=['Low', 'Medium', 'High'])\n",
    "print(data['Sentiment_Subjectivity_Category'])"
   ]
  },
  {
   "cell_type": "code",
   "execution_count": 46,
   "id": "special-voluntary",
   "metadata": {},
   "outputs": [
    {
     "data": {
      "text/html": [
       "<div>\n",
       "<style scoped>\n",
       "    .dataframe tbody tr th:only-of-type {\n",
       "        vertical-align: middle;\n",
       "    }\n",
       "\n",
       "    .dataframe tbody tr th {\n",
       "        vertical-align: top;\n",
       "    }\n",
       "\n",
       "    .dataframe thead th {\n",
       "        text-align: right;\n",
       "    }\n",
       "</style>\n",
       "<table border=\"1\" class=\"dataframe\">\n",
       "  <thead>\n",
       "    <tr style=\"text-align: right;\">\n",
       "      <th>Vote</th>\n",
       "      <th>0</th>\n",
       "      <th>1</th>\n",
       "    </tr>\n",
       "    <tr>\n",
       "      <th>Sentiment_Subjectivity_Category</th>\n",
       "      <th></th>\n",
       "      <th></th>\n",
       "    </tr>\n",
       "  </thead>\n",
       "  <tbody>\n",
       "    <tr>\n",
       "      <th>Low</th>\n",
       "      <td>41</td>\n",
       "      <td>105</td>\n",
       "    </tr>\n",
       "    <tr>\n",
       "      <th>Medium</th>\n",
       "      <td>43</td>\n",
       "      <td>102</td>\n",
       "    </tr>\n",
       "    <tr>\n",
       "      <th>High</th>\n",
       "      <td>31</td>\n",
       "      <td>115</td>\n",
       "    </tr>\n",
       "  </tbody>\n",
       "</table>\n",
       "</div>"
      ],
      "text/plain": [
       "Vote                              0    1\n",
       "Sentiment_Subjectivity_Category         \n",
       "Low                              41  105\n",
       "Medium                           43  102\n",
       "High                             31  115"
      ]
     },
     "execution_count": 46,
     "metadata": {},
     "output_type": "execute_result"
    }
   ],
   "source": [
    "# contingency table for ANOVA (using levels of sentiment subjectivity only for visualization purposes)\n",
    "subjectivity_vote_tab = pd.crosstab(index=data['Sentiment_Subjectivity_Category'], columns=data['Vote'])\n",
    "subjectivity_vote_tab"
   ]
  },
  {
   "cell_type": "code",
   "execution_count": 47,
   "id": "representative-klein",
   "metadata": {},
   "outputs": [
    {
     "data": {
      "text/plain": [
       "F_onewayResult(statistic=1.249304428982425, pvalue=0.2643022839203091)"
      ]
     },
     "execution_count": 47,
     "metadata": {},
     "output_type": "execute_result"
    }
   ],
   "source": [
    "# this runs the one-way ANOVA test\n",
    "sps.f_oneway(*(data['Sentiment_Subjectivity'][data['Vote'] == Vote] for Vote in data['Vote'].unique()))\n"
   ]
  },
  {
   "cell_type": "markdown",
   "id": "undefined-child",
   "metadata": {},
   "source": [
    "The high p-value means that sentiment subjectivity and vote are likely not related."
   ]
  },
  {
   "cell_type": "markdown",
   "id": "cardiovascular-gateway",
   "metadata": {},
   "source": [
    "<b>3. Are utterance count and vote related?</b> (One-Way Anova)"
   ]
  },
  {
   "cell_type": "code",
   "execution_count": 37,
   "id": "arabic-watch",
   "metadata": {},
   "outputs": [
    {
     "name": "stdout",
     "output_type": "stream",
     "text": [
      "0.333333     6.0\n",
      "0.666667    11.0\n",
      "Name: Utterance_Count, dtype: float64\n"
     ]
    }
   ],
   "source": [
    "# this prints the quantile values\n",
    "print(data['Utterance_Count'].quantile([1./3, 2./3]))"
   ]
  },
  {
   "cell_type": "code",
   "execution_count": 38,
   "id": "isolated-messenger",
   "metadata": {},
   "outputs": [
    {
     "name": "stdout",
     "output_type": "stream",
     "text": [
      "1         Low\n",
      "2        High\n",
      "3         Low\n",
      "4         Low\n",
      "5         Low\n",
      "        ...  \n",
      "433       Low\n",
      "434      High\n",
      "435       Low\n",
      "436    Medium\n",
      "437      High\n",
      "Name: Utterance_Count_Category, Length: 437, dtype: category\n",
      "Categories (3, object): ['Low' < 'Medium' < 'High']\n"
     ]
    }
   ],
   "source": [
    "# this splits the groups into categories aligned with the quantile values\n",
    "data['Utterance_Count_Category'] = pd.qcut(data['Utterance_Count'], q=3, labels=['Low', 'Medium', 'High'])\n",
    "print(data['Utterance_Count_Category'])"
   ]
  },
  {
   "cell_type": "code",
   "execution_count": 39,
   "id": "fewer-israeli",
   "metadata": {},
   "outputs": [
    {
     "data": {
      "text/html": [
       "<div>\n",
       "<style scoped>\n",
       "    .dataframe tbody tr th:only-of-type {\n",
       "        vertical-align: middle;\n",
       "    }\n",
       "\n",
       "    .dataframe tbody tr th {\n",
       "        vertical-align: top;\n",
       "    }\n",
       "\n",
       "    .dataframe thead th {\n",
       "        text-align: right;\n",
       "    }\n",
       "</style>\n",
       "<table border=\"1\" class=\"dataframe\">\n",
       "  <thead>\n",
       "    <tr style=\"text-align: right;\">\n",
       "      <th>Vote</th>\n",
       "      <th>0</th>\n",
       "      <th>1</th>\n",
       "    </tr>\n",
       "    <tr>\n",
       "      <th>Utterance_Count_Category</th>\n",
       "      <th></th>\n",
       "      <th></th>\n",
       "    </tr>\n",
       "  </thead>\n",
       "  <tbody>\n",
       "    <tr>\n",
       "      <th>Low</th>\n",
       "      <td>30</td>\n",
       "      <td>136</td>\n",
       "    </tr>\n",
       "    <tr>\n",
       "      <th>Medium</th>\n",
       "      <td>25</td>\n",
       "      <td>101</td>\n",
       "    </tr>\n",
       "    <tr>\n",
       "      <th>High</th>\n",
       "      <td>60</td>\n",
       "      <td>85</td>\n",
       "    </tr>\n",
       "  </tbody>\n",
       "</table>\n",
       "</div>"
      ],
      "text/plain": [
       "Vote                       0    1\n",
       "Utterance_Count_Category         \n",
       "Low                       30  136\n",
       "Medium                    25  101\n",
       "High                      60   85"
      ]
     },
     "execution_count": 39,
     "metadata": {},
     "output_type": "execute_result"
    }
   ],
   "source": [
    "# contingency table for ANOVA (using levels of utterance count only for visualization purposes)\n",
    "utterancecount_vote_tab = pd.crosstab(index=data['Utterance_Count_Category'], columns=data['Vote'])\n",
    "utterancecount_vote_tab"
   ]
  },
  {
   "cell_type": "code",
   "execution_count": 48,
   "id": "rotary-stretch",
   "metadata": {},
   "outputs": [
    {
     "data": {
      "text/plain": [
       "F_onewayResult(statistic=14.036800696060007, pvalue=0.00020341674862694507)"
      ]
     },
     "execution_count": 48,
     "metadata": {},
     "output_type": "execute_result"
    }
   ],
   "source": [
    "# this runs the one-way ANOVA test\n",
    "sps.f_oneway(*(data['Utterance_Count'][data['Vote'] == Vote] for Vote in data['Vote'].unique()))\n"
   ]
  },
  {
   "cell_type": "markdown",
   "id": "vertical-marine",
   "metadata": {},
   "source": [
    "The low p-value means that utterance count during the debate and vote are likely related."
   ]
  },
  {
   "cell_type": "markdown",
   "id": "abroad-howard",
   "metadata": {},
   "source": [
    "<b>4. Are word count and vote related?</b> (One-Way Anova)"
   ]
  },
  {
   "cell_type": "code",
   "execution_count": 51,
   "id": "proper-scheme",
   "metadata": {},
   "outputs": [
    {
     "name": "stdout",
     "output_type": "stream",
     "text": [
      "0.333333    344.000000\n",
      "0.666667    632.666667\n",
      "Name: Word_Count, dtype: float64\n"
     ]
    }
   ],
   "source": [
    "# this prints the quantile values\n",
    "print(data['Word_Count'].quantile([1./3, 2./3]))"
   ]
  },
  {
   "cell_type": "code",
   "execution_count": 52,
   "id": "empirical-simon",
   "metadata": {},
   "outputs": [
    {
     "name": "stdout",
     "output_type": "stream",
     "text": [
      "1         Low\n",
      "2        High\n",
      "3         Low\n",
      "4         Low\n",
      "5         Low\n",
      "        ...  \n",
      "433    Medium\n",
      "434      High\n",
      "435       Low\n",
      "436      High\n",
      "437      High\n",
      "Name: Word_Count_Category, Length: 437, dtype: category\n",
      "Categories (3, object): ['Low' < 'Medium' < 'High']\n"
     ]
    }
   ],
   "source": [
    "# this splits the groups into categories aligned with the quantile values\n",
    "data['Word_Count_Category'] = pd.qcut(data['Word_Count'], q=3, labels=['Low', 'Medium', 'High'])\n",
    "print(data['Word_Count_Category'])"
   ]
  },
  {
   "cell_type": "code",
   "execution_count": 53,
   "id": "continental-destiny",
   "metadata": {},
   "outputs": [
    {
     "data": {
      "text/html": [
       "<div>\n",
       "<style scoped>\n",
       "    .dataframe tbody tr th:only-of-type {\n",
       "        vertical-align: middle;\n",
       "    }\n",
       "\n",
       "    .dataframe tbody tr th {\n",
       "        vertical-align: top;\n",
       "    }\n",
       "\n",
       "    .dataframe thead th {\n",
       "        text-align: right;\n",
       "    }\n",
       "</style>\n",
       "<table border=\"1\" class=\"dataframe\">\n",
       "  <thead>\n",
       "    <tr style=\"text-align: right;\">\n",
       "      <th>Vote</th>\n",
       "      <th>0</th>\n",
       "      <th>1</th>\n",
       "    </tr>\n",
       "    <tr>\n",
       "      <th>Word_Count_Category</th>\n",
       "      <th></th>\n",
       "      <th></th>\n",
       "    </tr>\n",
       "  </thead>\n",
       "  <tbody>\n",
       "    <tr>\n",
       "      <th>Low</th>\n",
       "      <td>24</td>\n",
       "      <td>123</td>\n",
       "    </tr>\n",
       "    <tr>\n",
       "      <th>Medium</th>\n",
       "      <td>33</td>\n",
       "      <td>111</td>\n",
       "    </tr>\n",
       "    <tr>\n",
       "      <th>High</th>\n",
       "      <td>58</td>\n",
       "      <td>88</td>\n",
       "    </tr>\n",
       "  </tbody>\n",
       "</table>\n",
       "</div>"
      ],
      "text/plain": [
       "Vote                  0    1\n",
       "Word_Count_Category         \n",
       "Low                  24  123\n",
       "Medium               33  111\n",
       "High                 58   88"
      ]
     },
     "execution_count": 53,
     "metadata": {},
     "output_type": "execute_result"
    }
   ],
   "source": [
    "# contingency table for ANOVA (using levels of word count only for visualization purposes)\n",
    "wordcount_vote_tab = pd.crosstab(index=data['Word_Count_Category'], columns=data['Vote'])\n",
    "wordcount_vote_tab"
   ]
  },
  {
   "cell_type": "code",
   "execution_count": 54,
   "id": "round-blade",
   "metadata": {},
   "outputs": [
    {
     "data": {
      "text/plain": [
       "F_onewayResult(statistic=17.28160210630917, pvalue=3.882984817128302e-05)"
      ]
     },
     "execution_count": 54,
     "metadata": {},
     "output_type": "execute_result"
    }
   ],
   "source": [
    "# this runs the one-way ANOVA test\n",
    "sps.f_oneway(*(data['Word_Count'][data['Vote'] == Vote] for Vote in data['Vote'].unique()))"
   ]
  },
  {
   "cell_type": "markdown",
   "id": "desirable-tooth",
   "metadata": {},
   "source": [
    "The low p-value means that word count during the debate and vote are likely related."
   ]
  },
  {
   "cell_type": "markdown",
   "id": "norwegian-month",
   "metadata": {},
   "source": [
    "#### One-way Anova summary:\n",
    "\n",
    "| Feature| Sentiment_Subjectivity | Sentiment_Polarity | Utterance_Count | Word_Count |\n",
    "| :-:| --- | --- | --- | --- |\n",
    "|  p-value |  0.31346 | 0.2643 | <i>0.0002 | <i>0.00004</i>\n",
    "    \n",
    "Utterance_Count and Word_Count are likely related to vote whereas the sentiment features are likely not."
   ]
  },
  {
   "cell_type": "markdown",
   "id": "medical-frequency",
   "metadata": {},
   "source": [
    "#### 2.3.1.2. Non-Speech Features"
   ]
  },
  {
   "cell_type": "markdown",
   "id": "related-technique",
   "metadata": {},
   "source": [
    "<b>1. Are party and vote related?</b> (Chi Squared)"
   ]
  },
  {
   "cell_type": "code",
   "execution_count": 25,
   "id": "separated-writing",
   "metadata": {},
   "outputs": [
    {
     "data": {
      "text/html": [
       "<div>\n",
       "<style scoped>\n",
       "    .dataframe tbody tr th:only-of-type {\n",
       "        vertical-align: middle;\n",
       "    }\n",
       "\n",
       "    .dataframe tbody tr th {\n",
       "        vertical-align: top;\n",
       "    }\n",
       "\n",
       "    .dataframe thead th {\n",
       "        text-align: right;\n",
       "    }\n",
       "</style>\n",
       "<table border=\"1\" class=\"dataframe\">\n",
       "  <thead>\n",
       "    <tr style=\"text-align: right;\">\n",
       "      <th>Vote</th>\n",
       "      <th>0</th>\n",
       "      <th>1</th>\n",
       "    </tr>\n",
       "    <tr>\n",
       "      <th>Party</th>\n",
       "      <th></th>\n",
       "      <th></th>\n",
       "    </tr>\n",
       "  </thead>\n",
       "  <tbody>\n",
       "    <tr>\n",
       "      <th>Anti-Austerity_Alliance_People_Before_Profit</th>\n",
       "      <td>11</td>\n",
       "      <td>39</td>\n",
       "    </tr>\n",
       "    <tr>\n",
       "      <th>Fianna_Fáil</th>\n",
       "      <td>22</td>\n",
       "      <td>72</td>\n",
       "    </tr>\n",
       "    <tr>\n",
       "      <th>Fine_Gael</th>\n",
       "      <td>38</td>\n",
       "      <td>14</td>\n",
       "    </tr>\n",
       "    <tr>\n",
       "      <th>Green_Party</th>\n",
       "      <td>1</td>\n",
       "      <td>2</td>\n",
       "    </tr>\n",
       "    <tr>\n",
       "      <th>Independent</th>\n",
       "      <td>20</td>\n",
       "      <td>53</td>\n",
       "    </tr>\n",
       "    <tr>\n",
       "      <th>Independents_4_Change</th>\n",
       "      <td>6</td>\n",
       "      <td>23</td>\n",
       "    </tr>\n",
       "    <tr>\n",
       "      <th>Labour_Party</th>\n",
       "      <td>2</td>\n",
       "      <td>20</td>\n",
       "    </tr>\n",
       "    <tr>\n",
       "      <th>Sinn_Féin</th>\n",
       "      <td>13</td>\n",
       "      <td>90</td>\n",
       "    </tr>\n",
       "    <tr>\n",
       "      <th>Social_Democrats</th>\n",
       "      <td>2</td>\n",
       "      <td>9</td>\n",
       "    </tr>\n",
       "  </tbody>\n",
       "</table>\n",
       "</div>"
      ],
      "text/plain": [
       "Vote                                           0   1\n",
       "Party                                               \n",
       "Anti-Austerity_Alliance_People_Before_Profit  11  39\n",
       "Fianna_Fáil                                   22  72\n",
       "Fine_Gael                                     38  14\n",
       "Green_Party                                    1   2\n",
       "Independent                                   20  53\n",
       "Independents_4_Change                          6  23\n",
       "Labour_Party                                   2  20\n",
       "Sinn_Féin                                     13  90\n",
       "Social_Democrats                               2   9"
      ]
     },
     "execution_count": 25,
     "metadata": {},
     "output_type": "execute_result"
    }
   ],
   "source": [
    "#Contingency table for Chi-squared\n",
    "party_vote_tab = pd.crosstab(index=data['Party'], columns=data['Vote'])\n",
    "party_vote_tab"
   ]
  },
  {
   "cell_type": "code",
   "execution_count": 28,
   "id": "fewer-reverse",
   "metadata": {},
   "outputs": [
    {
     "name": "stdout",
     "output_type": "stream",
     "text": [
      "chi-squared 73.82658857923371\n",
      "p = 8.470414484702957e-13\n",
      "degrees of freedom = 8\n",
      "expected value table: \n",
      "[[13.15789474 36.84210526]\n",
      " [24.73684211 69.26315789]\n",
      " [13.68421053 38.31578947]\n",
      " [ 0.78947368  2.21052632]\n",
      " [19.21052632 53.78947368]\n",
      " [ 7.63157895 21.36842105]\n",
      " [ 5.78947368 16.21052632]\n",
      " [27.10526316 75.89473684]\n",
      " [ 2.89473684  8.10526316]]\n"
     ]
    }
   ],
   "source": [
    "chisq, p, dof, evs = sps.chi2_contingency(party_vote_tab)\n",
    "print('chi-squared ' + str(chisq))\n",
    "print('p = ' + str(p))\n",
    "print('degrees of freedom = ' + str(dof))\n",
    "print('expected value table: ')\n",
    "print(evs)"
   ]
  },
  {
   "cell_type": "markdown",
   "id": "following-vision",
   "metadata": {},
   "source": [
    "The low p-value means that party and vote are likely related. "
   ]
  },
  {
   "cell_type": "markdown",
   "id": "retired-sussex",
   "metadata": {},
   "source": [
    "<b>2. Are bill type and vote related?</b>  (Chi Squared)"
   ]
  },
  {
   "cell_type": "code",
   "execution_count": 29,
   "id": "dried-craft",
   "metadata": {},
   "outputs": [
    {
     "data": {
      "text/html": [
       "<div>\n",
       "<style scoped>\n",
       "    .dataframe tbody tr th:only-of-type {\n",
       "        vertical-align: middle;\n",
       "    }\n",
       "\n",
       "    .dataframe tbody tr th {\n",
       "        vertical-align: top;\n",
       "    }\n",
       "\n",
       "    .dataframe thead th {\n",
       "        text-align: right;\n",
       "    }\n",
       "</style>\n",
       "<table border=\"1\" class=\"dataframe\">\n",
       "  <thead>\n",
       "    <tr style=\"text-align: right;\">\n",
       "      <th>Vote</th>\n",
       "      <th>0</th>\n",
       "      <th>1</th>\n",
       "    </tr>\n",
       "    <tr>\n",
       "      <th>Bill_Type</th>\n",
       "      <th></th>\n",
       "      <th></th>\n",
       "    </tr>\n",
       "  </thead>\n",
       "  <tbody>\n",
       "    <tr>\n",
       "      <th>Government</th>\n",
       "      <td>53</td>\n",
       "      <td>76</td>\n",
       "    </tr>\n",
       "    <tr>\n",
       "      <th>Private Member</th>\n",
       "      <td>62</td>\n",
       "      <td>246</td>\n",
       "    </tr>\n",
       "  </tbody>\n",
       "</table>\n",
       "</div>"
      ],
      "text/plain": [
       "Vote             0    1\n",
       "Bill_Type              \n",
       "Government      53   76\n",
       "Private Member  62  246"
      ]
     },
     "execution_count": 29,
     "metadata": {},
     "output_type": "execute_result"
    }
   ],
   "source": [
    "#Contingency table for Chi-squared\n",
    "billtype_vote_tab = pd.crosstab(index=data['Bill_Type'], columns=data['Vote'])\n",
    "billtype_vote_tab"
   ]
  },
  {
   "cell_type": "code",
   "execution_count": 30,
   "id": "compliant-firewall",
   "metadata": {},
   "outputs": [
    {
     "name": "stdout",
     "output_type": "stream",
     "text": [
      "chi-squared 19.523658961470428\n",
      "p = 9.936140037070013e-06\n",
      "degrees of freedom = 1\n",
      "expected value table: \n",
      "[[ 33.94736842  95.05263158]\n",
      " [ 81.05263158 226.94736842]]\n"
     ]
    }
   ],
   "source": [
    "chisq, p, dof, evs = sps.chi2_contingency(billtype_vote_tab)\n",
    "print('chi-squared ' + str(chisq))\n",
    "print('p = ' + str(p))\n",
    "print('degrees of freedom = ' + str(dof))\n",
    "print('expected value table: ')\n",
    "print(evs)"
   ]
  },
  {
   "cell_type": "markdown",
   "id": "joined-flood",
   "metadata": {},
   "source": [
    "The low p-value means that bill type and vote are likely related."
   ]
  },
  {
   "cell_type": "markdown",
   "id": "abstract-selling",
   "metadata": {},
   "source": [
    "<b>3. Are constituency and vote related?</b>  (Chi Squared)"
   ]
  },
  {
   "cell_type": "code",
   "execution_count": 31,
   "id": "respiratory-affiliate",
   "metadata": {},
   "outputs": [
    {
     "data": {
      "text/html": [
       "<div>\n",
       "<style scoped>\n",
       "    .dataframe tbody tr th:only-of-type {\n",
       "        vertical-align: middle;\n",
       "    }\n",
       "\n",
       "    .dataframe tbody tr th {\n",
       "        vertical-align: top;\n",
       "    }\n",
       "\n",
       "    .dataframe thead th {\n",
       "        text-align: right;\n",
       "    }\n",
       "</style>\n",
       "<table border=\"1\" class=\"dataframe\">\n",
       "  <thead>\n",
       "    <tr style=\"text-align: right;\">\n",
       "      <th>Vote</th>\n",
       "      <th>0</th>\n",
       "      <th>1</th>\n",
       "    </tr>\n",
       "    <tr>\n",
       "      <th>Constituency</th>\n",
       "      <th></th>\n",
       "      <th></th>\n",
       "    </tr>\n",
       "  </thead>\n",
       "  <tbody>\n",
       "    <tr>\n",
       "      <th>Carlow-Kilkenny</th>\n",
       "      <td>2</td>\n",
       "      <td>2</td>\n",
       "    </tr>\n",
       "    <tr>\n",
       "      <th>Cavan-Monaghan</th>\n",
       "      <td>0</td>\n",
       "      <td>5</td>\n",
       "    </tr>\n",
       "    <tr>\n",
       "      <th>Clare</th>\n",
       "      <td>0</td>\n",
       "      <td>3</td>\n",
       "    </tr>\n",
       "    <tr>\n",
       "      <th>Cork-East</th>\n",
       "      <td>8</td>\n",
       "      <td>7</td>\n",
       "    </tr>\n",
       "    <tr>\n",
       "      <th>Cork-North-Central</th>\n",
       "      <td>1</td>\n",
       "      <td>11</td>\n",
       "    </tr>\n",
       "    <tr>\n",
       "      <th>Cork-North-West</th>\n",
       "      <td>1</td>\n",
       "      <td>2</td>\n",
       "    </tr>\n",
       "    <tr>\n",
       "      <th>Cork-South-Central</th>\n",
       "      <td>2</td>\n",
       "      <td>6</td>\n",
       "    </tr>\n",
       "    <tr>\n",
       "      <th>Cork-South-West</th>\n",
       "      <td>5</td>\n",
       "      <td>9</td>\n",
       "    </tr>\n",
       "    <tr>\n",
       "      <th>Donegal</th>\n",
       "      <td>2</td>\n",
       "      <td>5</td>\n",
       "    </tr>\n",
       "    <tr>\n",
       "      <th>Dublin-Bay-North</th>\n",
       "      <td>3</td>\n",
       "      <td>14</td>\n",
       "    </tr>\n",
       "    <tr>\n",
       "      <th>Dublin-Bay-South</th>\n",
       "      <td>10</td>\n",
       "      <td>4</td>\n",
       "    </tr>\n",
       "    <tr>\n",
       "      <th>Dublin-Central</th>\n",
       "      <td>1</td>\n",
       "      <td>8</td>\n",
       "    </tr>\n",
       "    <tr>\n",
       "      <th>Dublin-Fingal</th>\n",
       "      <td>3</td>\n",
       "      <td>21</td>\n",
       "    </tr>\n",
       "    <tr>\n",
       "      <th>Dublin-Mid-West</th>\n",
       "      <td>4</td>\n",
       "      <td>19</td>\n",
       "    </tr>\n",
       "    <tr>\n",
       "      <th>Dublin-North-West</th>\n",
       "      <td>2</td>\n",
       "      <td>12</td>\n",
       "    </tr>\n",
       "    <tr>\n",
       "      <th>Dublin-Rathdown</th>\n",
       "      <td>2</td>\n",
       "      <td>1</td>\n",
       "    </tr>\n",
       "    <tr>\n",
       "      <th>Dublin-South-Central</th>\n",
       "      <td>6</td>\n",
       "      <td>21</td>\n",
       "    </tr>\n",
       "    <tr>\n",
       "      <th>Dublin-South-West</th>\n",
       "      <td>1</td>\n",
       "      <td>16</td>\n",
       "    </tr>\n",
       "    <tr>\n",
       "      <th>Dublin-West</th>\n",
       "      <td>3</td>\n",
       "      <td>10</td>\n",
       "    </tr>\n",
       "    <tr>\n",
       "      <th>Dún-Laoghaire</th>\n",
       "      <td>4</td>\n",
       "      <td>8</td>\n",
       "    </tr>\n",
       "    <tr>\n",
       "      <th>Galway-East</th>\n",
       "      <td>3</td>\n",
       "      <td>3</td>\n",
       "    </tr>\n",
       "    <tr>\n",
       "      <th>Galway-West</th>\n",
       "      <td>6</td>\n",
       "      <td>7</td>\n",
       "    </tr>\n",
       "    <tr>\n",
       "      <th>Kerry</th>\n",
       "      <td>3</td>\n",
       "      <td>2</td>\n",
       "    </tr>\n",
       "    <tr>\n",
       "      <th>Kildare-North</th>\n",
       "      <td>2</td>\n",
       "      <td>10</td>\n",
       "    </tr>\n",
       "    <tr>\n",
       "      <th>Kildare-South</th>\n",
       "      <td>0</td>\n",
       "      <td>3</td>\n",
       "    </tr>\n",
       "    <tr>\n",
       "      <th>Laois</th>\n",
       "      <td>1</td>\n",
       "      <td>6</td>\n",
       "    </tr>\n",
       "    <tr>\n",
       "      <th>Limerick-City</th>\n",
       "      <td>2</td>\n",
       "      <td>9</td>\n",
       "    </tr>\n",
       "    <tr>\n",
       "      <th>Limerick-County</th>\n",
       "      <td>3</td>\n",
       "      <td>0</td>\n",
       "    </tr>\n",
       "    <tr>\n",
       "      <th>Longford-Westmeath</th>\n",
       "      <td>2</td>\n",
       "      <td>3</td>\n",
       "    </tr>\n",
       "    <tr>\n",
       "      <th>Louth</th>\n",
       "      <td>3</td>\n",
       "      <td>14</td>\n",
       "    </tr>\n",
       "    <tr>\n",
       "      <th>Mayo</th>\n",
       "      <td>0</td>\n",
       "      <td>3</td>\n",
       "    </tr>\n",
       "    <tr>\n",
       "      <th>Meath-East</th>\n",
       "      <td>4</td>\n",
       "      <td>4</td>\n",
       "    </tr>\n",
       "    <tr>\n",
       "      <th>Meath-West</th>\n",
       "      <td>7</td>\n",
       "      <td>7</td>\n",
       "    </tr>\n",
       "    <tr>\n",
       "      <th>Offaly</th>\n",
       "      <td>2</td>\n",
       "      <td>4</td>\n",
       "    </tr>\n",
       "    <tr>\n",
       "      <th>Roscommon-Galway</th>\n",
       "      <td>2</td>\n",
       "      <td>9</td>\n",
       "    </tr>\n",
       "    <tr>\n",
       "      <th>Sligo-Leitrim</th>\n",
       "      <td>2</td>\n",
       "      <td>6</td>\n",
       "    </tr>\n",
       "    <tr>\n",
       "      <th>Tipperary</th>\n",
       "      <td>6</td>\n",
       "      <td>19</td>\n",
       "    </tr>\n",
       "    <tr>\n",
       "      <th>Waterford</th>\n",
       "      <td>2</td>\n",
       "      <td>11</td>\n",
       "    </tr>\n",
       "    <tr>\n",
       "      <th>Wexford</th>\n",
       "      <td>2</td>\n",
       "      <td>10</td>\n",
       "    </tr>\n",
       "    <tr>\n",
       "      <th>Wicklow</th>\n",
       "      <td>3</td>\n",
       "      <td>8</td>\n",
       "    </tr>\n",
       "  </tbody>\n",
       "</table>\n",
       "</div>"
      ],
      "text/plain": [
       "Vote                   0   1\n",
       "Constituency                \n",
       "Carlow-Kilkenny        2   2\n",
       "Cavan-Monaghan         0   5\n",
       "Clare                  0   3\n",
       "Cork-East              8   7\n",
       "Cork-North-Central     1  11\n",
       "Cork-North-West        1   2\n",
       "Cork-South-Central     2   6\n",
       "Cork-South-West        5   9\n",
       "Donegal                2   5\n",
       "Dublin-Bay-North       3  14\n",
       "Dublin-Bay-South      10   4\n",
       "Dublin-Central         1   8\n",
       "Dublin-Fingal          3  21\n",
       "Dublin-Mid-West        4  19\n",
       "Dublin-North-West      2  12\n",
       "Dublin-Rathdown        2   1\n",
       "Dublin-South-Central   6  21\n",
       "Dublin-South-West      1  16\n",
       "Dublin-West            3  10\n",
       "Dún-Laoghaire          4   8\n",
       "Galway-East            3   3\n",
       "Galway-West            6   7\n",
       "Kerry                  3   2\n",
       "Kildare-North          2  10\n",
       "Kildare-South          0   3\n",
       "Laois                  1   6\n",
       "Limerick-City          2   9\n",
       "Limerick-County        3   0\n",
       "Longford-Westmeath     2   3\n",
       "Louth                  3  14\n",
       "Mayo                   0   3\n",
       "Meath-East             4   4\n",
       "Meath-West             7   7\n",
       "Offaly                 2   4\n",
       "Roscommon-Galway       2   9\n",
       "Sligo-Leitrim          2   6\n",
       "Tipperary              6  19\n",
       "Waterford              2  11\n",
       "Wexford                2  10\n",
       "Wicklow                3   8"
      ]
     },
     "execution_count": 31,
     "metadata": {},
     "output_type": "execute_result"
    }
   ],
   "source": [
    "#Contingency table for Chi-squared\n",
    "constituency_vote_tab = pd.crosstab(index=data['Constituency'], columns=data['Vote'])\n",
    "constituency_vote_tab"
   ]
  },
  {
   "cell_type": "code",
   "execution_count": 32,
   "id": "presidential-breathing",
   "metadata": {},
   "outputs": [
    {
     "name": "stdout",
     "output_type": "stream",
     "text": [
      "chi-squared 68.7765640730195\n",
      "p = 0.002271003131878287\n",
      "degrees of freedom = 39\n",
      "expected value table: \n",
      "[[ 1.05263158  2.94736842]\n",
      " [ 1.31578947  3.68421053]\n",
      " [ 0.78947368  2.21052632]\n",
      " [ 3.94736842 11.05263158]\n",
      " [ 3.15789474  8.84210526]\n",
      " [ 0.78947368  2.21052632]\n",
      " [ 2.10526316  5.89473684]\n",
      " [ 3.68421053 10.31578947]\n",
      " [ 1.84210526  5.15789474]\n",
      " [ 4.47368421 12.52631579]\n",
      " [ 3.68421053 10.31578947]\n",
      " [ 2.36842105  6.63157895]\n",
      " [ 6.31578947 17.68421053]\n",
      " [ 6.05263158 16.94736842]\n",
      " [ 3.68421053 10.31578947]\n",
      " [ 0.78947368  2.21052632]\n",
      " [ 7.10526316 19.89473684]\n",
      " [ 4.47368421 12.52631579]\n",
      " [ 3.42105263  9.57894737]\n",
      " [ 3.15789474  8.84210526]\n",
      " [ 1.57894737  4.42105263]\n",
      " [ 3.42105263  9.57894737]\n",
      " [ 1.31578947  3.68421053]\n",
      " [ 3.15789474  8.84210526]\n",
      " [ 0.78947368  2.21052632]\n",
      " [ 1.84210526  5.15789474]\n",
      " [ 2.89473684  8.10526316]\n",
      " [ 0.78947368  2.21052632]\n",
      " [ 1.31578947  3.68421053]\n",
      " [ 4.47368421 12.52631579]\n",
      " [ 0.78947368  2.21052632]\n",
      " [ 2.10526316  5.89473684]\n",
      " [ 3.68421053 10.31578947]\n",
      " [ 1.57894737  4.42105263]\n",
      " [ 2.89473684  8.10526316]\n",
      " [ 2.10526316  5.89473684]\n",
      " [ 6.57894737 18.42105263]\n",
      " [ 3.42105263  9.57894737]\n",
      " [ 3.15789474  8.84210526]\n",
      " [ 2.89473684  8.10526316]]\n"
     ]
    }
   ],
   "source": [
    "chisq, p, dof, evs = sps.chi2_contingency(constituency_vote_tab)\n",
    "print('chi-squared ' + str(chisq))\n",
    "print('p = ' + str(p))\n",
    "print('degrees of freedom = ' + str(dof))\n",
    "print('expected value table: ')\n",
    "print(evs)"
   ]
  },
  {
   "cell_type": "markdown",
   "id": "imperial-planning",
   "metadata": {},
   "source": [
    "The low p-value means that constituency and vote are likely related."
   ]
  },
  {
   "cell_type": "markdown",
   "id": "strategic-electron",
   "metadata": {},
   "source": [
    "<b>4. Is membership in government related to vote?</b>  (Chi Squared)"
   ]
  },
  {
   "cell_type": "code",
   "execution_count": 58,
   "id": "supreme-manchester",
   "metadata": {},
   "outputs": [
    {
     "data": {
      "text/html": [
       "<div>\n",
       "<style scoped>\n",
       "    .dataframe tbody tr th:only-of-type {\n",
       "        vertical-align: middle;\n",
       "    }\n",
       "\n",
       "    .dataframe tbody tr th {\n",
       "        vertical-align: top;\n",
       "    }\n",
       "\n",
       "    .dataframe thead th {\n",
       "        text-align: right;\n",
       "    }\n",
       "</style>\n",
       "<table border=\"1\" class=\"dataframe\">\n",
       "  <thead>\n",
       "    <tr style=\"text-align: right;\">\n",
       "      <th>Vote</th>\n",
       "      <th>0</th>\n",
       "      <th>1</th>\n",
       "    </tr>\n",
       "    <tr>\n",
       "      <th>Is_Government</th>\n",
       "      <th></th>\n",
       "      <th></th>\n",
       "    </tr>\n",
       "  </thead>\n",
       "  <tbody>\n",
       "    <tr>\n",
       "      <th>0.0</th>\n",
       "      <td>72</td>\n",
       "      <td>304</td>\n",
       "    </tr>\n",
       "    <tr>\n",
       "      <th>1.0</th>\n",
       "      <td>43</td>\n",
       "      <td>18</td>\n",
       "    </tr>\n",
       "  </tbody>\n",
       "</table>\n",
       "</div>"
      ],
      "text/plain": [
       "Vote            0    1\n",
       "Is_Government         \n",
       "0.0            72  304\n",
       "1.0            43   18"
      ]
     },
     "execution_count": 58,
     "metadata": {},
     "output_type": "execute_result"
    }
   ],
   "source": [
    "#Contingency table for Chi-squared\n",
    "isgovt_vote_tab = pd.crosstab(index=data['Is_Government'], columns=data['Vote'])\n",
    "isgovt_vote_tab"
   ]
  },
  {
   "cell_type": "code",
   "execution_count": 56,
   "id": "frank-lesson",
   "metadata": {},
   "outputs": [
    {
     "name": "stdout",
     "output_type": "stream",
     "text": [
      "chi-squared 68.72865566919128\n",
      "p = 1.129871576313283e-16\n",
      "degrees of freedom = 1\n",
      "expected value table: \n",
      "[[ 98.94736842 277.05263158]\n",
      " [ 16.05263158  44.94736842]]\n"
     ]
    }
   ],
   "source": [
    "chisq, p, dof, evs = sps.chi2_contingency(isgovt_vote_tab)\n",
    "print('chi-squared ' + str(chisq))\n",
    "print('p = ' + str(p))\n",
    "print('degrees of freedom = ' + str(dof))\n",
    "print('expected value table: ')\n",
    "print(evs)"
   ]
  },
  {
   "cell_type": "markdown",
   "id": "expanded-grove",
   "metadata": {},
   "source": [
    "The low p-value means that membership in government and vote are likely related."
   ]
  },
  {
   "cell_type": "markdown",
   "id": "documented-respect",
   "metadata": {},
   "source": [
    "#### Chi-squared summary:\n",
    "\n",
    "| Feature | Party | Bill_Type | Constituency | Is_Government |\n",
    "| :-:| --- | --- | --- | --- |\n",
    "|  chi squared|  73.82658857923371 | 19.523658961470428| 68.7765640730195 | 68.72865566919128\n",
    "|  p-value |  0.00000000000085 | 0.00000993614004| 0.00227100313188 | 0.0000000000000001\n",
    "|  degrees of freedom|   8 | 1 | 39 | 1\n",
    "\n",
    "All of these features are likely related to vote.        "
   ]
  },
  {
   "cell_type": "markdown",
   "id": "caring-horror",
   "metadata": {},
   "source": [
    "### 2.3.2. Creating Initial Feature Variables"
   ]
  },
  {
   "cell_type": "markdown",
   "id": "contemporary-socket",
   "metadata": {},
   "source": [
    "I divided the available features into several groups for initial testing:<br><ul>\n",
    "    <li><b>bag-of-words:</b> unigram counts</li>\n",
    "    <li><b>other speech features:</b> sentiment polarity, sentiment subjectivity, speech count, word count</li>\n",
    "    <li><b>non-speech features:</b> party, bill type, constituency, government/opposition</li>\n",
    "        </ul>"
   ]
  },
  {
   "cell_type": "markdown",
   "id": "national-ukraine",
   "metadata": {},
   "source": [
    "In developing my model, I am considering the following questions:<ul>\n",
    "    <li>Can I predict how the TDs voted based on the words they said? (bag-of-words only)</li> \n",
    "<li>Can I predict how the TDs voted based on the sentiment and structural features of the words? (other speech features)</li>\n",
    "<li>Can I predict how the TDs voted based on non-speech features such as party and type of bill? (non-speech features)</li>\n",
    "<li>Does combining features across more of than of these sets improve on using them individually?</li>\n",
    "    </ul>"
   ]
  },
  {
   "cell_type": "markdown",
   "id": "honey-arrest",
   "metadata": {},
   "source": [
    "Here I will split my variables into several input (X) and one output (Y) variables."
   ]
  },
  {
   "cell_type": "code",
   "execution_count": 78,
   "id": "effective-nation",
   "metadata": {},
   "outputs": [
    {
     "name": "stdout",
     "output_type": "stream",
     "text": [
      "[[0 0 0 ... 0 0 0]\n",
      " [0 0 0 ... 0 0 0]\n",
      " [0 0 0 ... 0 0 0]\n",
      " ...\n",
      " [0 0 0 ... 0 0 0]\n",
      " [0 0 0 ... 0 0 0]\n",
      " [0 0 0 ... 0 0 0]]\n"
     ]
    }
   ],
   "source": [
    "# Bag-of-Words only\n",
    "\n",
    "X_BOW = vector.toarray()\n",
    "\n",
    "print(X_BOW)"
   ]
  },
  {
   "cell_type": "code",
   "execution_count": 88,
   "id": "dramatic-graham",
   "metadata": {},
   "outputs": [
    {
     "name": "stdout",
     "output_type": "stream",
     "text": [
      "[[3.00000000e+00 1.75000000e-01 2.25000000e-01 5.70000000e+01]\n",
      " [2.70000000e+01 1.04220779e-01 3.66668068e-01 1.12700000e+03]\n",
      " [2.00000000e+00 9.37301590e-02 3.62619048e-01 1.22000000e+02]\n",
      " ...\n",
      " [3.00000000e+00 1.59848485e-01 4.35606061e-01 2.37000000e+02]\n",
      " [1.10000000e+01 1.09117536e-01 3.03554712e-01 7.18000000e+02]\n",
      " [1.70000000e+01 7.99034630e-02 4.04797835e-01 1.29500000e+03]]\n",
      "\n",
      "['Utterance_Count', 'Sentiment_Polarity', 'Sentiment_Subjectivity', 'Word_Count']\n"
     ]
    }
   ],
   "source": [
    "# Other Speech features only\n",
    "\n",
    "X_OS = data.filter(regex='Utterance_Count$|Word_Count$|Sentiment_Polarity$|Sentiment_Subjectivity$').values\n",
    "\n",
    "X_OS_col_names = list(data.filter(regex='Utterance_Count$|Word_Count$|Sentiment_Polarity$|Sentiment_Subjectivity$').columns)\n",
    "\n",
    "print(X_OS)\n",
    "print()\n",
    "print(X_OS_col_names)"
   ]
  },
  {
   "cell_type": "markdown",
   "id": "following-postcard",
   "metadata": {},
   "source": [
    "The exploratory questions and my early experiments suggested that the sentiment features were significantly different from the count features in this set so I decided to run the logistic regression which confirmed that. I then split them so that I could isolate these two features sets in my experiments."
   ]
  },
  {
   "cell_type": "code",
   "execution_count": 89,
   "id": "deadly-tribute",
   "metadata": {},
   "outputs": [
    {
     "name": "stdout",
     "output_type": "stream",
     "text": [
      "\n",
      "Utterance_Count      14.04\n",
      "Sentiment_Polarity       1.02\n",
      "Sentiment_Subjectivity       1.25\n",
      "Word_Count      17.28\n"
     ]
    }
   ],
   "source": [
    "# Logistic Regression to rank values\n",
    "test = feature_selection.SelectKBest(score_func=feature_selection.f_regression, k=\"all\")\n",
    "fit = test.fit(X_OS, y)\n",
    "print()\n",
    "# have to manually display as no function to do so available\n",
    "for index, result in enumerate(fit.scores_):\n",
    "    print(\"{0:10}\".format(X_OS_col_names[index]), \"{0:10}\".format(round(result,2)))"
   ]
  },
  {
   "cell_type": "code",
   "execution_count": 92,
   "id": "joined-repair",
   "metadata": {},
   "outputs": [
    {
     "name": "stdout",
     "output_type": "stream",
     "text": [
      "[[ 1.75000000e-01  2.25000000e-01]\n",
      " [ 1.04220779e-01  3.66668068e-01]\n",
      " [ 9.37301590e-02  3.62619048e-01]\n",
      " [ 1.54487180e-02  4.85192308e-01]\n",
      " [-8.74285700e-03  3.61980952e-01]\n",
      " [ 5.62500000e-02  3.74198718e-01]\n",
      " [ 1.37662338e-01  3.86607143e-01]\n",
      " [ 4.86045400e-02  4.27677412e-01]\n",
      " [-5.14880950e-02  4.01190476e-01]\n",
      " [ 5.70389610e-02  3.89427489e-01]\n",
      " [ 3.57828280e-02  4.28980350e-01]\n",
      " [ 3.44696970e-02  3.84386837e-01]\n",
      " [-5.62830690e-02  4.67195767e-01]\n",
      " [ 6.69249310e-02  3.64754280e-01]\n",
      " [-2.94871790e-02  5.06593407e-01]\n",
      " [ 5.49401580e-02  3.09103641e-01]\n",
      " [ 1.02941176e-01  3.36274510e-01]\n",
      " [ 9.29657690e-02  4.33493266e-01]\n",
      " [ 1.16758494e-01  3.18392256e-01]\n",
      " [ 1.85944444e-01  4.51555556e-01]\n",
      " [ 1.42989510e-01  3.81282051e-01]\n",
      " [ 3.70666670e-02  4.21885714e-01]\n",
      " [ 1.76515150e-02  4.21060606e-01]\n",
      " [ 5.29797980e-02  3.37222222e-01]\n",
      " [ 6.70454550e-02  4.25000000e-01]\n",
      " [ 5.29411760e-02  3.31372549e-01]\n",
      " [ 1.75443800e-02  3.62098789e-01]\n",
      " [ 2.40969700e-02  4.20933333e-01]\n",
      " [-7.47474700e-03  4.18333333e-01]\n",
      " [ 7.71577380e-02  3.20647321e-01]\n",
      " [ 2.50883800e-03  2.96638889e-01]\n",
      " [ 1.37700500e-03  3.70243613e-01]\n",
      " [ 8.11688310e-02  2.74431818e-01]\n",
      " [ 6.53409090e-02  3.27272727e-01]\n",
      " [-1.66666700e-03  2.96979167e-01]\n",
      " [ 2.26578947e-01  3.17719298e-01]\n",
      " [ 5.08333330e-02  3.17500000e-01]\n",
      " [ 6.22947160e-02  3.19072814e-01]\n",
      " [ 4.45578230e-02  2.76303855e-01]\n",
      " [ 4.24242420e-02  1.48080808e-01]\n",
      " [ 5.73996270e-02  3.12114846e-01]\n",
      " [ 1.00944715e-01  4.30228626e-01]\n",
      " [ 9.50299700e-03  3.68040293e-01]\n",
      " [ 1.50462960e-02  2.90972222e-01]\n",
      " [-7.47183820e-02  4.09607015e-01]\n",
      " [ 6.03636360e-02  3.23555556e-01]\n",
      " [-2.68750000e-02  2.29583333e-01]\n",
      " [ 6.55423280e-02  3.17857143e-01]\n",
      " [ 1.64600840e-01  3.55450514e-01]\n",
      " [ 8.31944440e-02  3.52962963e-01]\n",
      " [ 7.05467370e-02  3.48853616e-01]\n",
      " [ 4.89778740e-02  3.67496392e-01]\n",
      " [-6.07769420e-02  3.35588972e-01]\n",
      " [ 1.36004329e-01  4.26650794e-01]\n",
      " [ 1.05429293e-01  4.47528860e-01]\n",
      " [ 1.58256528e-01  2.75268817e-01]\n",
      " [-7.97914200e-03  2.94913420e-01]\n",
      " [-4.30324070e-02  3.57500000e-01]\n",
      " [ 1.22575758e-01  1.96250000e-01]\n",
      " [ 1.43524531e-01  3.18187831e-01]\n",
      " [-2.01363640e-02  3.23826840e-01]\n",
      " [-1.07692308e-01  4.51282051e-01]\n",
      " [ 4.95161700e-02  3.92296919e-01]\n",
      " [ 5.65476190e-02  3.77759740e-01]\n",
      " [ 8.52954550e-02  3.32444444e-01]\n",
      " [-9.16149100e-03  2.23240166e-01]\n",
      " [ 1.60565476e-01  4.01190476e-01]\n",
      " [ 2.47114000e-02  3.90873016e-01]\n",
      " [ 4.54819980e-02  3.18571429e-01]\n",
      " [ 3.14008480e-02  3.11918352e-01]\n",
      " [ 6.62545450e-02  3.30765657e-01]\n",
      " [ 6.48020530e-02  3.08291789e-01]\n",
      " [ 6.51041670e-02  3.17187500e-01]\n",
      " [ 2.93814260e-02  3.68076975e-01]\n",
      " [ 6.91976580e-02  3.37531566e-01]\n",
      " [ 6.15497840e-02  3.53428571e-01]\n",
      " [ 5.80877740e-02  3.70020899e-01]\n",
      " [-3.88198800e-03  3.88026225e-01]\n",
      " [ 4.57572960e-02  3.43159738e-01]\n",
      " [ 1.62085137e-01  4.14536341e-01]\n",
      " [ 7.90854980e-02  3.79825036e-01]\n",
      " [ 1.22427177e-01  4.67126043e-01]\n",
      " [ 2.46206300e-02  3.35436159e-01]\n",
      " [ 1.23785997e-01  2.94668737e-01]\n",
      " [ 1.40498716e-01  3.68009749e-01]\n",
      " [ 4.80241610e-02  3.89997952e-01]\n",
      " [ 1.48207522e-01  4.32668651e-01]\n",
      " [ 9.61110320e-02  4.13812180e-01]\n",
      " [ 6.52191960e-02  4.11142233e-01]\n",
      " [ 4.32273000e-03  3.51411632e-01]\n",
      " [ 1.18101847e-01  3.14148278e-01]\n",
      " [-7.50000000e-02  3.91666667e-01]\n",
      " [-5.41666670e-02  3.20436508e-01]\n",
      " [ 5.45382110e-02  4.33281351e-01]\n",
      " [-1.83982680e-02  3.48647186e-01]\n",
      " [ 4.36263140e-02  4.07993197e-01]\n",
      " [-6.54575300e-03  3.83161666e-01]\n",
      " [ 1.24281779e-01  3.97973239e-01]\n",
      " [ 8.86621320e-02  3.39455782e-01]\n",
      " [ 8.33471070e-02  4.36781451e-01]\n",
      " [-9.10389610e-02  4.42142857e-01]\n",
      " [ 2.78492063e-01  5.32936508e-01]\n",
      " [ 6.98165870e-02  3.95420369e-01]\n",
      " [ 1.93243661e-01  4.56447124e-01]\n",
      " [-9.19312200e-03  4.21208113e-01]\n",
      " [ 2.56222900e-03  3.27846320e-01]\n",
      " [ 5.37731210e-02  3.70761183e-01]\n",
      " [ 9.75405310e-02  3.66261353e-01]\n",
      " [-3.82343850e-02  4.90409194e-01]\n",
      " [ 8.88906930e-02  3.91692520e-01]\n",
      " [ 2.78692390e-02  3.58207920e-01]\n",
      " [ 7.41233040e-02  3.80299375e-01]\n",
      " [ 5.34545450e-02  4.09000000e-01]\n",
      " [ 1.17713267e-01  3.25182073e-01]\n",
      " [ 1.39379823e-01  3.95254564e-01]\n",
      " [ 1.50149850e-01  4.30219780e-01]\n",
      " [-5.92740600e-03  3.46374459e-01]\n",
      " [ 9.89802020e-02  3.64371699e-01]\n",
      " [ 1.67969233e-01  4.21456916e-01]\n",
      " [ 1.25853136e-01  3.22845668e-01]\n",
      " [-3.51125540e-02  3.51475469e-01]\n",
      " [ 1.58531746e-01  3.59920635e-01]\n",
      " [ 8.07160890e-02  3.72837302e-01]\n",
      " [ 7.06212740e-02  3.97776788e-01]\n",
      " [ 5.40786140e-02  4.09350379e-01]\n",
      " [ 8.86325400e-03  3.69039725e-01]\n",
      " [ 6.73863640e-02  3.88197703e-01]\n",
      " [-2.16720780e-02  4.01746418e-01]\n",
      " [ 6.05850170e-02  3.15789843e-01]\n",
      " [ 1.47963842e-01  4.39535002e-01]\n",
      " [ 1.68190140e-02  4.17244145e-01]\n",
      " [ 9.65218690e-02  3.81318107e-01]\n",
      " [ 6.29564280e-02  4.10342556e-01]\n",
      " [-5.00000000e-01  3.00000000e-01]\n",
      " [-6.49553570e-02  2.42466518e-01]\n",
      " [ 5.53571430e-02  3.31349206e-01]\n",
      " [ 8.44469480e-02  3.43687531e-01]\n",
      " [ 7.51997250e-02  4.97045455e-01]\n",
      " [-1.61194728e-01  3.89064626e-01]\n",
      " [ 6.81994050e-02  2.97574405e-01]\n",
      " [ 1.39098780e-01  3.95985832e-01]\n",
      " [ 3.23211100e-02  2.84972625e-01]\n",
      " [-2.67045450e-02  3.89393939e-01]\n",
      " [-5.74074070e-02  3.11111111e-01]\n",
      " [ 4.74212620e-02  4.01197691e-01]\n",
      " [ 3.60006370e-02  2.96546685e-01]\n",
      " [ 6.39671440e-02  2.95474988e-01]\n",
      " [-3.22580650e-02  3.02329749e-01]\n",
      " [ 8.41213470e-02  3.68685741e-01]\n",
      " [ 3.31673210e-02  2.68595679e-01]\n",
      " [ 1.15388408e-01  4.26819384e-01]\n",
      " [ 1.47569879e-01  4.22812962e-01]\n",
      " [ 5.64183500e-02  2.90238696e-01]\n",
      " [ 2.73912150e-02  3.36490832e-01]\n",
      " [ 9.23883740e-02  3.06362400e-01]\n",
      " [ 1.85730900e-03  4.05989011e-01]\n",
      " [ 1.22348480e-02  3.75416667e-01]\n",
      " [ 4.98421930e-02  4.68098007e-01]\n",
      " [ 2.03661150e-02  3.37693880e-01]\n",
      " [-2.43876260e-02  4.17800926e-01]\n",
      " [ 6.24035650e-02  3.30017304e-01]\n",
      " [-2.85696970e-02  3.77115152e-01]\n",
      " [ 8.69047620e-02  2.91666667e-01]\n",
      " [ 1.53846150e-02  3.42307692e-01]\n",
      " [ 1.32787170e-02  3.92507551e-01]\n",
      " [ 1.02188552e-01  2.92592593e-01]\n",
      " [-5.65285200e-02  4.68545752e-01]\n",
      " [-4.64610390e-02  2.89722222e-01]\n",
      " [ 1.40909090e-02  3.28333333e-01]\n",
      " [ 1.13068182e-01  3.74791667e-01]\n",
      " [-5.13854300e-02  3.19006849e-01]\n",
      " [-2.99549500e-03  3.39969970e-01]\n",
      " [ 6.98674240e-02  3.10625000e-01]\n",
      " [ 2.40694990e-02  3.95962341e-01]\n",
      " [ 3.12500000e-02  1.81250000e-01]\n",
      " [ 2.31212800e-02  3.59970238e-01]\n",
      " [ 5.26751900e-03  3.65246212e-01]\n",
      " [ 3.96885520e-02  4.34104938e-01]\n",
      " [ 5.23644340e-02  2.55201027e-01]\n",
      " [ 2.30082400e-03  3.35313645e-01]\n",
      " [-9.29590020e-02  3.86274510e-01]\n",
      " [ 9.94923730e-02  4.31179138e-01]\n",
      " [ 1.03552769e-01  4.68678161e-01]\n",
      " [-9.16666670e-02  3.49561404e-01]\n",
      " [ 5.75043010e-02  3.89427702e-01]\n",
      " [ 1.70729030e-02  3.48978920e-01]\n",
      " [ 1.56294094e-01  4.05376002e-01]\n",
      " [ 3.54314570e-02  3.50879269e-01]\n",
      " [ 1.14381452e-01  4.38827839e-01]\n",
      " [ 8.66083450e-02  4.06968494e-01]\n",
      " [ 9.39872710e-02  3.85902678e-01]\n",
      " [ 3.34473740e-02  3.98067401e-01]\n",
      " [ 5.92637460e-02  3.84804872e-01]\n",
      " [ 9.45916310e-02  3.97118567e-01]\n",
      " [ 1.25458230e-01  4.34815096e-01]\n",
      " [-3.48800500e-03  2.52809343e-01]\n",
      " [ 1.64957850e-02  4.91671888e-01]\n",
      " [ 6.00943440e-02  4.95121636e-01]\n",
      " [ 1.28042328e-01  4.53042328e-01]\n",
      " [ 7.53959460e-02  4.52787456e-01]\n",
      " [ 1.15214045e-01  4.49523810e-01]\n",
      " [ 1.43165420e-01  4.74116162e-01]\n",
      " [ 1.05725488e-01  4.51781103e-01]\n",
      " [ 9.88211800e-03  3.67560440e-01]\n",
      " [ 1.25145668e-01  4.33735628e-01]\n",
      " [ 1.88514022e-01  5.18322981e-01]\n",
      " [-3.42070920e-02  4.69584500e-01]\n",
      " [ 1.15829726e-01  3.32395382e-01]\n",
      " [ 4.27583290e-02  4.79330573e-01]\n",
      " [ 9.56653210e-02  3.85411093e-01]\n",
      " [ 1.40740741e-01  5.29629630e-01]\n",
      " [ 1.60639205e-01  3.95239335e-01]\n",
      " [ 3.59906460e-02  3.54180839e-01]\n",
      " [ 9.98588000e-04  3.91945289e-01]\n",
      " [ 7.76758660e-02  4.19134199e-01]\n",
      " [ 9.25165380e-02  4.16581059e-01]\n",
      " [ 7.46071980e-02  4.75019333e-01]\n",
      " [ 1.37539683e-01  3.78650794e-01]\n",
      " [ 1.75689549e-01  3.82273243e-01]\n",
      " [-7.88435370e-02  4.94965986e-01]\n",
      " [ 9.87129990e-02  3.73412698e-01]\n",
      " [ 5.17339540e-02  3.08527433e-01]\n",
      " [ 1.18734969e-01  3.91335979e-01]\n",
      " [ 1.07422969e-01  4.22128852e-01]\n",
      " [ 1.21428571e-01  2.77678571e-01]\n",
      " [ 4.68647500e-03  4.85935655e-01]\n",
      " [ 1.22969846e-01  4.10743934e-01]\n",
      " [ 1.57918470e-02  3.93505800e-01]\n",
      " [ 1.20374150e-02  4.53648526e-01]\n",
      " [ 7.57034630e-02  3.78620130e-01]\n",
      " [ 1.42345873e-01  3.38087774e-01]\n",
      " [ 1.84857584e-01  4.50812610e-01]\n",
      " [ 1.21637807e-01  3.68161376e-01]\n",
      " [ 1.26964085e-01  4.55864198e-01]\n",
      " [ 1.86435786e-01  4.35013228e-01]\n",
      " [-1.60863095e-01  5.58928571e-01]\n",
      " [ 7.07543690e-02  5.03617725e-01]\n",
      " [ 8.36945030e-02  4.14109219e-01]\n",
      " [ 7.83773290e-02  4.62556073e-01]\n",
      " [ 6.57408810e-02  4.08775751e-01]\n",
      " [ 1.85133616e-01  4.17490842e-01]\n",
      " [ 1.58721670e-01  4.29520697e-01]\n",
      " [ 1.50180375e-01  4.71804783e-01]\n",
      " [ 5.61219340e-02  4.12081530e-01]\n",
      " [ 7.92761650e-02  3.61590485e-01]\n",
      " [ 3.38202310e-02  2.75992680e-01]\n",
      " [-1.28207071e-01  2.68055556e-01]\n",
      " [ 3.68389440e-02  1.97244422e-01]\n",
      " [ 6.87896700e-02  2.77483627e-01]\n",
      " [ 1.29468599e-01  3.52277433e-01]\n",
      " [ 2.67665880e-02  3.24644070e-01]\n",
      " [ 1.06944444e-01  4.03659612e-01]\n",
      " [-2.18492060e-02  3.14785714e-01]\n",
      " [ 1.38307680e-02  2.42758939e-01]\n",
      " [ 7.85416670e-02  3.46041667e-01]\n",
      " [ 1.36393939e-01  2.60500000e-01]\n",
      " [ 4.02082460e-02  2.68301680e-01]\n",
      " [-5.34773200e-03  3.91744045e-01]\n",
      " [ 8.02469100e-03  1.73611111e-01]\n",
      " [ 6.87940450e-02  2.94049507e-01]\n",
      " [ 5.53320580e-02  2.60213361e-01]\n",
      " [ 9.38259760e-02  2.92320937e-01]\n",
      " [ 6.82366070e-02  3.87064732e-01]\n",
      " [ 3.03167880e-02  3.64850686e-01]\n",
      " [ 1.68039021e-01  2.96208113e-01]\n",
      " [-2.23145640e-02  2.87931554e-01]\n",
      " [ 8.52761490e-02  3.17159498e-01]\n",
      " [ 2.99365410e-02  3.95042142e-01]\n",
      " [ 1.21761804e-01  3.51836093e-01]\n",
      " [ 8.73206810e-02  3.89073537e-01]\n",
      " [ 1.12389420e-02  3.81530366e-01]\n",
      " [ 7.38071560e-02  3.21483022e-01]\n",
      " [ 1.49403020e-02  4.07417784e-01]\n",
      " [ 3.76328220e-02  3.13474026e-01]\n",
      " [-2.53851540e-02  3.54604342e-01]\n",
      " [ 6.63790230e-02  2.93415350e-01]\n",
      " [ 1.04780800e-02  5.22250567e-01]\n",
      " [ 7.67162700e-02  6.05605159e-01]\n",
      " [ 8.96470810e-02  3.79634146e-01]\n",
      " [-7.91353380e-02  4.24036052e-01]\n",
      " [ 1.80381944e-01  4.92708333e-01]\n",
      " [ 1.13194444e-01  3.92283951e-01]\n",
      " [ 4.89177490e-02  4.96560847e-01]\n",
      " [ 5.08501370e-02  3.74843358e-01]\n",
      " [ 2.23041126e-01  5.63192641e-01]\n",
      " [ 1.67878788e-01  4.08888889e-01]\n",
      " [ 1.07471264e-01  2.96661193e-01]\n",
      " [ 6.41639600e-03  3.94112103e-01]\n",
      " [ 2.00452580e-02  4.49725174e-01]\n",
      " [ 1.13928571e-01  4.80873016e-01]\n",
      " [ 8.50622290e-02  3.37196068e-01]\n",
      " [ 2.00000000e-02  5.35000000e-01]\n",
      " [ 6.85606060e-02  3.84036797e-01]\n",
      " [ 2.96969697e-01  5.17424242e-01]\n",
      " [-4.08730160e-02  4.61904762e-01]\n",
      " [ 5.83498680e-02  4.74939374e-01]\n",
      " [ 6.22807020e-02  2.22807018e-01]\n",
      " [ 1.04351204e-01  4.40781441e-01]\n",
      " [ 8.83852260e-02  2.50427350e-01]\n",
      " [ 8.39622640e-02  3.43635819e-01]\n",
      " [ 5.72180130e-02  3.08641975e-01]\n",
      " [ 1.03229665e-01  3.65882509e-01]\n",
      " [ 4.42045450e-02  2.87916667e-01]\n",
      " [-6.22797700e-03  2.75078023e-01]\n",
      " [ 6.54389130e-02  4.03752505e-01]\n",
      " [ 1.13023212e-01  3.88298502e-01]\n",
      " [ 1.37847220e-02  3.40729167e-01]\n",
      " [ 4.12685530e-02  2.92700603e-01]\n",
      " [ 8.68583040e-02  4.06336103e-01]\n",
      " [ 1.00710227e-01  3.49763258e-01]\n",
      " [ 8.84836460e-02  3.01982524e-01]\n",
      " [ 6.56349210e-02  3.99107143e-01]\n",
      " [ 1.66363636e-01  3.56489899e-01]\n",
      " [ 1.18667582e-01  3.80444648e-01]\n",
      " [ 3.82949420e-02  3.16119503e-01]\n",
      " [ 8.97126440e-02  5.65603448e-01]\n",
      " [ 4.26694080e-02  3.74266017e-01]\n",
      " [-2.46998040e-02  3.47089518e-01]\n",
      " [ 5.71993540e-02  3.96916868e-01]\n",
      " [ 7.08140730e-02  2.87227297e-01]\n",
      " [-6.28286750e-02  2.16917702e-01]\n",
      " [ 5.90959820e-02  3.49862351e-01]\n",
      " [ 3.83803390e-02  3.15159322e-01]\n",
      " [-1.16715200e-03  3.38812696e-01]\n",
      " [ 4.86945350e-02  3.38728806e-01]\n",
      " [ 1.24733646e-01  5.07244869e-01]\n",
      " [-3.47566570e-02  4.95622896e-01]\n",
      " [-1.89536300e-03  4.82336048e-01]\n",
      " [ 6.84402600e-02  3.86353613e-01]\n",
      " [ 4.80399230e-02  2.89572310e-01]\n",
      " [ 2.99748640e-02  4.02457757e-01]\n",
      " [-3.82063100e-03  2.89126225e-01]\n",
      " [ 9.00211000e-04  3.82405372e-01]\n",
      " [ 2.09198210e-02  3.93121693e-01]\n",
      " [-1.94736150e-02  3.35959596e-01]\n",
      " [ 5.90895390e-02  3.82674393e-01]\n",
      " [ 7.93073590e-02  3.24675325e-01]\n",
      " [-2.13952700e-03  2.95966533e-01]\n",
      " [ 1.03431373e-01  3.45098039e-01]\n",
      " [-7.14015150e-02  2.68098485e-01]\n",
      " [ 3.76058720e-02  3.64379823e-01]\n",
      " [ 2.82608040e-02  3.17343738e-01]\n",
      " [ 1.69972171e-01  4.78049887e-01]\n",
      " [-1.10416667e-01  4.28125000e-01]\n",
      " [ 6.14246680e-02  3.82824616e-01]\n",
      " [ 9.23037980e-02  3.50780268e-01]\n",
      " [ 2.26190476e-01  3.40476190e-01]\n",
      " [ 2.99603170e-02  3.77050265e-01]\n",
      " [ 1.44314317e-01  4.60316172e-01]\n",
      " [ 3.40569310e-02  2.75089349e-01]\n",
      " [ 2.83633959e-01  4.94268078e-01]\n",
      " [ 3.24561400e-02  2.35380117e-01]\n",
      " [ 8.07629870e-02  2.61011905e-01]\n",
      " [-1.19329574e-01  3.18682122e-01]\n",
      " [ 1.52504960e-02  3.52519841e-01]\n",
      " [ 7.53233340e-02  3.28867930e-01]\n",
      " [ 9.01816800e-03  3.28935136e-01]\n",
      " [ 1.74973540e-02  3.45201058e-01]\n",
      " [ 6.15971220e-02  4.29945286e-01]\n",
      " [-2.80199000e-04  3.24468264e-01]\n",
      " [ 8.54864430e-02  3.19736842e-01]\n",
      " [ 7.65609580e-02  3.71219168e-01]\n",
      " [ 6.91163570e-02  3.22924710e-01]\n",
      " [-5.36881980e-02  4.44796651e-01]\n",
      " [ 4.11900960e-02  3.68197008e-01]\n",
      " [ 1.57716921e-01  4.14699793e-01]\n",
      " [ 4.16666667e-01  5.00000000e-01]\n",
      " [ 6.89920390e-02  3.29088341e-01]\n",
      " [ 3.87480290e-02  3.51159356e-01]\n",
      " [-4.13458570e-02  3.46251417e-01]\n",
      " [ 8.59235210e-02  4.11250000e-01]\n",
      " [-1.17488660e-02  3.49291383e-01]\n",
      " [ 1.72909144e-01  5.15362950e-01]\n",
      " [ 4.28138530e-02  3.70146104e-01]\n",
      " [ 7.89971140e-02  3.32328042e-01]\n",
      " [ 1.11602189e-01  4.34162297e-01]\n",
      " [ 1.28699331e-01  3.54544908e-01]\n",
      " [ 1.25260564e-01  3.09820840e-01]\n",
      " [ 6.71156000e-02  3.81944444e-01]\n",
      " [ 1.13899196e-01  4.15917157e-01]\n",
      " [ 9.31715110e-02  4.33725005e-01]\n",
      " [ 2.34800380e-02  3.72460317e-01]\n",
      " [ 1.27662338e-01  4.35858844e-01]\n",
      " [ 1.79633776e-01  4.01833607e-01]\n",
      " [ 1.73623585e-01  4.50063370e-01]\n",
      " [ 4.46259470e-02  3.17447917e-01]\n",
      " [ 1.11003103e-01  4.58614762e-01]\n",
      " [ 5.15211640e-02  3.67261905e-01]\n",
      " [ 1.37903226e-01  3.98118280e-01]\n",
      " [ 1.42536630e-01  4.51785714e-01]\n",
      " [-4.46428570e-02  2.86904762e-01]\n",
      " [ 8.61747530e-02  3.85759209e-01]\n",
      " [ 1.10592411e-01  3.93200018e-01]\n",
      " [ 1.58989283e-01  4.93616038e-01]\n",
      " [ 1.26144689e-01  3.91529304e-01]\n",
      " [-4.30194810e-02  4.30370671e-01]\n",
      " [ 9.93748580e-02  3.46015607e-01]\n",
      " [ 1.29914773e-01  4.17638889e-01]\n",
      " [ 8.11893030e-02  3.21109286e-01]\n",
      " [ 5.29991630e-02  3.13426550e-01]\n",
      " [-1.20661160e-02  1.93333333e-01]\n",
      " [ 1.39287147e-01  4.53995735e-01]\n",
      " [ 1.08771930e-01  3.71052632e-01]\n",
      " [-1.15762890e-02  2.59210526e-01]\n",
      " [ 6.62864360e-02  3.08348966e-01]\n",
      " [ 8.63967050e-02  3.66733806e-01]\n",
      " [ 9.28478800e-02  3.89262724e-01]\n",
      " [ 1.95151371e-01  4.73279125e-01]\n",
      " [ 9.12134740e-02  4.17115350e-01]\n",
      " [ 7.57585980e-02  3.85580688e-01]\n",
      " [ 5.80764410e-02  3.87631579e-01]\n",
      " [ 7.54104600e-02  4.14844506e-01]\n",
      " [ 1.41293891e-01  3.48500882e-01]\n",
      " [-3.31550800e-02  2.88235294e-01]\n",
      " [-7.31729100e-03  3.28748115e-01]\n",
      " [ 1.25436939e-01  3.29207857e-01]\n",
      " [-1.94444440e-02  3.00925926e-01]\n",
      " [ 8.78823100e-02  3.18189343e-01]\n",
      " [ 1.72377133e-01  3.84943978e-01]\n",
      " [ 1.12038352e-01  2.31707702e-01]\n",
      " [ 7.35766520e-02  2.94802161e-01]\n",
      " [ 1.24247044e-01  4.17435901e-01]\n",
      " [ 9.36197920e-02  3.27260045e-01]\n",
      " [ 4.90038720e-02  3.50684409e-01]\n",
      " [ 3.45710720e-02  4.10345087e-01]\n",
      " [ 7.17006800e-02  1.75034014e-01]\n",
      " [ 9.61807360e-02  3.91021465e-01]\n",
      " [ 6.41626230e-02  3.84237908e-01]\n",
      " [ 5.58315040e-02  4.39017186e-01]\n",
      " [ 1.10325659e-01  3.98892496e-01]\n",
      " [ 4.30481280e-02  4.42656343e-01]\n",
      " [ 5.94547520e-02  3.35644197e-01]\n",
      " [ 1.92455628e-01  4.08226190e-01]\n",
      " [ 2.94099590e-02  3.92553827e-01]\n",
      " [ 1.59848485e-01  4.35606061e-01]\n",
      " [ 1.09117536e-01  3.03554712e-01]\n",
      " [ 7.99034630e-02  4.04797835e-01]]\n"
     ]
    }
   ],
   "source": [
    "# Other Speech features (Sentiment Related)\n",
    "\n",
    "X_OS_SENT = data.filter(regex='Sentiment_Polarity$|Sentiment_Subjectivity$').values\n",
    "\n",
    "print(X_OS_SENT)"
   ]
  },
  {
   "cell_type": "code",
   "execution_count": 93,
   "id": "incorrect-place",
   "metadata": {},
   "outputs": [
    {
     "name": "stdout",
     "output_type": "stream",
     "text": [
      "[[   3   57]\n",
      " [  27 1127]\n",
      " [   2  122]\n",
      " [   4  222]\n",
      " [   4  227]\n",
      " [   3  167]\n",
      " [   2  115]\n",
      " [  26  906]\n",
      " [   7  167]\n",
      " [  12  750]\n",
      " [   7  393]\n",
      " [   9  388]\n",
      " [   2  141]\n",
      " [  11  542]\n",
      " [   5  171]\n",
      " [   6  190]\n",
      " [   4  194]\n",
      " [   2  224]\n",
      " [   5  420]\n",
      " [   1  131]\n",
      " [   2  216]\n",
      " [   6  273]\n",
      " [   3  225]\n",
      " [   2  170]\n",
      " [   3  145]\n",
      " [   4  197]\n",
      " [  14 1010]\n",
      " [   4  222]\n",
      " [   4  285]\n",
      " [   5  206]\n",
      " [  12  547]\n",
      " [  10  713]\n",
      " [   4  254]\n",
      " [   3  200]\n",
      " [   5  476]\n",
      " [   9  559]\n",
      " [   8  529]\n",
      " [   6  582]\n",
      " [   6  247]\n",
      " [   2  145]\n",
      " [  16  696]\n",
      " [   9  589]\n",
      " [   6  446]\n",
      " [   4  173]\n",
      " [   6  310]\n",
      " [   3  215]\n",
      " [   6  223]\n",
      " [   5  314]\n",
      " [  14  446]\n",
      " [   4  252]\n",
      " [   6  292]\n",
      " [   6  350]\n",
      " [   6  237]\n",
      " [   5  235]\n",
      " [  12  573]\n",
      " [   5  382]\n",
      " [   4  200]\n",
      " [   4  228]\n",
      " [   7  455]\n",
      " [   3  171]\n",
      " [  10  684]\n",
      " [   3  187]\n",
      " [   4  227]\n",
      " [  10  525]\n",
      " [   6  301]\n",
      " [   6  356]\n",
      " [   4  212]\n",
      " [   3  212]\n",
      " [   5  344]\n",
      " [  20  921]\n",
      " [  13  794]\n",
      " [  15  591]\n",
      " [   3  123]\n",
      " [  11  762]\n",
      " [  17  896]\n",
      " [  11  371]\n",
      " [  15 1181]\n",
      " [  13  420]\n",
      " [  30 1455]\n",
      " [   9  554]\n",
      " [   6  376]\n",
      " [  11  834]\n",
      " [  17  990]\n",
      " [   8  253]\n",
      " [  21  951]\n",
      " [   6  526]\n",
      " [  17 1082]\n",
      " [  16  964]\n",
      " [  14  790]\n",
      " [  14  766]\n",
      " [  31 1695]\n",
      " [  13  119]\n",
      " [   7  274]\n",
      " [  44 1486]\n",
      " [   2  174]\n",
      " [   4  316]\n",
      " [   5  295]\n",
      " [   4  292]\n",
      " [   3  212]\n",
      " [  12  576]\n",
      " [   2  186]\n",
      " [   5  209]\n",
      " [   8  589]\n",
      " [   8  179]\n",
      " [   3  177]\n",
      " [   3  189]\n",
      " [   6  330]\n",
      " [  14  683]\n",
      " [   3  188]\n",
      " [  15  517]\n",
      " [  20  785]\n",
      " [  28 1251]\n",
      " [   4  200]\n",
      " [   2  172]\n",
      " [   7  409]\n",
      " [   4  131]\n",
      " [   3  253]\n",
      " [  23  996]\n",
      " [   6  363]\n",
      " [   8  875]\n",
      " [   6  381]\n",
      " [   3  251]\n",
      " [   8  326]\n",
      " [  29 1835]\n",
      " [  37 1657]\n",
      " [   9  748]\n",
      " [  12  671]\n",
      " [  11  780]\n",
      " [   9  461]\n",
      " [  15  905]\n",
      " [  10  542]\n",
      " [  12  613]\n",
      " [   6  414]\n",
      " [   4    8]\n",
      " [   9  383]\n",
      " [   3  142]\n",
      " [  24  995]\n",
      " [   4  187]\n",
      " [  11  680]\n",
      " [   9  582]\n",
      " [   3  308]\n",
      " [  13  413]\n",
      " [   8  286]\n",
      " [   3  178]\n",
      " [  18  759]\n",
      " [  31 1744]\n",
      " [  35 1907]\n",
      " [  13  424]\n",
      " [   6  227]\n",
      " [  20  635]\n",
      " [  11  524]\n",
      " [  15 1086]\n",
      " [  10  498]\n",
      " [   8  589]\n",
      " [   7  273]\n",
      " [   7  390]\n",
      " [   4  160]\n",
      " [   8  513]\n",
      " [  23 1357]\n",
      " [   4  344]\n",
      " [  19 1014]\n",
      " [   4  256]\n",
      " [   2  216]\n",
      " [   7  264]\n",
      " [   8  541]\n",
      " [   2  124]\n",
      " [   4  234]\n",
      " [  12  700]\n",
      " [   2  139]\n",
      " [   6  268]\n",
      " [  15  799]\n",
      " [   8  318]\n",
      " [   9  524]\n",
      " [   5  521]\n",
      " [   2  206]\n",
      " [   7  457]\n",
      " [   6  395]\n",
      " [   5  238]\n",
      " [   7  538]\n",
      " [  16  587]\n",
      " [   4  165]\n",
      " [   6  277]\n",
      " [   5  337]\n",
      " [   4  191]\n",
      " [  23  989]\n",
      " [  18  761]\n",
      " [  16 1153]\n",
      " [  13  522]\n",
      " [   4  208]\n",
      " [  18  884]\n",
      " [  12  876]\n",
      " [  18 1278]\n",
      " [  16  648]\n",
      " [  12  848]\n",
      " [   9  482]\n",
      " [   8  292]\n",
      " [  12  530]\n",
      " [  11  482]\n",
      " [   5  244]\n",
      " [   3  308]\n",
      " [   9  457]\n",
      " [  14  789]\n",
      " [  21 1146]\n",
      " [  10  702]\n",
      " [  41 1623]\n",
      " [   5  381]\n",
      " [   8  516]\n",
      " [  10  544]\n",
      " [   4  387]\n",
      " [  26 1191]\n",
      " [   3  176]\n",
      " [  10  815]\n",
      " [   7  666]\n",
      " [   8  512]\n",
      " [  18  802]\n",
      " [  11 1049]\n",
      " [   7  651]\n",
      " [   6  348]\n",
      " [  14  978]\n",
      " [  11  574]\n",
      " [   7  403]\n",
      " [  16  622]\n",
      " [   9  500]\n",
      " [   5  248]\n",
      " [   3  177]\n",
      " [  19 1461]\n",
      " [  17 1102]\n",
      " [   9  330]\n",
      " [   3  376]\n",
      " [  11  550]\n",
      " [   9  469]\n",
      " [  20  931]\n",
      " [  17  645]\n",
      " [   6  330]\n",
      " [   4  208]\n",
      " [   3  120]\n",
      " [  23  912]\n",
      " [  37 2420]\n",
      " [   9  480]\n",
      " [  14 1055]\n",
      " [  13  658]\n",
      " [   8  544]\n",
      " [   6  571]\n",
      " [  12  741]\n",
      " [  29 1542]\n",
      " [  18  931]\n",
      " [   7  199]\n",
      " [  37 1806]\n",
      " [   9  604]\n",
      " [  16  577]\n",
      " [  19 1179]\n",
      " [   6  277]\n",
      " [  13  817]\n",
      " [  10  664]\n",
      " [   2  210]\n",
      " [  12  586]\n",
      " [  18 1023]\n",
      " [   9  610]\n",
      " [   9  492]\n",
      " [  12  774]\n",
      " [  19  769]\n",
      " [  40 1848]\n",
      " [   6  568]\n",
      " [  12  623]\n",
      " [  12  786]\n",
      " [  14  568]\n",
      " [   5  351]\n",
      " [  20  870]\n",
      " [  17  839]\n",
      " [  21 1281]\n",
      " [  19 1490]\n",
      " [  18 1313]\n",
      " [  19  691]\n",
      " [  10  768]\n",
      " [  16  684]\n",
      " [  13  691]\n",
      " [   6  176]\n",
      " [   4  196]\n",
      " [   8  497]\n",
      " [   7  232]\n",
      " [   6  407]\n",
      " [   9  555]\n",
      " [   3  202]\n",
      " [  11  405]\n",
      " [   6  250]\n",
      " [   3  202]\n",
      " [   7  279]\n",
      " [  13  407]\n",
      " [  13  896]\n",
      " [   3  196]\n",
      " [  10  621]\n",
      " [   2   98]\n",
      " [   5  359]\n",
      " [   8  251]\n",
      " [   6  360]\n",
      " [  10  527]\n",
      " [   3  154]\n",
      " [   8  578]\n",
      " [  10  516]\n",
      " [  10  676]\n",
      " [   6  278]\n",
      " [   6  233]\n",
      " [   4  195]\n",
      " [   7  368]\n",
      " [  16 1004]\n",
      " [   9  591]\n",
      " [   6  336]\n",
      " [   4  332]\n",
      " [   7  480]\n",
      " [   8  454]\n",
      " [  15  847]\n",
      " [   6  439]\n",
      " [   5  169]\n",
      " [  15  669]\n",
      " [  23 1063]\n",
      " [   6  449]\n",
      " [  43 1934]\n",
      " [  14  551]\n",
      " [   9  596]\n",
      " [   9  565]\n",
      " [  10  742]\n",
      " [  31 1745]\n",
      " [  16  797]\n",
      " [   9  628]\n",
      " [  19 1220]\n",
      " [   5  341]\n",
      " [   8  374]\n",
      " [  30 1088]\n",
      " [  18 1014]\n",
      " [   7  462]\n",
      " [   5  390]\n",
      " [  28 1794]\n",
      " [   7  334]\n",
      " [   7  363]\n",
      " [  11 1028]\n",
      " [  16  987]\n",
      " [  10  401]\n",
      " [   9  465]\n",
      " [   3  192]\n",
      " [  10  395]\n",
      " [   7  280]\n",
      " [   5  544]\n",
      " [   7  439]\n",
      " [   6  199]\n",
      " [  15  799]\n",
      " [   7  431]\n",
      " [   6   59]\n",
      " [   8  318]\n",
      " [   9  343]\n",
      " [  15  786]\n",
      " [   5  242]\n",
      " [   3  193]\n",
      " [   6  316]\n",
      " [  13  449]\n",
      " [   8  552]\n",
      " [  26 1349]\n",
      " [  15  710]\n",
      " [  11  588]\n",
      " [   7  645]\n",
      " [  14  883]\n",
      " [   5  375]\n",
      " [   7  395]\n",
      " [  10  400]\n",
      " [   5  271]\n",
      " [  13  560]\n",
      " [   4  345]\n",
      " [   3   19]\n",
      " [  43 1444]\n",
      " [  36 1884]\n",
      " [  13  577]\n",
      " [  12  757]\n",
      " [  10  410]\n",
      " [   5  281]\n",
      " [   8  395]\n",
      " [  10  374]\n",
      " [   5  404]\n",
      " [  10  760]\n",
      " [  10  642]\n",
      " [  11  466]\n",
      " [  19 1200]\n",
      " [   7  364]\n",
      " [   5  438]\n",
      " [   7  437]\n",
      " [  16  805]\n",
      " [  29  793]\n",
      " [   4  297]\n",
      " [  18  932]\n",
      " [   3  221]\n",
      " [   4  373]\n",
      " [   9  364]\n",
      " [   6  257]\n",
      " [   6  436]\n",
      " [  28 1236]\n",
      " [   4  455]\n",
      " [   4  182]\n",
      " [   6  462]\n",
      " [   5  350]\n",
      " [   4  181]\n",
      " [  15 1029]\n",
      " [  20 1222]\n",
      " [  11  720]\n",
      " [  14  761]\n",
      " [   6  224]\n",
      " [   5  398]\n",
      " [   9  583]\n",
      " [  12  587]\n",
      " [  19 1375]\n",
      " [  10  789]\n",
      " [  12  643]\n",
      " [  11  612]\n",
      " [   5  275]\n",
      " [   7  589]\n",
      " [   5  307]\n",
      " [   5  312]\n",
      " [  28 1261]\n",
      " [  14 1054]\n",
      " [   9  548]\n",
      " [   9  475]\n",
      " [   6  251]\n",
      " [   4  283]\n",
      " [  11  952]\n",
      " [  11  790]\n",
      " [  10  550]\n",
      " [  16 1206]\n",
      " [  14  755]\n",
      " [   7  483]\n",
      " [  12  858]\n",
      " [  15 1088]\n",
      " [  26 1669]\n",
      " [  24 1259]\n",
      " [  19 1633]\n",
      " [  23 1017]\n",
      " [   6  578]\n",
      " [  42 1774]\n",
      " [   3  237]\n",
      " [  11  718]\n",
      " [  17 1295]]\n"
     ]
    }
   ],
   "source": [
    "# Other Speech features (Count Related)\n",
    "X_OS_COUNT = data.filter(regex='Utterance_Count$|Word_Count$').values\n",
    "\n",
    "print(X_OS_COUNT)"
   ]
  },
  {
   "cell_type": "code",
   "execution_count": 77,
   "id": "enormous-artist",
   "metadata": {},
   "outputs": [
    {
     "name": "stdout",
     "output_type": "stream",
     "text": [
      "[[0 0 0 ... 0.0 0.0 1.0]\n",
      " [0 0 0 ... 0.0 0.0 1.0]\n",
      " [0 0 0 ... 0.0 0.0 1.0]\n",
      " ...\n",
      " [0 0 0 ... 0.0 0.0 1.0]\n",
      " [0 0 0 ... 0.0 0.0 1.0]\n",
      " [0 0 0 ... 0.0 0.0 1.0]]\n"
     ]
    }
   ],
   "source": [
    "# class variable\n",
    "y = data['Vote'].values"
   ]
  },
  {
   "cell_type": "markdown",
   "id": "legitimate-separate",
   "metadata": {},
   "source": [
    " ## 2.4. Models"
   ]
  },
  {
   "cell_type": "markdown",
   "id": "freelance-thailand",
   "metadata": {},
   "source": [
    "#### Naive/Majority Class Model\n",
    "\n",
    "One observation that was made in the literature was that a naive/majority class model had relatively high accuracy due to the unbalanced classes in the data sets - because legislation that makes it as far as a vote tends to get majority yes votes. I evaluted the majority class classifier (always predicting a yes vote) on my dataset to form a baseline result which I could compare my trained models against."
   ]
  },
  {
   "cell_type": "code",
   "execution_count": 213,
   "id": "greek-judge",
   "metadata": {},
   "outputs": [
    {
     "name": "stdout",
     "output_type": "stream",
     "text": [
      "Accuracy:  0.7368421052631579\n",
      "Precision:  0.7368421052631579\n",
      "Recall:  1.0\n",
      "Specificity: 0.0\n",
      "F1 Score:  0.8484848484848484\n"
     ]
    }
   ],
   "source": [
    "ta = data.groupby('Vote').size()[1]\n",
    "nil = data.groupby('Vote').size()[0]\n",
    "\n",
    "naive_accuracy = (ta)/(ta+nil)\n",
    "naive_precision = (ta)/(ta+nil)\n",
    "naive_recall = (ta)/(ta)\n",
    "naive_specificity = (0/nil)\n",
    "naive_f1 = 2*(naive_precision * naive_recall)/(naive_precision + naive_recall)\n",
    "\n",
    "\n",
    "\n",
    "print(\"Accuracy: \", naive_accuracy)\n",
    "print(\"Precision: \", naive_precision)\n",
    "print(\"Recall: \", naive_recall)\n",
    "print(\"Specificity:\", naive_specificity)\n",
    "print(\"F1 Score: \", naive_f1)\n"
   ]
  },
  {
   "cell_type": "markdown",
   "id": "arbitrary-archives",
   "metadata": {},
   "source": [
    "### 2.4.1. Support Vector Machines"
   ]
  },
  {
   "cell_type": "code",
   "execution_count": 96,
   "id": "consolidated-writing",
   "metadata": {},
   "outputs": [],
   "source": [
    "from sklearn import svm\n",
    "from sklearn.model_selection import train_test_split\n",
    "from sklearn import metrics"
   ]
  },
  {
   "cell_type": "markdown",
   "id": "impressed-tomato",
   "metadata": {},
   "source": [
    "<b>1. Bag-of-Words only (SVM_BOW)</b>"
   ]
  },
  {
   "cell_type": "code",
   "execution_count": 134,
   "id": "referenced-atlantic",
   "metadata": {},
   "outputs": [],
   "source": [
    "X_train, X_test, y_train, y_test = train_test_split(X_BOW, y, test_size=0.3) # 70% training and 30% test"
   ]
  },
  {
   "cell_type": "code",
   "execution_count": 135,
   "id": "selective-russell",
   "metadata": {},
   "outputs": [],
   "source": [
    "#Create a svm Classifier\n",
    "SVM_BOW = svm.SVC(kernel='linear') # Linear Kernel\n",
    "\n",
    "#Train the model using the training sets\n",
    "SVM_BOW.fit(X_train, y_train)\n",
    "\n",
    "#Predict the response for test dataset\n",
    "y_pred = SVM_BOW.predict(X_test)"
   ]
  },
  {
   "cell_type": "code",
   "execution_count": 136,
   "id": "breathing-packet",
   "metadata": {},
   "outputs": [
    {
     "name": "stdout",
     "output_type": "stream",
     "text": [
      "Confusion matrix: \n",
      " [[77 11]\n",
      " [24 20]]\n",
      "\n",
      "Classification report: \n",
      "               precision    recall  f1-score   support\n",
      "\n",
      "           1       0.76      0.88      0.81        88\n",
      "           0       0.65      0.45      0.53        44\n",
      "\n",
      "    accuracy                           0.73       132\n",
      "   macro avg       0.70      0.66      0.67       132\n",
      "weighted avg       0.72      0.73      0.72       132\n",
      "\n",
      "\n",
      "Overall Metrics: \n",
      "\n",
      "Accuracy: 0.7348484848484849\n",
      "Precision: 0.7623762376237624\n",
      "Recall: 0.875\n",
      "F1 Score: 0.8148148148148149\n"
     ]
    }
   ],
   "source": [
    "# confusion matrix in sklearn\n",
    "from sklearn.metrics import confusion_matrix\n",
    "from sklearn.metrics import classification_report\n",
    "\n",
    "# confusion matrix\n",
    "matrix = confusion_matrix(y_test, y_pred, labels=[1,0])\n",
    "print('Confusion matrix: \\n',matrix)\n",
    "print()\n",
    "\n",
    "# classification report for precision, recall f1-score and accuracy\n",
    "matrix = classification_report(y_test, y_pred,labels=[1,0])\n",
    "print('Classification report: \\n',matrix)\n",
    "print()\n",
    "print('Overall Metrics: \\n')\n",
    "\n",
    "print(\"Accuracy:\",metrics.accuracy_score(y_test, y_pred))\n",
    "\n",
    "print(\"Precision:\",metrics.precision_score(y_test, y_pred))\n",
    "\n",
    "print(\"Recall:\",metrics.recall_score(y_test, y_pred))\n",
    "\n",
    "print(\"F1 Score:\",metrics.f1_score(y_test, y_pred))"
   ]
  },
  {
   "cell_type": "markdown",
   "id": "sharing-china",
   "metadata": {},
   "source": [
    "<b>2. Other Speech Features only (SVM_OS)</b>"
   ]
  },
  {
   "cell_type": "code",
   "execution_count": 137,
   "id": "female-render",
   "metadata": {},
   "outputs": [],
   "source": [
    "X_train, X_test, y_train, y_test = train_test_split(X_OS, y, test_size=0.3) # 70% training and 30% test"
   ]
  },
  {
   "cell_type": "code",
   "execution_count": 138,
   "id": "furnished-effects",
   "metadata": {},
   "outputs": [],
   "source": [
    "#Create a svm Classifier\n",
    "SVM_OS = svm.SVC(kernel='linear') # Linear Kernel\n",
    "\n",
    "#Train the model using the training sets\n",
    "SVM_OS.fit(X_train, y_train)\n",
    "\n",
    "#Predict the response for test dataset\n",
    "y_pred = SVM_OS.predict(X_test)"
   ]
  },
  {
   "cell_type": "code",
   "execution_count": 140,
   "id": "indirect-native",
   "metadata": {},
   "outputs": [
    {
     "name": "stdout",
     "output_type": "stream",
     "text": [
      "Confusion matrix: \n",
      " [[87  0]\n",
      " [45  0]]\n",
      "\n",
      "Classification report: \n",
      "               precision    recall  f1-score   support\n",
      "\n",
      "           1       0.66      1.00      0.79        87\n",
      "           0       0.00      0.00      0.00        45\n",
      "\n",
      "    accuracy                           0.66       132\n",
      "   macro avg       0.33      0.50      0.40       132\n",
      "weighted avg       0.43      0.66      0.52       132\n",
      "\n",
      "\n",
      "Overall Metrics: \n",
      "\n",
      "Accuracy: 0.6590909090909091\n",
      "Precision: 0.6590909090909091\n",
      "Recall: 1.0\n",
      "F1 Score: 0.7945205479452054\n"
     ]
    }
   ],
   "source": [
    "# confusion matrix\n",
    "matrix = confusion_matrix(y_test, y_pred, labels=[1,0])\n",
    "print('Confusion matrix: \\n',matrix)\n",
    "print()\n",
    "\n",
    "# classification report for precision, recall f1-score and accuracy\n",
    "matrix = classification_report(y_test, y_pred, zero_division=0, labels=[1,0])\n",
    "print('Classification report: \\n',matrix) \n",
    "print()\n",
    "# overall metrics\n",
    "print('Overall Metrics: \\n')\n",
    "\n",
    "print(\"Accuracy:\",metrics.accuracy_score(y_test, y_pred))\n",
    "\n",
    "print(\"Precision:\",metrics.precision_score(y_test, y_pred))\n",
    "\n",
    "print(\"Recall:\",metrics.recall_score(y_test, y_pred))\n",
    "\n",
    "print(\"F1 Score:\",metrics.f1_score(y_test, y_pred))"
   ]
  },
  {
   "cell_type": "markdown",
   "id": "handled-cheese",
   "metadata": {},
   "source": [
    "<b>2a. Other Speech Features only, count related (SVM_OS_COUNT)</b>"
   ]
  },
  {
   "cell_type": "code",
   "execution_count": 142,
   "id": "intelligent-photographer",
   "metadata": {},
   "outputs": [],
   "source": [
    "X_train, X_test, y_train, y_test = train_test_split(X_OS_COUNT, y, test_size=0.3) # 70% training and 30% test"
   ]
  },
  {
   "cell_type": "code",
   "execution_count": 143,
   "id": "federal-virgin",
   "metadata": {},
   "outputs": [],
   "source": [
    "#Create a svm Classifier\n",
    "SVM_OS_COUNT = svm.SVC(kernel='linear') # Linear Kernel\n",
    "\n",
    "#Train the model using the training sets\n",
    "SVM_OS_COUNT.fit(X_train, y_train)\n",
    "\n",
    "#Predict the response for test dataset\n",
    "y_pred = SVM_OS_COUNT.predict(X_test)"
   ]
  },
  {
   "cell_type": "code",
   "execution_count": 145,
   "id": "caroline-tomato",
   "metadata": {},
   "outputs": [
    {
     "name": "stdout",
     "output_type": "stream",
     "text": [
      "Confusion matrix: \n",
      " [[96  0]\n",
      " [36  0]]\n",
      "\n",
      "Classification report: \n",
      "               precision    recall  f1-score   support\n",
      "\n",
      "           1       0.73      1.00      0.84        96\n",
      "           0       0.00      0.00      0.00        36\n",
      "\n",
      "    accuracy                           0.73       132\n",
      "   macro avg       0.36      0.50      0.42       132\n",
      "weighted avg       0.53      0.73      0.61       132\n",
      "\n",
      "\n",
      "Overall Metrics: \n",
      "\n",
      "Accuracy: 0.7272727272727273\n",
      "Precision: 0.7272727272727273\n",
      "Recall: 1.0\n",
      "F1 Score: 0.8421052631578948\n"
     ]
    }
   ],
   "source": [
    "# confusion matrix in sklearn\n",
    "from sklearn.metrics import confusion_matrix\n",
    "from sklearn.metrics import classification_report\n",
    "\n",
    "# confusion matrix\n",
    "matrix = confusion_matrix(y_test, y_pred, labels=[1,0])\n",
    "print('Confusion matrix: \\n',matrix)\n",
    "print()\n",
    "\n",
    "# classification report for precision, recall f1-score and accuracy\n",
    "matrix = classification_report(y_test, y_pred, zero_division=0, labels=[1,0])\n",
    "print('Classification report: \\n',matrix)\n",
    "print()\n",
    "print('Overall Metrics: \\n')\n",
    "\n",
    "print(\"Accuracy:\",metrics.accuracy_score(y_test, y_pred))\n",
    "\n",
    "print(\"Precision:\",metrics.precision_score(y_test, y_pred))\n",
    "\n",
    "print(\"Recall:\",metrics.recall_score(y_test, y_pred))\n",
    "\n",
    "print(\"F1 Score:\",metrics.f1_score(y_test, y_pred))"
   ]
  },
  {
   "cell_type": "markdown",
   "id": "broke-conversion",
   "metadata": {},
   "source": [
    "<b>2b. Other Speech Features only, sentiment related (SVM_OS_SENT)</b>"
   ]
  },
  {
   "cell_type": "code",
   "execution_count": 146,
   "id": "forced-fence",
   "metadata": {},
   "outputs": [],
   "source": [
    "X_train, X_test, y_train, y_test = train_test_split(X_OS_SENT, y, test_size=0.3) # 70% training and 30% test"
   ]
  },
  {
   "cell_type": "code",
   "execution_count": 147,
   "id": "vulnerable-venue",
   "metadata": {},
   "outputs": [],
   "source": [
    "#Create a svm Classifier\n",
    "SVM_OS_SENT = svm.SVC(kernel='linear') # Linear Kernel\n",
    "\n",
    "#Train the model using the training sets\n",
    "SVM_OS_SENT.fit(X_train, y_train)\n",
    "\n",
    "#Predict the response for test dataset\n",
    "y_pred = SVM_OS_SENT.predict(X_test)"
   ]
  },
  {
   "cell_type": "code",
   "execution_count": 148,
   "id": "banned-registration",
   "metadata": {},
   "outputs": [
    {
     "name": "stdout",
     "output_type": "stream",
     "text": [
      "Confusion matrix: \n",
      " [[101   0]\n",
      " [ 31   0]]\n",
      "\n",
      "Classification report: \n",
      "               precision    recall  f1-score   support\n",
      "\n",
      "           1       0.77      1.00      0.87       101\n",
      "           0       0.00      0.00      0.00        31\n",
      "\n",
      "    accuracy                           0.77       132\n",
      "   macro avg       0.38      0.50      0.43       132\n",
      "weighted avg       0.59      0.77      0.66       132\n",
      "\n",
      "\n",
      "Overall Metrics: \n",
      "\n",
      "Accuracy: 0.7651515151515151\n",
      "Precision: 0.7651515151515151\n",
      "Recall: 1.0\n",
      "F1 Score: 0.8669527896995708\n"
     ]
    }
   ],
   "source": [
    "# confusion matrix\n",
    "matrix = confusion_matrix(y_test, y_pred, labels=[1,0])\n",
    "print('Confusion matrix: \\n',matrix)\n",
    "print()\n",
    "\n",
    "# classification report for precision, recall f1-score and accuracy\n",
    "matrix = classification_report(y_test, y_pred, zero_division=0, labels=[1,0])\n",
    "print('Classification report: \\n',matrix)\n",
    "print()\n",
    "print('Overall Metrics: \\n')\n",
    "\n",
    "print(\"Accuracy:\",metrics.accuracy_score(y_test, y_pred))\n",
    "\n",
    "print(\"Precision:\",metrics.precision_score(y_test, y_pred))\n",
    "\n",
    "print(\"Recall:\",metrics.recall_score(y_test, y_pred))\n",
    "\n",
    "print(\"F1 Score:\",metrics.f1_score(y_test, y_pred))"
   ]
  },
  {
   "cell_type": "markdown",
   "id": "confident-retrieval",
   "metadata": {},
   "source": [
    "<b>3. Other Features Only (SVM_OF)</b>"
   ]
  },
  {
   "cell_type": "code",
   "execution_count": 149,
   "id": "naked-wrapping",
   "metadata": {},
   "outputs": [],
   "source": [
    "X_train, X_test, y_train, y_test = train_test_split(X_OF, y, test_size=0.3) # 70% training and 30% test"
   ]
  },
  {
   "cell_type": "code",
   "execution_count": 150,
   "id": "solar-place",
   "metadata": {},
   "outputs": [],
   "source": [
    "#Create a svm Classifier\n",
    "SVM_OF = svm.SVC(kernel='linear') # Linear Kernel\n",
    "\n",
    "#Train the model using the training sets\n",
    "SVM_OF.fit(X_train, y_train)\n",
    "\n",
    "#Predict the response for test dataset\n",
    "y_pred = SVM_OF.predict(X_test)"
   ]
  },
  {
   "cell_type": "code",
   "execution_count": 151,
   "id": "particular-crossing",
   "metadata": {},
   "outputs": [
    {
     "name": "stdout",
     "output_type": "stream",
     "text": [
      "Confusion matrix: \n",
      " [[88  4]\n",
      " [28 12]]\n",
      "\n",
      "Classification report: \n",
      "               precision    recall  f1-score   support\n",
      "\n",
      "           1       0.76      0.96      0.85        92\n",
      "           0       0.75      0.30      0.43        40\n",
      "\n",
      "    accuracy                           0.76       132\n",
      "   macro avg       0.75      0.63      0.64       132\n",
      "weighted avg       0.76      0.76      0.72       132\n",
      "\n",
      "\n",
      "Overall Metrics: \n",
      "\n",
      "Accuracy: 0.7575757575757576\n",
      "Precision: 0.7586206896551724\n",
      "Recall: 0.9565217391304348\n",
      "F1 Score: 0.8461538461538461\n"
     ]
    }
   ],
   "source": [
    "# confusion matrix\n",
    "matrix = confusion_matrix(y_test, y_pred, labels=[1,0])\n",
    "print('Confusion matrix: \\n',matrix)\n",
    "print()\n",
    "\n",
    "# classification report for precision, recall f1-score and accuracy\n",
    "matrix = classification_report(y_test, y_pred, zero_division=0, labels=[1,0])\n",
    "print('Classification report: \\n',matrix) \n",
    "print()\n",
    "# overall metrics\n",
    "print('Overall Metrics: \\n')\n",
    "\n",
    "print(\"Accuracy:\",metrics.accuracy_score(y_test, y_pred))\n",
    "\n",
    "print(\"Precision:\",metrics.precision_score(y_test, y_pred))\n",
    "\n",
    "print(\"Recall:\",metrics.recall_score(y_test, y_pred))\n",
    "\n",
    "print(\"F1 Score:\",metrics.f1_score(y_test, y_pred))"
   ]
  },
  {
   "cell_type": "markdown",
   "id": "intense-brazilian",
   "metadata": {},
   "source": [
    "<b>4. Bag-of-Words and other features (SVM_BOW_OF)</b>"
   ]
  },
  {
   "cell_type": "code",
   "execution_count": 156,
   "id": "structural-arnold",
   "metadata": {},
   "outputs": [
    {
     "name": "stdout",
     "output_type": "stream",
     "text": [
      "[[0. 0. 0. ... 0. 0. 1.]\n",
      " [0. 0. 0. ... 0. 0. 1.]\n",
      " [0. 0. 0. ... 0. 0. 1.]\n",
      " ...\n",
      " [0. 0. 0. ... 0. 0. 1.]\n",
      " [0. 0. 0. ... 0. 0. 1.]\n",
      " [0. 0. 0. ... 0. 0. 1.]]\n"
     ]
    }
   ],
   "source": [
    "# Bag-of-Words and non-speech features \n",
    "X_BOW_OF =  np.append(X_BOW, X_OF, axis=1)\n",
    "\n",
    "print(X_BOW_OF)"
   ]
  },
  {
   "cell_type": "code",
   "execution_count": 157,
   "id": "intimate-trace",
   "metadata": {},
   "outputs": [],
   "source": [
    "X_train, X_test, y_train, y_test = train_test_split(X_BOW_OF, y, test_size=0.3) # 70% training and 30% test"
   ]
  },
  {
   "cell_type": "code",
   "execution_count": 158,
   "id": "heavy-utilization",
   "metadata": {},
   "outputs": [],
   "source": [
    "#Create a svm Classifier\n",
    "SVM_X_BOW_OF = svm.SVC(kernel='linear') # Linear Kernel\n",
    "\n",
    "#Train the model using the training sets\n",
    "SVM_X_BOW_OF.fit(X_train, y_train)\n",
    "\n",
    "#Predict the response for test dataset\n",
    "y_pred = SVM_X_BOW_OF.predict(X_test)"
   ]
  },
  {
   "cell_type": "code",
   "execution_count": 159,
   "id": "magnetic-librarian",
   "metadata": {},
   "outputs": [
    {
     "name": "stdout",
     "output_type": "stream",
     "text": [
      "Confusion matrix: \n",
      " [[91 10]\n",
      " [13 18]]\n",
      "\n",
      "Classification report: \n",
      "               precision    recall  f1-score   support\n",
      "\n",
      "           1       0.88      0.90      0.89       101\n",
      "           0       0.64      0.58      0.61        31\n",
      "\n",
      "    accuracy                           0.83       132\n",
      "   macro avg       0.76      0.74      0.75       132\n",
      "weighted avg       0.82      0.83      0.82       132\n",
      "\n",
      "\n",
      "Overall Metrics: \n",
      "\n",
      "Accuracy: 0.8257575757575758\n",
      "Precision: 0.875\n",
      "Recall: 0.900990099009901\n",
      "F1 Score: 0.8878048780487806\n"
     ]
    }
   ],
   "source": [
    "# confusion matrix\n",
    "matrix = confusion_matrix(y_test, y_pred, labels=[1,0])\n",
    "print('Confusion matrix: \\n',matrix)\n",
    "print()\n",
    "\n",
    "# classification report for precision, recall f1-score and accuracy\n",
    "matrix = classification_report(y_test, y_pred, zero_division=0, labels=[1,0])\n",
    "print('Classification report: \\n',matrix) \n",
    "print()\n",
    "# overall metrics\n",
    "print('Overall Metrics: \\n')\n",
    "\n",
    "print(\"Accuracy:\",metrics.accuracy_score(y_test, y_pred))\n",
    "\n",
    "print(\"Precision:\",metrics.precision_score(y_test, y_pred))\n",
    "\n",
    "print(\"Recall:\",metrics.recall_score(y_test, y_pred))\n",
    "\n",
    "print(\"F1 Score:\",metrics.f1_score(y_test, y_pred))"
   ]
  },
  {
   "cell_type": "markdown",
   "id": "separated-swing",
   "metadata": {},
   "source": [
    "<b>5. Bag-of-Words, other features, other speech features - sentiment related (SVM_ALL)</b>"
   ]
  },
  {
   "cell_type": "code",
   "execution_count": 161,
   "id": "incorporated-range",
   "metadata": {},
   "outputs": [
    {
     "name": "stdout",
     "output_type": "stream",
     "text": [
      "[[0.         0.         0.         ... 1.         0.175      0.225     ]\n",
      " [0.         0.         0.         ... 1.         0.10422078 0.36666807]\n",
      " [0.         0.         0.         ... 1.         0.09373016 0.36261905]\n",
      " ...\n",
      " [0.         0.         0.         ... 1.         0.15984849 0.43560606]\n",
      " [0.         0.         0.         ... 1.         0.10911754 0.30355471]\n",
      " [0.         0.         0.         ... 1.         0.07990346 0.40479783]]\n"
     ]
    }
   ],
   "source": [
    "# Bag-of-Words, non-speech features, other speech features Sentiment Related)\n",
    "X_ALL =  np.append(X_BOW_OF, X_OS_SENT, axis=1)\n",
    "\n",
    "print(X_ALL)"
   ]
  },
  {
   "cell_type": "code",
   "execution_count": 162,
   "id": "distant-roots",
   "metadata": {},
   "outputs": [],
   "source": [
    "X_train, X_test, y_train, y_test = train_test_split(X_ALL, y, test_size=0.3) # 70% training and 30% test"
   ]
  },
  {
   "cell_type": "code",
   "execution_count": 164,
   "id": "behind-stable",
   "metadata": {},
   "outputs": [],
   "source": [
    "#Create a svm Classifier\n",
    "SVM_X_ALL = svm.SVC(kernel='linear') # Linear Kernel\n",
    "\n",
    "#Train the model using the training sets\n",
    "SVM_X_ALL.fit(X_train, y_train)\n",
    "\n",
    "#Predict the response for test dataset\n",
    "y_pred = SVM_X_ALL.predict(X_test)"
   ]
  },
  {
   "cell_type": "code",
   "execution_count": 165,
   "id": "exclusive-agreement",
   "metadata": {},
   "outputs": [
    {
     "name": "stdout",
     "output_type": "stream",
     "text": [
      "Confusion matrix: \n",
      " [[90 13]\n",
      " [16 13]]\n",
      "\n",
      "Classification report: \n",
      "               precision    recall  f1-score   support\n",
      "\n",
      "           1       0.85      0.87      0.86       103\n",
      "           0       0.50      0.45      0.47        29\n",
      "\n",
      "    accuracy                           0.78       132\n",
      "   macro avg       0.67      0.66      0.67       132\n",
      "weighted avg       0.77      0.78      0.78       132\n",
      "\n",
      "\n",
      "Overall Metrics: \n",
      "\n",
      "Accuracy: 0.7803030303030303\n",
      "Precision: 0.8490566037735849\n",
      "Recall: 0.8737864077669902\n",
      "F1 Score: 0.8612440191387559\n"
     ]
    }
   ],
   "source": [
    "# confusion matrix\n",
    "matrix = confusion_matrix(y_test, y_pred, labels=[1,0])\n",
    "print('Confusion matrix: \\n',matrix)\n",
    "print()\n",
    "\n",
    "# classification report for precision, recall f1-score and accuracy\n",
    "matrix = classification_report(y_test, y_pred, zero_division=0, labels=[1,0])\n",
    "print('Classification report: \\n',matrix) \n",
    "print()\n",
    "# overall metrics\n",
    "print('Overall Metrics: \\n')\n",
    "\n",
    "print(\"Accuracy:\",metrics.accuracy_score(y_test, y_pred))\n",
    "\n",
    "print(\"Precision:\",metrics.precision_score(y_test, y_pred))\n",
    "\n",
    "print(\"Recall:\",metrics.recall_score(y_test, y_pred))\n",
    "\n",
    "print(\"F1 Score:\",metrics.f1_score(y_test, y_pred))"
   ]
  },
  {
   "cell_type": "markdown",
   "id": "strategic-madonna",
   "metadata": {},
   "source": [
    "###  SVM Model Comparison Table\n",
    "\n",
    "| Metric/Algorithm | NAIVE | SVM_BOW | SVM_OS | SV_OS_COUNT | SVM_OS_SENT | SVM_OF| SVM_BOW_OF | SVM_ALL | \n",
    "| :-:| --- | --- | --- | --- | --- | --- | --- | --- | \n",
    "|  accuracy | 0.7368 | 0.7348 | 0.6591 | 0.6591 | 0.7651 | 0.7575 | <b>0.8258</b> | 0.7803 |\n",
    "|  precision | 0.7368 | 0.7624 | 0.6591 | 0.6591 | 0.7651 | 0.7586 | <b>0.875</b> | 0.849 |\n",
    "|  recall |  1 | 0.875 | 1 | 1 | 1| 0.9565 | 0.901 | 0.8738 |\n",
    "|  specificity |  0 | 0.45  | 0 | 0 | 0 | 0.30 | <b>0.58</b>| 0.45 |\n",
    "|  F1 | 0.8484 | 0.8148| 0.7945 | 0.7945| 0.8669 | 0.8461 | <b>0.8878<b> | 0.8612 |\n",
    "\n"
   ]
  },
  {
   "cell_type": "markdown",
   "id": "economic-athens",
   "metadata": {},
   "source": [
    "The best performing model is Bag-of-Words/Other Features model, which clearly performs best on all metrics other than recall.\n",
    "\n",
    "The model containing all features, except for the count features were removed because in early testing they degraded performace, was also quite strong and better than the Naive classifier.\n",
    "\n",
    "The models containing the Other Speech features (SVM_OS, SVM_OS_COUNT, SVM_OS_SENT) all learned the naive classifier. The difference in accuracy/precision is likely due to the make-up of the particular generated test set.\n",
    "\n",
    "The models trained with Bag-of-Words and Other Features in isolation did not perform as well as the combination of these features.\n",
    "\n",
    "Based on this, SVM_BOW_OF and SVM_ALL are promising for further refinement."
   ]
  },
  {
   "cell_type": "markdown",
   "id": "corporate-roberts",
   "metadata": {},
   "source": [
    "### 2.4.2. TensorFlow"
   ]
  },
  {
   "cell_type": "code",
   "execution_count": 170,
   "id": "seeing-spirit",
   "metadata": {},
   "outputs": [],
   "source": [
    "\n",
    "import tensorflow as tf\n",
    "from tensorflow import keras\n",
    "from tensorflow.keras.utils import to_categorical\n",
    "from tensorflow.keras.models import Sequential\n",
    "from tensorflow.keras.layers import Dense\n",
    "from tensorflow.keras.layers import BatchNormalization"
   ]
  },
  {
   "cell_type": "markdown",
   "id": "annoying-selection",
   "metadata": {},
   "source": [
    "<b>1. Bag-of-Words only (TF_BOW)</b>"
   ]
  },
  {
   "cell_type": "code",
   "execution_count": 215,
   "id": "religious-concord",
   "metadata": {},
   "outputs": [
    {
     "name": "stdout",
     "output_type": "stream",
     "text": [
      "Train on 292 samples, validate on 145 samples\n",
      "Epoch 1/20\n",
      "292/292 [==============================] - 14s 46ms/sample - loss: 0.6314 - acc: 0.7466 - val_loss: 0.6048 - val_acc: 0.7241\n",
      "Epoch 2/20\n",
      "292/292 [==============================] - 5s 18ms/sample - loss: 0.4069 - acc: 0.8664 - val_loss: 0.6050 - val_acc: 0.7379\n",
      "Epoch 3/20\n",
      "292/292 [==============================] - 5s 18ms/sample - loss: 0.2445 - acc: 0.9418 - val_loss: 0.6294 - val_acc: 0.7310\n",
      "Epoch 4/20\n",
      "292/292 [==============================] - 4s 13ms/sample - loss: 0.1322 - acc: 0.9726 - val_loss: 0.8101 - val_acc: 0.7586\n",
      "Epoch 5/20\n",
      "292/292 [==============================] - 5s 16ms/sample - loss: 0.0666 - acc: 0.9966 - val_loss: 0.7696 - val_acc: 0.7448\n",
      "Epoch 6/20\n",
      "292/292 [==============================] - 5s 16ms/sample - loss: 0.0374 - acc: 1.0000 - val_loss: 0.8806 - val_acc: 0.7586\n",
      "Epoch 7/20\n",
      "292/292 [==============================] - 7s 24ms/sample - loss: 0.0207 - acc: 1.0000 - val_loss: 1.0271 - val_acc: 0.7724\n",
      "Epoch 8/20\n",
      "292/292 [==============================] - 5s 19ms/sample - loss: 0.0142 - acc: 1.0000 - val_loss: 1.0150 - val_acc: 0.7655\n",
      "Epoch 9/20\n",
      "292/292 [==============================] - 8s 26ms/sample - loss: 0.0104 - acc: 1.0000 - val_loss: 1.0265 - val_acc: 0.7655\n",
      "Epoch 10/20\n",
      "292/292 [==============================] - 7s 24ms/sample - loss: 0.0085 - acc: 1.0000 - val_loss: 1.0614 - val_acc: 0.7655\n",
      "Epoch 11/20\n",
      "292/292 [==============================] - 5s 17ms/sample - loss: 0.0071 - acc: 1.0000 - val_loss: 1.1169 - val_acc: 0.7655\n",
      "Epoch 12/20\n",
      "292/292 [==============================] - 8s 29ms/sample - loss: 0.0060 - acc: 1.0000 - val_loss: 1.1533 - val_acc: 0.7655\n",
      "Epoch 13/20\n",
      "292/292 [==============================] - 6s 20ms/sample - loss: 0.0053 - acc: 1.0000 - val_loss: 1.1790 - val_acc: 0.7655\n",
      "Epoch 14/20\n",
      "292/292 [==============================] - 5s 16ms/sample - loss: 0.0047 - acc: 1.0000 - val_loss: 1.2091 - val_acc: 0.7724\n",
      "Epoch 15/20\n",
      "292/292 [==============================] - 5s 18ms/sample - loss: 0.0043 - acc: 1.0000 - val_loss: 1.2205 - val_acc: 0.7724\n",
      "Epoch 16/20\n",
      "292/292 [==============================] - 5s 18ms/sample - loss: 0.0039 - acc: 1.0000 - val_loss: 1.2210 - val_acc: 0.7724\n",
      "Epoch 17/20\n",
      "292/292 [==============================] - 4s 13ms/sample - loss: 0.0036 - acc: 1.0000 - val_loss: 1.2160 - val_acc: 0.7655\n",
      "Epoch 18/20\n",
      "292/292 [==============================] - 5s 16ms/sample - loss: 0.0033 - acc: 1.0000 - val_loss: 1.2350 - val_acc: 0.7655\n",
      "Epoch 19/20\n",
      "292/292 [==============================] - 4s 13ms/sample - loss: 0.0031 - acc: 1.0000 - val_loss: 1.2550 - val_acc: 0.7655\n",
      "Epoch 20/20\n",
      "292/292 [==============================] - 5s 16ms/sample - loss: 0.0029 - acc: 1.0000 - val_loss: 1.2700 - val_acc: 0.7655\n"
     ]
    },
    {
     "data": {
      "image/png": "[encoded data removed]",
      "text/plain": [
       "<Figure size 864x648 with 1 Axes>"
      ]
     },
     "metadata": {},
     "output_type": "display_data"
    },
    {
     "data": {
      "image/png": "[encoded data removed]",
      "text/plain": [
       "<Figure size 864x648 with 1 Axes>"
      ]
     },
     "metadata": {},
     "output_type": "display_data"
    }
   ],
   "source": [
    "# define and fit the model\n",
    "model = Sequential()\n",
    "model.add(Dense(24, input_dim=9654, activation='relu'))\n",
    "model.add(Dense(24, activation='relu'))\n",
    "model.add(Dense(1, activation='sigmoid'))\n",
    "\n",
    "\n",
    "model.compile(loss='binary_crossentropy', optimizer='adam', metrics=['acc'])\n",
    "history = model.fit(X_BOW, y, validation_split=0.33, epochs=20)\n",
    "\n",
    "\n",
    "# summarize history for accuracy\n",
    "plt.plot(history.history['acc'])\n",
    "plt.plot(history.history['val_acc'])\n",
    "plt.title('model accuracy')\n",
    "plt.ylabel('accuracy')\n",
    "plt.xlabel('epoch')\n",
    "plt.legend(['train', 'test'], loc='upper left')\n",
    "plt.show()\n",
    "\n",
    "# summarize history for loss\n",
    "plt.plot(history.history['loss'])\n",
    "plt.plot(history.history['val_loss'])\n",
    "plt.title('model loss')\n",
    "plt.ylabel('loss')\n",
    "plt.xlabel('epoch')\n",
    "plt.legend(['train', 'test'], loc='upper left')\n",
    "plt.show()"
   ]
  },
  {
   "cell_type": "markdown",
   "id": "rising-techno",
   "metadata": {},
   "source": [
    "<b>2. Other Speech Features only (TF_OS)</b>"
   ]
  },
  {
   "cell_type": "code",
   "execution_count": 203,
   "id": "absent-saint",
   "metadata": {},
   "outputs": [
    {
     "name": "stdout",
     "output_type": "stream",
     "text": [
      "Train on 292 samples, validate on 145 samples\n",
      "Epoch 1/20\n",
      "292/292 [==============================] - 14s 49ms/sample - loss: 6.0170 - acc: 0.5685 - val_loss: 0.7969 - val_acc: 0.4621\n",
      "Epoch 2/20\n",
      "292/292 [==============================] - 4s 14ms/sample - loss: 1.1807 - acc: 0.7123 - val_loss: 2.1232 - val_acc: 0.2759\n",
      "Epoch 3/20\n",
      "292/292 [==============================] - 4s 14ms/sample - loss: 1.4469 - acc: 0.5479 - val_loss: 1.1895 - val_acc: 0.2759\n",
      "Epoch 4/20\n",
      "292/292 [==============================] - 4s 13ms/sample - loss: 1.0396 - acc: 0.5514 - val_loss: 0.8275 - val_acc: 0.4138\n",
      "Epoch 5/20\n",
      "292/292 [==============================] - 4s 13ms/sample - loss: 1.3970 - acc: 0.4726 - val_loss: 1.1032 - val_acc: 0.7241\n",
      "Epoch 6/20\n",
      "292/292 [==============================] - 3s 12ms/sample - loss: 1.0940 - acc: 0.5377 - val_loss: 0.7244 - val_acc: 0.6207\n",
      "Epoch 7/20\n",
      "292/292 [==============================] - 4s 12ms/sample - loss: 1.2631 - acc: 0.5068 - val_loss: 1.5689 - val_acc: 0.7241\n",
      "Epoch 8/20\n",
      "292/292 [==============================] - 4s 13ms/sample - loss: 1.0697 - acc: 0.5137 - val_loss: 1.4977 - val_acc: 0.7241\n",
      "Epoch 9/20\n",
      "292/292 [==============================] - 4s 13ms/sample - loss: 1.0156 - acc: 0.5308 - val_loss: 1.6240 - val_acc: 0.7241\n",
      "Epoch 10/20\n",
      "292/292 [==============================] - 4s 12ms/sample - loss: 1.4639 - acc: 0.6849 - val_loss: 1.4300 - val_acc: 0.2759\n",
      "Epoch 11/20\n",
      "292/292 [==============================] - 4s 13ms/sample - loss: 0.8426 - acc: 0.6199 - val_loss: 0.7337 - val_acc: 0.5724\n",
      "Epoch 12/20\n",
      "292/292 [==============================] - 4s 12ms/sample - loss: 0.7270 - acc: 0.6404 - val_loss: 0.7249 - val_acc: 0.7034\n",
      "Epoch 13/20\n",
      "292/292 [==============================] - 4s 13ms/sample - loss: 0.7850 - acc: 0.6404 - val_loss: 0.7084 - val_acc: 0.6414\n",
      "Epoch 14/20\n",
      "292/292 [==============================] - 4s 14ms/sample - loss: 0.7037 - acc: 0.6849 - val_loss: 1.0373 - val_acc: 0.3241\n",
      "Epoch 15/20\n",
      "292/292 [==============================] - 4s 12ms/sample - loss: 0.8618 - acc: 0.5685 - val_loss: 1.0525 - val_acc: 0.3103\n",
      "Epoch 16/20\n",
      "292/292 [==============================] - 4s 12ms/sample - loss: 0.9130 - acc: 0.6233 - val_loss: 1.5195 - val_acc: 0.2759\n",
      "Epoch 17/20\n",
      "292/292 [==============================] - 4s 14ms/sample - loss: 1.0613 - acc: 0.6027 - val_loss: 2.2912 - val_acc: 0.2759\n",
      "Epoch 18/20\n",
      "292/292 [==============================] - 4s 13ms/sample - loss: 1.3594 - acc: 0.5514 - val_loss: 0.9173 - val_acc: 0.7241\n",
      "Epoch 19/20\n",
      "292/292 [==============================] - 4s 13ms/sample - loss: 0.8266 - acc: 0.6404 - val_loss: 0.7537 - val_acc: 0.5448\n",
      "Epoch 20/20\n",
      "292/292 [==============================] - 4s 12ms/sample - loss: 0.7355 - acc: 0.6644 - val_loss: 0.6960 - val_acc: 0.6966\n"
     ]
    },
    {
     "data": {
      "image/png": "[encoded data removed]",
      "text/plain": [
       "<Figure size 864x648 with 1 Axes>"
      ]
     },
     "metadata": {},
     "output_type": "display_data"
    },
    {
     "data": {
      "image/png": "[encoded data removed]",
      "text/plain": [
       "<Figure size 864x648 with 1 Axes>"
      ]
     },
     "metadata": {},
     "output_type": "display_data"
    }
   ],
   "source": [
    "# define and fit the model\n",
    "model = Sequential()\n",
    "model.add(Dense(24, input_dim=4, activation='relu'))\n",
    "model.add(Dense(24, activation='relu'))\n",
    "model.add(Dense(1, activation='sigmoid'))\n",
    "\n",
    "\n",
    "model.compile(loss='binary_crossentropy', optimizer='adam', metrics=['acc'])\n",
    "history = model.fit(X_OS, y, validation_split=0.33, epochs=20)\n",
    "\n",
    "\n",
    "# summarize history for accuracy\n",
    "plt.plot(history.history['acc'])\n",
    "plt.plot(history.history['val_acc'])\n",
    "plt.title('model accuracy')\n",
    "plt.ylabel('accuracy')\n",
    "plt.xlabel('epoch')\n",
    "plt.legend(['train', 'test'], loc='upper left')\n",
    "plt.show()\n",
    "\n",
    "# summarize history for loss\n",
    "plt.plot(history.history['loss'])\n",
    "plt.plot(history.history['val_loss'])\n",
    "plt.title('model loss')\n",
    "plt.ylabel('loss')\n",
    "plt.xlabel('epoch')\n",
    "plt.legend(['train', 'test'], loc='upper left')\n",
    "plt.show()"
   ]
  },
  {
   "cell_type": "markdown",
   "id": "terminal-allah",
   "metadata": {},
   "source": [
    "<b>2a. Other Speech Features only, count related (TF_OS_COUNT)</b>"
   ]
  },
  {
   "cell_type": "code",
   "execution_count": 206,
   "id": "tired-volleyball",
   "metadata": {},
   "outputs": [
    {
     "name": "stdout",
     "output_type": "stream",
     "text": [
      "Train on 292 samples, validate on 145 samples\n",
      "Epoch 1/20\n",
      "292/292 [==============================] - 12s 42ms/sample - loss: 0.8712 - acc: 0.5685 - val_loss: 1.0723 - val_acc: 0.7241\n",
      "Epoch 2/20\n",
      "292/292 [==============================] - 4s 12ms/sample - loss: 0.7899 - acc: 0.6747 - val_loss: 0.7903 - val_acc: 0.7241\n",
      "Epoch 3/20\n",
      "292/292 [==============================] - 4s 13ms/sample - loss: 0.7743 - acc: 0.6678 - val_loss: 0.9144 - val_acc: 0.3034\n",
      "Epoch 4/20\n",
      "292/292 [==============================] - 4s 12ms/sample - loss: 0.7090 - acc: 0.6610 - val_loss: 0.6993 - val_acc: 0.7034\n",
      "Epoch 5/20\n",
      "292/292 [==============================] - 4s 13ms/sample - loss: 0.6612 - acc: 0.7123 - val_loss: 0.6900 - val_acc: 0.6759\n",
      "Epoch 6/20\n",
      "292/292 [==============================] - 4s 13ms/sample - loss: 0.6593 - acc: 0.7158 - val_loss: 0.7094 - val_acc: 0.7172\n",
      "Epoch 7/20\n",
      "292/292 [==============================] - 4s 13ms/sample - loss: 0.6611 - acc: 0.7055 - val_loss: 0.6914 - val_acc: 0.7034\n",
      "Epoch 8/20\n",
      "292/292 [==============================] - 4s 12ms/sample - loss: 0.6683 - acc: 0.7055 - val_loss: 0.6970 - val_acc: 0.5793\n",
      "Epoch 9/20\n",
      "292/292 [==============================] - 3s 12ms/sample - loss: 0.6852 - acc: 0.6781 - val_loss: 0.7150 - val_acc: 0.5655\n",
      "Epoch 10/20\n",
      "292/292 [==============================] - 4s 13ms/sample - loss: 0.6457 - acc: 0.7260 - val_loss: 0.8120 - val_acc: 0.3793\n",
      "Epoch 11/20\n",
      "292/292 [==============================] - 4s 13ms/sample - loss: 0.7621 - acc: 0.6027 - val_loss: 0.6788 - val_acc: 0.7034\n",
      "Epoch 12/20\n",
      "292/292 [==============================] - 3s 12ms/sample - loss: 0.7456 - acc: 0.6678 - val_loss: 0.6921 - val_acc: 0.7241\n",
      "Epoch 13/20\n",
      "292/292 [==============================] - 4s 13ms/sample - loss: 0.6876 - acc: 0.7021 - val_loss: 0.6774 - val_acc: 0.7103\n",
      "Epoch 14/20\n",
      "292/292 [==============================] - 4s 13ms/sample - loss: 0.6473 - acc: 0.7089 - val_loss: 0.6920 - val_acc: 0.5931\n",
      "Epoch 15/20\n",
      "292/292 [==============================] - 4s 12ms/sample - loss: 0.8840 - acc: 0.5719 - val_loss: 1.1833 - val_acc: 0.7172\n",
      "Epoch 16/20\n",
      "292/292 [==============================] - 4s 12ms/sample - loss: 0.8405 - acc: 0.5856 - val_loss: 1.0982 - val_acc: 0.7172\n",
      "Epoch 17/20\n",
      "292/292 [==============================] - 4s 12ms/sample - loss: 1.1209 - acc: 0.6918 - val_loss: 1.5379 - val_acc: 0.2759\n",
      "Epoch 18/20\n",
      "292/292 [==============================] - 3s 12ms/sample - loss: 1.1471 - acc: 0.5822 - val_loss: 0.8893 - val_acc: 0.7241\n",
      "Epoch 19/20\n",
      "292/292 [==============================] - 4s 12ms/sample - loss: 0.7087 - acc: 0.6747 - val_loss: 0.7268 - val_acc: 0.7172\n",
      "Epoch 20/20\n",
      "292/292 [==============================] - 3s 12ms/sample - loss: 0.6282 - acc: 0.7260 - val_loss: 0.6691 - val_acc: 0.7103\n"
     ]
    },
    {
     "data": {
      "image/png": "[encoded data removed]",
      "text/plain": [
       "<Figure size 864x648 with 1 Axes>"
      ]
     },
     "metadata": {},
     "output_type": "display_data"
    },
    {
     "data": {
      "image/png": "[encoded data removed]",
      "text/plain": [
       "<Figure size 864x648 with 1 Axes>"
      ]
     },
     "metadata": {},
     "output_type": "display_data"
    }
   ],
   "source": [
    "# define and fit the model\n",
    "model = Sequential()\n",
    "model.add(Dense(24, input_dim=2, activation='relu'))\n",
    "model.add(Dense(24, activation='relu'))\n",
    "model.add(Dense(1, activation='sigmoid'))\n",
    "\n",
    "\n",
    "model.compile(loss='binary_crossentropy', optimizer='adam', metrics=['acc'])\n",
    "history = model.fit(X_OS_COUNT, y, validation_split=0.33, epochs=20)\n",
    "\n",
    "\n",
    "# summarize history for accuracy\n",
    "plt.plot(history.history['acc'])\n",
    "plt.plot(history.history['val_acc'])\n",
    "plt.title('model accuracy')\n",
    "plt.ylabel('accuracy')\n",
    "plt.xlabel('epoch')\n",
    "plt.legend(['train', 'test'], loc='upper left')\n",
    "plt.show()\n",
    "\n",
    "# summarize history for loss\n",
    "plt.plot(history.history['loss'])\n",
    "plt.plot(history.history['val_loss'])\n",
    "plt.title('model loss')\n",
    "plt.ylabel('loss')\n",
    "plt.xlabel('epoch')\n",
    "plt.legend(['train', 'test'], loc='upper left')\n",
    "plt.show()"
   ]
  },
  {
   "cell_type": "markdown",
   "id": "color-negative",
   "metadata": {},
   "source": [
    "<b>2b. Other Speech Features only, sentiment related (TF_OS_SENT)</b>"
   ]
  },
  {
   "cell_type": "code",
   "execution_count": 207,
   "id": "actual-fight",
   "metadata": {},
   "outputs": [
    {
     "name": "stdout",
     "output_type": "stream",
     "text": [
      "Train on 292 samples, validate on 145 samples\n",
      "Epoch 1/20\n",
      "292/292 [==============================] - 14s 47ms/sample - loss: 0.6639 - acc: 0.7432 - val_loss: 0.6528 - val_acc: 0.7241\n",
      "Epoch 2/20\n",
      "292/292 [==============================] - 4s 13ms/sample - loss: 0.6376 - acc: 0.7432 - val_loss: 0.6335 - val_acc: 0.7241\n",
      "Epoch 3/20\n",
      "292/292 [==============================] - 3s 12ms/sample - loss: 0.6157 - acc: 0.7432 - val_loss: 0.6166 - val_acc: 0.7241\n",
      "Epoch 4/20\n",
      "292/292 [==============================] - 4s 13ms/sample - loss: 0.5970 - acc: 0.7432 - val_loss: 0.6036 - val_acc: 0.7241\n",
      "Epoch 5/20\n",
      "292/292 [==============================] - 4s 13ms/sample - loss: 0.5835 - acc: 0.7432 - val_loss: 0.5952 - val_acc: 0.7241\n",
      "Epoch 6/20\n",
      "292/292 [==============================] - 4s 13ms/sample - loss: 0.5739 - acc: 0.7432 - val_loss: 0.5924 - val_acc: 0.7241\n",
      "Epoch 7/20\n",
      "292/292 [==============================] - 4s 12ms/sample - loss: 0.5704 - acc: 0.7432 - val_loss: 0.5907 - val_acc: 0.7241\n",
      "Epoch 8/20\n",
      "292/292 [==============================] - 3s 12ms/sample - loss: 0.5680 - acc: 0.7432 - val_loss: 0.5906 - val_acc: 0.7241\n",
      "Epoch 9/20\n",
      "292/292 [==============================] - 4s 13ms/sample - loss: 0.5662 - acc: 0.7432 - val_loss: 0.5914 - val_acc: 0.7241\n",
      "Epoch 10/20\n",
      "292/292 [==============================] - 4s 12ms/sample - loss: 0.5661 - acc: 0.7432 - val_loss: 0.5920 - val_acc: 0.7241\n",
      "Epoch 11/20\n",
      "292/292 [==============================] - 4s 14ms/sample - loss: 0.5666 - acc: 0.7432 - val_loss: 0.5930 - val_acc: 0.7241\n",
      "Epoch 12/20\n",
      "292/292 [==============================] - 4s 12ms/sample - loss: 0.5665 - acc: 0.7432 - val_loss: 0.5928 - val_acc: 0.7241\n",
      "Epoch 13/20\n",
      "292/292 [==============================] - 4s 12ms/sample - loss: 0.5660 - acc: 0.7432 - val_loss: 0.5914 - val_acc: 0.7241\n",
      "Epoch 14/20\n",
      "292/292 [==============================] - 4s 13ms/sample - loss: 0.5661 - acc: 0.7432 - val_loss: 0.5915 - val_acc: 0.7241\n",
      "Epoch 15/20\n",
      "292/292 [==============================] - 4s 14ms/sample - loss: 0.5660 - acc: 0.7432 - val_loss: 0.5915 - val_acc: 0.7241\n",
      "Epoch 16/20\n",
      "292/292 [==============================] - 4s 13ms/sample - loss: 0.5661 - acc: 0.7432 - val_loss: 0.5916 - val_acc: 0.7241\n",
      "Epoch 17/20\n",
      "292/292 [==============================] - 4s 14ms/sample - loss: 0.5660 - acc: 0.7432 - val_loss: 0.5917 - val_acc: 0.7241\n",
      "Epoch 18/20\n",
      "292/292 [==============================] - 4s 14ms/sample - loss: 0.5661 - acc: 0.7432 - val_loss: 0.5918 - val_acc: 0.7241\n",
      "Epoch 19/20\n",
      "292/292 [==============================] - 4s 14ms/sample - loss: 0.5661 - acc: 0.7432 - val_loss: 0.5925 - val_acc: 0.7241\n",
      "Epoch 20/20\n",
      "292/292 [==============================] - 4s 14ms/sample - loss: 0.5660 - acc: 0.7432 - val_loss: 0.5919 - val_acc: 0.7241\n"
     ]
    },
    {
     "data": {
      "image/png": "[encoded data removed]",
      "text/plain": [
       "<Figure size 864x648 with 1 Axes>"
      ]
     },
     "metadata": {},
     "output_type": "display_data"
    },
    {
     "data": {
      "image/png": "[encoded data removed]",
      "text/plain": [
       "<Figure size 864x648 with 1 Axes>"
      ]
     },
     "metadata": {},
     "output_type": "display_data"
    }
   ],
   "source": [
    "# define and fit the model\n",
    "model = Sequential()\n",
    "model.add(Dense(24, input_dim=2, activation='relu'))\n",
    "model.add(Dense(24, activation='relu'))\n",
    "model.add(Dense(1, activation='sigmoid'))\n",
    "\n",
    "\n",
    "model.compile(loss='binary_crossentropy', optimizer='adam', metrics=['acc'])\n",
    "history = model.fit(X_OS_SENT, y, validation_split=0.33, epochs=20)\n",
    "\n",
    "\n",
    "# summarize history for accuracy\n",
    "plt.plot(history.history['acc'])\n",
    "plt.plot(history.history['val_acc'])\n",
    "plt.title('model accuracy')\n",
    "plt.ylabel('accuracy')\n",
    "plt.xlabel('epoch')\n",
    "plt.legend(['train', 'test'], loc='upper left')\n",
    "plt.show()\n",
    "\n",
    "# summarize history for loss\n",
    "plt.plot(history.history['loss'])\n",
    "plt.plot(history.history['val_loss'])\n",
    "plt.title('model loss')\n",
    "plt.ylabel('loss')\n",
    "plt.xlabel('epoch')\n",
    "plt.legend(['train', 'test'], loc='upper left')\n",
    "plt.show()"
   ]
  },
  {
   "cell_type": "markdown",
   "id": "particular-deadline",
   "metadata": {},
   "source": [
    "<b>3. Other Features Only (TF_OF)</b>"
   ]
  },
  {
   "cell_type": "code",
   "execution_count": 208,
   "id": "clear-greeting",
   "metadata": {},
   "outputs": [
    {
     "name": "stdout",
     "output_type": "stream",
     "text": [
      "Train on 292 samples, validate on 145 samples\n",
      "Epoch 1/20\n",
      "292/292 [==============================] - 12s 42ms/sample - loss: 0.6582 - acc: 0.7226 - val_loss: 0.6449 - val_acc: 0.7241\n",
      "Epoch 2/20\n",
      "292/292 [==============================] - 4s 12ms/sample - loss: 0.6269 - acc: 0.7432 - val_loss: 0.6192 - val_acc: 0.7241\n",
      "Epoch 3/20\n",
      "292/292 [==============================] - 4s 12ms/sample - loss: 0.6012 - acc: 0.7432 - val_loss: 0.5946 - val_acc: 0.7241\n",
      "Epoch 4/20\n",
      "292/292 [==============================] - 4s 12ms/sample - loss: 0.5771 - acc: 0.7432 - val_loss: 0.5725 - val_acc: 0.7241\n",
      "Epoch 5/20\n",
      "292/292 [==============================] - 4s 12ms/sample - loss: 0.5556 - acc: 0.7432 - val_loss: 0.5539 - val_acc: 0.7241\n",
      "Epoch 6/20\n",
      "292/292 [==============================] - 4s 13ms/sample - loss: 0.5389 - acc: 0.7432 - val_loss: 0.5378 - val_acc: 0.7241\n",
      "Epoch 7/20\n",
      "292/292 [==============================] - 3s 12ms/sample - loss: 0.5211 - acc: 0.7432 - val_loss: 0.5261 - val_acc: 0.7241\n",
      "Epoch 8/20\n",
      "292/292 [==============================] - 4s 13ms/sample - loss: 0.5081 - acc: 0.7432 - val_loss: 0.5152 - val_acc: 0.7241\n",
      "Epoch 9/20\n",
      "292/292 [==============================] - 3s 12ms/sample - loss: 0.4961 - acc: 0.7432 - val_loss: 0.5066 - val_acc: 0.7241\n",
      "Epoch 10/20\n",
      "292/292 [==============================] - 4s 12ms/sample - loss: 0.4848 - acc: 0.7432 - val_loss: 0.4972 - val_acc: 0.7241\n",
      "Epoch 11/20\n",
      "292/292 [==============================] - 4s 13ms/sample - loss: 0.4743 - acc: 0.7432 - val_loss: 0.4887 - val_acc: 0.7241\n",
      "Epoch 12/20\n",
      "292/292 [==============================] - 3s 12ms/sample - loss: 0.4645 - acc: 0.7432 - val_loss: 0.4814 - val_acc: 0.7448\n",
      "Epoch 13/20\n",
      "292/292 [==============================] - 3s 12ms/sample - loss: 0.4556 - acc: 0.7637 - val_loss: 0.4714 - val_acc: 0.7448\n",
      "Epoch 14/20\n",
      "292/292 [==============================] - 3s 12ms/sample - loss: 0.4472 - acc: 0.7637 - val_loss: 0.4639 - val_acc: 0.7448\n",
      "Epoch 15/20\n",
      "292/292 [==============================] - 4s 13ms/sample - loss: 0.4400 - acc: 0.7705 - val_loss: 0.4569 - val_acc: 0.7448\n",
      "Epoch 16/20\n",
      "292/292 [==============================] - 4s 13ms/sample - loss: 0.4317 - acc: 0.7740 - val_loss: 0.4498 - val_acc: 0.7517\n",
      "Epoch 17/20\n",
      "292/292 [==============================] - 3s 12ms/sample - loss: 0.4229 - acc: 0.7808 - val_loss: 0.4458 - val_acc: 0.8069\n",
      "Epoch 18/20\n",
      "292/292 [==============================] - 4s 12ms/sample - loss: 0.4151 - acc: 0.7877 - val_loss: 0.4426 - val_acc: 0.8138\n",
      "Epoch 19/20\n",
      "292/292 [==============================] - 4s 13ms/sample - loss: 0.4067 - acc: 0.8014 - val_loss: 0.4380 - val_acc: 0.8276\n",
      "Epoch 20/20\n",
      "292/292 [==============================] - 4s 12ms/sample - loss: 0.3994 - acc: 0.8082 - val_loss: 0.4371 - val_acc: 0.8276\n"
     ]
    },
    {
     "data": {
      "image/png": "[encoded data removed]",
      "text/plain": [
       "<Figure size 864x648 with 1 Axes>"
      ]
     },
     "metadata": {},
     "output_type": "display_data"
    },
    {
     "data": {
      "image/png": "[encoded data removed]",
      "text/plain": [
       "<Figure size 864x648 with 1 Axes>"
      ]
     },
     "metadata": {},
     "output_type": "display_data"
    }
   ],
   "source": [
    "# define and fit the model\n",
    "model = Sequential()\n",
    "model.add(Dense(24, input_dim=52, activation='relu'))\n",
    "model.add(Dense(24, activation='relu'))\n",
    "model.add(Dense(1, activation='sigmoid'))\n",
    "\n",
    "\n",
    "model.compile(loss='binary_crossentropy', optimizer='adam', metrics=['acc'])\n",
    "history = model.fit(X_OF, y, validation_split=0.33, epochs=20)\n",
    "\n",
    "\n",
    "# summarize history for accuracy\n",
    "plt.plot(history.history['acc'])\n",
    "plt.plot(history.history['val_acc'])\n",
    "plt.title('model accuracy')\n",
    "plt.ylabel('accuracy')\n",
    "plt.xlabel('epoch')\n",
    "plt.legend(['train', 'test'], loc='upper left')\n",
    "plt.show()\n",
    "\n",
    "# summarize history for loss\n",
    "plt.plot(history.history['loss'])\n",
    "plt.plot(history.history['val_loss'])\n",
    "plt.title('model loss')\n",
    "plt.ylabel('loss')\n",
    "plt.xlabel('epoch')\n",
    "plt.legend(['train', 'test'], loc='upper left')\n",
    "plt.show()"
   ]
  },
  {
   "cell_type": "markdown",
   "id": "romance-shield",
   "metadata": {},
   "source": [
    "<b>4. Bag-of-Words and other features (TF_BOW_OF)</b>"
   ]
  },
  {
   "cell_type": "code",
   "execution_count": 209,
   "id": "complex-google",
   "metadata": {},
   "outputs": [
    {
     "name": "stdout",
     "output_type": "stream",
     "text": [
      "Train on 292 samples, validate on 145 samples\n",
      "Epoch 1/20\n",
      "292/292 [==============================] - 12s 42ms/sample - loss: 0.6867 - acc: 0.5925 - val_loss: 0.6292 - val_acc: 0.7241\n",
      "Epoch 2/20\n",
      "292/292 [==============================] - 4s 12ms/sample - loss: 0.5205 - acc: 0.7774 - val_loss: 0.6121 - val_acc: 0.7241\n",
      "Epoch 3/20\n",
      "292/292 [==============================] - 4s 12ms/sample - loss: 0.3774 - acc: 0.8938 - val_loss: 0.5803 - val_acc: 0.7448\n",
      "Epoch 4/20\n",
      "292/292 [==============================] - 4s 12ms/sample - loss: 0.2488 - acc: 0.9555 - val_loss: 0.6141 - val_acc: 0.7448\n",
      "Epoch 5/20\n",
      "292/292 [==============================] - 4s 12ms/sample - loss: 0.1567 - acc: 0.9897 - val_loss: 0.6137 - val_acc: 0.7862\n",
      "Epoch 6/20\n",
      "292/292 [==============================] - 4s 12ms/sample - loss: 0.0967 - acc: 1.0000 - val_loss: 0.6394 - val_acc: 0.7862\n",
      "Epoch 7/20\n",
      "292/292 [==============================] - 4s 14ms/sample - loss: 0.0600 - acc: 1.0000 - val_loss: 0.6975 - val_acc: 0.7931\n",
      "Epoch 8/20\n",
      "292/292 [==============================] - 4s 14ms/sample - loss: 0.0400 - acc: 1.0000 - val_loss: 0.7389 - val_acc: 0.7931\n",
      "Epoch 9/20\n",
      "292/292 [==============================] - 4s 13ms/sample - loss: 0.0280 - acc: 1.0000 - val_loss: 0.7620 - val_acc: 0.8138\n",
      "Epoch 10/20\n",
      "292/292 [==============================] - 4s 14ms/sample - loss: 0.0204 - acc: 1.0000 - val_loss: 0.8044 - val_acc: 0.8069\n",
      "Epoch 11/20\n",
      "292/292 [==============================] - 3s 12ms/sample - loss: 0.0158 - acc: 1.0000 - val_loss: 0.8221 - val_acc: 0.8138\n",
      "Epoch 12/20\n",
      "292/292 [==============================] - 4s 12ms/sample - loss: 0.0126 - acc: 1.0000 - val_loss: 0.8372 - val_acc: 0.8138\n",
      "Epoch 13/20\n",
      "292/292 [==============================] - 4s 12ms/sample - loss: 0.0104 - acc: 1.0000 - val_loss: 0.8683 - val_acc: 0.8138\n",
      "Epoch 14/20\n",
      "292/292 [==============================] - 4s 12ms/sample - loss: 0.0088 - acc: 1.0000 - val_loss: 0.8698 - val_acc: 0.8138\n",
      "Epoch 15/20\n",
      "292/292 [==============================] - 4s 13ms/sample - loss: 0.0075 - acc: 1.0000 - val_loss: 0.8979 - val_acc: 0.8069\n",
      "Epoch 16/20\n",
      "292/292 [==============================] - 4s 12ms/sample - loss: 0.0066 - acc: 1.0000 - val_loss: 0.9183 - val_acc: 0.8069\n",
      "Epoch 17/20\n",
      "292/292 [==============================] - 3s 12ms/sample - loss: 0.0058 - acc: 1.0000 - val_loss: 0.9584 - val_acc: 0.8000\n",
      "Epoch 18/20\n",
      "292/292 [==============================] - 4s 13ms/sample - loss: 0.0052 - acc: 1.0000 - val_loss: 0.9565 - val_acc: 0.8069\n",
      "Epoch 19/20\n",
      "292/292 [==============================] - 3s 12ms/sample - loss: 0.0047 - acc: 1.0000 - val_loss: 0.9774 - val_acc: 0.8000\n",
      "Epoch 20/20\n",
      "292/292 [==============================] - 4s 13ms/sample - loss: 0.0042 - acc: 1.0000 - val_loss: 0.9915 - val_acc: 0.8000\n"
     ]
    },
    {
     "data": {
      "image/png": "[encoded data removed]",
      "text/plain": [
       "<Figure size 864x648 with 1 Axes>"
      ]
     },
     "metadata": {},
     "output_type": "display_data"
    },
    {
     "data": {
      "image/png": "[encoded data removed]",
      "text/plain": [
       "<Figure size 864x648 with 1 Axes>"
      ]
     },
     "metadata": {},
     "output_type": "display_data"
    }
   ],
   "source": [
    "# define and fit the model\n",
    "model = Sequential()\n",
    "model.add(Dense(24, input_dim=9706, activation='relu'))\n",
    "model.add(Dense(24, activation='relu'))\n",
    "model.add(Dense(1, activation='sigmoid'))\n",
    "\n",
    "\n",
    "model.compile(loss='binary_crossentropy', optimizer='adam', metrics=['acc'])\n",
    "history = model.fit(X_BOW_OF, y, validation_split=0.33, epochs=20)\n",
    "\n",
    "\n",
    "# summarize history for accuracy\n",
    "plt.plot(history.history['acc'])\n",
    "plt.plot(history.history['val_acc'])\n",
    "plt.title('model accuracy')\n",
    "plt.ylabel('accuracy')\n",
    "plt.xlabel('epoch')\n",
    "plt.legend(['train', 'test'], loc='upper left')\n",
    "plt.show()\n",
    "\n",
    "# summarize history for loss\n",
    "plt.plot(history.history['loss'])\n",
    "plt.plot(history.history['val_loss'])\n",
    "plt.title('model loss')\n",
    "plt.ylabel('loss')\n",
    "plt.xlabel('epoch')\n",
    "plt.legend(['train', 'test'], loc='upper left')\n",
    "plt.show()"
   ]
  },
  {
   "cell_type": "markdown",
   "id": "logical-nutrition",
   "metadata": {},
   "source": [
    "<b>5. Bag-of-Words, other features, other speech features - sentiment related (TF_ALL)</b>"
   ]
  },
  {
   "cell_type": "code",
   "execution_count": 211,
   "id": "moral-jewelry",
   "metadata": {},
   "outputs": [
    {
     "name": "stdout",
     "output_type": "stream",
     "text": [
      "Train on 292 samples, validate on 145 samples\n",
      "Epoch 1/20\n",
      "292/292 [==============================] - 13s 43ms/sample - loss: 0.6829 - acc: 0.6575 - val_loss: 0.6216 - val_acc: 0.7379\n",
      "Epoch 2/20\n",
      "292/292 [==============================] - 4s 13ms/sample - loss: 0.4357 - acc: 0.8425 - val_loss: 0.6059 - val_acc: 0.7310\n",
      "Epoch 3/20\n",
      "292/292 [==============================] - 4s 12ms/sample - loss: 0.2827 - acc: 0.9349 - val_loss: 0.6273 - val_acc: 0.7448\n",
      "Epoch 4/20\n",
      "292/292 [==============================] - 4s 12ms/sample - loss: 0.1803 - acc: 0.9692 - val_loss: 0.6142 - val_acc: 0.7724\n",
      "Epoch 5/20\n",
      "292/292 [==============================] - 4s 13ms/sample - loss: 0.1086 - acc: 0.9932 - val_loss: 0.6872 - val_acc: 0.7586\n",
      "Epoch 6/20\n",
      "292/292 [==============================] - 4s 12ms/sample - loss: 0.0659 - acc: 0.9966 - val_loss: 0.6958 - val_acc: 0.7586\n",
      "Epoch 7/20\n",
      "292/292 [==============================] - 4s 13ms/sample - loss: 0.0428 - acc: 1.0000 - val_loss: 0.7678 - val_acc: 0.7655\n",
      "Epoch 8/20\n",
      "292/292 [==============================] - 4s 12ms/sample - loss: 0.0290 - acc: 1.0000 - val_loss: 0.8749 - val_acc: 0.7655\n",
      "Epoch 9/20\n",
      "292/292 [==============================] - 4s 13ms/sample - loss: 0.0205 - acc: 1.0000 - val_loss: 0.8322 - val_acc: 0.7862\n",
      "Epoch 10/20\n",
      "292/292 [==============================] - 4s 13ms/sample - loss: 0.0153 - acc: 1.0000 - val_loss: 0.8348 - val_acc: 0.7793\n",
      "Epoch 11/20\n",
      "292/292 [==============================] - 4s 12ms/sample - loss: 0.0116 - acc: 1.0000 - val_loss: 0.8724 - val_acc: 0.7862\n",
      "Epoch 12/20\n",
      "292/292 [==============================] - 3s 12ms/sample - loss: 0.0094 - acc: 1.0000 - val_loss: 0.8965 - val_acc: 0.7862\n",
      "Epoch 13/20\n",
      "292/292 [==============================] - 4s 12ms/sample - loss: 0.0077 - acc: 1.0000 - val_loss: 0.9449 - val_acc: 0.8000\n",
      "Epoch 14/20\n",
      "292/292 [==============================] - 3s 12ms/sample - loss: 0.0065 - acc: 1.0000 - val_loss: 0.9227 - val_acc: 0.7931\n",
      "Epoch 15/20\n",
      "292/292 [==============================] - 4s 13ms/sample - loss: 0.0057 - acc: 1.0000 - val_loss: 0.9211 - val_acc: 0.7931\n",
      "Epoch 16/20\n",
      "292/292 [==============================] - 3s 12ms/sample - loss: 0.0051 - acc: 1.0000 - val_loss: 0.9633 - val_acc: 0.7931\n",
      "Epoch 17/20\n",
      "292/292 [==============================] - 4s 12ms/sample - loss: 0.0045 - acc: 1.0000 - val_loss: 0.9920 - val_acc: 0.7862\n",
      "Epoch 18/20\n",
      "292/292 [==============================] - 3s 11ms/sample - loss: 0.0041 - acc: 1.0000 - val_loss: 1.0104 - val_acc: 0.7931\n",
      "Epoch 19/20\n",
      "292/292 [==============================] - 4s 13ms/sample - loss: 0.0038 - acc: 1.0000 - val_loss: 1.0230 - val_acc: 0.7931\n",
      "Epoch 20/20\n",
      "292/292 [==============================] - 4s 14ms/sample - loss: 0.0034 - acc: 1.0000 - val_loss: 1.0351 - val_acc: 0.7931\n"
     ]
    },
    {
     "data": {
      "image/png": "[encoded data removed]",
      "text/plain": [
       "<Figure size 864x648 with 1 Axes>"
      ]
     },
     "metadata": {},
     "output_type": "display_data"
    },
    {
     "data": {
      "image/png": "[encoded data removed]",
      "text/plain": [
       "<Figure size 864x648 with 1 Axes>"
      ]
     },
     "metadata": {},
     "output_type": "display_data"
    }
   ],
   "source": [
    "# define and fit the model\n",
    "model = Sequential()\n",
    "model.add(Dense(24, input_dim=9708, activation='relu'))\n",
    "model.add(Dense(24, activation='relu'))\n",
    "model.add(Dense(1, activation='sigmoid'))\n",
    "\n",
    "\n",
    "model.compile(loss='binary_crossentropy', optimizer='adam', metrics=['acc'])\n",
    "history = model.fit(X_ALL, y, validation_split=0.33, epochs=20)\n",
    "\n",
    "\n",
    "# summarize history for accuracy\n",
    "plt.plot(history.history['acc'])\n",
    "plt.plot(history.history['val_acc'])\n",
    "plt.title('model accuracy')\n",
    "plt.ylabel('accuracy')\n",
    "plt.xlabel('epoch')\n",
    "plt.legend(['train', 'test'], loc='upper left')\n",
    "plt.show()\n",
    "\n",
    "# summarize history for loss\n",
    "plt.plot(history.history['loss'])\n",
    "plt.plot(history.history['val_loss'])\n",
    "plt.title('model loss')\n",
    "plt.ylabel('loss')\n",
    "plt.xlabel('epoch')\n",
    "plt.legend(['train', 'test'], loc='upper left')\n",
    "plt.show()"
   ]
  },
  {
   "cell_type": "markdown",
   "id": "pleasant-moldova",
   "metadata": {},
   "source": [
    "###  TensorFlow Model Comparison Table \n",
    "(20 epochs, Adam optimizer, two hidden layers, 24/24 capacity, validation split 0.33)\n",
    "\n",
    "| Metric/Algorithm | TF_BOW | TF_OS | TF_OS_COUNT | TF_OS_SENT | TF_OF| TF_BOW_OF | TF_ALL | \n",
    "| :-:| --- | --- | --- | --- | --- | --- | --- | \n",
    "|  acc  | 1.0000 | 0.6644 | 0.7260| 0.7432 | <b>0.8082</b> | 1.0000 | 1.0000 |\n",
    "|  val_acc | 0.7655 | 0.6966 | 0.7103 | 0.7241 | <b>0.8276</b> | 0.8000 | 0.7931 |\n",
    "|  loss| 0.0029| 0.7355 | 0.6282 | 0.5660  | <b>0.3994</b> | 0.0042 | 0.0034 |\n",
    "|  val_loss | 1.2700 | 0.6960 | 0.6691 | 0.5919 | <b>0.4371</b> | 0.9915  | 1.0351 |"
   ]
  },
  {
   "cell_type": "markdown",
   "id": "heard-spirit",
   "metadata": {},
   "source": [
    "The results of these tests are mixed. A one-size-fits-all topology was used for these tests to get a sense of how training the same model with the various feature sets compared. It is possible that with further tuning the results could be improved.\n",
    "\n",
    "Several of the models, and in particular all that included the Bag-of-Words features, showed clear signs of overfitting. Several of the models had accuracy less than the Naive Classifier. Most of the models did not have promising accuracy and loss graphs.\n",
    "\n",
    "The one model that does look promising is TF_OF, which trains only on the Other Features set. This appeared to converge and had validaton accuracy of 82.76% which is better than the naive classifier and similar to the best SVM model which achieved 82.58% accuracy. This model could potentially be a candidate for further tuning, particularly using TensorFlow techniques for cllassifying imbalanced data."
   ]
  },
  {
   "cell_type": "markdown",
   "id": "registered-sword",
   "metadata": {},
   "source": [
    "## 2.5. Conclusion"
   ]
  },
  {
   "cell_type": "markdown",
   "id": "enclosed-sharp",
   "metadata": {},
   "source": [
    "I have identified two promising models which are candidates for further tuning and evaluation:\n",
    "\n",
    "<ul><li>SVM_BOW_OF (SVM trained on Bag-of-Word and Other Features)</li>\n",
    "<li>TF_OF (TensorFlow trained on Other Features only)</li></ul>\n",
    "\n",
    "These achieved similar accuracies (82.58% and 82.76%) and outperformed the Naive Classifier.\n",
    "\n",
    "In the final part of my project, I will continue tuning my models, analyze their performance, and present conclusions including potential applications of this work."
   ]
  },
  {
   "cell_type": "markdown",
   "id": "seven-barbados",
   "metadata": {},
   "source": [
    "## 2.6. Sources Used for Model Development"
   ]
  },
  {
   "cell_type": "markdown",
   "id": "signal-amsterdam",
   "metadata": {},
   "source": [
    "- Abercrombie, G. and Batista-Navarro, R. (2020). ‘ParlVote: A Corpus for Sentiment Analysis of Political Debates.’ 12th Language Resources and Evaluation Conference. Marseille, France, 11-16 May. Paris: European Language Resources Association. (Online). Available at: https://www.aclweb.org/anthology/2020.lrec-1.624/ (Accessed: 13 April 2021).<br>\n",
    "- Albon, C. (2017) 'Color Palettes in Seaborn.' <i>Chrisalbon.com.</i> Available at: https://chrisalbon.com/python/data_visualization/seaborn_color_palettes/ (Accessed 17 April 2021).<br>\n",
    "- Budhwar, A. (2018). Predicting the Vote Using Legislative Speech. M.Sc. Thesis. California Polytechnic State University. Available at: https://digitalcommons.calpoly.edu/theses/1818 (Accessed: 7 April 2021).<br>\n",
    "- TensorFlow (n.d) <i>Classification on imbalanced data</i>. Available at: https://www.tensorflow.org/tutorials/structured_data/imbalanced_data [Accessed: 17 April 2021).\n"
   ]
  }
 ],
 "metadata": {
  "kernelspec": {
   "display_name": "Python 3",
   "language": "python",
   "name": "python3"
  },
  "language_info": {
   "codemirror_mode": {
    "name": "ipython",
    "version": 3
   },
   "file_extension": ".py",
   "mimetype": "text/x-python",
   "name": "python",
   "nbconvert_exporter": "python",
   "pygments_lexer": "ipython3",
   "version": "3.7.10"
  }
 },
 "nbformat": 4,
 "nbformat_minor": 5
}
