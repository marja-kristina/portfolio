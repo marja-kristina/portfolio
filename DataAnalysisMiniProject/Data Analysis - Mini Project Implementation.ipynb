{
 "cells": [
  {
   "cell_type": "markdown",
   "metadata": {},
   "source": [
    "# Data Analysis Continuous Assessment Part 2: Mini-Project Implementation"
   ]
  },
  {
   "cell_type": "markdown",
   "metadata": {},
   "source": [
    "## 1. Preparing the Data Set for Analysis"
   ]
  },
  {
   "cell_type": "markdown",
   "metadata": {},
   "source": [
    "### Data set description/initial variable selection\n",
    "\n",
    "The data set for the mini-project includes selected variables from <strong>Electoral System Design Database/Voter Turnout Database</strong> compiled by the International Institute for Democracy and Electoral Assistance (https://www.idea.int/advanced-search) \n",
    "\n",
    "<b>Voter Turnout Database (Parliamentary Data):</b><i> Country, Voter turnout, Total vote, Registration, Voting age population turnout, Voting age population, Population (total), Invalid votes, Compulsory voting</i>\n",
    "\n",
    "<b>Electoral System Design Database:</b> <i>Electoral system family, Legislative size (voting members)</i>\n",
    "\n",
    "Countries which had significant amounts of missing data in one of the databases (particularly in the <i>Electoral family</i> and <i>Legislative size (voting members)</i>) columns were filtered out before exporting the dataset as it allowed filtering by country."
   ]
  },
  {
   "cell_type": "markdown",
   "metadata": {},
   "source": [
    "### Data set cleaning in Excel\n",
    "\n",
    "<ul>\n",
    "    <li>Minor formatting issues were fixed manually (Data in a wrong column due to missing data in the <i>Invalid votes</i> column in a few cases)</li>\n",
    "    <li>The field formats were changed from 'General' to 'Number' and 'Text' format in Excel once data was imported into Jupyter Notebook.</li>\n",
    "    <li><i>Invalid votes</i> and <i>Legislative size (voting members)</i> columns had a small amount of missing data which was marked with value -1 for easier identification.</li>\n",
    "    <li>I observed that the <i>Voting age population turnout</i> column showed some values with percentage over 100%.</li>\n",
    "</ul>"
   ]
  },
  {
   "cell_type": "markdown",
   "metadata": {},
   "source": [
    "### Data set cleaning in Jupyter Notebook"
   ]
  },
  {
   "cell_type": "code",
   "execution_count": 52,
   "metadata": {},
   "outputs": [],
   "source": [
    "import pandas as pd\n",
    "import numpy as np\n",
    "import matplotlib.pyplot as plt\n"
   ]
  },
  {
   "cell_type": "markdown",
   "metadata": {},
   "source": [
    "I loaded the .csv file into a data frame, renamed the columns with shorter names, and set the data frame index to 1. I checked if the data had loaded correctly by printing the first 15 rows of the data frame, and then checked how many rows and columns the data frame had, as well as what types of data were in the columns to make sure it matched my expectations."
   ]
  },
  {
   "cell_type": "code",
   "execution_count": 107,
   "metadata": {},
   "outputs": [],
   "source": [
    "idea_df = pd.read_csv(\"idea.csv\")\n",
    "# This renames all the columns with a shorter name\n",
    "idea_df.columns = ['Country', 'VoterTurnout(%)', 'TotalVote', 'Registration', 'VotingAgePopulationTurnout(%)', 'VotingAgePopulation', 'Population', 'InvalidVotes(%)', 'CompulsoryVoting', 'ElectoralSystemFamily', 'LegislativeSizeVotingMembers']\n",
    "# This starts the dataframe index at 1\n",
    "idea_df.index = idea_df.index + 1"
   ]
  },
  {
   "cell_type": "code",
   "execution_count": 108,
   "metadata": {},
   "outputs": [
    {
     "data": {
      "text/html": [
       "<div>\n",
       "<style scoped>\n",
       "    .dataframe tbody tr th:only-of-type {\n",
       "        vertical-align: middle;\n",
       "    }\n",
       "\n",
       "    .dataframe tbody tr th {\n",
       "        vertical-align: top;\n",
       "    }\n",
       "\n",
       "    .dataframe thead th {\n",
       "        text-align: right;\n",
       "    }\n",
       "</style>\n",
       "<table border=\"1\" class=\"dataframe\">\n",
       "  <thead>\n",
       "    <tr style=\"text-align: right;\">\n",
       "      <th></th>\n",
       "      <th>Country</th>\n",
       "      <th>VoterTurnout(%)</th>\n",
       "      <th>TotalVote</th>\n",
       "      <th>Registration</th>\n",
       "      <th>VotingAgePopulationTurnout(%)</th>\n",
       "      <th>VotingAgePopulation</th>\n",
       "      <th>Population</th>\n",
       "      <th>InvalidVotes(%)</th>\n",
       "      <th>CompulsoryVoting</th>\n",
       "      <th>ElectoralSystemFamily</th>\n",
       "      <th>LegislativeSizeVotingMembers</th>\n",
       "    </tr>\n",
       "  </thead>\n",
       "  <tbody>\n",
       "    <tr>\n",
       "      <th>1</th>\n",
       "      <td>Afghanistan</td>\n",
       "      <td>0.45</td>\n",
       "      <td>4000000.0</td>\n",
       "      <td>8843151.0</td>\n",
       "      <td>0.22</td>\n",
       "      <td>18340292.0</td>\n",
       "      <td>34940837.0</td>\n",
       "      <td>0.04</td>\n",
       "      <td>No</td>\n",
       "      <td>Other</td>\n",
       "      <td>250.0</td>\n",
       "    </tr>\n",
       "    <tr>\n",
       "      <th>2</th>\n",
       "      <td>Albania</td>\n",
       "      <td>0.47</td>\n",
       "      <td>1614479.0</td>\n",
       "      <td>3452324.0</td>\n",
       "      <td>0.69</td>\n",
       "      <td>2356975.0</td>\n",
       "      <td>3047987.0</td>\n",
       "      <td>0.02</td>\n",
       "      <td>No</td>\n",
       "      <td>PR</td>\n",
       "      <td>140.0</td>\n",
       "    </tr>\n",
       "    <tr>\n",
       "      <th>3</th>\n",
       "      <td>Algeria</td>\n",
       "      <td>0.37</td>\n",
       "      <td>8624199.0</td>\n",
       "      <td>23251503.0</td>\n",
       "      <td>0.32</td>\n",
       "      <td>27248442.0</td>\n",
       "      <td>40969443.0</td>\n",
       "      <td>0.25</td>\n",
       "      <td>No</td>\n",
       "      <td>PR</td>\n",
       "      <td>462.0</td>\n",
       "    </tr>\n",
       "    <tr>\n",
       "      <th>4</th>\n",
       "      <td>Andorra</td>\n",
       "      <td>0.68</td>\n",
       "      <td>18638.0</td>\n",
       "      <td>27278.0</td>\n",
       "      <td>0.26</td>\n",
       "      <td>71161.0</td>\n",
       "      <td>85684.0</td>\n",
       "      <td>0.05</td>\n",
       "      <td>No</td>\n",
       "      <td>Mixed</td>\n",
       "      <td>28.0</td>\n",
       "    </tr>\n",
       "    <tr>\n",
       "      <th>5</th>\n",
       "      <td>Angola</td>\n",
       "      <td>0.76</td>\n",
       "      <td>7093002.0</td>\n",
       "      <td>9317294.0</td>\n",
       "      <td>0.53</td>\n",
       "      <td>13366186.0</td>\n",
       "      <td>29310273.0</td>\n",
       "      <td>0.04</td>\n",
       "      <td>No</td>\n",
       "      <td>PR</td>\n",
       "      <td>220.0</td>\n",
       "    </tr>\n",
       "    <tr>\n",
       "      <th>6</th>\n",
       "      <td>Anguilla</td>\n",
       "      <td>0.61</td>\n",
       "      <td>7293.0</td>\n",
       "      <td>11951.0</td>\n",
       "      <td>0.54</td>\n",
       "      <td>13422.0</td>\n",
       "      <td>18090.0</td>\n",
       "      <td>0.05</td>\n",
       "      <td>No</td>\n",
       "      <td>Plurality/Majority</td>\n",
       "      <td>13.0</td>\n",
       "    </tr>\n",
       "    <tr>\n",
       "      <th>7</th>\n",
       "      <td>Antigua and Barbuda</td>\n",
       "      <td>0.90</td>\n",
       "      <td>43077.0</td>\n",
       "      <td>47721.0</td>\n",
       "      <td>0.70</td>\n",
       "      <td>61571.0</td>\n",
       "      <td>91295.0</td>\n",
       "      <td>0.01</td>\n",
       "      <td>No</td>\n",
       "      <td>Plurality/Majority</td>\n",
       "      <td>17.0</td>\n",
       "    </tr>\n",
       "    <tr>\n",
       "      <th>8</th>\n",
       "      <td>Argentina</td>\n",
       "      <td>0.81</td>\n",
       "      <td>27698054.0</td>\n",
       "      <td>34218538.0</td>\n",
       "      <td>0.83</td>\n",
       "      <td>33442549.0</td>\n",
       "      <td>45089492.0</td>\n",
       "      <td>0.07</td>\n",
       "      <td>Yes</td>\n",
       "      <td>PR</td>\n",
       "      <td>257.0</td>\n",
       "    </tr>\n",
       "    <tr>\n",
       "      <th>9</th>\n",
       "      <td>Armenia</td>\n",
       "      <td>0.49</td>\n",
       "      <td>1261105.0</td>\n",
       "      <td>2593140.0</td>\n",
       "      <td>0.53</td>\n",
       "      <td>2362422.0</td>\n",
       "      <td>3038217.0</td>\n",
       "      <td>0.00</td>\n",
       "      <td>No</td>\n",
       "      <td>PR</td>\n",
       "      <td>132.0</td>\n",
       "    </tr>\n",
       "    <tr>\n",
       "      <th>10</th>\n",
       "      <td>Aruba</td>\n",
       "      <td>0.84</td>\n",
       "      <td>59403.0</td>\n",
       "      <td>70750.0</td>\n",
       "      <td>0.65</td>\n",
       "      <td>90840.0</td>\n",
       "      <td>115120.0</td>\n",
       "      <td>0.01</td>\n",
       "      <td>No</td>\n",
       "      <td>PR</td>\n",
       "      <td>21.0</td>\n",
       "    </tr>\n",
       "    <tr>\n",
       "      <th>11</th>\n",
       "      <td>Australia</td>\n",
       "      <td>0.92</td>\n",
       "      <td>15088616.0</td>\n",
       "      <td>16419543.0</td>\n",
       "      <td>0.81</td>\n",
       "      <td>18675465.0</td>\n",
       "      <td>23705630.0</td>\n",
       "      <td>0.06</td>\n",
       "      <td>Yes</td>\n",
       "      <td>Plurality/Majority</td>\n",
       "      <td>151.0</td>\n",
       "    </tr>\n",
       "    <tr>\n",
       "      <th>12</th>\n",
       "      <td>Austria</td>\n",
       "      <td>0.76</td>\n",
       "      <td>4835469.0</td>\n",
       "      <td>6396812.0</td>\n",
       "      <td>0.64</td>\n",
       "      <td>7508169.0</td>\n",
       "      <td>8828456.0</td>\n",
       "      <td>0.01</td>\n",
       "      <td>No</td>\n",
       "      <td>PR</td>\n",
       "      <td>183.0</td>\n",
       "    </tr>\n",
       "    <tr>\n",
       "      <th>13</th>\n",
       "      <td>Azerbaijan</td>\n",
       "      <td>0.47</td>\n",
       "      <td>2510135.0</td>\n",
       "      <td>5359015.0</td>\n",
       "      <td>0.34</td>\n",
       "      <td>7475615.0</td>\n",
       "      <td>10205810.0</td>\n",
       "      <td>0.04</td>\n",
       "      <td>No</td>\n",
       "      <td>Plurality/Majority</td>\n",
       "      <td>125.0</td>\n",
       "    </tr>\n",
       "    <tr>\n",
       "      <th>14</th>\n",
       "      <td>Bahamas</td>\n",
       "      <td>0.87</td>\n",
       "      <td>159910.0</td>\n",
       "      <td>184000.0</td>\n",
       "      <td>0.67</td>\n",
       "      <td>240360.0</td>\n",
       "      <td>329988.0</td>\n",
       "      <td>0.01</td>\n",
       "      <td>No</td>\n",
       "      <td>Plurality/Majority</td>\n",
       "      <td>39.0</td>\n",
       "    </tr>\n",
       "    <tr>\n",
       "      <th>15</th>\n",
       "      <td>Bahrain</td>\n",
       "      <td>0.67</td>\n",
       "      <td>237550.0</td>\n",
       "      <td>365467.0</td>\n",
       "      <td>0.22</td>\n",
       "      <td>1070950.0</td>\n",
       "      <td>1442659.0</td>\n",
       "      <td>0.00</td>\n",
       "      <td>No</td>\n",
       "      <td>Plurality/Majority</td>\n",
       "      <td>40.0</td>\n",
       "    </tr>\n",
       "  </tbody>\n",
       "</table>\n",
       "</div>"
      ],
      "text/plain": [
       "                Country  VoterTurnout(%)   TotalVote  Registration  \\\n",
       "1           Afghanistan             0.45   4000000.0     8843151.0   \n",
       "2               Albania             0.47   1614479.0     3452324.0   \n",
       "3               Algeria             0.37   8624199.0    23251503.0   \n",
       "4               Andorra             0.68     18638.0       27278.0   \n",
       "5                Angola             0.76   7093002.0     9317294.0   \n",
       "6              Anguilla             0.61      7293.0       11951.0   \n",
       "7   Antigua and Barbuda             0.90     43077.0       47721.0   \n",
       "8             Argentina             0.81  27698054.0    34218538.0   \n",
       "9               Armenia             0.49   1261105.0     2593140.0   \n",
       "10                Aruba             0.84     59403.0       70750.0   \n",
       "11            Australia             0.92  15088616.0    16419543.0   \n",
       "12              Austria             0.76   4835469.0     6396812.0   \n",
       "13           Azerbaijan             0.47   2510135.0     5359015.0   \n",
       "14              Bahamas             0.87    159910.0      184000.0   \n",
       "15              Bahrain             0.67    237550.0      365467.0   \n",
       "\n",
       "    VotingAgePopulationTurnout(%)  VotingAgePopulation  Population  \\\n",
       "1                            0.22           18340292.0  34940837.0   \n",
       "2                            0.69            2356975.0   3047987.0   \n",
       "3                            0.32           27248442.0  40969443.0   \n",
       "4                            0.26              71161.0     85684.0   \n",
       "5                            0.53           13366186.0  29310273.0   \n",
       "6                            0.54              13422.0     18090.0   \n",
       "7                            0.70              61571.0     91295.0   \n",
       "8                            0.83           33442549.0  45089492.0   \n",
       "9                            0.53            2362422.0   3038217.0   \n",
       "10                           0.65              90840.0    115120.0   \n",
       "11                           0.81           18675465.0  23705630.0   \n",
       "12                           0.64            7508169.0   8828456.0   \n",
       "13                           0.34            7475615.0  10205810.0   \n",
       "14                           0.67             240360.0    329988.0   \n",
       "15                           0.22            1070950.0   1442659.0   \n",
       "\n",
       "    InvalidVotes(%) CompulsoryVoting ElectoralSystemFamily  \\\n",
       "1              0.04               No                 Other   \n",
       "2              0.02               No                    PR   \n",
       "3              0.25               No                    PR   \n",
       "4              0.05               No                 Mixed   \n",
       "5              0.04               No                    PR   \n",
       "6              0.05               No    Plurality/Majority   \n",
       "7              0.01               No    Plurality/Majority   \n",
       "8              0.07              Yes                    PR   \n",
       "9              0.00               No                    PR   \n",
       "10             0.01               No                    PR   \n",
       "11             0.06              Yes    Plurality/Majority   \n",
       "12             0.01               No                    PR   \n",
       "13             0.04               No    Plurality/Majority   \n",
       "14             0.01               No    Plurality/Majority   \n",
       "15             0.00               No    Plurality/Majority   \n",
       "\n",
       "    LegislativeSizeVotingMembers  \n",
       "1                          250.0  \n",
       "2                          140.0  \n",
       "3                          462.0  \n",
       "4                           28.0  \n",
       "5                          220.0  \n",
       "6                           13.0  \n",
       "7                           17.0  \n",
       "8                          257.0  \n",
       "9                          132.0  \n",
       "10                          21.0  \n",
       "11                         151.0  \n",
       "12                         183.0  \n",
       "13                         125.0  \n",
       "14                          39.0  \n",
       "15                          40.0  "
      ]
     },
     "execution_count": 108,
     "metadata": {},
     "output_type": "execute_result"
    }
   ],
   "source": [
    "# This prints the first 15 rows of the data frame to check if the information has been loaded correctly from the .csv file\n",
    "idea_df.head(15)\n"
   ]
  },
  {
   "cell_type": "code",
   "execution_count": 109,
   "metadata": {},
   "outputs": [
    {
     "data": {
      "text/plain": [
       "(198, 11)"
      ]
     },
     "execution_count": 109,
     "metadata": {},
     "output_type": "execute_result"
    }
   ],
   "source": [
    "# this shows how many rows and columns the data frame has\n",
    "idea_df.shape"
   ]
  },
  {
   "cell_type": "code",
   "execution_count": 110,
   "metadata": {},
   "outputs": [
    {
     "data": {
      "text/plain": [
       "Country                           object\n",
       "VoterTurnout(%)                  float64\n",
       "TotalVote                        float64\n",
       "Registration                     float64\n",
       "VotingAgePopulationTurnout(%)    float64\n",
       "VotingAgePopulation              float64\n",
       "Population                       float64\n",
       "InvalidVotes(%)                  float64\n",
       "CompulsoryVoting                  object\n",
       "ElectoralSystemFamily             object\n",
       "LegislativeSizeVotingMembers     float64\n",
       "dtype: object"
      ]
     },
     "execution_count": 110,
     "metadata": {},
     "output_type": "execute_result"
    }
   ],
   "source": [
    "# this shows the types of data in the columns\n",
    "idea_df.dtypes"
   ]
  },
  {
   "cell_type": "markdown",
   "metadata": {},
   "source": [
    "I considered whether the data would benefit from standardization or normalization, however as the model types I will be using are not as affected by the scale of the features, I decided against it."
   ]
  },
  {
   "cell_type": "markdown",
   "metadata": {},
   "source": [
    "I have made histograms to visualize the distributions of the numeric variables to assist with the next steps of data cleaning."
   ]
  },
  {
   "cell_type": "code",
   "execution_count": 111,
   "metadata": {},
   "outputs": [
    {
     "data": {
      "image/png": "[encoded data removed]",
      "text/plain": [
       "<Figure size 2160x2160 with 9 Axes>"
      ]
     },
     "metadata": {
      "needs_background": "light"
     },
     "output_type": "display_data"
    }
   ],
   "source": [
    "names = ['VoterTurnout(%)', 'TotalVote', 'Registration', 'VotingAgePopulationTurnout(%)', 'VotingAgePopulation', 'Population', 'InvalidVotes(%)', 'LegislativeSizeVotingMembers']\n",
    "# this establishes the font size\n",
    "plt.rc('font', size=30)\n",
    "# this establishes the histogram size\n",
    "idea_df.hist(figsize=(30,30))\n",
    "plt.savefig('histogram.png', format='png')\n",
    "plt.show()"
   ]
  },
  {
   "cell_type": "markdown",
   "metadata": {},
   "source": [
    "Most distributions appeared positively skewed, with <i>VoterTurnout(%)</i> and <i>VotingAgePopulationTurnout(%)</i> showing closer to normal distributions. \n",
    "\n",
    "Notable from these graphs:\n",
    "<ul>\n",
    "    <li>As I observed in Excel, <i>InvalidVotes(%)</i> value is missing for several rows, which shows as a peak at -1.</li>\n",
    "    <li>Confirming my observation in Excel, there are several values above 100% in the <i>VotingAgePopulationTurnout(%)</i> column</li>\n",
    "    <li>While it looks like there may be outliers in <i>Population</i>, <i>Registration</i>, <i>TotalVote</i> and <i>VotingAgePopulation</i>, on review, these are the small number of countries with populations over approximately 200 million. I debated whether to exclude these countries, but decided to leave them in for this project.</li>\n",
    "</ul>\n"
   ]
  },
  {
   "cell_type": "markdown",
   "metadata": {},
   "source": [
    "After reviewing the histograms, I checked all the numeric values for missing data, and the numeric columns representing percentages for values over 100%."
   ]
  },
  {
   "cell_type": "code",
   "execution_count": 112,
   "metadata": {},
   "outputs": [
    {
     "name": "stdout",
     "output_type": "stream",
     "text": [
      "Missing data - values < 0:\n",
      "\n",
      "VoterTurnout(%)                   0\n",
      "TotalVote                         0\n",
      "Registration                      0\n",
      "VotingAgePopulationTurnout(%)     0\n",
      "VotingAgePopulation               0\n",
      "InvalidVotes(%)                  13\n",
      "LegislativeSizeVotingMembers      1\n",
      "dtype: int64\n",
      "\n",
      "\n",
      "Outlier data - values > 100%:\n",
      "\n",
      "VoterTurnout(%)                  0\n",
      "VotingAgePopulationTurnout(%)    6\n",
      "InvalidVotes(%)                  0\n",
      "dtype: int64\n"
     ]
    }
   ],
   "source": [
    "print('Missing data - values < 0:')\n",
    "print()\n",
    "print((idea_df[['VoterTurnout(%)', 'TotalVote', 'Registration', 'VotingAgePopulationTurnout(%)', 'VotingAgePopulation', 'InvalidVotes(%)', 'LegislativeSizeVotingMembers']] < 0).sum())\n",
    "print()\n",
    "print()\n",
    "print ('Outlier data - values > 100%:')\n",
    "print()\n",
    "print((idea_df[['VoterTurnout(%)', 'VotingAgePopulationTurnout(%)', 'InvalidVotes(%)']] > 1).sum())\n"
   ]
  },
  {
   "cell_type": "code",
   "execution_count": 115,
   "metadata": {},
   "outputs": [
    {
     "name": "stdout",
     "output_type": "stream",
     "text": [
      "Percentage of InvalidVotes(%) missing: 6.565656565656567 %\n",
      "\n"
     ]
    }
   ],
   "source": [
    "#this calculates the percentage of the missing values for InvalidVotes\n",
    "idea_df['InvalidVotes(%)'] = idea_df['InvalidVotes(%)'].mask(idea_df['InvalidVotes(%)'] == -1, np.NaN)\n",
    "per_invalid_votes = (idea_df['InvalidVotes(%)'].isnull().sum() / idea_df.shape[0]) * 100\n",
    "print('Percentage of InvalidVotes(%) missing:', per_invalid_votes, '%')\n",
    "print()"
   ]
  },
  {
   "cell_type": "markdown",
   "metadata": {},
   "source": [
    "Invalid Votes was missing in 6.6% of all rows, so I decided to impute a mean value for the missing rows as they comprised more than 5% of the data set. The percentage of rows of missing values was high enough that deleting them might compromise the data set."
   ]
  },
  {
   "cell_type": "markdown",
   "metadata": {},
   "source": [
    "I identified a missing value at row 23, imputed the mean for missing values in this column, and confirmed that the missing value was succesfully replaced."
   ]
  },
  {
   "cell_type": "code",
   "execution_count": 60,
   "metadata": {},
   "outputs": [
    {
     "name": "stdout",
     "output_type": "stream",
     "text": [
      "1     0.04\n",
      "2     0.02\n",
      "3     0.25\n",
      "4     0.05\n",
      "5     0.04\n",
      "6     0.05\n",
      "7     0.01\n",
      "8     0.07\n",
      "9     0.00\n",
      "10    0.01\n",
      "11    0.06\n",
      "12    0.01\n",
      "13    0.04\n",
      "14    0.01\n",
      "15    0.00\n",
      "16    0.03\n",
      "17    0.00\n",
      "18    0.01\n",
      "19    0.06\n",
      "20    0.01\n",
      "21    0.14\n",
      "22    0.09\n",
      "23     NaN\n",
      "24    0.05\n",
      "25    0.09\n",
      "Name: InvalidVotes(%), dtype: float64\n"
     ]
    }
   ],
   "source": [
    "# this prints the first 25 rows of data in the InvalidVotes(%) column so we can see a missing value\n",
    "print(idea_df['InvalidVotes(%)'].head(25))"
   ]
  },
  {
   "cell_type": "code",
   "execution_count": 61,
   "metadata": {},
   "outputs": [],
   "source": [
    "# fill in missing values with mean column values\n",
    "idea_df.fillna(idea_df.mean(), inplace=True)"
   ]
  },
  {
   "cell_type": "code",
   "execution_count": 62,
   "metadata": {},
   "outputs": [
    {
     "name": "stdout",
     "output_type": "stream",
     "text": [
      "1     0.040000\n",
      "2     0.020000\n",
      "3     0.250000\n",
      "4     0.050000\n",
      "5     0.040000\n",
      "6     0.050000\n",
      "7     0.010000\n",
      "8     0.070000\n",
      "9     0.000000\n",
      "10    0.010000\n",
      "11    0.060000\n",
      "12    0.010000\n",
      "13    0.040000\n",
      "14    0.010000\n",
      "15    0.000000\n",
      "16    0.030000\n",
      "17    0.000000\n",
      "18    0.010000\n",
      "19    0.060000\n",
      "20    0.010000\n",
      "21    0.140000\n",
      "22    0.090000\n",
      "23    0.040811\n",
      "24    0.050000\n",
      "25    0.090000\n",
      "Name: InvalidVotes(%), dtype: float64\n"
     ]
    }
   ],
   "source": [
    "print(idea_df['InvalidVotes(%)'].head(25))"
   ]
  },
  {
   "cell_type": "code",
   "execution_count": 63,
   "metadata": {},
   "outputs": [
    {
     "name": "stdout",
     "output_type": "stream",
     "text": [
      "(198, 11)\n"
     ]
    }
   ],
   "source": [
    "# this shows how many rows and columns the data frame has - as the values were imputed the number of rows is still the same\n",
    "print(idea_df.shape)"
   ]
  },
  {
   "cell_type": "markdown",
   "metadata": {},
   "source": [
    "<i>LegislativeSizeVotingMembers</i> was missing one instance, therefore I considered it safe to remove that row."
   ]
  },
  {
   "cell_type": "code",
   "execution_count": 64,
   "metadata": {},
   "outputs": [
    {
     "name": "stdout",
     "output_type": "stream",
     "text": [
      "Percentage of LegislativeSizeVotingMembers missing: 0.5050505050505051 %\n"
     ]
    }
   ],
   "source": [
    "#this calculates the percentage of the missing values for LegislativeSizeVotingMembers\n",
    "idea_df['LegislativeSizeVotingMembers'] = idea_df['LegislativeSizeVotingMembers'].mask(idea_df['LegislativeSizeVotingMembers'] < 0, np.NaN)\n",
    "per_leg_mem_missing = (idea_df['LegislativeSizeVotingMembers'].isnull().sum() / idea_df.shape[0]) * 100\n",
    "print('Percentage of LegislativeSizeVotingMembers missing:', per_leg_mem_missing, '%')"
   ]
  },
  {
   "cell_type": "code",
   "execution_count": 65,
   "metadata": {},
   "outputs": [],
   "source": [
    "# drop the missing values\n",
    "idea_df.dropna(inplace=True)"
   ]
  },
  {
   "cell_type": "code",
   "execution_count": 66,
   "metadata": {},
   "outputs": [
    {
     "name": "stdout",
     "output_type": "stream",
     "text": [
      "(197, 11)\n"
     ]
    }
   ],
   "source": [
    "# this shows how many rows and columns the data frame has - now the rows have reduced by 1\n",
    "print(idea_df.shape)"
   ]
  },
  {
   "cell_type": "markdown",
   "metadata": {},
   "source": [
    "During review of the data in Excel I noticed that some of the values in the VotingAgePopulationTurnout column exceeded 100%. As I am not a domain expert on this particular metric, I decided that it was safest to remove any rows exceeding 100%, of which there were 6."
   ]
  },
  {
   "cell_type": "code",
   "execution_count": 67,
   "metadata": {},
   "outputs": [
    {
     "name": "stdout",
     "output_type": "stream",
     "text": [
      "Percentage of VotingAgePopulationTurnout(%) greater than 100% 3.0456852791878175 %\n"
     ]
    }
   ],
   "source": [
    "#this calculates the percentage of the outliers for InvalidVotes\n",
    "idea_df['VotingAgePopulationTurnout(%)'] = idea_df['VotingAgePopulationTurnout(%)']. mask(idea_df['VotingAgePopulationTurnout(%)'] > 1, np.NaN)\n",
    "per_vap_turnout_too_high = (idea_df['VotingAgePopulationTurnout(%)'].isnull().sum() / idea_df.shape[0]) * 100\n",
    "print('Percentage of VotingAgePopulationTurnout(%) greater than 100%', per_vap_turnout_too_high, \"%\")"
   ]
  },
  {
   "cell_type": "code",
   "execution_count": 68,
   "metadata": {},
   "outputs": [],
   "source": [
    "# drop the outlier values\n",
    "idea_df.dropna(inplace=True)"
   ]
  },
  {
   "cell_type": "code",
   "execution_count": 69,
   "metadata": {},
   "outputs": [
    {
     "name": "stdout",
     "output_type": "stream",
     "text": [
      "(191, 11)\n"
     ]
    }
   ],
   "source": [
    "# this shows how many rows and columns the data frame has - now the rows have reduced by 6\n",
    "print(idea_df.shape)"
   ]
  },
  {
   "cell_type": "markdown",
   "metadata": {},
   "source": [
    "I transformed the numeric VoterTurnout% to a categorical VoterTurnoutCategory with values low medium and high. This was based on feedback to my proposal that predicting a categorical variable would be well-suited to my chosen predictive models.\n",
    "\n",
    "As <i>VoterTurnout(%)</i> is not uniformly  distributed, I calculated the quantiles for my own information and then used the qcut function to split the groups to make them as close to equal size as possible. "
   ]
  },
  {
   "cell_type": "code",
   "execution_count": 70,
   "metadata": {},
   "outputs": [
    {
     "name": "stdout",
     "output_type": "stream",
     "text": [
      "0.333333    0.573333\n",
      "0.666667    0.730000\n",
      "Name: VoterTurnout(%), dtype: float64\n"
     ]
    }
   ],
   "source": [
    "# this prints the quantile values\n",
    "print(idea_df['VoterTurnout(%)'].quantile([1./3, 2./3]))"
   ]
  },
  {
   "cell_type": "code",
   "execution_count": 71,
   "metadata": {},
   "outputs": [
    {
     "name": "stdout",
     "output_type": "stream",
     "text": [
      "1         Low\n",
      "2         Low\n",
      "3         Low\n",
      "4      Medium\n",
      "5        High\n",
      "        ...  \n",
      "194      High\n",
      "195    Medium\n",
      "196      High\n",
      "197       Low\n",
      "198      High\n",
      "Name: VoterTurnoutCategory, Length: 191, dtype: category\n",
      "Categories (3, object): [Low < Medium < High]\n"
     ]
    }
   ],
   "source": [
    "# this splits the groups into categories aligned with the quantile values\n",
    "idea_df['VoterTurnoutCategory'] = pd.qcut(idea_df['VoterTurnout(%)'], q=3, labels=['Low', 'Medium', 'High'])\n",
    "print(idea_df['VoterTurnoutCategory'])"
   ]
  },
  {
   "cell_type": "markdown",
   "metadata": {},
   "source": [
    "I then dropped the country column as it was not needed for subsequent analysis and would be a potential source of bias in my own analysis and exported the cleaned data into a new CSV."
   ]
  },
  {
   "cell_type": "code",
   "execution_count": 72,
   "metadata": {},
   "outputs": [],
   "source": [
    "# this removes the country name column which is not required for the purposes of the mini project\n",
    "idea_df.drop('Country', axis=1, inplace=True)"
   ]
  },
  {
   "cell_type": "code",
   "execution_count": 73,
   "metadata": {},
   "outputs": [],
   "source": [
    "# this saves the cleaned file to CSV removing the empty index row\n",
    "idea_df.to_csv('idea_df_cln.csv', index=False)"
   ]
  },
  {
   "cell_type": "markdown",
   "metadata": {},
   "source": [
    "## 2. Exploratory Questions"
   ]
  },
  {
   "cell_type": "code",
   "execution_count": 74,
   "metadata": {},
   "outputs": [],
   "source": [
    "import scipy.stats as sps\n",
    "\n",
    "# this imports the statistics functions needed for the tests"
   ]
  },
  {
   "cell_type": "markdown",
   "metadata": {},
   "source": [
    "I loaded the CSV file with cleaned data and confirmed that the data was as expected. I then performed the tests to answer the exploratory questions."
   ]
  },
  {
   "cell_type": "code",
   "execution_count": 75,
   "metadata": {},
   "outputs": [
    {
     "data": {
      "text/html": [
       "<div>\n",
       "<style scoped>\n",
       "    .dataframe tbody tr th:only-of-type {\n",
       "        vertical-align: middle;\n",
       "    }\n",
       "\n",
       "    .dataframe tbody tr th {\n",
       "        vertical-align: top;\n",
       "    }\n",
       "\n",
       "    .dataframe thead th {\n",
       "        text-align: right;\n",
       "    }\n",
       "</style>\n",
       "<table border=\"1\" class=\"dataframe\">\n",
       "  <thead>\n",
       "    <tr style=\"text-align: right;\">\n",
       "      <th></th>\n",
       "      <th>VoterTurnout(%)</th>\n",
       "      <th>TotalVote</th>\n",
       "      <th>Registration</th>\n",
       "      <th>VotingAgePopulationTurnout(%)</th>\n",
       "      <th>VotingAgePopulation</th>\n",
       "      <th>Population</th>\n",
       "      <th>InvalidVotes(%)</th>\n",
       "      <th>CompulsoryVoting</th>\n",
       "      <th>ElectoralSystemFamily</th>\n",
       "      <th>LegislativeSizeVotingMembers</th>\n",
       "      <th>VoterTurnoutCategory</th>\n",
       "    </tr>\n",
       "  </thead>\n",
       "  <tbody>\n",
       "    <tr>\n",
       "      <th>1</th>\n",
       "      <td>0.45</td>\n",
       "      <td>4000000.0</td>\n",
       "      <td>8843151.0</td>\n",
       "      <td>0.22</td>\n",
       "      <td>18340292.0</td>\n",
       "      <td>34940837.0</td>\n",
       "      <td>0.04</td>\n",
       "      <td>No</td>\n",
       "      <td>Other</td>\n",
       "      <td>250.0</td>\n",
       "      <td>Low</td>\n",
       "    </tr>\n",
       "    <tr>\n",
       "      <th>2</th>\n",
       "      <td>0.47</td>\n",
       "      <td>1614479.0</td>\n",
       "      <td>3452324.0</td>\n",
       "      <td>0.69</td>\n",
       "      <td>2356975.0</td>\n",
       "      <td>3047987.0</td>\n",
       "      <td>0.02</td>\n",
       "      <td>No</td>\n",
       "      <td>PR</td>\n",
       "      <td>140.0</td>\n",
       "      <td>Low</td>\n",
       "    </tr>\n",
       "    <tr>\n",
       "      <th>3</th>\n",
       "      <td>0.37</td>\n",
       "      <td>8624199.0</td>\n",
       "      <td>23251503.0</td>\n",
       "      <td>0.32</td>\n",
       "      <td>27248442.0</td>\n",
       "      <td>40969443.0</td>\n",
       "      <td>0.25</td>\n",
       "      <td>No</td>\n",
       "      <td>PR</td>\n",
       "      <td>462.0</td>\n",
       "      <td>Low</td>\n",
       "    </tr>\n",
       "    <tr>\n",
       "      <th>4</th>\n",
       "      <td>0.68</td>\n",
       "      <td>18638.0</td>\n",
       "      <td>27278.0</td>\n",
       "      <td>0.26</td>\n",
       "      <td>71161.0</td>\n",
       "      <td>85684.0</td>\n",
       "      <td>0.05</td>\n",
       "      <td>No</td>\n",
       "      <td>Mixed</td>\n",
       "      <td>28.0</td>\n",
       "      <td>Medium</td>\n",
       "    </tr>\n",
       "    <tr>\n",
       "      <th>5</th>\n",
       "      <td>0.76</td>\n",
       "      <td>7093002.0</td>\n",
       "      <td>9317294.0</td>\n",
       "      <td>0.53</td>\n",
       "      <td>13366186.0</td>\n",
       "      <td>29310273.0</td>\n",
       "      <td>0.04</td>\n",
       "      <td>No</td>\n",
       "      <td>PR</td>\n",
       "      <td>220.0</td>\n",
       "      <td>High</td>\n",
       "    </tr>\n",
       "    <tr>\n",
       "      <th>6</th>\n",
       "      <td>0.61</td>\n",
       "      <td>7293.0</td>\n",
       "      <td>11951.0</td>\n",
       "      <td>0.54</td>\n",
       "      <td>13422.0</td>\n",
       "      <td>18090.0</td>\n",
       "      <td>0.05</td>\n",
       "      <td>No</td>\n",
       "      <td>Plurality/Majority</td>\n",
       "      <td>13.0</td>\n",
       "      <td>Medium</td>\n",
       "    </tr>\n",
       "    <tr>\n",
       "      <th>7</th>\n",
       "      <td>0.90</td>\n",
       "      <td>43077.0</td>\n",
       "      <td>47721.0</td>\n",
       "      <td>0.70</td>\n",
       "      <td>61571.0</td>\n",
       "      <td>91295.0</td>\n",
       "      <td>0.01</td>\n",
       "      <td>No</td>\n",
       "      <td>Plurality/Majority</td>\n",
       "      <td>17.0</td>\n",
       "      <td>High</td>\n",
       "    </tr>\n",
       "    <tr>\n",
       "      <th>8</th>\n",
       "      <td>0.81</td>\n",
       "      <td>27698054.0</td>\n",
       "      <td>34218538.0</td>\n",
       "      <td>0.83</td>\n",
       "      <td>33442549.0</td>\n",
       "      <td>45089492.0</td>\n",
       "      <td>0.07</td>\n",
       "      <td>Yes</td>\n",
       "      <td>PR</td>\n",
       "      <td>257.0</td>\n",
       "      <td>High</td>\n",
       "    </tr>\n",
       "    <tr>\n",
       "      <th>9</th>\n",
       "      <td>0.49</td>\n",
       "      <td>1261105.0</td>\n",
       "      <td>2593140.0</td>\n",
       "      <td>0.53</td>\n",
       "      <td>2362422.0</td>\n",
       "      <td>3038217.0</td>\n",
       "      <td>0.00</td>\n",
       "      <td>No</td>\n",
       "      <td>PR</td>\n",
       "      <td>132.0</td>\n",
       "      <td>Low</td>\n",
       "    </tr>\n",
       "    <tr>\n",
       "      <th>10</th>\n",
       "      <td>0.84</td>\n",
       "      <td>59403.0</td>\n",
       "      <td>70750.0</td>\n",
       "      <td>0.65</td>\n",
       "      <td>90840.0</td>\n",
       "      <td>115120.0</td>\n",
       "      <td>0.01</td>\n",
       "      <td>No</td>\n",
       "      <td>PR</td>\n",
       "      <td>21.0</td>\n",
       "      <td>High</td>\n",
       "    </tr>\n",
       "    <tr>\n",
       "      <th>11</th>\n",
       "      <td>0.92</td>\n",
       "      <td>15088616.0</td>\n",
       "      <td>16419543.0</td>\n",
       "      <td>0.81</td>\n",
       "      <td>18675465.0</td>\n",
       "      <td>23705630.0</td>\n",
       "      <td>0.06</td>\n",
       "      <td>Yes</td>\n",
       "      <td>Plurality/Majority</td>\n",
       "      <td>151.0</td>\n",
       "      <td>High</td>\n",
       "    </tr>\n",
       "    <tr>\n",
       "      <th>12</th>\n",
       "      <td>0.76</td>\n",
       "      <td>4835469.0</td>\n",
       "      <td>6396812.0</td>\n",
       "      <td>0.64</td>\n",
       "      <td>7508169.0</td>\n",
       "      <td>8828456.0</td>\n",
       "      <td>0.01</td>\n",
       "      <td>No</td>\n",
       "      <td>PR</td>\n",
       "      <td>183.0</td>\n",
       "      <td>High</td>\n",
       "    </tr>\n",
       "    <tr>\n",
       "      <th>13</th>\n",
       "      <td>0.47</td>\n",
       "      <td>2510135.0</td>\n",
       "      <td>5359015.0</td>\n",
       "      <td>0.34</td>\n",
       "      <td>7475615.0</td>\n",
       "      <td>10205810.0</td>\n",
       "      <td>0.04</td>\n",
       "      <td>No</td>\n",
       "      <td>Plurality/Majority</td>\n",
       "      <td>125.0</td>\n",
       "      <td>Low</td>\n",
       "    </tr>\n",
       "    <tr>\n",
       "      <th>14</th>\n",
       "      <td>0.87</td>\n",
       "      <td>159910.0</td>\n",
       "      <td>184000.0</td>\n",
       "      <td>0.67</td>\n",
       "      <td>240360.0</td>\n",
       "      <td>329988.0</td>\n",
       "      <td>0.01</td>\n",
       "      <td>No</td>\n",
       "      <td>Plurality/Majority</td>\n",
       "      <td>39.0</td>\n",
       "      <td>High</td>\n",
       "    </tr>\n",
       "    <tr>\n",
       "      <th>15</th>\n",
       "      <td>0.67</td>\n",
       "      <td>237550.0</td>\n",
       "      <td>365467.0</td>\n",
       "      <td>0.22</td>\n",
       "      <td>1070950.0</td>\n",
       "      <td>1442659.0</td>\n",
       "      <td>0.00</td>\n",
       "      <td>No</td>\n",
       "      <td>Plurality/Majority</td>\n",
       "      <td>40.0</td>\n",
       "      <td>Medium</td>\n",
       "    </tr>\n",
       "  </tbody>\n",
       "</table>\n",
       "</div>"
      ],
      "text/plain": [
       "    VoterTurnout(%)   TotalVote  Registration  VotingAgePopulationTurnout(%)  \\\n",
       "1              0.45   4000000.0     8843151.0                           0.22   \n",
       "2              0.47   1614479.0     3452324.0                           0.69   \n",
       "3              0.37   8624199.0    23251503.0                           0.32   \n",
       "4              0.68     18638.0       27278.0                           0.26   \n",
       "5              0.76   7093002.0     9317294.0                           0.53   \n",
       "6              0.61      7293.0       11951.0                           0.54   \n",
       "7              0.90     43077.0       47721.0                           0.70   \n",
       "8              0.81  27698054.0    34218538.0                           0.83   \n",
       "9              0.49   1261105.0     2593140.0                           0.53   \n",
       "10             0.84     59403.0       70750.0                           0.65   \n",
       "11             0.92  15088616.0    16419543.0                           0.81   \n",
       "12             0.76   4835469.0     6396812.0                           0.64   \n",
       "13             0.47   2510135.0     5359015.0                           0.34   \n",
       "14             0.87    159910.0      184000.0                           0.67   \n",
       "15             0.67    237550.0      365467.0                           0.22   \n",
       "\n",
       "    VotingAgePopulation  Population  InvalidVotes(%) CompulsoryVoting  \\\n",
       "1            18340292.0  34940837.0             0.04               No   \n",
       "2             2356975.0   3047987.0             0.02               No   \n",
       "3            27248442.0  40969443.0             0.25               No   \n",
       "4               71161.0     85684.0             0.05               No   \n",
       "5            13366186.0  29310273.0             0.04               No   \n",
       "6               13422.0     18090.0             0.05               No   \n",
       "7               61571.0     91295.0             0.01               No   \n",
       "8            33442549.0  45089492.0             0.07              Yes   \n",
       "9             2362422.0   3038217.0             0.00               No   \n",
       "10              90840.0    115120.0             0.01               No   \n",
       "11           18675465.0  23705630.0             0.06              Yes   \n",
       "12            7508169.0   8828456.0             0.01               No   \n",
       "13            7475615.0  10205810.0             0.04               No   \n",
       "14             240360.0    329988.0             0.01               No   \n",
       "15            1070950.0   1442659.0             0.00               No   \n",
       "\n",
       "   ElectoralSystemFamily  LegislativeSizeVotingMembers VoterTurnoutCategory  \n",
       "1                  Other                         250.0                  Low  \n",
       "2                     PR                         140.0                  Low  \n",
       "3                     PR                         462.0                  Low  \n",
       "4                  Mixed                          28.0               Medium  \n",
       "5                     PR                         220.0                 High  \n",
       "6     Plurality/Majority                          13.0               Medium  \n",
       "7     Plurality/Majority                          17.0                 High  \n",
       "8                     PR                         257.0                 High  \n",
       "9                     PR                         132.0                  Low  \n",
       "10                    PR                          21.0                 High  \n",
       "11    Plurality/Majority                         151.0                 High  \n",
       "12                    PR                         183.0                 High  \n",
       "13    Plurality/Majority                         125.0                  Low  \n",
       "14    Plurality/Majority                          39.0                 High  \n",
       "15    Plurality/Majority                          40.0               Medium  "
      ]
     },
     "execution_count": 75,
     "metadata": {},
     "output_type": "execute_result"
    }
   ],
   "source": [
    "idea_df_cln = pd.read_csv('idea_df_cln.csv')\n",
    "# This starts the dataframe index at 1\n",
    "idea_df_cln.index = idea_df_cln.index + 1\n",
    "# This prints the first 15 rows of the data frame to check if the information has been loaded correctly from the .csv file\n",
    "idea_df_cln.head(15)\n"
   ]
  },
  {
   "cell_type": "code",
   "execution_count": 76,
   "metadata": {},
   "outputs": [
    {
     "data": {
      "text/plain": [
       "(191, 11)"
      ]
     },
     "execution_count": 76,
     "metadata": {},
     "output_type": "execute_result"
    }
   ],
   "source": [
    "# this shows how many rows and columns the data frame has \n",
    "idea_df_cln.shape"
   ]
  },
  {
   "cell_type": "markdown",
   "metadata": {},
   "source": [
    "### Is voting age population size corellated with turnout in parliamentary elections\n",
    "#### Variables: Voter turnout(%), Voting age population\n",
    "#### Test: Pearson correlation"
   ]
  },
  {
   "cell_type": "code",
   "execution_count": 77,
   "metadata": {},
   "outputs": [
    {
     "name": "stdout",
     "output_type": "stream",
     "text": [
      "r = -0.0075972252578043725\n",
      "p = 0.9169249112016887\n"
     ]
    }
   ],
   "source": [
    "# this calculates and prints the Pearson correlation\n",
    "r, p = sps.pearsonr(idea_df_cln['VoterTurnout(%)'], idea_df_cln['VotingAgePopulation'])\n",
    "print('r = ' + str(r))\n",
    "print('p = ' + str(p))"
   ]
  },
  {
   "cell_type": "markdown",
   "metadata": {},
   "source": [
    "The high p-value means that the voting age population is not correlated with turnout in parliamentary elections."
   ]
  },
  {
   "cell_type": "markdown",
   "metadata": {},
   "source": [
    "### Is the electoral system family related to voter turnout?\n",
    "#### Variables: voter turnout, Electoral system family\n",
    "#### Test: One-way ANOVA"
   ]
  },
  {
   "cell_type": "markdown",
   "metadata": {},
   "source": [
    "I printed the contingency table for these variables for my own information. Although the ANOVA test was performed on <i>VoterTurnout(%)</i>, I used <i>VoterTurnoutCategory</i>  in the contingency table to simplify the information."
   ]
  },
  {
   "cell_type": "code",
   "execution_count": 79,
   "metadata": {},
   "outputs": [
    {
     "data": {
      "text/html": [
       "<div>\n",
       "<style scoped>\n",
       "    .dataframe tbody tr th:only-of-type {\n",
       "        vertical-align: middle;\n",
       "    }\n",
       "\n",
       "    .dataframe tbody tr th {\n",
       "        vertical-align: top;\n",
       "    }\n",
       "\n",
       "    .dataframe thead th {\n",
       "        text-align: right;\n",
       "    }\n",
       "</style>\n",
       "<table border=\"1\" class=\"dataframe\">\n",
       "  <thead>\n",
       "    <tr style=\"text-align: right;\">\n",
       "      <th>ElectoralSystemFamily</th>\n",
       "      <th>Mixed</th>\n",
       "      <th>Other</th>\n",
       "      <th>PR</th>\n",
       "      <th>Plurality/Majority</th>\n",
       "      <th>Plurality/Majority and PR</th>\n",
       "    </tr>\n",
       "    <tr>\n",
       "      <th>VoterTurnoutCategory</th>\n",
       "      <th></th>\n",
       "      <th></th>\n",
       "      <th></th>\n",
       "      <th></th>\n",
       "      <th></th>\n",
       "    </tr>\n",
       "  </thead>\n",
       "  <tbody>\n",
       "    <tr>\n",
       "      <th>High</th>\n",
       "      <td>11</td>\n",
       "      <td>0</td>\n",
       "      <td>27</td>\n",
       "      <td>23</td>\n",
       "      <td>0</td>\n",
       "    </tr>\n",
       "    <tr>\n",
       "      <th>Low</th>\n",
       "      <td>11</td>\n",
       "      <td>2</td>\n",
       "      <td>27</td>\n",
       "      <td>22</td>\n",
       "      <td>2</td>\n",
       "    </tr>\n",
       "    <tr>\n",
       "      <th>Medium</th>\n",
       "      <td>10</td>\n",
       "      <td>1</td>\n",
       "      <td>28</td>\n",
       "      <td>27</td>\n",
       "      <td>0</td>\n",
       "    </tr>\n",
       "  </tbody>\n",
       "</table>\n",
       "</div>"
      ],
      "text/plain": [
       "ElectoralSystemFamily  Mixed  Other  PR  Plurality/Majority  \\\n",
       "VoterTurnoutCategory                                          \n",
       "High                      11      0  27                  23   \n",
       "Low                       11      2  27                  22   \n",
       "Medium                    10      1  28                  27   \n",
       "\n",
       "ElectoralSystemFamily  Plurality/Majority and PR  \n",
       "VoterTurnoutCategory                              \n",
       "High                                           0  \n",
       "Low                                            2  \n",
       "Medium                                         0  "
      ]
     },
     "execution_count": 79,
     "metadata": {},
     "output_type": "execute_result"
    }
   ],
   "source": [
    "# contingency table for ANOVA\n",
    "turnout_electoral_family_tab = pd.crosstab(index=idea_df_cln['VoterTurnoutCategory'], columns=idea_df_cln['ElectoralSystemFamily'])\n",
    "turnout_electoral_family_tab"
   ]
  },
  {
   "cell_type": "markdown",
   "metadata": {},
   "source": [
    "Informally, there is no immediately obvious relationship on visual inspection. \n",
    "\n",
    "I then ran the ANOVA test."
   ]
  },
  {
   "cell_type": "code",
   "execution_count": 81,
   "metadata": {},
   "outputs": [
    {
     "data": {
      "text/plain": [
       "F_onewayResult(statistic=1.1644671552640788, pvalue=0.3279682622598798)"
      ]
     },
     "execution_count": 81,
     "metadata": {},
     "output_type": "execute_result"
    }
   ],
   "source": [
    "# this runs the one-way ANOVA test\n",
    "sps.f_oneway(*(idea_df_cln['VoterTurnout(%)'][idea_df_cln['ElectoralSystemFamily'] == ElectoralSystemFamily] for ElectoralSystemFamily in idea_df_cln['ElectoralSystemFamily'].unique()))\n"
   ]
  },
  {
   "cell_type": "markdown",
   "metadata": {},
   "source": [
    "The p-value is not statistically significant, which means that voter turnout is not related to the electoral system family."
   ]
  },
  {
   "cell_type": "markdown",
   "metadata": {},
   "source": [
    "### Is compulsory voting related to the electoral system family?\n",
    "#### Variables: Compulsory voting, Electoral system family\n",
    "#### Test: Chi squared"
   ]
  },
  {
   "cell_type": "code",
   "execution_count": 83,
   "metadata": {},
   "outputs": [
    {
     "data": {
      "text/html": [
       "<div>\n",
       "<style scoped>\n",
       "    .dataframe tbody tr th:only-of-type {\n",
       "        vertical-align: middle;\n",
       "    }\n",
       "\n",
       "    .dataframe tbody tr th {\n",
       "        vertical-align: top;\n",
       "    }\n",
       "\n",
       "    .dataframe thead th {\n",
       "        text-align: right;\n",
       "    }\n",
       "</style>\n",
       "<table border=\"1\" class=\"dataframe\">\n",
       "  <thead>\n",
       "    <tr style=\"text-align: right;\">\n",
       "      <th>ElectoralSystemFamily</th>\n",
       "      <th>Mixed</th>\n",
       "      <th>Other</th>\n",
       "      <th>PR</th>\n",
       "      <th>Plurality/Majority</th>\n",
       "      <th>Plurality/Majority and PR</th>\n",
       "    </tr>\n",
       "    <tr>\n",
       "      <th>CompulsoryVoting</th>\n",
       "      <th></th>\n",
       "      <th></th>\n",
       "      <th></th>\n",
       "      <th></th>\n",
       "      <th></th>\n",
       "    </tr>\n",
       "  </thead>\n",
       "  <tbody>\n",
       "    <tr>\n",
       "      <th>No</th>\n",
       "      <td>29</td>\n",
       "      <td>3</td>\n",
       "      <td>65</td>\n",
       "      <td>68</td>\n",
       "      <td>1</td>\n",
       "    </tr>\n",
       "    <tr>\n",
       "      <th>Yes</th>\n",
       "      <td>3</td>\n",
       "      <td>0</td>\n",
       "      <td>17</td>\n",
       "      <td>4</td>\n",
       "      <td>1</td>\n",
       "    </tr>\n",
       "  </tbody>\n",
       "</table>\n",
       "</div>"
      ],
      "text/plain": [
       "ElectoralSystemFamily  Mixed  Other  PR  Plurality/Majority  \\\n",
       "CompulsoryVoting                                              \n",
       "No                        29      3  65                  68   \n",
       "Yes                        3      0  17                   4   \n",
       "\n",
       "ElectoralSystemFamily  Plurality/Majority and PR  \n",
       "CompulsoryVoting                                  \n",
       "No                                             1  \n",
       "Yes                                            1  "
      ]
     },
     "execution_count": 83,
     "metadata": {},
     "output_type": "execute_result"
    }
   ],
   "source": [
    "#Contingency table for Chi-squared\n",
    "compulsory_voting_electoral_family_tab = pd.crosstab(index=idea_df_cln['CompulsoryVoting'], columns=idea_df_cln['ElectoralSystemFamily'])\n",
    "compulsory_voting_electoral_family_tab"
   ]
  },
  {
   "cell_type": "markdown",
   "metadata": {},
   "source": [
    "Informally, there looks like there may be a relationship between these variables - compulsory voting seems to be most common under the PR electoral system family.\n",
    "\n",
    "I then ran the Chi-squared test."
   ]
  },
  {
   "cell_type": "code",
   "execution_count": 84,
   "metadata": {},
   "outputs": [
    {
     "name": "stdout",
     "output_type": "stream",
     "text": [
      "chi-squared 11.037578464263557\n",
      "p = 0.026144914697136565\n",
      "degrees of freedom = 4\n",
      "expected value table: \n",
      "[[27.81151832  2.60732984 71.26701571 62.57591623  1.7382199 ]\n",
      " [ 4.18848168  0.39267016 10.73298429  9.42408377  0.2617801 ]]\n"
     ]
    }
   ],
   "source": [
    "# this calculates and prints the chi-squared values\n",
    "chisq, p, dof, evs = sps.chi2_contingency(compulsory_voting_electoral_family_tab)\n",
    "print('chi-squared ' + str(chisq))\n",
    "print('p = ' + str(p))\n",
    "print('degrees of freedom = ' + str(dof))\n",
    "print('expected value table: ')\n",
    "print(evs)"
   ]
  },
  {
   "cell_type": "markdown",
   "metadata": {},
   "source": [
    "The p-value is low and is below the threshold for the 5% significance level, indicating that there is likely a relationship between compulsory voting and the electoral system family."
   ]
  },
  {
   "cell_type": "markdown",
   "metadata": {},
   "source": [
    "# 3. Predictive Models"
   ]
  },
  {
   "cell_type": "markdown",
   "metadata": {},
   "source": [
    "I used Naïve Bayes and Decision Tree models to predict VoterTurnoutVategory based on other features of the dataset. I performed cross-validation and measured accuracy to determine the models' effectiveness."
   ]
  },
  {
   "cell_type": "markdown",
   "metadata": {},
   "source": [
    "## i. Naïve Bayes"
   ]
  },
  {
   "cell_type": "markdown",
   "metadata": {},
   "source": [
    "I only imported numeric variables because the dataset is mostly numeric and sklearn implementation of Naïve Bayes requires either all categorical or all numeric features. I also excluded the numeric columns  <i>VoterTurnout(%)</i> and <i>TotalVote</i> as indicated in my proposal because <i>VoterTurnout(%)</i> is the value we are looking to predict in numeric form while <i>TotalVote</i> divided by <i>Registration</i> also yields this value."
   ]
  },
  {
   "cell_type": "code",
   "execution_count": 85,
   "metadata": {},
   "outputs": [
    {
     "data": {
      "text/html": [
       "<div>\n",
       "<style scoped>\n",
       "    .dataframe tbody tr th:only-of-type {\n",
       "        vertical-align: middle;\n",
       "    }\n",
       "\n",
       "    .dataframe tbody tr th {\n",
       "        vertical-align: top;\n",
       "    }\n",
       "\n",
       "    .dataframe thead th {\n",
       "        text-align: right;\n",
       "    }\n",
       "</style>\n",
       "<table border=\"1\" class=\"dataframe\">\n",
       "  <thead>\n",
       "    <tr style=\"text-align: right;\">\n",
       "      <th></th>\n",
       "      <th>Registration</th>\n",
       "      <th>VotingAgePopulationTurnout(%)</th>\n",
       "      <th>VotingAgePopulation</th>\n",
       "      <th>Population</th>\n",
       "      <th>InvalidVotes(%)</th>\n",
       "      <th>LegislativeSizeVotingMembers</th>\n",
       "      <th>VoterTurnoutCategory</th>\n",
       "    </tr>\n",
       "  </thead>\n",
       "  <tbody>\n",
       "    <tr>\n",
       "      <th>1</th>\n",
       "      <td>8843151.0</td>\n",
       "      <td>0.22</td>\n",
       "      <td>18340292.0</td>\n",
       "      <td>34940837.0</td>\n",
       "      <td>0.04</td>\n",
       "      <td>250.0</td>\n",
       "      <td>Low</td>\n",
       "    </tr>\n",
       "    <tr>\n",
       "      <th>2</th>\n",
       "      <td>3452324.0</td>\n",
       "      <td>0.69</td>\n",
       "      <td>2356975.0</td>\n",
       "      <td>3047987.0</td>\n",
       "      <td>0.02</td>\n",
       "      <td>140.0</td>\n",
       "      <td>Low</td>\n",
       "    </tr>\n",
       "    <tr>\n",
       "      <th>3</th>\n",
       "      <td>23251503.0</td>\n",
       "      <td>0.32</td>\n",
       "      <td>27248442.0</td>\n",
       "      <td>40969443.0</td>\n",
       "      <td>0.25</td>\n",
       "      <td>462.0</td>\n",
       "      <td>Low</td>\n",
       "    </tr>\n",
       "    <tr>\n",
       "      <th>4</th>\n",
       "      <td>27278.0</td>\n",
       "      <td>0.26</td>\n",
       "      <td>71161.0</td>\n",
       "      <td>85684.0</td>\n",
       "      <td>0.05</td>\n",
       "      <td>28.0</td>\n",
       "      <td>Medium</td>\n",
       "    </tr>\n",
       "    <tr>\n",
       "      <th>5</th>\n",
       "      <td>9317294.0</td>\n",
       "      <td>0.53</td>\n",
       "      <td>13366186.0</td>\n",
       "      <td>29310273.0</td>\n",
       "      <td>0.04</td>\n",
       "      <td>220.0</td>\n",
       "      <td>High</td>\n",
       "    </tr>\n",
       "    <tr>\n",
       "      <th>6</th>\n",
       "      <td>11951.0</td>\n",
       "      <td>0.54</td>\n",
       "      <td>13422.0</td>\n",
       "      <td>18090.0</td>\n",
       "      <td>0.05</td>\n",
       "      <td>13.0</td>\n",
       "      <td>Medium</td>\n",
       "    </tr>\n",
       "    <tr>\n",
       "      <th>7</th>\n",
       "      <td>47721.0</td>\n",
       "      <td>0.70</td>\n",
       "      <td>61571.0</td>\n",
       "      <td>91295.0</td>\n",
       "      <td>0.01</td>\n",
       "      <td>17.0</td>\n",
       "      <td>High</td>\n",
       "    </tr>\n",
       "    <tr>\n",
       "      <th>8</th>\n",
       "      <td>34218538.0</td>\n",
       "      <td>0.83</td>\n",
       "      <td>33442549.0</td>\n",
       "      <td>45089492.0</td>\n",
       "      <td>0.07</td>\n",
       "      <td>257.0</td>\n",
       "      <td>High</td>\n",
       "    </tr>\n",
       "    <tr>\n",
       "      <th>9</th>\n",
       "      <td>2593140.0</td>\n",
       "      <td>0.53</td>\n",
       "      <td>2362422.0</td>\n",
       "      <td>3038217.0</td>\n",
       "      <td>0.00</td>\n",
       "      <td>132.0</td>\n",
       "      <td>Low</td>\n",
       "    </tr>\n",
       "    <tr>\n",
       "      <th>10</th>\n",
       "      <td>70750.0</td>\n",
       "      <td>0.65</td>\n",
       "      <td>90840.0</td>\n",
       "      <td>115120.0</td>\n",
       "      <td>0.01</td>\n",
       "      <td>21.0</td>\n",
       "      <td>High</td>\n",
       "    </tr>\n",
       "  </tbody>\n",
       "</table>\n",
       "</div>"
      ],
      "text/plain": [
       "    Registration  VotingAgePopulationTurnout(%)  VotingAgePopulation  \\\n",
       "1      8843151.0                           0.22           18340292.0   \n",
       "2      3452324.0                           0.69            2356975.0   \n",
       "3     23251503.0                           0.32           27248442.0   \n",
       "4        27278.0                           0.26              71161.0   \n",
       "5      9317294.0                           0.53           13366186.0   \n",
       "6        11951.0                           0.54              13422.0   \n",
       "7        47721.0                           0.70              61571.0   \n",
       "8     34218538.0                           0.83           33442549.0   \n",
       "9      2593140.0                           0.53            2362422.0   \n",
       "10       70750.0                           0.65              90840.0   \n",
       "\n",
       "    Population  InvalidVotes(%)  LegislativeSizeVotingMembers  \\\n",
       "1   34940837.0             0.04                         250.0   \n",
       "2    3047987.0             0.02                         140.0   \n",
       "3   40969443.0             0.25                         462.0   \n",
       "4      85684.0             0.05                          28.0   \n",
       "5   29310273.0             0.04                         220.0   \n",
       "6      18090.0             0.05                          13.0   \n",
       "7      91295.0             0.01                          17.0   \n",
       "8   45089492.0             0.07                         257.0   \n",
       "9    3038217.0             0.00                         132.0   \n",
       "10    115120.0             0.01                          21.0   \n",
       "\n",
       "   VoterTurnoutCategory  \n",
       "1                   Low  \n",
       "2                   Low  \n",
       "3                   Low  \n",
       "4                Medium  \n",
       "5                  High  \n",
       "6                Medium  \n",
       "7                  High  \n",
       "8                  High  \n",
       "9                   Low  \n",
       "10                 High  "
      ]
     },
     "execution_count": 85,
     "metadata": {},
     "output_type": "execute_result"
    }
   ],
   "source": [
    "# this imports only the required data\n",
    "nb_data = ['Registration', 'VotingAgePopulationTurnout(%)','VotingAgePopulation', 'Population', 'InvalidVotes(%)', 'LegislativeSizeVotingMembers', 'VoterTurnoutCategory']\n",
    "voting_turnout_nb = pd.read_csv('idea_df_cln.csv', usecols=nb_data)\n",
    "# This starts the dataframe index at 1\n",
    "voting_turnout_nb.index = voting_turnout_nb.index + 1\n",
    "# This prints the first 15 rows of the data frame to check if the information has been loaded correctly from the .csv file\n",
    "voting_turnout_nb.head(10)"
   ]
  },
  {
   "cell_type": "markdown",
   "metadata": {},
   "source": [
    "I chose Gaussian Naïve Bayes over other options as some of the numeric distributions resembled Gaussian distributions, so it seemed like the best fit. \n",
    "\n",
    "I imported GaussianNB, a class from the sklearn package to implement the model training. "
   ]
  },
  {
   "cell_type": "code",
   "execution_count": 86,
   "metadata": {},
   "outputs": [],
   "source": [
    "from sklearn.naive_bayes import GaussianNB\n",
    "from sklearn.model_selection import train_test_split\n",
    "gnb = GaussianNB()"
   ]
  },
  {
   "cell_type": "markdown",
   "metadata": {},
   "source": [
    "I used the test_train_split function to split the data into a training set and the test set, and also separated the predictor and target attributes."
   ]
  },
  {
   "cell_type": "code",
   "execution_count": 88,
   "metadata": {},
   "outputs": [
    {
     "data": {
      "text/html": [
       "<div>\n",
       "<style scoped>\n",
       "    .dataframe tbody tr th:only-of-type {\n",
       "        vertical-align: middle;\n",
       "    }\n",
       "\n",
       "    .dataframe tbody tr th {\n",
       "        vertical-align: top;\n",
       "    }\n",
       "\n",
       "    .dataframe thead th {\n",
       "        text-align: right;\n",
       "    }\n",
       "</style>\n",
       "<table border=\"1\" class=\"dataframe\">\n",
       "  <thead>\n",
       "    <tr style=\"text-align: right;\">\n",
       "      <th></th>\n",
       "      <th>Registration</th>\n",
       "      <th>VotingAgePopulationTurnout(%)</th>\n",
       "      <th>VotingAgePopulation</th>\n",
       "      <th>Population</th>\n",
       "      <th>InvalidVotes(%)</th>\n",
       "      <th>LegislativeSizeVotingMembers</th>\n",
       "    </tr>\n",
       "  </thead>\n",
       "  <tbody>\n",
       "    <tr>\n",
       "      <th>17</th>\n",
       "      <td>255833.0</td>\n",
       "      <td>0.67</td>\n",
       "      <td>230005.0</td>\n",
       "      <td>293131.0</td>\n",
       "      <td>0.000000</td>\n",
       "      <td>30.0</td>\n",
       "    </tr>\n",
       "    <tr>\n",
       "      <th>14</th>\n",
       "      <td>184000.0</td>\n",
       "      <td>0.67</td>\n",
       "      <td>240360.0</td>\n",
       "      <td>329988.0</td>\n",
       "      <td>0.010000</td>\n",
       "      <td>39.0</td>\n",
       "    </tr>\n",
       "    <tr>\n",
       "      <th>178</th>\n",
       "      <td>3291312.0</td>\n",
       "      <td>0.80</td>\n",
       "      <td>3756802.0</td>\n",
       "      <td>5411012.0</td>\n",
       "      <td>0.040811</td>\n",
       "      <td>125.0</td>\n",
       "    </tr>\n",
       "    <tr>\n",
       "      <th>155</th>\n",
       "      <td>2651435.0</td>\n",
       "      <td>0.51</td>\n",
       "      <td>4945158.0</td>\n",
       "      <td>6209660.0</td>\n",
       "      <td>0.020000</td>\n",
       "      <td>104.0</td>\n",
       "    </tr>\n",
       "    <tr>\n",
       "      <th>177</th>\n",
       "      <td>59367469.0</td>\n",
       "      <td>0.89</td>\n",
       "      <td>57547968.0</td>\n",
       "      <td>81257239.0</td>\n",
       "      <td>0.020000</td>\n",
       "      <td>600.0</td>\n",
       "    </tr>\n",
       "    <tr>\n",
       "      <th>162</th>\n",
       "      <td>1341671.0</td>\n",
       "      <td>0.58</td>\n",
       "      <td>1808337.0</td>\n",
       "      <td>3761904.0</td>\n",
       "      <td>0.050000</td>\n",
       "      <td>132.0</td>\n",
       "    </tr>\n",
       "    <tr>\n",
       "      <th>38</th>\n",
       "      <td>14347288.0</td>\n",
       "      <td>0.50</td>\n",
       "      <td>13472122.0</td>\n",
       "      <td>17789267.0</td>\n",
       "      <td>0.100000</td>\n",
       "      <td>155.0</td>\n",
       "    </tr>\n",
       "    <tr>\n",
       "      <th>4</th>\n",
       "      <td>27278.0</td>\n",
       "      <td>0.26</td>\n",
       "      <td>71161.0</td>\n",
       "      <td>85684.0</td>\n",
       "      <td>0.050000</td>\n",
       "      <td>28.0</td>\n",
       "    </tr>\n",
       "    <tr>\n",
       "      <th>145</th>\n",
       "      <td>48173.0</td>\n",
       "      <td>0.69</td>\n",
       "      <td>41095.0</td>\n",
       "      <td>53821.0</td>\n",
       "      <td>0.010000</td>\n",
       "      <td>15.0</td>\n",
       "    </tr>\n",
       "    <tr>\n",
       "      <th>36</th>\n",
       "      <td>1225300.0</td>\n",
       "      <td>0.27</td>\n",
       "      <td>2005942.0</td>\n",
       "      <td>4950027.0</td>\n",
       "      <td>0.050000</td>\n",
       "      <td>131.0</td>\n",
       "    </tr>\n",
       "  </tbody>\n",
       "</table>\n",
       "</div>"
      ],
      "text/plain": [
       "     Registration  VotingAgePopulationTurnout(%)  VotingAgePopulation  \\\n",
       "17       255833.0                           0.67             230005.0   \n",
       "14       184000.0                           0.67             240360.0   \n",
       "178     3291312.0                           0.80            3756802.0   \n",
       "155     2651435.0                           0.51            4945158.0   \n",
       "177    59367469.0                           0.89           57547968.0   \n",
       "162     1341671.0                           0.58            1808337.0   \n",
       "38     14347288.0                           0.50           13472122.0   \n",
       "4         27278.0                           0.26              71161.0   \n",
       "145       48173.0                           0.69              41095.0   \n",
       "36      1225300.0                           0.27            2005942.0   \n",
       "\n",
       "     Population  InvalidVotes(%)  LegislativeSizeVotingMembers  \n",
       "17     293131.0         0.000000                          30.0  \n",
       "14     329988.0         0.010000                          39.0  \n",
       "178   5411012.0         0.040811                         125.0  \n",
       "155   6209660.0         0.020000                         104.0  \n",
       "177  81257239.0         0.020000                         600.0  \n",
       "162   3761904.0         0.050000                         132.0  \n",
       "38   17789267.0         0.100000                         155.0  \n",
       "4       85684.0         0.050000                          28.0  \n",
       "145     53821.0         0.010000                          15.0  \n",
       "36    4950027.0         0.050000                         131.0  "
      ]
     },
     "execution_count": 88,
     "metadata": {},
     "output_type": "execute_result"
    }
   ],
   "source": [
    "vt_nb_X_train, vt_nb_X_test, vt_nb_y_train, vt_nb_y_test = train_test_split(voting_turnout_nb.iloc[:,:-1], voting_turnout_nb['VoterTurnoutCategory'], test_size=0.5)\n",
    "vt_nb_X_train.head(10)"
   ]
  },
  {
   "cell_type": "markdown",
   "metadata": {},
   "source": [
    "I trained the model."
   ]
  },
  {
   "cell_type": "code",
   "execution_count": 89,
   "metadata": {},
   "outputs": [
    {
     "data": {
      "text/plain": [
       "GaussianNB()"
      ]
     },
     "execution_count": 89,
     "metadata": {},
     "output_type": "execute_result"
    }
   ],
   "source": [
    "gnb.fit(vt_nb_X_train, vt_nb_y_train)"
   ]
  },
  {
   "cell_type": "markdown",
   "metadata": {},
   "source": [
    "I reviewed the predictions on the test set."
   ]
  },
  {
   "cell_type": "code",
   "execution_count": 91,
   "metadata": {},
   "outputs": [
    {
     "data": {
      "text/plain": [
       "array(['Medium', 'Medium', 'High', 'Medium', 'Medium', 'Medium', 'Medium',\n",
       "       'Medium', 'Medium', 'Low', 'Medium', 'High', 'Medium', 'High',\n",
       "       'High', 'Medium', 'Medium', 'Medium', 'Medium', 'Medium', 'Medium',\n",
       "       'Medium', 'Medium', 'Medium', 'Medium', 'Medium', 'Medium', 'High',\n",
       "       'Medium', 'Medium', 'Medium', 'High', 'Medium', 'Medium', 'Medium',\n",
       "       'Medium', 'Medium', 'Medium', 'Medium', 'Medium', 'Medium',\n",
       "       'Medium', 'Medium', 'Medium', 'Medium', 'High', 'Medium', 'Medium',\n",
       "       'High', 'Medium', 'High', 'Medium', 'Medium', 'Medium', 'Medium',\n",
       "       'Medium', 'Low', 'Medium', 'Medium', 'High', 'High', 'Medium',\n",
       "       'Low', 'Medium', 'Medium', 'Medium', 'Medium', 'Medium', 'Medium',\n",
       "       'Medium', 'Medium', 'Medium', 'Medium', 'Medium', 'Medium', 'High',\n",
       "       'Medium', 'Medium', 'Medium', 'Medium', 'Medium', 'Low', 'Low',\n",
       "       'Medium', 'Medium', 'Medium', 'Low', 'Medium', 'High', 'High',\n",
       "       'Medium', 'Medium', 'Medium', 'Medium', 'High', 'Low'], dtype='<U6')"
      ]
     },
     "execution_count": 91,
     "metadata": {},
     "output_type": "execute_result"
    }
   ],
   "source": [
    "vt_nb_pred = gnb.predict(vt_nb_X_test)\n",
    "vt_nb_pred"
   ]
  },
  {
   "cell_type": "markdown",
   "metadata": {},
   "source": [
    "I checked the accuracy of the model on the test set and printed the confusion matrix."
   ]
  },
  {
   "cell_type": "code",
   "execution_count": 92,
   "metadata": {},
   "outputs": [
    {
     "data": {
      "text/plain": [
       "0.3229166666666667"
      ]
     },
     "execution_count": 92,
     "metadata": {},
     "output_type": "execute_result"
    }
   ],
   "source": [
    "vt_nb_accuracy = len(vt_nb_y_test[vt_nb_y_test == vt_nb_pred])/len(vt_nb_pred)\n",
    "vt_nb_accuracy"
   ]
  },
  {
   "cell_type": "code",
   "execution_count": 94,
   "metadata": {},
   "outputs": [
    {
     "data": {
      "text/html": [
       "<div>\n",
       "<style scoped>\n",
       "    .dataframe tbody tr th:only-of-type {\n",
       "        vertical-align: middle;\n",
       "    }\n",
       "\n",
       "    .dataframe tbody tr th {\n",
       "        vertical-align: top;\n",
       "    }\n",
       "\n",
       "    .dataframe thead th {\n",
       "        text-align: right;\n",
       "    }\n",
       "</style>\n",
       "<table border=\"1\" class=\"dataframe\">\n",
       "  <thead>\n",
       "    <tr style=\"text-align: right;\">\n",
       "      <th>Predicted</th>\n",
       "      <th>High</th>\n",
       "      <th>Low</th>\n",
       "      <th>Medium</th>\n",
       "    </tr>\n",
       "    <tr>\n",
       "      <th>Actual</th>\n",
       "      <th></th>\n",
       "      <th></th>\n",
       "      <th></th>\n",
       "    </tr>\n",
       "  </thead>\n",
       "  <tbody>\n",
       "    <tr>\n",
       "      <th>High</th>\n",
       "      <td>3</td>\n",
       "      <td>2</td>\n",
       "      <td>20</td>\n",
       "    </tr>\n",
       "    <tr>\n",
       "      <th>Low</th>\n",
       "      <td>4</td>\n",
       "      <td>3</td>\n",
       "      <td>29</td>\n",
       "    </tr>\n",
       "    <tr>\n",
       "      <th>Medium</th>\n",
       "      <td>8</td>\n",
       "      <td>2</td>\n",
       "      <td>25</td>\n",
       "    </tr>\n",
       "  </tbody>\n",
       "</table>\n",
       "</div>"
      ],
      "text/plain": [
       "Predicted  High  Low  Medium\n",
       "Actual                      \n",
       "High          3    2      20\n",
       "Low           4    3      29\n",
       "Medium        8    2      25"
      ]
     },
     "execution_count": 94,
     "metadata": {},
     "output_type": "execute_result"
    }
   ],
   "source": [
    "pd.crosstab(vt_nb_y_test, vt_nb_pred, rownames=['Actual'], colnames=['Predicted'])"
   ]
  },
  {
   "cell_type": "markdown",
   "metadata": {},
   "source": [
    "The accuracy of this model is below 50%, and thus is a poor model for predicting voter turnout. A random guess would be slightly better.\n",
    "\n"
   ]
  },
  {
   "cell_type": "markdown",
   "metadata": {},
   "source": [
    "## ii. Decision Tree (Classification Tree)"
   ]
  },
  {
   "cell_type": "markdown",
   "metadata": {},
   "source": [
    "I then used a classification tree to predict the same variable. In this case I used all variables other than <i>TotalVote</i> and <i>Registration</i> as sklearn implementation of decision trees allows for mixed variables."
   ]
  },
  {
   "cell_type": "code",
   "execution_count": 99,
   "metadata": {},
   "outputs": [
    {
     "data": {
      "text/html": [
       "<div>\n",
       "<style scoped>\n",
       "    .dataframe tbody tr th:only-of-type {\n",
       "        vertical-align: middle;\n",
       "    }\n",
       "\n",
       "    .dataframe tbody tr th {\n",
       "        vertical-align: top;\n",
       "    }\n",
       "\n",
       "    .dataframe thead th {\n",
       "        text-align: right;\n",
       "    }\n",
       "</style>\n",
       "<table border=\"1\" class=\"dataframe\">\n",
       "  <thead>\n",
       "    <tr style=\"text-align: right;\">\n",
       "      <th></th>\n",
       "      <th>Registration</th>\n",
       "      <th>VotingAgePopulationTurnout(%)</th>\n",
       "      <th>VotingAgePopulation</th>\n",
       "      <th>Population</th>\n",
       "      <th>InvalidVotes(%)</th>\n",
       "      <th>CompulsoryVoting</th>\n",
       "      <th>ElectoralSystemFamily</th>\n",
       "      <th>LegislativeSizeVotingMembers</th>\n",
       "      <th>VoterTurnoutCategory</th>\n",
       "    </tr>\n",
       "  </thead>\n",
       "  <tbody>\n",
       "    <tr>\n",
       "      <th>1</th>\n",
       "      <td>8843151.0</td>\n",
       "      <td>0.22</td>\n",
       "      <td>18340292.0</td>\n",
       "      <td>34940837.0</td>\n",
       "      <td>0.04</td>\n",
       "      <td>No</td>\n",
       "      <td>Other</td>\n",
       "      <td>250.0</td>\n",
       "      <td>Low</td>\n",
       "    </tr>\n",
       "    <tr>\n",
       "      <th>2</th>\n",
       "      <td>3452324.0</td>\n",
       "      <td>0.69</td>\n",
       "      <td>2356975.0</td>\n",
       "      <td>3047987.0</td>\n",
       "      <td>0.02</td>\n",
       "      <td>No</td>\n",
       "      <td>PR</td>\n",
       "      <td>140.0</td>\n",
       "      <td>Low</td>\n",
       "    </tr>\n",
       "    <tr>\n",
       "      <th>3</th>\n",
       "      <td>23251503.0</td>\n",
       "      <td>0.32</td>\n",
       "      <td>27248442.0</td>\n",
       "      <td>40969443.0</td>\n",
       "      <td>0.25</td>\n",
       "      <td>No</td>\n",
       "      <td>PR</td>\n",
       "      <td>462.0</td>\n",
       "      <td>Low</td>\n",
       "    </tr>\n",
       "    <tr>\n",
       "      <th>4</th>\n",
       "      <td>27278.0</td>\n",
       "      <td>0.26</td>\n",
       "      <td>71161.0</td>\n",
       "      <td>85684.0</td>\n",
       "      <td>0.05</td>\n",
       "      <td>No</td>\n",
       "      <td>Mixed</td>\n",
       "      <td>28.0</td>\n",
       "      <td>Medium</td>\n",
       "    </tr>\n",
       "    <tr>\n",
       "      <th>5</th>\n",
       "      <td>9317294.0</td>\n",
       "      <td>0.53</td>\n",
       "      <td>13366186.0</td>\n",
       "      <td>29310273.0</td>\n",
       "      <td>0.04</td>\n",
       "      <td>No</td>\n",
       "      <td>PR</td>\n",
       "      <td>220.0</td>\n",
       "      <td>High</td>\n",
       "    </tr>\n",
       "    <tr>\n",
       "      <th>6</th>\n",
       "      <td>11951.0</td>\n",
       "      <td>0.54</td>\n",
       "      <td>13422.0</td>\n",
       "      <td>18090.0</td>\n",
       "      <td>0.05</td>\n",
       "      <td>No</td>\n",
       "      <td>Plurality/Majority</td>\n",
       "      <td>13.0</td>\n",
       "      <td>Medium</td>\n",
       "    </tr>\n",
       "    <tr>\n",
       "      <th>7</th>\n",
       "      <td>47721.0</td>\n",
       "      <td>0.70</td>\n",
       "      <td>61571.0</td>\n",
       "      <td>91295.0</td>\n",
       "      <td>0.01</td>\n",
       "      <td>No</td>\n",
       "      <td>Plurality/Majority</td>\n",
       "      <td>17.0</td>\n",
       "      <td>High</td>\n",
       "    </tr>\n",
       "    <tr>\n",
       "      <th>8</th>\n",
       "      <td>34218538.0</td>\n",
       "      <td>0.83</td>\n",
       "      <td>33442549.0</td>\n",
       "      <td>45089492.0</td>\n",
       "      <td>0.07</td>\n",
       "      <td>Yes</td>\n",
       "      <td>PR</td>\n",
       "      <td>257.0</td>\n",
       "      <td>High</td>\n",
       "    </tr>\n",
       "    <tr>\n",
       "      <th>9</th>\n",
       "      <td>2593140.0</td>\n",
       "      <td>0.53</td>\n",
       "      <td>2362422.0</td>\n",
       "      <td>3038217.0</td>\n",
       "      <td>0.00</td>\n",
       "      <td>No</td>\n",
       "      <td>PR</td>\n",
       "      <td>132.0</td>\n",
       "      <td>Low</td>\n",
       "    </tr>\n",
       "    <tr>\n",
       "      <th>10</th>\n",
       "      <td>70750.0</td>\n",
       "      <td>0.65</td>\n",
       "      <td>90840.0</td>\n",
       "      <td>115120.0</td>\n",
       "      <td>0.01</td>\n",
       "      <td>No</td>\n",
       "      <td>PR</td>\n",
       "      <td>21.0</td>\n",
       "      <td>High</td>\n",
       "    </tr>\n",
       "  </tbody>\n",
       "</table>\n",
       "</div>"
      ],
      "text/plain": [
       "    Registration  VotingAgePopulationTurnout(%)  VotingAgePopulation  \\\n",
       "1      8843151.0                           0.22           18340292.0   \n",
       "2      3452324.0                           0.69            2356975.0   \n",
       "3     23251503.0                           0.32           27248442.0   \n",
       "4        27278.0                           0.26              71161.0   \n",
       "5      9317294.0                           0.53           13366186.0   \n",
       "6        11951.0                           0.54              13422.0   \n",
       "7        47721.0                           0.70              61571.0   \n",
       "8     34218538.0                           0.83           33442549.0   \n",
       "9      2593140.0                           0.53            2362422.0   \n",
       "10       70750.0                           0.65              90840.0   \n",
       "\n",
       "    Population  InvalidVotes(%) CompulsoryVoting ElectoralSystemFamily  \\\n",
       "1   34940837.0             0.04               No                 Other   \n",
       "2    3047987.0             0.02               No                    PR   \n",
       "3   40969443.0             0.25               No                    PR   \n",
       "4      85684.0             0.05               No                 Mixed   \n",
       "5   29310273.0             0.04               No                    PR   \n",
       "6      18090.0             0.05               No    Plurality/Majority   \n",
       "7      91295.0             0.01               No    Plurality/Majority   \n",
       "8   45089492.0             0.07              Yes                    PR   \n",
       "9    3038217.0             0.00               No                    PR   \n",
       "10    115120.0             0.01               No                    PR   \n",
       "\n",
       "    LegislativeSizeVotingMembers VoterTurnoutCategory  \n",
       "1                          250.0                  Low  \n",
       "2                          140.0                  Low  \n",
       "3                          462.0                  Low  \n",
       "4                           28.0               Medium  \n",
       "5                          220.0                 High  \n",
       "6                           13.0               Medium  \n",
       "7                           17.0                 High  \n",
       "8                          257.0                 High  \n",
       "9                          132.0                  Low  \n",
       "10                          21.0                 High  "
      ]
     },
     "execution_count": 99,
     "metadata": {},
     "output_type": "execute_result"
    }
   ],
   "source": [
    "# this imports only the required data\n",
    "dt_data = ['Registration', 'VotingAgePopulationTurnout(%)', 'VotingAgePopulation', 'Population', 'InvalidVotes(%)', 'CompulsoryVoting', 'ElectoralSystemFamily','LegislativeSizeVotingMembers', 'VoterTurnoutCategory']\n",
    "voting_turnout_dt = pd.read_csv('idea_df_cln.csv', usecols=dt_data)\n",
    "# This starts the dataframe index at 1\n",
    "voting_turnout_dt.index = voting_turnout_dt.index + 1\n",
    "# This prints the first 15 rows of the data frame to check if the information has been loaded correctly from the .csv file\n",
    "voting_turnout_dt.head(10)"
   ]
  },
  {
   "cell_type": "markdown",
   "metadata": {},
   "source": [
    "Dummies were then added for the text variables other than the target variable."
   ]
  },
  {
   "cell_type": "code",
   "execution_count": 100,
   "metadata": {},
   "outputs": [
    {
     "data": {
      "text/html": [
       "<div>\n",
       "<style scoped>\n",
       "    .dataframe tbody tr th:only-of-type {\n",
       "        vertical-align: middle;\n",
       "    }\n",
       "\n",
       "    .dataframe tbody tr th {\n",
       "        vertical-align: top;\n",
       "    }\n",
       "\n",
       "    .dataframe thead th {\n",
       "        text-align: right;\n",
       "    }\n",
       "</style>\n",
       "<table border=\"1\" class=\"dataframe\">\n",
       "  <thead>\n",
       "    <tr style=\"text-align: right;\">\n",
       "      <th></th>\n",
       "      <th>Registration</th>\n",
       "      <th>VotingAgePopulationTurnout(%)</th>\n",
       "      <th>VotingAgePopulation</th>\n",
       "      <th>Population</th>\n",
       "      <th>InvalidVotes(%)</th>\n",
       "      <th>No</th>\n",
       "      <th>Yes</th>\n",
       "      <th>Mixed</th>\n",
       "      <th>Other</th>\n",
       "      <th>PR</th>\n",
       "      <th>Plurality/Majority</th>\n",
       "      <th>Plurality/Majority and PR</th>\n",
       "      <th>LegislativeSizeVotingMembers</th>\n",
       "    </tr>\n",
       "  </thead>\n",
       "  <tbody>\n",
       "    <tr>\n",
       "      <th>1</th>\n",
       "      <td>8843151.0</td>\n",
       "      <td>0.22</td>\n",
       "      <td>18340292.0</td>\n",
       "      <td>34940837.0</td>\n",
       "      <td>0.04</td>\n",
       "      <td>1</td>\n",
       "      <td>0</td>\n",
       "      <td>0</td>\n",
       "      <td>1</td>\n",
       "      <td>0</td>\n",
       "      <td>0</td>\n",
       "      <td>0</td>\n",
       "      <td>250.0</td>\n",
       "    </tr>\n",
       "    <tr>\n",
       "      <th>2</th>\n",
       "      <td>3452324.0</td>\n",
       "      <td>0.69</td>\n",
       "      <td>2356975.0</td>\n",
       "      <td>3047987.0</td>\n",
       "      <td>0.02</td>\n",
       "      <td>1</td>\n",
       "      <td>0</td>\n",
       "      <td>0</td>\n",
       "      <td>0</td>\n",
       "      <td>1</td>\n",
       "      <td>0</td>\n",
       "      <td>0</td>\n",
       "      <td>140.0</td>\n",
       "    </tr>\n",
       "    <tr>\n",
       "      <th>3</th>\n",
       "      <td>23251503.0</td>\n",
       "      <td>0.32</td>\n",
       "      <td>27248442.0</td>\n",
       "      <td>40969443.0</td>\n",
       "      <td>0.25</td>\n",
       "      <td>1</td>\n",
       "      <td>0</td>\n",
       "      <td>0</td>\n",
       "      <td>0</td>\n",
       "      <td>1</td>\n",
       "      <td>0</td>\n",
       "      <td>0</td>\n",
       "      <td>462.0</td>\n",
       "    </tr>\n",
       "    <tr>\n",
       "      <th>4</th>\n",
       "      <td>27278.0</td>\n",
       "      <td>0.26</td>\n",
       "      <td>71161.0</td>\n",
       "      <td>85684.0</td>\n",
       "      <td>0.05</td>\n",
       "      <td>1</td>\n",
       "      <td>0</td>\n",
       "      <td>1</td>\n",
       "      <td>0</td>\n",
       "      <td>0</td>\n",
       "      <td>0</td>\n",
       "      <td>0</td>\n",
       "      <td>28.0</td>\n",
       "    </tr>\n",
       "    <tr>\n",
       "      <th>5</th>\n",
       "      <td>9317294.0</td>\n",
       "      <td>0.53</td>\n",
       "      <td>13366186.0</td>\n",
       "      <td>29310273.0</td>\n",
       "      <td>0.04</td>\n",
       "      <td>1</td>\n",
       "      <td>0</td>\n",
       "      <td>0</td>\n",
       "      <td>0</td>\n",
       "      <td>1</td>\n",
       "      <td>0</td>\n",
       "      <td>0</td>\n",
       "      <td>220.0</td>\n",
       "    </tr>\n",
       "    <tr>\n",
       "      <th>...</th>\n",
       "      <td>...</td>\n",
       "      <td>...</td>\n",
       "      <td>...</td>\n",
       "      <td>...</td>\n",
       "      <td>...</td>\n",
       "      <td>...</td>\n",
       "      <td>...</td>\n",
       "      <td>...</td>\n",
       "      <td>...</td>\n",
       "      <td>...</td>\n",
       "      <td>...</td>\n",
       "      <td>...</td>\n",
       "      <td>...</td>\n",
       "    </tr>\n",
       "    <tr>\n",
       "      <th>187</th>\n",
       "      <td>67500000.0</td>\n",
       "      <td>0.98</td>\n",
       "      <td>68142322.0</td>\n",
       "      <td>95261021.0</td>\n",
       "      <td>0.01</td>\n",
       "      <td>1</td>\n",
       "      <td>0</td>\n",
       "      <td>0</td>\n",
       "      <td>0</td>\n",
       "      <td>0</td>\n",
       "      <td>1</td>\n",
       "      <td>0</td>\n",
       "      <td>496.0</td>\n",
       "    </tr>\n",
       "    <tr>\n",
       "      <th>188</th>\n",
       "      <td>15038.0</td>\n",
       "      <td>0.33</td>\n",
       "      <td>29282.0</td>\n",
       "      <td>36591.0</td>\n",
       "      <td>0.00</td>\n",
       "      <td>1</td>\n",
       "      <td>0</td>\n",
       "      <td>0</td>\n",
       "      <td>0</td>\n",
       "      <td>0</td>\n",
       "      <td>1</td>\n",
       "      <td>0</td>\n",
       "      <td>13.0</td>\n",
       "    </tr>\n",
       "    <tr>\n",
       "      <th>189</th>\n",
       "      <td>8097162.0</td>\n",
       "      <td>0.71</td>\n",
       "      <td>8509723.0</td>\n",
       "      <td>18701257.0</td>\n",
       "      <td>0.03</td>\n",
       "      <td>1</td>\n",
       "      <td>0</td>\n",
       "      <td>0</td>\n",
       "      <td>0</td>\n",
       "      <td>0</td>\n",
       "      <td>1</td>\n",
       "      <td>0</td>\n",
       "      <td>301.0</td>\n",
       "    </tr>\n",
       "    <tr>\n",
       "      <th>190</th>\n",
       "      <td>6698372.0</td>\n",
       "      <td>0.51</td>\n",
       "      <td>7331669.0</td>\n",
       "      <td>15510711.0</td>\n",
       "      <td>0.03</td>\n",
       "      <td>1</td>\n",
       "      <td>0</td>\n",
       "      <td>0</td>\n",
       "      <td>0</td>\n",
       "      <td>0</td>\n",
       "      <td>1</td>\n",
       "      <td>0</td>\n",
       "      <td>165.0</td>\n",
       "    </tr>\n",
       "    <tr>\n",
       "      <th>191</th>\n",
       "      <td>5695706.0</td>\n",
       "      <td>0.62</td>\n",
       "      <td>7650931.0</td>\n",
       "      <td>14030368.0</td>\n",
       "      <td>0.02</td>\n",
       "      <td>1</td>\n",
       "      <td>0</td>\n",
       "      <td>1</td>\n",
       "      <td>0</td>\n",
       "      <td>0</td>\n",
       "      <td>0</td>\n",
       "      <td>0</td>\n",
       "      <td>270.0</td>\n",
       "    </tr>\n",
       "  </tbody>\n",
       "</table>\n",
       "<p>191 rows × 13 columns</p>\n",
       "</div>"
      ],
      "text/plain": [
       "     Registration  VotingAgePopulationTurnout(%)  VotingAgePopulation  \\\n",
       "1       8843151.0                           0.22           18340292.0   \n",
       "2       3452324.0                           0.69            2356975.0   \n",
       "3      23251503.0                           0.32           27248442.0   \n",
       "4         27278.0                           0.26              71161.0   \n",
       "5       9317294.0                           0.53           13366186.0   \n",
       "..            ...                            ...                  ...   \n",
       "187    67500000.0                           0.98           68142322.0   \n",
       "188       15038.0                           0.33              29282.0   \n",
       "189     8097162.0                           0.71            8509723.0   \n",
       "190     6698372.0                           0.51            7331669.0   \n",
       "191     5695706.0                           0.62            7650931.0   \n",
       "\n",
       "     Population  InvalidVotes(%)  No  Yes  Mixed  Other  PR  \\\n",
       "1    34940837.0             0.04   1    0      0      1   0   \n",
       "2     3047987.0             0.02   1    0      0      0   1   \n",
       "3    40969443.0             0.25   1    0      0      0   1   \n",
       "4       85684.0             0.05   1    0      1      0   0   \n",
       "5    29310273.0             0.04   1    0      0      0   1   \n",
       "..          ...              ...  ..  ...    ...    ...  ..   \n",
       "187  95261021.0             0.01   1    0      0      0   0   \n",
       "188     36591.0             0.00   1    0      0      0   0   \n",
       "189  18701257.0             0.03   1    0      0      0   0   \n",
       "190  15510711.0             0.03   1    0      0      0   0   \n",
       "191  14030368.0             0.02   1    0      1      0   0   \n",
       "\n",
       "     Plurality/Majority  Plurality/Majority and PR  \\\n",
       "1                     0                          0   \n",
       "2                     0                          0   \n",
       "3                     0                          0   \n",
       "4                     0                          0   \n",
       "5                     0                          0   \n",
       "..                  ...                        ...   \n",
       "187                   1                          0   \n",
       "188                   1                          0   \n",
       "189                   1                          0   \n",
       "190                   1                          0   \n",
       "191                   0                          0   \n",
       "\n",
       "     LegislativeSizeVotingMembers  \n",
       "1                           250.0  \n",
       "2                           140.0  \n",
       "3                           462.0  \n",
       "4                            28.0  \n",
       "5                           220.0  \n",
       "..                            ...  \n",
       "187                         496.0  \n",
       "188                          13.0  \n",
       "189                         301.0  \n",
       "190                         165.0  \n",
       "191                         270.0  \n",
       "\n",
       "[191 rows x 13 columns]"
      ]
     },
     "execution_count": 100,
     "metadata": {},
     "output_type": "execute_result"
    }
   ],
   "source": [
    "turnout_dummy_num_df = pd.concat([voting_turnout_dt[['Registration']],\n",
    "                                  voting_turnout_dt[['VotingAgePopulationTurnout(%)']],\n",
    "                                  voting_turnout_dt[['VotingAgePopulation']],\n",
    "                                  voting_turnout_dt[['Population']],\n",
    "                                  voting_turnout_dt[['InvalidVotes(%)']],\n",
    "                                  voting_turnout_dt.CompulsoryVoting.str.get_dummies(),\n",
    "                                  voting_turnout_dt.ElectoralSystemFamily.str.get_dummies(),\n",
    "                                  voting_turnout_dt[['LegislativeSizeVotingMembers']]], axis=1)\n",
    "\n",
    "turnout_dummy_num_df"
   ]
  },
  {
   "cell_type": "markdown",
   "metadata": {},
   "source": [
    "I used the test_train_split function to split the data into a training set and the test set, and also separated the predictor and target attributes."
   ]
  },
  {
   "cell_type": "code",
   "execution_count": 101,
   "metadata": {},
   "outputs": [
    {
     "data": {
      "text/html": [
       "<div>\n",
       "<style scoped>\n",
       "    .dataframe tbody tr th:only-of-type {\n",
       "        vertical-align: middle;\n",
       "    }\n",
       "\n",
       "    .dataframe tbody tr th {\n",
       "        vertical-align: top;\n",
       "    }\n",
       "\n",
       "    .dataframe thead th {\n",
       "        text-align: right;\n",
       "    }\n",
       "</style>\n",
       "<table border=\"1\" class=\"dataframe\">\n",
       "  <thead>\n",
       "    <tr style=\"text-align: right;\">\n",
       "      <th></th>\n",
       "      <th>Registration</th>\n",
       "      <th>VotingAgePopulationTurnout(%)</th>\n",
       "      <th>VotingAgePopulation</th>\n",
       "      <th>Population</th>\n",
       "      <th>InvalidVotes(%)</th>\n",
       "      <th>No</th>\n",
       "      <th>Yes</th>\n",
       "      <th>Mixed</th>\n",
       "      <th>Other</th>\n",
       "      <th>PR</th>\n",
       "      <th>Plurality/Majority</th>\n",
       "      <th>Plurality/Majority and PR</th>\n",
       "      <th>LegislativeSizeVotingMembers</th>\n",
       "    </tr>\n",
       "  </thead>\n",
       "  <tbody>\n",
       "    <tr>\n",
       "      <th>76</th>\n",
       "      <td>8312264.0</td>\n",
       "      <td>0.72</td>\n",
       "      <td>8083846.0</td>\n",
       "      <td>9825704.0</td>\n",
       "      <td>0.010000</td>\n",
       "      <td>1</td>\n",
       "      <td>0</td>\n",
       "      <td>1</td>\n",
       "      <td>0</td>\n",
       "      <td>0</td>\n",
       "      <td>0</td>\n",
       "      <td>0</td>\n",
       "      <td>199.0</td>\n",
       "    </tr>\n",
       "    <tr>\n",
       "      <th>102</th>\n",
       "      <td>2457722.0</td>\n",
       "      <td>0.53</td>\n",
       "      <td>2237168.0</td>\n",
       "      <td>2731464.0</td>\n",
       "      <td>0.050000</td>\n",
       "      <td>1</td>\n",
       "      <td>0</td>\n",
       "      <td>1</td>\n",
       "      <td>0</td>\n",
       "      <td>0</td>\n",
       "      <td>0</td>\n",
       "      <td>0</td>\n",
       "      <td>141.0</td>\n",
       "    </tr>\n",
       "    <tr>\n",
       "      <th>50</th>\n",
       "      <td>74895.0</td>\n",
       "      <td>0.73</td>\n",
       "      <td>55256.0</td>\n",
       "      <td>74144.0</td>\n",
       "      <td>0.010000</td>\n",
       "      <td>1</td>\n",
       "      <td>0</td>\n",
       "      <td>0</td>\n",
       "      <td>0</td>\n",
       "      <td>0</td>\n",
       "      <td>1</td>\n",
       "      <td>0</td>\n",
       "      <td>32.0</td>\n",
       "    </tr>\n",
       "    <tr>\n",
       "      <th>160</th>\n",
       "      <td>36898883.0</td>\n",
       "      <td>0.65</td>\n",
       "      <td>40650233.0</td>\n",
       "      <td>49683254.0</td>\n",
       "      <td>0.020000</td>\n",
       "      <td>1</td>\n",
       "      <td>0</td>\n",
       "      <td>0</td>\n",
       "      <td>0</td>\n",
       "      <td>1</td>\n",
       "      <td>0</td>\n",
       "      <td>0</td>\n",
       "      <td>350.0</td>\n",
       "    </tr>\n",
       "    <tr>\n",
       "      <th>33</th>\n",
       "      <td>6900928.0</td>\n",
       "      <td>0.23</td>\n",
       "      <td>13001295.0</td>\n",
       "      <td>27744989.0</td>\n",
       "      <td>0.040000</td>\n",
       "      <td>1</td>\n",
       "      <td>0</td>\n",
       "      <td>0</td>\n",
       "      <td>0</td>\n",
       "      <td>0</td>\n",
       "      <td>1</td>\n",
       "      <td>0</td>\n",
       "      <td>180.0</td>\n",
       "    </tr>\n",
       "    <tr>\n",
       "      <th>108</th>\n",
       "      <td>7663464.0</td>\n",
       "      <td>0.31</td>\n",
       "      <td>8920714.0</td>\n",
       "      <td>19553397.0</td>\n",
       "      <td>0.050000</td>\n",
       "      <td>1</td>\n",
       "      <td>0</td>\n",
       "      <td>0</td>\n",
       "      <td>0</td>\n",
       "      <td>0</td>\n",
       "      <td>1</td>\n",
       "      <td>0</td>\n",
       "      <td>147.0</td>\n",
       "    </tr>\n",
       "    <tr>\n",
       "      <th>71</th>\n",
       "      <td>5179600.0</td>\n",
       "      <td>0.46</td>\n",
       "      <td>6556813.0</td>\n",
       "      <td>12527440.0</td>\n",
       "      <td>0.040000</td>\n",
       "      <td>1</td>\n",
       "      <td>0</td>\n",
       "      <td>1</td>\n",
       "      <td>0</td>\n",
       "      <td>0</td>\n",
       "      <td>0</td>\n",
       "      <td>0</td>\n",
       "      <td>114.0</td>\n",
       "    </tr>\n",
       "    <tr>\n",
       "      <th>178</th>\n",
       "      <td>3291312.0</td>\n",
       "      <td>0.80</td>\n",
       "      <td>3756802.0</td>\n",
       "      <td>5411012.0</td>\n",
       "      <td>0.040811</td>\n",
       "      <td>1</td>\n",
       "      <td>0</td>\n",
       "      <td>0</td>\n",
       "      <td>0</td>\n",
       "      <td>0</td>\n",
       "      <td>1</td>\n",
       "      <td>0</td>\n",
       "      <td>125.0</td>\n",
       "    </tr>\n",
       "    <tr>\n",
       "      <th>176</th>\n",
       "      <td>7065885.0</td>\n",
       "      <td>0.36</td>\n",
       "      <td>8219612.0</td>\n",
       "      <td>11622134.0</td>\n",
       "      <td>0.030000</td>\n",
       "      <td>1</td>\n",
       "      <td>0</td>\n",
       "      <td>0</td>\n",
       "      <td>0</td>\n",
       "      <td>1</td>\n",
       "      <td>0</td>\n",
       "      <td>0</td>\n",
       "      <td>217.0</td>\n",
       "    </tr>\n",
       "    <tr>\n",
       "      <th>86</th>\n",
       "      <td>101280758.0</td>\n",
       "      <td>0.52</td>\n",
       "      <td>102617759.0</td>\n",
       "      <td>127103388.0</td>\n",
       "      <td>0.030000</td>\n",
       "      <td>1</td>\n",
       "      <td>0</td>\n",
       "      <td>1</td>\n",
       "      <td>0</td>\n",
       "      <td>0</td>\n",
       "      <td>0</td>\n",
       "      <td>0</td>\n",
       "      <td>475.0</td>\n",
       "    </tr>\n",
       "  </tbody>\n",
       "</table>\n",
       "</div>"
      ],
      "text/plain": [
       "     Registration  VotingAgePopulationTurnout(%)  VotingAgePopulation  \\\n",
       "76      8312264.0                           0.72            8083846.0   \n",
       "102     2457722.0                           0.53            2237168.0   \n",
       "50        74895.0                           0.73              55256.0   \n",
       "160    36898883.0                           0.65           40650233.0   \n",
       "33      6900928.0                           0.23           13001295.0   \n",
       "108     7663464.0                           0.31            8920714.0   \n",
       "71      5179600.0                           0.46            6556813.0   \n",
       "178     3291312.0                           0.80            3756802.0   \n",
       "176     7065885.0                           0.36            8219612.0   \n",
       "86    101280758.0                           0.52          102617759.0   \n",
       "\n",
       "      Population  InvalidVotes(%)  No  Yes  Mixed  Other  PR  \\\n",
       "76     9825704.0         0.010000   1    0      1      0   0   \n",
       "102    2731464.0         0.050000   1    0      1      0   0   \n",
       "50       74144.0         0.010000   1    0      0      0   0   \n",
       "160   49683254.0         0.020000   1    0      0      0   1   \n",
       "33    27744989.0         0.040000   1    0      0      0   0   \n",
       "108   19553397.0         0.050000   1    0      0      0   0   \n",
       "71    12527440.0         0.040000   1    0      1      0   0   \n",
       "178    5411012.0         0.040811   1    0      0      0   0   \n",
       "176   11622134.0         0.030000   1    0      0      0   1   \n",
       "86   127103388.0         0.030000   1    0      1      0   0   \n",
       "\n",
       "     Plurality/Majority  Plurality/Majority and PR  \\\n",
       "76                    0                          0   \n",
       "102                   0                          0   \n",
       "50                    1                          0   \n",
       "160                   0                          0   \n",
       "33                    1                          0   \n",
       "108                   1                          0   \n",
       "71                    0                          0   \n",
       "178                   1                          0   \n",
       "176                   0                          0   \n",
       "86                    0                          0   \n",
       "\n",
       "     LegislativeSizeVotingMembers  \n",
       "76                          199.0  \n",
       "102                         141.0  \n",
       "50                           32.0  \n",
       "160                         350.0  \n",
       "33                          180.0  \n",
       "108                         147.0  \n",
       "71                          114.0  \n",
       "178                         125.0  \n",
       "176                         217.0  \n",
       "86                          475.0  "
      ]
     },
     "execution_count": 101,
     "metadata": {},
     "output_type": "execute_result"
    }
   ],
   "source": [
    "vt_dt_X_train, vt_dt_X_test, vt_dt_y_train, vt_dt_y_test = train_test_split(turnout_dummy_num_df.iloc[:,:], voting_turnout_dt['VoterTurnoutCategory'], test_size=0.5)\n",
    "vt_dt_X_train.head(10)"
   ]
  },
  {
   "cell_type": "markdown",
   "metadata": {},
   "source": [
    "I trained the model."
   ]
  },
  {
   "cell_type": "code",
   "execution_count": 102,
   "metadata": {},
   "outputs": [
    {
     "data": {
      "text/plain": [
       "DecisionTreeClassifier()"
      ]
     },
     "execution_count": 102,
     "metadata": {},
     "output_type": "execute_result"
    }
   ],
   "source": [
    "from sklearn import tree\n",
    "dtc = tree.DecisionTreeClassifier()\n",
    "dtc.fit(vt_dt_X_train, vt_dt_y_train)"
   ]
  },
  {
   "cell_type": "markdown",
   "metadata": {},
   "source": [
    "I reviewed the predictions on the test set."
   ]
  },
  {
   "cell_type": "code",
   "execution_count": 103,
   "metadata": {},
   "outputs": [
    {
     "data": {
      "text/plain": [
       "array(['Low', 'Medium', 'Medium', 'High', 'Low', 'High', 'Low', 'Low',\n",
       "       'Medium', 'Low', 'Medium', 'Low', 'Medium', 'Medium', 'Low',\n",
       "       'Medium', 'Medium', 'High', 'High', 'High', 'Low', 'Low', 'Low',\n",
       "       'Medium', 'Low', 'Low', 'Medium', 'High', 'Medium', 'High', 'High',\n",
       "       'Medium', 'Medium', 'Low', 'Medium', 'Medium', 'Low', 'High',\n",
       "       'Medium', 'Medium', 'Medium', 'Low', 'Low', 'Medium', 'Medium',\n",
       "       'Low', 'High', 'Medium', 'Medium', 'Low', 'Low', 'High', 'Low',\n",
       "       'Medium', 'High', 'Low', 'High', 'Medium', 'High', 'High', 'Low',\n",
       "       'Medium', 'High', 'High', 'Medium', 'High', 'Medium', 'High',\n",
       "       'Low', 'Medium', 'Medium', 'Medium', 'Medium', 'Low', 'High',\n",
       "       'Low', 'Medium', 'Medium', 'High', 'Medium', 'Low', 'Medium',\n",
       "       'High', 'Medium', 'Medium', 'Medium', 'Medium', 'High', 'Low',\n",
       "       'Medium', 'Low', 'Medium', 'Medium', 'Medium', 'High', 'Low'],\n",
       "      dtype=object)"
      ]
     },
     "execution_count": 103,
     "metadata": {},
     "output_type": "execute_result"
    }
   ],
   "source": [
    "vt_dt_pred = dtc.predict(vt_dt_X_test)\n",
    "vt_dt_pred"
   ]
  },
  {
   "cell_type": "markdown",
   "metadata": {},
   "source": [
    "I checked the accuracy of the model on the test set and printed the confusion matrix."
   ]
  },
  {
   "cell_type": "code",
   "execution_count": 104,
   "metadata": {},
   "outputs": [
    {
     "data": {
      "text/plain": [
       "0.5416666666666666"
      ]
     },
     "execution_count": 104,
     "metadata": {},
     "output_type": "execute_result"
    }
   ],
   "source": [
    "vt_dt_accuracy = len(vt_dt_y_test[vt_dt_y_test == vt_dt_pred]) / len(vt_dt_pred)\n",
    "vt_dt_accuracy"
   ]
  },
  {
   "cell_type": "code",
   "execution_count": 105,
   "metadata": {},
   "outputs": [
    {
     "data": {
      "text/html": [
       "<div>\n",
       "<style scoped>\n",
       "    .dataframe tbody tr th:only-of-type {\n",
       "        vertical-align: middle;\n",
       "    }\n",
       "\n",
       "    .dataframe tbody tr th {\n",
       "        vertical-align: top;\n",
       "    }\n",
       "\n",
       "    .dataframe thead th {\n",
       "        text-align: right;\n",
       "    }\n",
       "</style>\n",
       "<table border=\"1\" class=\"dataframe\">\n",
       "  <thead>\n",
       "    <tr style=\"text-align: right;\">\n",
       "      <th>Predicted</th>\n",
       "      <th>High</th>\n",
       "      <th>Low</th>\n",
       "      <th>Medium</th>\n",
       "    </tr>\n",
       "    <tr>\n",
       "      <th>Actual</th>\n",
       "      <th></th>\n",
       "      <th></th>\n",
       "      <th></th>\n",
       "    </tr>\n",
       "  </thead>\n",
       "  <tbody>\n",
       "    <tr>\n",
       "      <th>High</th>\n",
       "      <td>13</td>\n",
       "      <td>2</td>\n",
       "      <td>15</td>\n",
       "    </tr>\n",
       "    <tr>\n",
       "      <th>Low</th>\n",
       "      <td>5</td>\n",
       "      <td>18</td>\n",
       "      <td>7</td>\n",
       "    </tr>\n",
       "    <tr>\n",
       "      <th>Medium</th>\n",
       "      <td>6</td>\n",
       "      <td>9</td>\n",
       "      <td>21</td>\n",
       "    </tr>\n",
       "  </tbody>\n",
       "</table>\n",
       "</div>"
      ],
      "text/plain": [
       "Predicted  High  Low  Medium\n",
       "Actual                      \n",
       "High         13    2      15\n",
       "Low           5   18       7\n",
       "Medium        6    9      21"
      ]
     },
     "execution_count": 105,
     "metadata": {},
     "output_type": "execute_result"
    }
   ],
   "source": [
    "pd.crosstab(vt_dt_y_test, vt_dt_pred, rownames=['Actual'], colnames=['Predicted'])"
   ]
  },
  {
   "cell_type": "markdown",
   "metadata": {},
   "source": [
    "The accuracy of this model is above 50%. This is significantly better than the Naïve Bayes and also better than random. While with iteration and experimentation it may be possible to improve the accuracy, this is a promising first result."
   ]
  },
  {
   "cell_type": "markdown",
   "metadata": {},
   "source": [
    "# Conclusion"
   ]
  },
  {
   "cell_type": "markdown",
   "metadata": {},
   "source": [
    "I have learned that:\n",
    "<ul>\n",
    "    <li>voting age population is not correlated with turnout in parliamentary elections</li>\n",
    "    <li>electoral system family is also not related to turnout in parliamentary elections</li>\n",
    "    <li>compulsory voting is related to the electoral system family at the 5% significance level</li>\n",
    "    <li>for this dataset, and the features I chose, a classification tree was an effective predictive model</li>\n",
    "    <li>for this dataset, and the features I chose, Naïve Bayes was not an effective predictive model and had accuracy similar to random guesses</li>\n",
    "    </ul>\n",
    "    \n",
    "One possible explanation for why the classification tree performed better than Naïve Bayes is that it contained both categorical and numeric features, whereas Naïve Bayes only trained on the numeric features. Perhaps, one or more of the categorical features could be particularly predictive.\n",
    "    \n",
    "\n",
    "Possible further areas for exploration include:\n",
    "<ul>\n",
    "    <li>I chose to keep a number of borderline outliers in the dataset. It would be interesting to see what the effect of removing them would be.</li>\n",
    "    <li>Gaussian Naïve Bayes assumes a normal distribution. The numeric features in my data had different distributions, some closer to normal and some skewed. One path for experimentation would be to limit the training to different subsets of these features.</li>\n",
    "    <li>A regression tree could also be a suitable model, and it would be interesting to compare this to the classification tree.</li>\n",
    "  </ul>  "
   ]
  }
 ],
 "metadata": {
  "kernelspec": {
   "display_name": "Python 3",
   "language": "python",
   "name": "python3"
  },
  "language_info": {
   "codemirror_mode": {
    "name": "ipython",
    "version": 3
   },
   "file_extension": ".py",
   "mimetype": "text/x-python",
   "name": "python",
   "nbconvert_exporter": "python",
   "pygments_lexer": "ipython3",
   "version": "3.8.3"
  }
 },
 "nbformat": 4,
 "nbformat_minor": 4
}
